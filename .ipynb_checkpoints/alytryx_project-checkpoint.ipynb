{
 "cells": [
  {
   "cell_type": "markdown",
   "id": "16f32104",
   "metadata": {},
   "source": [
    "## Reading libraries"
   ]
  },
  {
   "cell_type": "code",
   "execution_count": 1,
   "id": "04598003",
   "metadata": {},
   "outputs": [],
   "source": [
    "from pyspark.sql import SparkSession\n",
    "from pyspark.sql.functions import col, trim, regexp_replace, sum, lit, max, min, first,to_timestamp, trim, upper,to_date, date_format, when\n",
    "from pyspark.sql.types import DateType\n",
    "\n",
    "from pyspark.sql.types import IntegerType, FloatType"
   ]
  },
  {
   "cell_type": "code",
   "execution_count": 2,
   "id": "acf9d934",
   "metadata": {},
   "outputs": [],
   "source": [
    "spark = SparkSession.builder.appName(\"read_csv\").getOrCreate()"
   ]
  },
  {
   "cell_type": "code",
   "execution_count": 3,
   "id": "f5c4c0f6",
   "metadata": {},
   "outputs": [
    {
     "data": {
      "text/html": [
       "\n",
       "            <div>\n",
       "                <p><b>SparkSession - in-memory</b></p>\n",
       "                \n",
       "        <div>\n",
       "            <p><b>SparkContext</b></p>\n",
       "\n",
       "            <p><a href=\"http://LAPTOP-3UT4836R:4040\">Spark UI</a></p>\n",
       "\n",
       "            <dl>\n",
       "              <dt>Version</dt>\n",
       "                <dd><code>v3.4.1</code></dd>\n",
       "              <dt>Master</dt>\n",
       "                <dd><code>local[*]</code></dd>\n",
       "              <dt>AppName</dt>\n",
       "                <dd><code>read_csv</code></dd>\n",
       "            </dl>\n",
       "        </div>\n",
       "        \n",
       "            </div>\n",
       "        "
      ],
      "text/plain": [
       "<pyspark.sql.session.SparkSession at 0x253d5b33ad0>"
      ]
     },
     "execution_count": 3,
     "metadata": {},
     "output_type": "execute_result"
    }
   ],
   "source": [
    "spark"
   ]
  },
  {
   "cell_type": "markdown",
   "id": "12e90ff3",
   "metadata": {},
   "source": [
    "# helper functions"
   ]
  },
  {
   "cell_type": "code",
   "execution_count": 4,
   "id": "585c9f22",
   "metadata": {},
   "outputs": [],
   "source": [
    "from pyspark.sql.functions import udf\n",
    "from pyspark.sql.types import DateType\n",
    "from datetime import datetime\n",
    "\n",
    "# Define a UDF to parse the date string\n",
    "@udf(DateType())\n",
    "def parse_date(date_str):\n",
    "    try:\n",
    "        return datetime.strptime(date_str, \"%m/%d/%Y\").date()\n",
    "    except ValueError:\n",
    "        return None  # Handle invalid date strings as needed\n"
   ]
  },
  {
   "cell_type": "code",
   "execution_count": 5,
   "id": "8a913a8d",
   "metadata": {},
   "outputs": [],
   "source": [
    "def change_dtype(dataframe, column_name,change_to):\n",
    "    return dataframe.withColumn(column_name, col(column_name).cast(change_to))"
   ]
  },
  {
   "cell_type": "code",
   "execution_count": 6,
   "id": "443fb098",
   "metadata": {},
   "outputs": [],
   "source": [
    "def remove_illegal_char(dataframe,column_name):\n",
    "    illegal_character = ['Can','\\$',',',\"\\(\",\"\\)\"]\n",
    "    for character in illegal_character:\n",
    "        dataframe = dataframe.withColumn(column_name, regexp_replace(col(column_name), character, ''))\n",
    "#                              .withColumn('Open Balance', regexp_replace(col('Open Balance'), 'Can', ''))\n",
    "    return dataframe"
   ]
  },
  {
   "cell_type": "code",
   "execution_count": 7,
   "id": "850380fd",
   "metadata": {},
   "outputs": [],
   "source": [
    "def trim_col(dataframe, column_name):\n",
    "    return dataframe.withColumn(column_name, trim(col(column_name)))"
   ]
  },
  {
   "cell_type": "markdown",
   "id": "028e5d4f",
   "metadata": {},
   "source": [
    "## Reading CSV"
   ]
  },
  {
   "cell_type": "code",
   "execution_count": 8,
   "id": "ff12abb5",
   "metadata": {},
   "outputs": [],
   "source": [
    "sales_report_kmpg_july=spark.read.options(inferSchema='True').csv('csv_converted\\saleReprtKmpg_july - SalesReportKPMGAuditResults.csv', header=True, inferSchema=True, sep=',')"
   ]
  },
  {
   "cell_type": "markdown",
   "id": "b7976435",
   "metadata": {},
   "source": [
    "## Cleaning and Transforming"
   ]
  },
  {
   "cell_type": "code",
   "execution_count": 9,
   "id": "2c4ed09b",
   "metadata": {},
   "outputs": [
    {
     "data": {
      "text/plain": [
       "['Transaction ID',\n",
       " 'Document Number',\n",
       " 'Transaction Type',\n",
       " 'Project ID',\n",
       " 'Customer',\n",
       " 'Terms',\n",
       " 'Currency',\n",
       " 'Gross Amount',\n",
       " 'Payment',\n",
       " 'Open Balance',\n",
       " 'Transaction Create Date',\n",
       " 'Document Date',\n",
       " 'Due Date',\n",
       " 'Days Open',\n",
       " 'Service Dates',\n",
       " 'Payment Receipt Date']"
      ]
     },
     "execution_count": 9,
     "metadata": {},
     "output_type": "execute_result"
    }
   ],
   "source": [
    "sales_report_kmpg_july.columns"
   ]
  },
  {
   "cell_type": "code",
   "execution_count": 10,
   "id": "415f4c8c",
   "metadata": {},
   "outputs": [],
   "source": [
    "object_columns = ['Transaction ID','Document Number','Transaction Type', 'Project ID','Customer','Terms','Currency',]\n",
    "numeric_columns = ['Gross Amount','Payment','Open Balance','Days Open']\n",
    "date_columns = ['Transaction Create Date','Document Date','Due Date','Service Dates','Payment Receipt Date']"
   ]
  },
  {
   "cell_type": "markdown",
   "id": "91e1a7bb",
   "metadata": {},
   "source": [
    "### Trim column"
   ]
  },
  {
   "cell_type": "code",
   "execution_count": 11,
   "id": "c90cc611",
   "metadata": {},
   "outputs": [],
   "source": [
    "# sales_report_kmpg_july.show()"
   ]
  },
  {
   "cell_type": "code",
   "execution_count": 12,
   "id": "a329cdc9",
   "metadata": {},
   "outputs": [],
   "source": [
    "# sales_report_kmpg_july = trim_col(sales_report_kmpg_july,column_name='Open Balance')\n",
    "for column in sales_report_kmpg_july.columns:\n",
    "    sales_report_kmpg_july = trim_col(sales_report_kmpg_july,column_name=column)\n",
    "    "
   ]
  },
  {
   "cell_type": "markdown",
   "id": "401cca84",
   "metadata": {},
   "source": [
    "### Remove illegal characters from numeric columns"
   ]
  },
  {
   "cell_type": "code",
   "execution_count": 13,
   "id": "232662ef",
   "metadata": {},
   "outputs": [],
   "source": [
    "# sales_report_kmpg_july = remove_illegal_char(sales_report_kmpg_july,column_name='Open Balance')\n",
    "for column in numeric_columns:\n",
    "#     print(column)\n",
    "    sales_report_kmpg_july = remove_illegal_char(sales_report_kmpg_july,column_name=column)\n",
    "#     print(sales_report_kmpg_july.show(1))\n",
    "    "
   ]
  },
  {
   "cell_type": "markdown",
   "id": "0bf1d675",
   "metadata": {},
   "source": [
    "### Change datatype"
   ]
  },
  {
   "cell_type": "code",
   "execution_count": 14,
   "id": "9aafb1f8",
   "metadata": {},
   "outputs": [],
   "source": [
    "# sales_report_kmpg_july = sales_report_kmpg_july.withColumn('Open Balance', col('Open Balance').cast('float'))\n",
    "# for column in date_columns:\n",
    "#     sales_report_kmpg_july = sales_report_kmpg_july.withColumn(column, col(column).cast(to_timestamp(column)))\n",
    "    "
   ]
  },
  {
   "cell_type": "code",
   "execution_count": 15,
   "id": "97c4add4",
   "metadata": {},
   "outputs": [
    {
     "data": {
      "text/plain": [
       "[('Transaction ID', 'string'),\n",
       " ('Document Number', 'string'),\n",
       " ('Transaction Type', 'string'),\n",
       " ('Project ID', 'string'),\n",
       " ('Customer', 'string'),\n",
       " ('Terms', 'string'),\n",
       " ('Currency', 'string'),\n",
       " ('Gross Amount', 'string'),\n",
       " ('Payment', 'string'),\n",
       " ('Open Balance', 'string'),\n",
       " ('Transaction Create Date', 'string'),\n",
       " ('Document Date', 'string'),\n",
       " ('Due Date', 'string'),\n",
       " ('Days Open', 'string'),\n",
       " ('Service Dates', 'string'),\n",
       " ('Payment Receipt Date', 'string')]"
      ]
     },
     "execution_count": 15,
     "metadata": {},
     "output_type": "execute_result"
    }
   ],
   "source": [
    "sales_report_kmpg_july.dtypes"
   ]
  },
  {
   "cell_type": "code",
   "execution_count": 16,
   "id": "1f68ec58",
   "metadata": {},
   "outputs": [
    {
     "name": "stdout",
     "output_type": "stream",
     "text": [
      "+--------------+---------------+----------------+----------+--------------------+-----+--------+------------+-------+------------+-----------------------+-------------+--------+---------+--------------------+--------------------+\n",
      "|Transaction ID|Document Number|Transaction Type|Project ID|            Customer|Terms|Currency|Gross Amount|Payment|Open Balance|Transaction Create Date|Document Date|Due Date|Days Open|       Service Dates|Payment Receipt Date|\n",
      "+--------------+---------------+----------------+----------+--------------------+-----+--------+------------+-------+------------+-----------------------+-------------+--------+---------+--------------------+--------------------+\n",
      "|       3190973|      CUMC15527|     Credit Memo|   1277343|CUMC : Columbia U...| null|     USA|      145.83| 145.83|        0.00|          7/31/23 11:02|    7/31/2023|    null|        0|07/01/2023 to 07/...|           7/30/2023|\n",
      "+--------------+---------------+----------------+----------+--------------------+-----+--------+------------+-------+------------+-----------------------+-------------+--------+---------+--------------------+--------------------+\n",
      "only showing top 1 row\n",
      "\n"
     ]
    }
   ],
   "source": [
    "sales_report_kmpg_july.show(1)"
   ]
  },
  {
   "cell_type": "markdown",
   "id": "d63924c4",
   "metadata": {},
   "source": [
    "## Operation 1:\n",
    "- 3 lines\n",
    "    - 1. Open Balance != 0----------------------output ---> temp_df , Sum_Open_Balance\n",
    "    - 2. Tranasaction Type  == \"Credit Memo\"----output ----> process_df_result\n",
    "    - 3. Tranasaction Type  != \"Credit Memo\"----output-----> temp_df_process_3"
   ]
  },
  {
   "cell_type": "markdown",
   "id": "221c3bf7",
   "metadata": {},
   "source": [
    "### 1. Open Balance != 0 \n",
    "    - filtering the recored `Open Balance !=0`\n",
    "    - Adding Column `Outstanding = \"Open\"`\n",
    "    - Sum of `Open Balance`"
   ]
  },
  {
   "cell_type": "code",
   "execution_count": 17,
   "id": "81e16cf3",
   "metadata": {},
   "outputs": [
    {
     "data": {
      "text/plain": [
       "3948"
      ]
     },
     "execution_count": 17,
     "metadata": {},
     "output_type": "execute_result"
    }
   ],
   "source": [
    "sales_report_kmpg_july.filter(sales_report_kmpg_july['Open Balance'] != '0.00').count()"
   ]
  },
  {
   "cell_type": "code",
   "execution_count": 18,
   "id": "c36224bb",
   "metadata": {},
   "outputs": [],
   "source": [
    "temp_df = sales_report_kmpg_july.filter(sales_report_kmpg_july['Open Balance'] != '0.00')"
   ]
  },
  {
   "cell_type": "code",
   "execution_count": 19,
   "id": "28192f83",
   "metadata": {},
   "outputs": [
    {
     "name": "stdout",
     "output_type": "stream",
     "text": [
      "type of df <class 'pyspark.sql.dataframe.DataFrame'> no of records 3948\n"
     ]
    }
   ],
   "source": [
    "print(\"type of df\",type(temp_df), \"no of records\",temp_df.count())"
   ]
  },
  {
   "cell_type": "markdown",
   "id": "b3e02bc7",
   "metadata": {},
   "source": [
    "#### adding column Outstanding = open"
   ]
  },
  {
   "cell_type": "code",
   "execution_count": 20,
   "id": "d4027c2b",
   "metadata": {},
   "outputs": [],
   "source": [
    "# df_spark.withColumn('year after 2', df_spark['year']+1000).show() refrence\n",
    "temp_df = temp_df.withColumn('Outstanding', lit('Open'))"
   ]
  },
  {
   "cell_type": "code",
   "execution_count": 21,
   "id": "26cd992d",
   "metadata": {},
   "outputs": [],
   "source": [
    "temp_df = change_dtype(temp_df, column_name='Open Balance',change_to=FloatType())"
   ]
  },
  {
   "cell_type": "code",
   "execution_count": 22,
   "id": "1cc43364",
   "metadata": {},
   "outputs": [
    {
     "data": {
      "text/plain": [
       "29295611.528552473"
      ]
     },
     "execution_count": 22,
     "metadata": {},
     "output_type": "execute_result"
    }
   ],
   "source": [
    "Sum_Open_Balance = temp_df.select(sum(col('Open Balance'))).collect()[0][0]\n",
    "Sum_Open_Balance"
   ]
  },
  {
   "cell_type": "code",
   "execution_count": 23,
   "id": "91fed9c3",
   "metadata": {},
   "outputs": [
    {
     "data": {
      "text/plain": [
       "DataFrame[sum(Open Balance): double]"
      ]
     },
     "execution_count": 23,
     "metadata": {},
     "output_type": "execute_result"
    }
   ],
   "source": [
    "sales_report_kmpg_july.filter(sales_report_kmpg_july['Open Balance'] != '0.00').select(sum(col('Open Balance')))"
   ]
  },
  {
   "cell_type": "markdown",
   "id": "3df50ad0",
   "metadata": {},
   "source": [
    "#### Output\n",
    "Sum_Open_Balance, temp_df"
   ]
  },
  {
   "cell_type": "code",
   "execution_count": 24,
   "id": "8ce14727",
   "metadata": {},
   "outputs": [
    {
     "name": "stdout",
     "output_type": "stream",
     "text": [
      "3948 29295611.528552473\n"
     ]
    }
   ],
   "source": [
    "print(temp_df.count(),Sum_Open_Balance)"
   ]
  },
  {
   "cell_type": "markdown",
   "id": "811a885c",
   "metadata": {},
   "source": [
    "### 2. Tranasaction Type  = \"Credit Memo\""
   ]
  },
  {
   "cell_type": "code",
   "execution_count": 25,
   "id": "2ff39a15",
   "metadata": {},
   "outputs": [
    {
     "name": "stdout",
     "output_type": "stream",
     "text": [
      "Input Parameters:  15459\n"
     ]
    }
   ],
   "source": [
    "temp_df_process_2=sales_report_kmpg_july.filter(sales_report_kmpg_july['Transaction Type'] == 'Credit Memo')\n",
    "print(\"Input Parameters: \", temp_df_process_2.count())"
   ]
  },
  {
   "cell_type": "code",
   "execution_count": 26,
   "id": "5be695b3",
   "metadata": {},
   "outputs": [],
   "source": [
    "temp_df_process_2 = temp_df_process_2.withColumn('Gross Amount', col('Gross Amount').cast('float'))\n",
    "temp_df_process_2 = temp_df_process_2.withColumn('Payment', col('Payment').cast('float'))\n",
    "temp_df_process_2 = temp_df_process_2.withColumn('Days Open', col('Days Open').cast('float'))"
   ]
  },
  {
   "cell_type": "code",
   "execution_count": 27,
   "id": "eca77f50",
   "metadata": {},
   "outputs": [],
   "source": [
    "groupby_df_process_2 =temp_df_process_2.groupBy(['Transaction ID',\"Document Number\"])"
   ]
  },
  {
   "cell_type": "code",
   "execution_count": 28,
   "id": "104b74a9",
   "metadata": {},
   "outputs": [
    {
     "data": {
      "text/plain": [
       "[('Transaction ID', 'string'),\n",
       " ('Document Number', 'string'),\n",
       " ('Transaction Type', 'string'),\n",
       " ('Project ID', 'string'),\n",
       " ('Customer', 'string'),\n",
       " ('Terms', 'string'),\n",
       " ('Currency', 'string'),\n",
       " ('Gross Amount', 'float'),\n",
       " ('Payment', 'float'),\n",
       " ('Open Balance', 'string'),\n",
       " ('Transaction Create Date', 'string'),\n",
       " ('Document Date', 'string'),\n",
       " ('Due Date', 'string'),\n",
       " ('Days Open', 'float'),\n",
       " ('Service Dates', 'string'),\n",
       " ('Payment Receipt Date', 'string')]"
      ]
     },
     "execution_count": 28,
     "metadata": {},
     "output_type": "execute_result"
    }
   ],
   "source": [
    "temp_df_process_2.dtypes"
   ]
  },
  {
   "cell_type": "code",
   "execution_count": 29,
   "id": "be9ed241",
   "metadata": {},
   "outputs": [],
   "source": [
    "#     \"Transaction Type\": first(col(\"Transaction Type\")),  # Pick the first occurrence of \"Payment Type\"\n",
    "#     \"Project ID\": max(col(\"Profit\"))  # Calculate the maximum profit\n",
    "#     \"Customer\": first(col(\"Customer\")),\n",
    "#     \"Terms\": first(col(\"Terms\")),\n",
    "#     \"Currency\": first(col(\"Currency\")),\n",
    "#     \"Gross Amount\": min(col(\"Gross Amount\")),\n",
    "#     \"Payment\": max(col(\"Payment\")),\n",
    "#     \"Open Balance\": max(col(\"Open Balance\")),\n",
    "#     \"Transaction Create Date\": max(col(\"Transaction Create Date\")),\n",
    "#     \"Document Date\": max(col(\"Document Date\")),\n",
    "#     \"Due Date\": max(col(\"Due Date\")),\n",
    "#     \"Days Open\": max(col(\"Days Open\")),\n",
    "#     \"Service Dates\": max(col(\"Service Dates\")),\n",
    "#     \"Payment Receipt Date\": col(\"Payment Receipt Date\")"
   ]
  },
  {
   "cell_type": "code",
   "execution_count": 30,
   "id": "51d6ff2b",
   "metadata": {},
   "outputs": [],
   "source": [
    "agg_exprs = {\n",
    "    \"Transaction Type\": 'first',  # Pick the first occurrence of \"Payment Type\"\n",
    "    \"Project ID\": 'first',  # Calculate the maximum profit\n",
    "    \"Customer\": 'first',\n",
    "    \"Terms\": 'first',\n",
    "    \"Currency\": 'first',\n",
    "    \"Gross Amount\": 'min',\n",
    "    \"Payment\": 'max',\n",
    "    \"Open Balance\": 'max',\n",
    "    \"Transaction Create Date\": 'max',\n",
    "    \"Document Date\": 'max',\n",
    "    \"Due Date\": 'max',\n",
    "    \"Days Open\": 'max',\n",
    "    \"Service Dates\": 'max',\n",
    "    \"Payment Receipt Date\": 'first'}\n"
   ]
  },
  {
   "cell_type": "code",
   "execution_count": 31,
   "id": "fd9cf7a1",
   "metadata": {},
   "outputs": [
    {
     "data": {
      "text/plain": [
       "pyspark.sql.column.Column"
      ]
     },
     "execution_count": 31,
     "metadata": {},
     "output_type": "execute_result"
    }
   ],
   "source": [
    "type(first(col(\"Transaction Type\")))"
   ]
  },
  {
   "cell_type": "code",
   "execution_count": 32,
   "id": "39543ae7",
   "metadata": {},
   "outputs": [],
   "source": [
    "# groupby_df_process_2.agg(agg_exprs).count()"
   ]
  },
  {
   "cell_type": "code",
   "execution_count": 33,
   "id": "01058292",
   "metadata": {},
   "outputs": [],
   "source": [
    "process_df_result = groupby_df_process_2.agg(agg_exprs)"
   ]
  },
  {
   "cell_type": "code",
   "execution_count": 34,
   "id": "19a9a275",
   "metadata": {},
   "outputs": [],
   "source": [
    "# column got renamed need to look for other way, there is one commented above but causing some error\n",
    "for column in process_df_result.columns:\n",
    "#     print(column)\n",
    "    new_column = column\n",
    "    remove_list = [\"max\",\"min\",\"(\",\")\",\"first\"]\n",
    "    for char in remove_list:\n",
    "#         print(char)\n",
    "        if char in new_column:\n",
    "            new_column=new_column.replace(char,\"\")\n",
    "    process_df_result=process_df_result.withColumnRenamed(column,new_column)\n",
    "    \n",
    "    "
   ]
  },
  {
   "cell_type": "code",
   "execution_count": 35,
   "id": "0fa8abe2",
   "metadata": {},
   "outputs": [],
   "source": [
    "# process_df_result.columns"
   ]
  },
  {
   "cell_type": "code",
   "execution_count": 36,
   "id": "e83b3d04",
   "metadata": {},
   "outputs": [],
   "source": [
    "process_df_result = process_df_result.withColumn('Outstanding', lit('Cleared'))\n",
    "process_df_result=process_df_result.withColumn('Applying Link Amount', -col(\"Payment\"))"
   ]
  },
  {
   "cell_type": "code",
   "execution_count": 37,
   "id": "72ccf85a",
   "metadata": {},
   "outputs": [
    {
     "name": "stdout",
     "output_type": "stream",
     "text": [
      "+--------------+-----------+--------------------+\n",
      "|Transaction ID|Outstanding|Applying Link Amount|\n",
      "+--------------+-----------+--------------------+\n",
      "|       3191846|    Cleared|              -84.87|\n",
      "|       3196377|    Cleared|              -243.0|\n",
      "|       3152869|    Cleared|            -1394.96|\n",
      "|       3136755|    Cleared|                -0.0|\n",
      "|       3117490|    Cleared|             -111.29|\n",
      "|       3119866|    Cleared|            -1397.43|\n",
      "|       3051990|    Cleared|             -525.98|\n",
      "|       3034098|    Cleared|              -19.48|\n",
      "|       2979232|    Cleared|              -119.6|\n",
      "|       2889570|    Cleared|            -2857.77|\n",
      "|       2840729|    Cleared|             -1000.0|\n",
      "|       3195531|    Cleared|                -0.0|\n",
      "|       3198467|    Cleared|             -446.38|\n",
      "|       3154622|    Cleared|                -0.0|\n",
      "|       3114388|    Cleared|               -0.08|\n",
      "|       3049865|    Cleared|                -0.0|\n",
      "|       3050589|    Cleared|                -0.0|\n",
      "|       3037054|    Cleared|             -185.24|\n",
      "|       3013001|    Cleared|               -0.01|\n",
      "|       2971297|    Cleared|               -0.17|\n",
      "+--------------+-----------+--------------------+\n",
      "only showing top 20 rows\n",
      "\n"
     ]
    }
   ],
   "source": [
    "process_df_result.select([\"Transaction ID\", \"Outstanding\",\"Applying Link Amount\"]).show()"
   ]
  },
  {
   "cell_type": "code",
   "execution_count": 38,
   "id": "d67c1b55",
   "metadata": {},
   "outputs": [
    {
     "name": "stdout",
     "output_type": "stream",
     "text": [
      "Output Result : 14286\n"
     ]
    }
   ],
   "source": [
    "print(\"Output Result :\", process_df_result.count())"
   ]
  },
  {
   "cell_type": "markdown",
   "id": "d07a9529",
   "metadata": {},
   "source": [
    "### Output : process_df_result"
   ]
  },
  {
   "cell_type": "markdown",
   "id": "8af9b4b0",
   "metadata": {},
   "source": [
    "## 3. Tranasaction Type  != \"Credit Memo\""
   ]
  },
  {
   "cell_type": "code",
   "execution_count": 39,
   "id": "b3b222d4",
   "metadata": {},
   "outputs": [
    {
     "data": {
      "text/plain": [
       "382148"
      ]
     },
     "execution_count": 39,
     "metadata": {},
     "output_type": "execute_result"
    }
   ],
   "source": [
    "sales_report_kmpg_july.count()"
   ]
  },
  {
   "cell_type": "code",
   "execution_count": 40,
   "id": "2e3d60f7",
   "metadata": {},
   "outputs": [
    {
     "name": "stdout",
     "output_type": "stream",
     "text": [
      "+----------------+\n",
      "|Transaction Type|\n",
      "+----------------+\n",
      "|     Credit Memo|\n",
      "|         Invoice|\n",
      "|            null|\n",
      "+----------------+\n",
      "\n"
     ]
    }
   ],
   "source": [
    "sales_report_kmpg_july.select(\"Transaction Type\").distinct().show()"
   ]
  },
  {
   "cell_type": "code",
   "execution_count": 41,
   "id": "8fea6022",
   "metadata": {},
   "outputs": [
    {
     "name": "stdout",
     "output_type": "stream",
     "text": [
      "Input : 366688\n"
     ]
    }
   ],
   "source": [
    "temp_df_process_3=sales_report_kmpg_july.filter(sales_report_kmpg_july['Transaction Type'] != 'Credit Memo')\n",
    "print(\"Input :\", temp_df_process_3.count())"
   ]
  },
  {
   "cell_type": "code",
   "execution_count": 42,
   "id": "c3937d12",
   "metadata": {},
   "outputs": [],
   "source": [
    "temp_df_process_3 = temp_df_process_3.withColumn('Customer', upper(trim(col('Customer'))))"
   ]
  },
  {
   "cell_type": "code",
   "execution_count": 43,
   "id": "12be1452",
   "metadata": {},
   "outputs": [
    {
     "data": {
      "text/plain": [
       "366688"
      ]
     },
     "execution_count": 43,
     "metadata": {},
     "output_type": "execute_result"
    }
   ],
   "source": [
    "temp_df_process_3.select('Customer').count()"
   ]
  },
  {
   "cell_type": "code",
   "execution_count": 44,
   "id": "2c4a2dfe",
   "metadata": {},
   "outputs": [
    {
     "data": {
      "text/plain": [
       "DataFrame[Transaction Type: string]"
      ]
     },
     "execution_count": 44,
     "metadata": {},
     "output_type": "execute_result"
    }
   ],
   "source": [
    "temp_df_process_3.filter(col('Transaction Type').like('% %')).select('Transaction Type')"
   ]
  },
  {
   "cell_type": "code",
   "execution_count": 45,
   "id": "1a7419af",
   "metadata": {},
   "outputs": [
    {
     "data": {
      "text/plain": [
       "366688"
      ]
     },
     "execution_count": 45,
     "metadata": {},
     "output_type": "execute_result"
    }
   ],
   "source": [
    "temp_df_process_3.count()"
   ]
  },
  {
   "cell_type": "code",
   "execution_count": null,
   "id": "89ca054f",
   "metadata": {},
   "outputs": [],
   "source": []
  },
  {
   "cell_type": "markdown",
   "id": "68f8f098",
   "metadata": {},
   "source": [
    "# customer_payment_history \n",
    "customer_payment_history =customer_payment_history.withColumn('Date', date_format(to_date(customer_payment_history['Date'],'M/d/yyyy'),'yyyy-MM-dd' ))"
   ]
  },
  {
   "cell_type": "code",
   "execution_count": 46,
   "id": "3bfbb90e",
   "metadata": {},
   "outputs": [],
   "source": [
    "# customer_payment_history.filter(col(\"payment Date\").isNull()).count()\n",
    "# customer_payment_history.filter(col(\"Payment Date\").rlike(r\"^\\d{1,2}/\\d{1,2}/\\d{4}$\")).count()\n",
    "# customer_payment_history.filter(col('Payment Date').like('%1/1/1900%')).select('Payment Date').show()\n",
    "# customer_payment_history =customer_payment_history.withColumn('Date', to_date(customer_payment_history['Date'],'M/d/yyyy'))\n",
    "# customer_payment_history =customer_payment_history.withColumn('Date', date_format(to_date(customer_payment_history['Date'],'M/d/yyyy'),'yyyy-MM-dd' ))\n",
    "# customer_payment_history =customer_payment_history.withColumn('Date', date_format(customer_payment_history['Date'], 'MM/dd/yyyy'))\n",
    "# customer_payment_history =customer_payment_history.withColumn('Date', to_date(customer_payment_history['Date'],'yyyy-MM-dd' ))\n",
    "# customer_payment_history = customer_payment_history.fillna('1/1/1900',subset=['Payment Date'])\n",
    "# customer_payment_history =customer_payment_history.withColumn('Payment Date', to_date(date_format(customer_payment_history['Payment Date'],'yyyy-MM-dd'),'M/d/yyyy' ))\n",
    "# customer_payment_history = customer_payment_history.withColumn('Document Number', upper(trim(col('Document Number'))))"
   ]
  },
  {
   "cell_type": "code",
   "execution_count": 47,
   "id": "64258882",
   "metadata": {},
   "outputs": [],
   "source": [
    "customer_payment_history = spark.read.options(inferSchema='True').csv('csv_converted\\Customer_Payment_history_july.csv', header=True, inferSchema=True, sep=',')"
   ]
  },
  {
   "cell_type": "code",
   "execution_count": 48,
   "id": "0b77d7f1",
   "metadata": {},
   "outputs": [],
   "source": [
    "customer_payment_history=customer_payment_history.withColumnRenamed('Currency0','Currency')\n",
    "customer_payment_history=customer_payment_history.withColumnRenamed('Currency24','Currency2')\n",
    "customer_payment_history=customer_payment_history.withColumnRenamed('Approved for Email10','Approved for Email')\n",
    "customer_payment_history=customer_payment_history.withColumnRenamed('Approved for Email44','Approved for Email')"
   ]
  },
  {
   "cell_type": "code",
   "execution_count": 49,
   "id": "5842a948",
   "metadata": {},
   "outputs": [],
   "source": [
    "customer_payment_history =customer_payment_history.withColumn('Date', to_date(customer_payment_history['Date'],'M/d/yyyy'))"
   ]
  },
  {
   "cell_type": "code",
   "execution_count": 50,
   "id": "50ed2fd6",
   "metadata": {},
   "outputs": [],
   "source": [
    "customer_payment_history =customer_payment_history.withColumn('Payment Date', to_date(customer_payment_history['Payment Date'],'M/d/yyyy'))"
   ]
  },
  {
   "cell_type": "code",
   "execution_count": 51,
   "id": "8497bd18",
   "metadata": {},
   "outputs": [],
   "source": [
    "customer_payment_history= customer_payment_history.withColumnRenamed(\"Payment Date\", \"Payment Date2\")"
   ]
  },
  {
   "cell_type": "code",
   "execution_count": 52,
   "id": "cfcf3143",
   "metadata": {},
   "outputs": [],
   "source": [
    "customer_payment_history= customer_payment_history.withColumn(\"Payment Date\", customer_payment_history[\"Date\"])"
   ]
  },
  {
   "cell_type": "code",
   "execution_count": 53,
   "id": "dfa8e042",
   "metadata": {},
   "outputs": [
    {
     "data": {
      "text/plain": [
       "315676"
      ]
     },
     "execution_count": 53,
     "metadata": {},
     "output_type": "execute_result"
    }
   ],
   "source": [
    "customer_payment_history.filter((customer_payment_history['Payment Date'] >= \"2018-10-01\") & (customer_payment_history['Payment Date'] <= \"2023-07-31\")).count()"
   ]
  },
  {
   "cell_type": "markdown",
   "id": "26a23d9e",
   "metadata": {},
   "source": [
    "# Inner join output of 2 and 3"
   ]
  },
  {
   "cell_type": "code",
   "execution_count": 82,
   "id": "bfd06ecc",
   "metadata": {},
   "outputs": [
    {
     "ename": "NameError",
     "evalue": "name 'df' is not defined",
     "output_type": "error",
     "traceback": [
      "\u001b[1;31m---------------------------------------------------------------------------\u001b[0m",
      "\u001b[1;31mNameError\u001b[0m                                 Traceback (most recent call last)",
      "Cell \u001b[1;32mIn[82], line 1\u001b[0m\n\u001b[1;32m----> 1\u001b[0m \u001b[38;5;28mtype\u001b[39m(df)\n",
      "\u001b[1;31mNameError\u001b[0m: name 'df' is not defined"
     ]
    }
   ],
   "source": [
    "type(df)"
   ]
  },
  {
   "cell_type": "code",
   "execution_count": 62,
   "id": "e8bed4ea",
   "metadata": {},
   "outputs": [],
   "source": [
    "process_df_result_copy = process_df_result.select(\"*\")\n",
    "customer_payment_history_copy = customer_payment_history.select(\"*\")\n",
    "temp_df_copy = temp_df.select(\"*\")"
   ]
  },
  {
   "cell_type": "code",
   "execution_count": 63,
   "id": "8d2080e3",
   "metadata": {},
   "outputs": [
    {
     "name": "stdout",
     "output_type": "stream",
     "text": [
      "Rows :  14286 315677 3948\n",
      "columns :  18 48 17\n"
     ]
    }
   ],
   "source": [
    "print(\"Rows : \",process_df_result_copy.count(),customer_payment_history_copy.count(), temp_df_copy.count())\n",
    "print(\"columns : \",len(process_df_result_copy.columns), len(customer_payment_history_copy.columns),len(temp_df_copy.columns))"
   ]
  },
  {
   "cell_type": "code",
   "execution_count": 64,
   "id": "6bfce528",
   "metadata": {},
   "outputs": [
    {
     "name": "stdout",
     "output_type": "stream",
     "text": [
      "62\n"
     ]
    }
   ],
   "source": [
    "column_names=set()\n",
    "for df in [process_df_result, temp_df,customer_payment_history]:\n",
    "    for column in df.columns:\n",
    "        column_names.add(column)\n",
    "del df\n",
    "column_names = list(column_names)\n",
    "print(len(column_names))"
   ]
  },
  {
   "cell_type": "code",
   "execution_count": 65,
   "id": "e795eba6",
   "metadata": {},
   "outputs": [],
   "source": [
    "# column_names"
   ]
  },
  {
   "cell_type": "code",
   "execution_count": 66,
   "id": "6b6a968a",
   "metadata": {},
   "outputs": [],
   "source": [
    "# temp_df.columns"
   ]
  },
  {
   "cell_type": "code",
   "execution_count": 67,
   "id": "80ea42d1",
   "metadata": {},
   "outputs": [],
   "source": [
    "# column_names"
   ]
  },
  {
   "cell_type": "code",
   "execution_count": 68,
   "id": "76a83799",
   "metadata": {},
   "outputs": [
    {
     "ename": "NameError",
     "evalue": "name 'df' is not defined",
     "output_type": "error",
     "traceback": [
      "\u001b[1;31m---------------------------------------------------------------------------\u001b[0m",
      "\u001b[1;31mNameError\u001b[0m                                 Traceback (most recent call last)",
      "Cell \u001b[1;32mIn[68], line 1\u001b[0m\n\u001b[1;32m----> 1\u001b[0m df\u001b[38;5;241m.\u001b[39mcolumns\n",
      "\u001b[1;31mNameError\u001b[0m: name 'df' is not defined"
     ]
    }
   ],
   "source": [
    "df.columns"
   ]
  },
  {
   "cell_type": "code",
   "execution_count": 69,
   "id": "57881484",
   "metadata": {},
   "outputs": [
    {
     "ename": "SyntaxError",
     "evalue": "invalid syntax (3203806025.py, line 1)",
     "output_type": "error",
     "traceback": [
      "\u001b[1;36m  Cell \u001b[1;32mIn[69], line 1\u001b[1;36m\u001b[0m\n\u001b[1;33m    process_df_result_copy.\u001b[0m\n\u001b[1;37m                           ^\u001b[0m\n\u001b[1;31mSyntaxError\u001b[0m\u001b[1;31m:\u001b[0m invalid syntax\n"
     ]
    }
   ],
   "source": [
    "process_df_result_copy."
   ]
  },
  {
   "cell_type": "code",
   "execution_count": 87,
   "id": "391a83b0",
   "metadata": {},
   "outputs": [],
   "source": [
    "spark.stop()"
   ]
  },
  {
   "cell_type": "code",
   "execution_count": 3,
   "id": "42bbcd84",
   "metadata": {},
   "outputs": [
    {
     "ename": "Py4JJavaError",
     "evalue": "An error occurred while calling o69.showString.\n: org.apache.spark.SparkException: Job aborted due to stage failure: Task 0 in stage 0.0 failed 1 times, most recent failure: Lost task 0.0 in stage 0.0 (TID 0) (LAPTOP-3UT4836R executor driver): org.apache.spark.SparkException: Python worker failed to connect back.\r\n\tat org.apache.spark.api.python.PythonWorkerFactory.createSimpleWorker(PythonWorkerFactory.scala:192)\r\n\tat org.apache.spark.api.python.PythonWorkerFactory.create(PythonWorkerFactory.scala:109)\r\n\tat org.apache.spark.SparkEnv.createPythonWorker(SparkEnv.scala:124)\r\n\tat org.apache.spark.api.python.BasePythonRunner.compute(PythonRunner.scala:166)\r\n\tat org.apache.spark.api.python.PythonRDD.compute(PythonRDD.scala:65)\r\n\tat org.apache.spark.rdd.RDD.computeOrReadCheckpoint(RDD.scala:364)\r\n\tat org.apache.spark.rdd.RDD.iterator(RDD.scala:328)\r\n\tat org.apache.spark.rdd.MapPartitionsRDD.compute(MapPartitionsRDD.scala:52)\r\n\tat org.apache.spark.rdd.RDD.computeOrReadCheckpoint(RDD.scala:364)\r\n\tat org.apache.spark.rdd.RDD.iterator(RDD.scala:328)\r\n\tat org.apache.spark.rdd.MapPartitionsRDD.compute(MapPartitionsRDD.scala:52)\r\n\tat org.apache.spark.rdd.RDD.computeOrReadCheckpoint(RDD.scala:364)\r\n\tat org.apache.spark.rdd.RDD.iterator(RDD.scala:328)\r\n\tat org.apache.spark.rdd.MapPartitionsRDD.compute(MapPartitionsRDD.scala:52)\r\n\tat org.apache.spark.rdd.RDD.computeOrReadCheckpoint(RDD.scala:364)\r\n\tat org.apache.spark.rdd.RDD.iterator(RDD.scala:328)\r\n\tat org.apache.spark.rdd.MapPartitionsRDD.compute(MapPartitionsRDD.scala:52)\r\n\tat org.apache.spark.rdd.RDD.computeOrReadCheckpoint(RDD.scala:364)\r\n\tat org.apache.spark.rdd.RDD.iterator(RDD.scala:328)\r\n\tat org.apache.spark.rdd.MapPartitionsRDD.compute(MapPartitionsRDD.scala:52)\r\n\tat org.apache.spark.rdd.RDD.computeOrReadCheckpoint(RDD.scala:364)\r\n\tat org.apache.spark.rdd.RDD.iterator(RDD.scala:328)\r\n\tat org.apache.spark.scheduler.ResultTask.runTask(ResultTask.scala:92)\r\n\tat org.apache.spark.TaskContext.runTaskWithListeners(TaskContext.scala:161)\r\n\tat org.apache.spark.scheduler.Task.run(Task.scala:139)\r\n\tat org.apache.spark.executor.Executor$TaskRunner.$anonfun$run$3(Executor.scala:554)\r\n\tat org.apache.spark.util.Utils$.tryWithSafeFinally(Utils.scala:1529)\r\n\tat org.apache.spark.executor.Executor$TaskRunner.run(Executor.scala:557)\r\n\tat java.base/java.util.concurrent.ThreadPoolExecutor.runWorker(ThreadPoolExecutor.java:1144)\r\n\tat java.base/java.util.concurrent.ThreadPoolExecutor$Worker.run(ThreadPoolExecutor.java:642)\r\n\tat java.base/java.lang.Thread.run(Thread.java:1623)\r\nCaused by: java.net.SocketTimeoutException: Accept timed out\r\n\tat java.base/sun.nio.ch.NioSocketImpl.timedAccept(NioSocketImpl.java:699)\r\n\tat java.base/sun.nio.ch.NioSocketImpl.accept(NioSocketImpl.java:743)\r\n\tat java.base/java.net.ServerSocket.implAccept(ServerSocket.java:690)\r\n\tat java.base/java.net.ServerSocket.platformImplAccept(ServerSocket.java:655)\r\n\tat java.base/java.net.ServerSocket.implAccept(ServerSocket.java:631)\r\n\tat java.base/java.net.ServerSocket.implAccept(ServerSocket.java:588)\r\n\tat java.base/java.net.ServerSocket.accept(ServerSocket.java:546)\r\n\tat org.apache.spark.api.python.PythonWorkerFactory.createSimpleWorker(PythonWorkerFactory.scala:179)\r\n\t... 30 more\r\n\nDriver stacktrace:\r\n\tat org.apache.spark.scheduler.DAGScheduler.failJobAndIndependentStages(DAGScheduler.scala:2785)\r\n\tat org.apache.spark.scheduler.DAGScheduler.$anonfun$abortStage$2(DAGScheduler.scala:2721)\r\n\tat org.apache.spark.scheduler.DAGScheduler.$anonfun$abortStage$2$adapted(DAGScheduler.scala:2720)\r\n\tat scala.collection.mutable.ResizableArray.foreach(ResizableArray.scala:62)\r\n\tat scala.collection.mutable.ResizableArray.foreach$(ResizableArray.scala:55)\r\n\tat scala.collection.mutable.ArrayBuffer.foreach(ArrayBuffer.scala:49)\r\n\tat org.apache.spark.scheduler.DAGScheduler.abortStage(DAGScheduler.scala:2720)\r\n\tat org.apache.spark.scheduler.DAGScheduler.$anonfun$handleTaskSetFailed$1(DAGScheduler.scala:1206)\r\n\tat org.apache.spark.scheduler.DAGScheduler.$anonfun$handleTaskSetFailed$1$adapted(DAGScheduler.scala:1206)\r\n\tat scala.Option.foreach(Option.scala:407)\r\n\tat org.apache.spark.scheduler.DAGScheduler.handleTaskSetFailed(DAGScheduler.scala:1206)\r\n\tat org.apache.spark.scheduler.DAGSchedulerEventProcessLoop.doOnReceive(DAGScheduler.scala:2984)\r\n\tat org.apache.spark.scheduler.DAGSchedulerEventProcessLoop.onReceive(DAGScheduler.scala:2923)\r\n\tat org.apache.spark.scheduler.DAGSchedulerEventProcessLoop.onReceive(DAGScheduler.scala:2912)\r\n\tat org.apache.spark.util.EventLoop$$anon$1.run(EventLoop.scala:49)\r\n\tat org.apache.spark.scheduler.DAGScheduler.runJob(DAGScheduler.scala:971)\r\n\tat org.apache.spark.SparkContext.runJob(SparkContext.scala:2263)\r\n\tat org.apache.spark.SparkContext.runJob(SparkContext.scala:2284)\r\n\tat org.apache.spark.SparkContext.runJob(SparkContext.scala:2303)\r\n\tat org.apache.spark.sql.execution.SparkPlan.executeTake(SparkPlan.scala:530)\r\n\tat org.apache.spark.sql.execution.SparkPlan.executeTake(SparkPlan.scala:483)\r\n\tat org.apache.spark.sql.execution.CollectLimitExec.executeCollect(limit.scala:61)\r\n\tat org.apache.spark.sql.Dataset.collectFromPlan(Dataset.scala:4177)\r\n\tat org.apache.spark.sql.Dataset.$anonfun$head$1(Dataset.scala:3161)\r\n\tat org.apache.spark.sql.Dataset.$anonfun$withAction$2(Dataset.scala:4167)\r\n\tat org.apache.spark.sql.execution.QueryExecution$.withInternalError(QueryExecution.scala:526)\r\n\tat org.apache.spark.sql.Dataset.$anonfun$withAction$1(Dataset.scala:4165)\r\n\tat org.apache.spark.sql.execution.SQLExecution$.$anonfun$withNewExecutionId$6(SQLExecution.scala:118)\r\n\tat org.apache.spark.sql.execution.SQLExecution$.withSQLConfPropagated(SQLExecution.scala:195)\r\n\tat org.apache.spark.sql.execution.SQLExecution$.$anonfun$withNewExecutionId$1(SQLExecution.scala:103)\r\n\tat org.apache.spark.sql.SparkSession.withActive(SparkSession.scala:827)\r\n\tat org.apache.spark.sql.execution.SQLExecution$.withNewExecutionId(SQLExecution.scala:65)\r\n\tat org.apache.spark.sql.Dataset.withAction(Dataset.scala:4165)\r\n\tat org.apache.spark.sql.Dataset.head(Dataset.scala:3161)\r\n\tat org.apache.spark.sql.Dataset.take(Dataset.scala:3382)\r\n\tat org.apache.spark.sql.Dataset.getRows(Dataset.scala:284)\r\n\tat org.apache.spark.sql.Dataset.showString(Dataset.scala:323)\r\n\tat java.base/jdk.internal.reflect.NativeMethodAccessorImpl.invoke0(Native Method)\r\n\tat java.base/jdk.internal.reflect.NativeMethodAccessorImpl.invoke(NativeMethodAccessorImpl.java:75)\r\n\tat java.base/jdk.internal.reflect.DelegatingMethodAccessorImpl.invoke(DelegatingMethodAccessorImpl.java:52)\r\n\tat java.base/java.lang.reflect.Method.invoke(Method.java:578)\r\n\tat py4j.reflection.MethodInvoker.invoke(MethodInvoker.java:244)\r\n\tat py4j.reflection.ReflectionEngine.invoke(ReflectionEngine.java:374)\r\n\tat py4j.Gateway.invoke(Gateway.java:282)\r\n\tat py4j.commands.AbstractCommand.invokeMethod(AbstractCommand.java:132)\r\n\tat py4j.commands.CallCommand.execute(CallCommand.java:79)\r\n\tat py4j.ClientServerConnection.waitForCommands(ClientServerConnection.java:182)\r\n\tat py4j.ClientServerConnection.run(ClientServerConnection.java:106)\r\n\tat java.base/java.lang.Thread.run(Thread.java:1623)\r\nCaused by: org.apache.spark.SparkException: Python worker failed to connect back.\r\n\tat org.apache.spark.api.python.PythonWorkerFactory.createSimpleWorker(PythonWorkerFactory.scala:192)\r\n\tat org.apache.spark.api.python.PythonWorkerFactory.create(PythonWorkerFactory.scala:109)\r\n\tat org.apache.spark.SparkEnv.createPythonWorker(SparkEnv.scala:124)\r\n\tat org.apache.spark.api.python.BasePythonRunner.compute(PythonRunner.scala:166)\r\n\tat org.apache.spark.api.python.PythonRDD.compute(PythonRDD.scala:65)\r\n\tat org.apache.spark.rdd.RDD.computeOrReadCheckpoint(RDD.scala:364)\r\n\tat org.apache.spark.rdd.RDD.iterator(RDD.scala:328)\r\n\tat org.apache.spark.rdd.MapPartitionsRDD.compute(MapPartitionsRDD.scala:52)\r\n\tat org.apache.spark.rdd.RDD.computeOrReadCheckpoint(RDD.scala:364)\r\n\tat org.apache.spark.rdd.RDD.iterator(RDD.scala:328)\r\n\tat org.apache.spark.rdd.MapPartitionsRDD.compute(MapPartitionsRDD.scala:52)\r\n\tat org.apache.spark.rdd.RDD.computeOrReadCheckpoint(RDD.scala:364)\r\n\tat org.apache.spark.rdd.RDD.iterator(RDD.scala:328)\r\n\tat org.apache.spark.rdd.MapPartitionsRDD.compute(MapPartitionsRDD.scala:52)\r\n\tat org.apache.spark.rdd.RDD.computeOrReadCheckpoint(RDD.scala:364)\r\n\tat org.apache.spark.rdd.RDD.iterator(RDD.scala:328)\r\n\tat org.apache.spark.rdd.MapPartitionsRDD.compute(MapPartitionsRDD.scala:52)\r\n\tat org.apache.spark.rdd.RDD.computeOrReadCheckpoint(RDD.scala:364)\r\n\tat org.apache.spark.rdd.RDD.iterator(RDD.scala:328)\r\n\tat org.apache.spark.rdd.MapPartitionsRDD.compute(MapPartitionsRDD.scala:52)\r\n\tat org.apache.spark.rdd.RDD.computeOrReadCheckpoint(RDD.scala:364)\r\n\tat org.apache.spark.rdd.RDD.iterator(RDD.scala:328)\r\n\tat org.apache.spark.scheduler.ResultTask.runTask(ResultTask.scala:92)\r\n\tat org.apache.spark.TaskContext.runTaskWithListeners(TaskContext.scala:161)\r\n\tat org.apache.spark.scheduler.Task.run(Task.scala:139)\r\n\tat org.apache.spark.executor.Executor$TaskRunner.$anonfun$run$3(Executor.scala:554)\r\n\tat org.apache.spark.util.Utils$.tryWithSafeFinally(Utils.scala:1529)\r\n\tat org.apache.spark.executor.Executor$TaskRunner.run(Executor.scala:557)\r\n\tat java.base/java.util.concurrent.ThreadPoolExecutor.runWorker(ThreadPoolExecutor.java:1144)\r\n\tat java.base/java.util.concurrent.ThreadPoolExecutor$Worker.run(ThreadPoolExecutor.java:642)\r\n\t... 1 more\r\nCaused by: java.net.SocketTimeoutException: Accept timed out\r\n\tat java.base/sun.nio.ch.NioSocketImpl.timedAccept(NioSocketImpl.java:699)\r\n\tat java.base/sun.nio.ch.NioSocketImpl.accept(NioSocketImpl.java:743)\r\n\tat java.base/java.net.ServerSocket.implAccept(ServerSocket.java:690)\r\n\tat java.base/java.net.ServerSocket.platformImplAccept(ServerSocket.java:655)\r\n\tat java.base/java.net.ServerSocket.implAccept(ServerSocket.java:631)\r\n\tat java.base/java.net.ServerSocket.implAccept(ServerSocket.java:588)\r\n\tat java.base/java.net.ServerSocket.accept(ServerSocket.java:546)\r\n\tat org.apache.spark.api.python.PythonWorkerFactory.createSimpleWorker(PythonWorkerFactory.scala:179)\r\n\t... 30 more\r\n",
     "output_type": "error",
     "traceback": [
      "\u001b[1;31m---------------------------------------------------------------------------\u001b[0m",
      "\u001b[1;31mPy4JJavaError\u001b[0m                             Traceback (most recent call last)",
      "Cell \u001b[1;32mIn[3], line 23\u001b[0m\n\u001b[0;32m     20\u001b[0m         df \u001b[38;5;241m=\u001b[39m df\u001b[38;5;241m.\u001b[39mwithColumn(column_name, lit(default_value)\u001b[38;5;241m.\u001b[39mcast(\u001b[38;5;124m\"\u001b[39m\u001b[38;5;124mstring\u001b[39m\u001b[38;5;124m\"\u001b[39m))\n\u001b[0;32m     22\u001b[0m \u001b[38;5;66;03m# Show the DataFrame with the added columns\u001b[39;00m\n\u001b[1;32m---> 23\u001b[0m df\u001b[38;5;241m.\u001b[39mshow()\n",
      "File \u001b[1;32m~\\anaconda3\\Lib\\site-packages\\pyspark\\sql\\dataframe.py:899\u001b[0m, in \u001b[0;36mDataFrame.show\u001b[1;34m(self, n, truncate, vertical)\u001b[0m\n\u001b[0;32m    893\u001b[0m     \u001b[38;5;28;01mraise\u001b[39;00m PySparkTypeError(\n\u001b[0;32m    894\u001b[0m         error_class\u001b[38;5;241m=\u001b[39m\u001b[38;5;124m\"\u001b[39m\u001b[38;5;124mNOT_BOOL\u001b[39m\u001b[38;5;124m\"\u001b[39m,\n\u001b[0;32m    895\u001b[0m         message_parameters\u001b[38;5;241m=\u001b[39m{\u001b[38;5;124m\"\u001b[39m\u001b[38;5;124marg_name\u001b[39m\u001b[38;5;124m\"\u001b[39m: \u001b[38;5;124m\"\u001b[39m\u001b[38;5;124mvertical\u001b[39m\u001b[38;5;124m\"\u001b[39m, \u001b[38;5;124m\"\u001b[39m\u001b[38;5;124marg_type\u001b[39m\u001b[38;5;124m\"\u001b[39m: \u001b[38;5;28mtype\u001b[39m(vertical)\u001b[38;5;241m.\u001b[39m\u001b[38;5;18m__name__\u001b[39m},\n\u001b[0;32m    896\u001b[0m     )\n\u001b[0;32m    898\u001b[0m \u001b[38;5;28;01mif\u001b[39;00m \u001b[38;5;28misinstance\u001b[39m(truncate, \u001b[38;5;28mbool\u001b[39m) \u001b[38;5;129;01mand\u001b[39;00m truncate:\n\u001b[1;32m--> 899\u001b[0m     \u001b[38;5;28mprint\u001b[39m(\u001b[38;5;28mself\u001b[39m\u001b[38;5;241m.\u001b[39m_jdf\u001b[38;5;241m.\u001b[39mshowString(n, \u001b[38;5;241m20\u001b[39m, vertical))\n\u001b[0;32m    900\u001b[0m \u001b[38;5;28;01melse\u001b[39;00m:\n\u001b[0;32m    901\u001b[0m     \u001b[38;5;28;01mtry\u001b[39;00m:\n",
      "File \u001b[1;32m~\\anaconda3\\Lib\\site-packages\\py4j\\java_gateway.py:1322\u001b[0m, in \u001b[0;36mJavaMember.__call__\u001b[1;34m(self, *args)\u001b[0m\n\u001b[0;32m   1316\u001b[0m command \u001b[38;5;241m=\u001b[39m proto\u001b[38;5;241m.\u001b[39mCALL_COMMAND_NAME \u001b[38;5;241m+\u001b[39m\\\n\u001b[0;32m   1317\u001b[0m     \u001b[38;5;28mself\u001b[39m\u001b[38;5;241m.\u001b[39mcommand_header \u001b[38;5;241m+\u001b[39m\\\n\u001b[0;32m   1318\u001b[0m     args_command \u001b[38;5;241m+\u001b[39m\\\n\u001b[0;32m   1319\u001b[0m     proto\u001b[38;5;241m.\u001b[39mEND_COMMAND_PART\n\u001b[0;32m   1321\u001b[0m answer \u001b[38;5;241m=\u001b[39m \u001b[38;5;28mself\u001b[39m\u001b[38;5;241m.\u001b[39mgateway_client\u001b[38;5;241m.\u001b[39msend_command(command)\n\u001b[1;32m-> 1322\u001b[0m return_value \u001b[38;5;241m=\u001b[39m get_return_value(\n\u001b[0;32m   1323\u001b[0m     answer, \u001b[38;5;28mself\u001b[39m\u001b[38;5;241m.\u001b[39mgateway_client, \u001b[38;5;28mself\u001b[39m\u001b[38;5;241m.\u001b[39mtarget_id, \u001b[38;5;28mself\u001b[39m\u001b[38;5;241m.\u001b[39mname)\n\u001b[0;32m   1325\u001b[0m \u001b[38;5;28;01mfor\u001b[39;00m temp_arg \u001b[38;5;129;01min\u001b[39;00m temp_args:\n\u001b[0;32m   1326\u001b[0m     \u001b[38;5;28;01mif\u001b[39;00m \u001b[38;5;28mhasattr\u001b[39m(temp_arg, \u001b[38;5;124m\"\u001b[39m\u001b[38;5;124m_detach\u001b[39m\u001b[38;5;124m\"\u001b[39m):\n",
      "File \u001b[1;32m~\\anaconda3\\Lib\\site-packages\\pyspark\\errors\\exceptions\\captured.py:169\u001b[0m, in \u001b[0;36mcapture_sql_exception.<locals>.deco\u001b[1;34m(*a, **kw)\u001b[0m\n\u001b[0;32m    167\u001b[0m \u001b[38;5;28;01mdef\u001b[39;00m \u001b[38;5;21mdeco\u001b[39m(\u001b[38;5;241m*\u001b[39ma: Any, \u001b[38;5;241m*\u001b[39m\u001b[38;5;241m*\u001b[39mkw: Any) \u001b[38;5;241m-\u001b[39m\u001b[38;5;241m>\u001b[39m Any:\n\u001b[0;32m    168\u001b[0m     \u001b[38;5;28;01mtry\u001b[39;00m:\n\u001b[1;32m--> 169\u001b[0m         \u001b[38;5;28;01mreturn\u001b[39;00m f(\u001b[38;5;241m*\u001b[39ma, \u001b[38;5;241m*\u001b[39m\u001b[38;5;241m*\u001b[39mkw)\n\u001b[0;32m    170\u001b[0m     \u001b[38;5;28;01mexcept\u001b[39;00m Py4JJavaError \u001b[38;5;28;01mas\u001b[39;00m e:\n\u001b[0;32m    171\u001b[0m         converted \u001b[38;5;241m=\u001b[39m convert_exception(e\u001b[38;5;241m.\u001b[39mjava_exception)\n",
      "File \u001b[1;32m~\\anaconda3\\Lib\\site-packages\\py4j\\protocol.py:326\u001b[0m, in \u001b[0;36mget_return_value\u001b[1;34m(answer, gateway_client, target_id, name)\u001b[0m\n\u001b[0;32m    324\u001b[0m value \u001b[38;5;241m=\u001b[39m OUTPUT_CONVERTER[\u001b[38;5;28mtype\u001b[39m](answer[\u001b[38;5;241m2\u001b[39m:], gateway_client)\n\u001b[0;32m    325\u001b[0m \u001b[38;5;28;01mif\u001b[39;00m answer[\u001b[38;5;241m1\u001b[39m] \u001b[38;5;241m==\u001b[39m REFERENCE_TYPE:\n\u001b[1;32m--> 326\u001b[0m     \u001b[38;5;28;01mraise\u001b[39;00m Py4JJavaError(\n\u001b[0;32m    327\u001b[0m         \u001b[38;5;124m\"\u001b[39m\u001b[38;5;124mAn error occurred while calling \u001b[39m\u001b[38;5;132;01m{0}\u001b[39;00m\u001b[38;5;132;01m{1}\u001b[39;00m\u001b[38;5;132;01m{2}\u001b[39;00m\u001b[38;5;124m.\u001b[39m\u001b[38;5;130;01m\\n\u001b[39;00m\u001b[38;5;124m\"\u001b[39m\u001b[38;5;241m.\u001b[39m\n\u001b[0;32m    328\u001b[0m         \u001b[38;5;28mformat\u001b[39m(target_id, \u001b[38;5;124m\"\u001b[39m\u001b[38;5;124m.\u001b[39m\u001b[38;5;124m\"\u001b[39m, name), value)\n\u001b[0;32m    329\u001b[0m \u001b[38;5;28;01melse\u001b[39;00m:\n\u001b[0;32m    330\u001b[0m     \u001b[38;5;28;01mraise\u001b[39;00m Py4JError(\n\u001b[0;32m    331\u001b[0m         \u001b[38;5;124m\"\u001b[39m\u001b[38;5;124mAn error occurred while calling \u001b[39m\u001b[38;5;132;01m{0}\u001b[39;00m\u001b[38;5;132;01m{1}\u001b[39;00m\u001b[38;5;132;01m{2}\u001b[39;00m\u001b[38;5;124m. Trace:\u001b[39m\u001b[38;5;130;01m\\n\u001b[39;00m\u001b[38;5;132;01m{3}\u001b[39;00m\u001b[38;5;130;01m\\n\u001b[39;00m\u001b[38;5;124m\"\u001b[39m\u001b[38;5;241m.\u001b[39m\n\u001b[0;32m    332\u001b[0m         \u001b[38;5;28mformat\u001b[39m(target_id, \u001b[38;5;124m\"\u001b[39m\u001b[38;5;124m.\u001b[39m\u001b[38;5;124m\"\u001b[39m, name, value))\n",
      "\u001b[1;31mPy4JJavaError\u001b[0m: An error occurred while calling o69.showString.\n: org.apache.spark.SparkException: Job aborted due to stage failure: Task 0 in stage 0.0 failed 1 times, most recent failure: Lost task 0.0 in stage 0.0 (TID 0) (LAPTOP-3UT4836R executor driver): org.apache.spark.SparkException: Python worker failed to connect back.\r\n\tat org.apache.spark.api.python.PythonWorkerFactory.createSimpleWorker(PythonWorkerFactory.scala:192)\r\n\tat org.apache.spark.api.python.PythonWorkerFactory.create(PythonWorkerFactory.scala:109)\r\n\tat org.apache.spark.SparkEnv.createPythonWorker(SparkEnv.scala:124)\r\n\tat org.apache.spark.api.python.BasePythonRunner.compute(PythonRunner.scala:166)\r\n\tat org.apache.spark.api.python.PythonRDD.compute(PythonRDD.scala:65)\r\n\tat org.apache.spark.rdd.RDD.computeOrReadCheckpoint(RDD.scala:364)\r\n\tat org.apache.spark.rdd.RDD.iterator(RDD.scala:328)\r\n\tat org.apache.spark.rdd.MapPartitionsRDD.compute(MapPartitionsRDD.scala:52)\r\n\tat org.apache.spark.rdd.RDD.computeOrReadCheckpoint(RDD.scala:364)\r\n\tat org.apache.spark.rdd.RDD.iterator(RDD.scala:328)\r\n\tat org.apache.spark.rdd.MapPartitionsRDD.compute(MapPartitionsRDD.scala:52)\r\n\tat org.apache.spark.rdd.RDD.computeOrReadCheckpoint(RDD.scala:364)\r\n\tat org.apache.spark.rdd.RDD.iterator(RDD.scala:328)\r\n\tat org.apache.spark.rdd.MapPartitionsRDD.compute(MapPartitionsRDD.scala:52)\r\n\tat org.apache.spark.rdd.RDD.computeOrReadCheckpoint(RDD.scala:364)\r\n\tat org.apache.spark.rdd.RDD.iterator(RDD.scala:328)\r\n\tat org.apache.spark.rdd.MapPartitionsRDD.compute(MapPartitionsRDD.scala:52)\r\n\tat org.apache.spark.rdd.RDD.computeOrReadCheckpoint(RDD.scala:364)\r\n\tat org.apache.spark.rdd.RDD.iterator(RDD.scala:328)\r\n\tat org.apache.spark.rdd.MapPartitionsRDD.compute(MapPartitionsRDD.scala:52)\r\n\tat org.apache.spark.rdd.RDD.computeOrReadCheckpoint(RDD.scala:364)\r\n\tat org.apache.spark.rdd.RDD.iterator(RDD.scala:328)\r\n\tat org.apache.spark.scheduler.ResultTask.runTask(ResultTask.scala:92)\r\n\tat org.apache.spark.TaskContext.runTaskWithListeners(TaskContext.scala:161)\r\n\tat org.apache.spark.scheduler.Task.run(Task.scala:139)\r\n\tat org.apache.spark.executor.Executor$TaskRunner.$anonfun$run$3(Executor.scala:554)\r\n\tat org.apache.spark.util.Utils$.tryWithSafeFinally(Utils.scala:1529)\r\n\tat org.apache.spark.executor.Executor$TaskRunner.run(Executor.scala:557)\r\n\tat java.base/java.util.concurrent.ThreadPoolExecutor.runWorker(ThreadPoolExecutor.java:1144)\r\n\tat java.base/java.util.concurrent.ThreadPoolExecutor$Worker.run(ThreadPoolExecutor.java:642)\r\n\tat java.base/java.lang.Thread.run(Thread.java:1623)\r\nCaused by: java.net.SocketTimeoutException: Accept timed out\r\n\tat java.base/sun.nio.ch.NioSocketImpl.timedAccept(NioSocketImpl.java:699)\r\n\tat java.base/sun.nio.ch.NioSocketImpl.accept(NioSocketImpl.java:743)\r\n\tat java.base/java.net.ServerSocket.implAccept(ServerSocket.java:690)\r\n\tat java.base/java.net.ServerSocket.platformImplAccept(ServerSocket.java:655)\r\n\tat java.base/java.net.ServerSocket.implAccept(ServerSocket.java:631)\r\n\tat java.base/java.net.ServerSocket.implAccept(ServerSocket.java:588)\r\n\tat java.base/java.net.ServerSocket.accept(ServerSocket.java:546)\r\n\tat org.apache.spark.api.python.PythonWorkerFactory.createSimpleWorker(PythonWorkerFactory.scala:179)\r\n\t... 30 more\r\n\nDriver stacktrace:\r\n\tat org.apache.spark.scheduler.DAGScheduler.failJobAndIndependentStages(DAGScheduler.scala:2785)\r\n\tat org.apache.spark.scheduler.DAGScheduler.$anonfun$abortStage$2(DAGScheduler.scala:2721)\r\n\tat org.apache.spark.scheduler.DAGScheduler.$anonfun$abortStage$2$adapted(DAGScheduler.scala:2720)\r\n\tat scala.collection.mutable.ResizableArray.foreach(ResizableArray.scala:62)\r\n\tat scala.collection.mutable.ResizableArray.foreach$(ResizableArray.scala:55)\r\n\tat scala.collection.mutable.ArrayBuffer.foreach(ArrayBuffer.scala:49)\r\n\tat org.apache.spark.scheduler.DAGScheduler.abortStage(DAGScheduler.scala:2720)\r\n\tat org.apache.spark.scheduler.DAGScheduler.$anonfun$handleTaskSetFailed$1(DAGScheduler.scala:1206)\r\n\tat org.apache.spark.scheduler.DAGScheduler.$anonfun$handleTaskSetFailed$1$adapted(DAGScheduler.scala:1206)\r\n\tat scala.Option.foreach(Option.scala:407)\r\n\tat org.apache.spark.scheduler.DAGScheduler.handleTaskSetFailed(DAGScheduler.scala:1206)\r\n\tat org.apache.spark.scheduler.DAGSchedulerEventProcessLoop.doOnReceive(DAGScheduler.scala:2984)\r\n\tat org.apache.spark.scheduler.DAGSchedulerEventProcessLoop.onReceive(DAGScheduler.scala:2923)\r\n\tat org.apache.spark.scheduler.DAGSchedulerEventProcessLoop.onReceive(DAGScheduler.scala:2912)\r\n\tat org.apache.spark.util.EventLoop$$anon$1.run(EventLoop.scala:49)\r\n\tat org.apache.spark.scheduler.DAGScheduler.runJob(DAGScheduler.scala:971)\r\n\tat org.apache.spark.SparkContext.runJob(SparkContext.scala:2263)\r\n\tat org.apache.spark.SparkContext.runJob(SparkContext.scala:2284)\r\n\tat org.apache.spark.SparkContext.runJob(SparkContext.scala:2303)\r\n\tat org.apache.spark.sql.execution.SparkPlan.executeTake(SparkPlan.scala:530)\r\n\tat org.apache.spark.sql.execution.SparkPlan.executeTake(SparkPlan.scala:483)\r\n\tat org.apache.spark.sql.execution.CollectLimitExec.executeCollect(limit.scala:61)\r\n\tat org.apache.spark.sql.Dataset.collectFromPlan(Dataset.scala:4177)\r\n\tat org.apache.spark.sql.Dataset.$anonfun$head$1(Dataset.scala:3161)\r\n\tat org.apache.spark.sql.Dataset.$anonfun$withAction$2(Dataset.scala:4167)\r\n\tat org.apache.spark.sql.execution.QueryExecution$.withInternalError(QueryExecution.scala:526)\r\n\tat org.apache.spark.sql.Dataset.$anonfun$withAction$1(Dataset.scala:4165)\r\n\tat org.apache.spark.sql.execution.SQLExecution$.$anonfun$withNewExecutionId$6(SQLExecution.scala:118)\r\n\tat org.apache.spark.sql.execution.SQLExecution$.withSQLConfPropagated(SQLExecution.scala:195)\r\n\tat org.apache.spark.sql.execution.SQLExecution$.$anonfun$withNewExecutionId$1(SQLExecution.scala:103)\r\n\tat org.apache.spark.sql.SparkSession.withActive(SparkSession.scala:827)\r\n\tat org.apache.spark.sql.execution.SQLExecution$.withNewExecutionId(SQLExecution.scala:65)\r\n\tat org.apache.spark.sql.Dataset.withAction(Dataset.scala:4165)\r\n\tat org.apache.spark.sql.Dataset.head(Dataset.scala:3161)\r\n\tat org.apache.spark.sql.Dataset.take(Dataset.scala:3382)\r\n\tat org.apache.spark.sql.Dataset.getRows(Dataset.scala:284)\r\n\tat org.apache.spark.sql.Dataset.showString(Dataset.scala:323)\r\n\tat java.base/jdk.internal.reflect.NativeMethodAccessorImpl.invoke0(Native Method)\r\n\tat java.base/jdk.internal.reflect.NativeMethodAccessorImpl.invoke(NativeMethodAccessorImpl.java:75)\r\n\tat java.base/jdk.internal.reflect.DelegatingMethodAccessorImpl.invoke(DelegatingMethodAccessorImpl.java:52)\r\n\tat java.base/java.lang.reflect.Method.invoke(Method.java:578)\r\n\tat py4j.reflection.MethodInvoker.invoke(MethodInvoker.java:244)\r\n\tat py4j.reflection.ReflectionEngine.invoke(ReflectionEngine.java:374)\r\n\tat py4j.Gateway.invoke(Gateway.java:282)\r\n\tat py4j.commands.AbstractCommand.invokeMethod(AbstractCommand.java:132)\r\n\tat py4j.commands.CallCommand.execute(CallCommand.java:79)\r\n\tat py4j.ClientServerConnection.waitForCommands(ClientServerConnection.java:182)\r\n\tat py4j.ClientServerConnection.run(ClientServerConnection.java:106)\r\n\tat java.base/java.lang.Thread.run(Thread.java:1623)\r\nCaused by: org.apache.spark.SparkException: Python worker failed to connect back.\r\n\tat org.apache.spark.api.python.PythonWorkerFactory.createSimpleWorker(PythonWorkerFactory.scala:192)\r\n\tat org.apache.spark.api.python.PythonWorkerFactory.create(PythonWorkerFactory.scala:109)\r\n\tat org.apache.spark.SparkEnv.createPythonWorker(SparkEnv.scala:124)\r\n\tat org.apache.spark.api.python.BasePythonRunner.compute(PythonRunner.scala:166)\r\n\tat org.apache.spark.api.python.PythonRDD.compute(PythonRDD.scala:65)\r\n\tat org.apache.spark.rdd.RDD.computeOrReadCheckpoint(RDD.scala:364)\r\n\tat org.apache.spark.rdd.RDD.iterator(RDD.scala:328)\r\n\tat org.apache.spark.rdd.MapPartitionsRDD.compute(MapPartitionsRDD.scala:52)\r\n\tat org.apache.spark.rdd.RDD.computeOrReadCheckpoint(RDD.scala:364)\r\n\tat org.apache.spark.rdd.RDD.iterator(RDD.scala:328)\r\n\tat org.apache.spark.rdd.MapPartitionsRDD.compute(MapPartitionsRDD.scala:52)\r\n\tat org.apache.spark.rdd.RDD.computeOrReadCheckpoint(RDD.scala:364)\r\n\tat org.apache.spark.rdd.RDD.iterator(RDD.scala:328)\r\n\tat org.apache.spark.rdd.MapPartitionsRDD.compute(MapPartitionsRDD.scala:52)\r\n\tat org.apache.spark.rdd.RDD.computeOrReadCheckpoint(RDD.scala:364)\r\n\tat org.apache.spark.rdd.RDD.iterator(RDD.scala:328)\r\n\tat org.apache.spark.rdd.MapPartitionsRDD.compute(MapPartitionsRDD.scala:52)\r\n\tat org.apache.spark.rdd.RDD.computeOrReadCheckpoint(RDD.scala:364)\r\n\tat org.apache.spark.rdd.RDD.iterator(RDD.scala:328)\r\n\tat org.apache.spark.rdd.MapPartitionsRDD.compute(MapPartitionsRDD.scala:52)\r\n\tat org.apache.spark.rdd.RDD.computeOrReadCheckpoint(RDD.scala:364)\r\n\tat org.apache.spark.rdd.RDD.iterator(RDD.scala:328)\r\n\tat org.apache.spark.scheduler.ResultTask.runTask(ResultTask.scala:92)\r\n\tat org.apache.spark.TaskContext.runTaskWithListeners(TaskContext.scala:161)\r\n\tat org.apache.spark.scheduler.Task.run(Task.scala:139)\r\n\tat org.apache.spark.executor.Executor$TaskRunner.$anonfun$run$3(Executor.scala:554)\r\n\tat org.apache.spark.util.Utils$.tryWithSafeFinally(Utils.scala:1529)\r\n\tat org.apache.spark.executor.Executor$TaskRunner.run(Executor.scala:557)\r\n\tat java.base/java.util.concurrent.ThreadPoolExecutor.runWorker(ThreadPoolExecutor.java:1144)\r\n\tat java.base/java.util.concurrent.ThreadPoolExecutor$Worker.run(ThreadPoolExecutor.java:642)\r\n\t... 1 more\r\nCaused by: java.net.SocketTimeoutException: Accept timed out\r\n\tat java.base/sun.nio.ch.NioSocketImpl.timedAccept(NioSocketImpl.java:699)\r\n\tat java.base/sun.nio.ch.NioSocketImpl.accept(NioSocketImpl.java:743)\r\n\tat java.base/java.net.ServerSocket.implAccept(ServerSocket.java:690)\r\n\tat java.base/java.net.ServerSocket.platformImplAccept(ServerSocket.java:655)\r\n\tat java.base/java.net.ServerSocket.implAccept(ServerSocket.java:631)\r\n\tat java.base/java.net.ServerSocket.implAccept(ServerSocket.java:588)\r\n\tat java.base/java.net.ServerSocket.accept(ServerSocket.java:546)\r\n\tat org.apache.spark.api.python.PythonWorkerFactory.createSimpleWorker(PythonWorkerFactory.scala:179)\r\n\t... 30 more\r\n"
     ]
    }
   ],
   "source": [
    "# Create a Spark session\n",
    "from pyspark.sql import SparkSession\n",
    "from pyspark.sql.functions import col, trim, regexp_replace, lit\n",
    "spark = SparkSession.builder.appName(\"example\").getOrCreate()\n",
    "\n",
    "# Create a sample DataFrame\n",
    "data = [(\"Alice\", 30), (\"Bob\", 25), (\"Charlie\", 35)]\n",
    "columns = [\"Name\", \"Age\"]\n",
    "df = spark.createDataFrame(data, columns)\n",
    "\n",
    "# List of column names to add\n",
    "column_names = [\"Address\", \"Email\"]\n",
    "\n",
    "# Default value for the new columns\n",
    "default_value = \"Unknown\"\n",
    "\n",
    "# Loop through the column names and add them if they don't exist\n",
    "for column_name in column_names:\n",
    "    if column_name not in df.columns:\n",
    "        df = df.withColumn(column_name, lit(default_value).cast(\"string\"))\n",
    "\n",
    "# Show the DataFrame with the added columns\n",
    "df.show()\n"
   ]
  },
  {
   "cell_type": "code",
   "execution_count": 83,
   "id": "56451238",
   "metadata": {},
   "outputs": [],
   "source": [
    "for i,df in enumerate([process_df_result, temp_df,customer_payment_history]):\n",
    "    for column in column_names:\n",
    "        if column not in df.columns:\n",
    "            df = df.withColumn(column,lit(None).cast(\"string\"))\n"
   ]
  },
  {
   "cell_type": "code",
   "execution_count": 84,
   "id": "a864e3c7",
   "metadata": {},
   "outputs": [
    {
     "name": "stdout",
     "output_type": "stream",
     "text": [
      "Rows :  14286 315677 3948\n",
      "columns :  18 48 17\n"
     ]
    }
   ],
   "source": [
    "print(\"Rows : \",process_df_result_copy.count(),customer_payment_history_copy.count(), temp_df_copy.count())\n",
    "print(\"columns : \",len(process_df_result.columns), len(customer_payment_history_copy.columns),len(temp_df_copy.columns))"
   ]
  },
  {
   "cell_type": "code",
   "execution_count": 72,
   "id": "aaa58415",
   "metadata": {},
   "outputs": [
    {
     "ename": "NameError",
     "evalue": "name 'temp_df_process_3_copy' is not defined",
     "output_type": "error",
     "traceback": [
      "\u001b[1;31m---------------------------------------------------------------------------\u001b[0m",
      "\u001b[1;31mNameError\u001b[0m                                 Traceback (most recent call last)",
      "Cell \u001b[1;32mIn[72], line 1\u001b[0m\n\u001b[1;32m----> 1\u001b[0m temp_df_process_3_copy \u001b[38;5;241m=\u001b[39m temp_df_process_3_copy\u001b[38;5;241m.\u001b[39mwithColumn(\u001b[38;5;124m'\u001b[39m\u001b[38;5;124mapples\u001b[39m\u001b[38;5;124m'\u001b[39m,lit(\u001b[38;5;124m\"\u001b[39m\u001b[38;5;124myes\u001b[39m\u001b[38;5;124m\"\u001b[39m))\n",
      "\u001b[1;31mNameError\u001b[0m: name 'temp_df_process_3_copy' is not defined"
     ]
    }
   ],
   "source": [
    "temp_df_process_3_copy = temp_df_process_3_copy.withColumn('apples',lit(\"yes\"))"
   ]
  },
  {
   "cell_type": "code",
   "execution_count": 109,
   "id": "0c17992d",
   "metadata": {},
   "outputs": [
    {
     "name": "stdout",
     "output_type": "stream",
     "text": [
      "+------+\n",
      "|apples|\n",
      "+------+\n",
      "|   yes|\n",
      "|   yes|\n",
      "|   yes|\n",
      "|   yes|\n",
      "|   yes|\n",
      "|   yes|\n",
      "|   yes|\n",
      "|   yes|\n",
      "|   yes|\n",
      "|   yes|\n",
      "|   yes|\n",
      "|   yes|\n",
      "|   yes|\n",
      "|   yes|\n",
      "|   yes|\n",
      "|   yes|\n",
      "|   yes|\n",
      "|   yes|\n",
      "|   yes|\n",
      "|   yes|\n",
      "+------+\n",
      "only showing top 20 rows\n",
      "\n"
     ]
    }
   ],
   "source": [
    "temp_df_process_3_copy.select(\"apples\").show()"
   ]
  },
  {
   "cell_type": "code",
   "execution_count": 102,
   "id": "e0a3839d",
   "metadata": {},
   "outputs": [
    {
     "data": {
      "text/plain": [
       "['Transaction ID',\n",
       " 'Document Number',\n",
       " 'Transaction Type',\n",
       " 'Project ID',\n",
       " 'Customer',\n",
       " 'Terms',\n",
       " 'Currency',\n",
       " 'Gross Amount',\n",
       " 'Payment',\n",
       " 'Open Balance',\n",
       " 'Transaction Create Date',\n",
       " 'Document Date',\n",
       " 'Due Date',\n",
       " 'Days Open',\n",
       " 'Service Dates',\n",
       " 'Payment Receipt Date',\n",
       " 'apples']"
      ]
     },
     "execution_count": 102,
     "metadata": {},
     "output_type": "execute_result"
    }
   ],
   "source": [
    "temp_df_process_3_copy.columns"
   ]
  },
  {
   "cell_type": "code",
   "execution_count": 75,
   "id": "c37fb297",
   "metadata": {},
   "outputs": [],
   "source": [
    "process3_paymenthistory_inner = temp_df_process_3.join(customer_payment_history, on='Document Number', how='inner')"
   ]
  },
  {
   "cell_type": "code",
   "execution_count": 76,
   "id": "f0dfaa6a",
   "metadata": {},
   "outputs": [
    {
     "data": {
      "text/plain": [
       "315678"
      ]
     },
     "execution_count": 76,
     "metadata": {},
     "output_type": "execute_result"
    }
   ],
   "source": [
    "process3_paymenthistory_inner.count()"
   ]
  },
  {
   "cell_type": "code",
   "execution_count": 77,
   "id": "ed8fd424",
   "metadata": {},
   "outputs": [],
   "source": [
    "# process3_paymenthistory_inner.tail(1)"
   ]
  },
  {
   "cell_type": "code",
   "execution_count": 78,
   "id": "f52fdb8f",
   "metadata": {},
   "outputs": [],
   "source": [
    "process3_paymenthistory_inner = process3_paymenthistory_inner.withColumn('Outstanding', lit('Cleared'))"
   ]
  },
  {
   "cell_type": "code",
   "execution_count": 79,
   "id": "ee59a2bb",
   "metadata": {},
   "outputs": [
    {
     "name": "stdout",
     "output_type": "stream",
     "text": [
      "14286 3948 315678\n"
     ]
    }
   ],
   "source": [
    "print(process_df_result.count(), temp_df.count(),process3_paymenthistory_inner.count() )"
   ]
  },
  {
   "cell_type": "code",
   "execution_count": 80,
   "id": "61428d24",
   "metadata": {},
   "outputs": [],
   "source": [
    "column_names=set()\n",
    "for df in [process_df_result, temp_df,process3_paymenthistory_inner]:\n",
    "    for column in df.columns:\n",
    "        column_names.add(column)\n",
    "column_names = list(column_names)"
   ]
  },
  {
   "cell_type": "code",
   "execution_count": 81,
   "id": "a6110890",
   "metadata": {},
   "outputs": [],
   "source": [
    "for df in [process_df_result, temp_df,process3_paymenthistory_inner]:\n",
    "    for column in column_names:\n",
    "        if column not in df.columns:\n",
    "            df = df.withColumn(column,lit(None).cast(\"string\"))"
   ]
  },
  {
   "cell_type": "code",
   "execution_count": 83,
   "id": "c318a26b",
   "metadata": {},
   "outputs": [
    {
     "data": {
      "text/plain": [
       "DataFrame[Transaction ID: string, Document Number: string, Transaction Type: string, Project ID: string, Customer: string, Terms: string, Currency: string, Gross Amount: string, Payment: string, Open Balance: float, Transaction Create Date: string, Document Date: string, Due Date: string, Days Open: string, Service Dates: string, Payment Receipt Date: string, Outstanding: string]"
      ]
     },
     "execution_count": 83,
     "metadata": {},
     "output_type": "execute_result"
    }
   ],
   "source": [
    "temp_df"
   ]
  },
  {
   "cell_type": "code",
   "execution_count": 82,
   "id": "1e337a37",
   "metadata": {},
   "outputs": [
    {
     "name": "stdout",
     "output_type": "stream",
     "text": [
      "18 17 64\n"
     ]
    }
   ],
   "source": [
    "print(len(process_df_result.columns), len(temp_df.columns),len(process3_paymenthistory_inner.columns))"
   ]
  },
  {
   "cell_type": "code",
   "execution_count": 62,
   "id": "4a7b9294",
   "metadata": {},
   "outputs": [
    {
     "data": {
      "text/plain": [
       "['Transaction ID',\n",
       " 'Document Number',\n",
       " 'Payment Receipt Date',\n",
       " 'Terms',\n",
       " 'Due Date',\n",
       " 'Days Open',\n",
       " 'Service Dates',\n",
       " 'Transaction Type',\n",
       " 'Currency',\n",
       " 'Customer',\n",
       " 'Open Balance',\n",
       " 'Gross Amount',\n",
       " 'Payment',\n",
       " 'Project ID',\n",
       " 'Document Date',\n",
       " 'Transaction Create Date',\n",
       " 'Outstanding',\n",
       " 'Applying Link Amount']"
      ]
     },
     "execution_count": 62,
     "metadata": {},
     "output_type": "execute_result"
    }
   ],
   "source": [
    "process_df_result.columns"
   ]
  },
  {
   "cell_type": "code",
   "execution_count": 63,
   "id": "8cb654fc",
   "metadata": {},
   "outputs": [
    {
     "data": {
      "text/plain": [
       "<bound method DataFrame.unionByName of DataFrame[Transaction ID: string, Document Number: string, Transaction Type: string, Project ID: string, Customer: string, Terms: string, Currency: string, Gross Amount: string, Payment: string, Open Balance: float, Transaction Create Date: string, Document Date: string, Due Date: string, Days Open: string, Service Dates: string, Payment Receipt Date: string, Outstanding: string]>"
      ]
     },
     "execution_count": 63,
     "metadata": {},
     "output_type": "execute_result"
    }
   ],
   "source": [
    "temp_df.unionByName"
   ]
  },
  {
   "cell_type": "code",
   "execution_count": 64,
   "id": "5b903e6d",
   "metadata": {
    "scrolled": false
   },
   "outputs": [
    {
     "ename": "AnalysisException",
     "evalue": "[NUM_COLUMNS_MISMATCH] UNION can only be performed on inputs with the same number of columns, but the first input has 17 columns and the second input has 18 columns.;\n'Union false, false\n:- Project [Transaction ID#49, Document Number#67, Transaction Type#84, Project ID#101, Customer#118, Terms#135, Currency#152, Gross Amount#390, Payment#475, cast(Open Balance#560 as float) AS Open Balance#805, Transaction Create Date#220, Document Date#237, Due Date#254, Days Open#645, Service Dates#288, Payment Receipt Date#305, Open AS Outstanding#787]\n:  +- Filter NOT (Open Balance#560 = 0.00)\n:     +- Project [Transaction ID#49, Document Number#67, Transaction Type#84, Project ID#101, Customer#118, Terms#135, Currency#152, Gross Amount#390, Payment#475, Open Balance#560, Transaction Create Date#220, Document Date#237, Due Date#254, regexp_replace(Days Open#628, \\), , 1) AS Days Open#645, Service Dates#288, Payment Receipt Date#305]\n:        +- Project [Transaction ID#49, Document Number#67, Transaction Type#84, Project ID#101, Customer#118, Terms#135, Currency#152, Gross Amount#390, Payment#475, Open Balance#560, Transaction Create Date#220, Document Date#237, Due Date#254, regexp_replace(Days Open#611, \\(, , 1) AS Days Open#628, Service Dates#288, Payment Receipt Date#305]\n:           +- Project [Transaction ID#49, Document Number#67, Transaction Type#84, Project ID#101, Customer#118, Terms#135, Currency#152, Gross Amount#390, Payment#475, Open Balance#560, Transaction Create Date#220, Document Date#237, Due Date#254, regexp_replace(Days Open#594, ,, , 1) AS Days Open#611, Service Dates#288, Payment Receipt Date#305]\n:              +- Project [Transaction ID#49, Document Number#67, Transaction Type#84, Project ID#101, Customer#118, Terms#135, Currency#152, Gross Amount#390, Payment#475, Open Balance#560, Transaction Create Date#220, Document Date#237, Due Date#254, regexp_replace(Days Open#577, \\$, , 1) AS Days Open#594, Service Dates#288, Payment Receipt Date#305]\n:                 +- Project [Transaction ID#49, Document Number#67, Transaction Type#84, Project ID#101, Customer#118, Terms#135, Currency#152, Gross Amount#390, Payment#475, Open Balance#560, Transaction Create Date#220, Document Date#237, Due Date#254, regexp_replace(Days Open#271, Can, , 1) AS Days Open#577, Service Dates#288, Payment Receipt Date#305]\n:                    +- Project [Transaction ID#49, Document Number#67, Transaction Type#84, Project ID#101, Customer#118, Terms#135, Currency#152, Gross Amount#390, Payment#475, regexp_replace(Open Balance#543, \\), , 1) AS Open Balance#560, Transaction Create Date#220, Document Date#237, Due Date#254, Days Open#271, Service Dates#288, Payment Receipt Date#305]\n:                       +- Project [Transaction ID#49, Document Number#67, Transaction Type#84, Project ID#101, Customer#118, Terms#135, Currency#152, Gross Amount#390, Payment#475, regexp_replace(Open Balance#526, \\(, , 1) AS Open Balance#543, Transaction Create Date#220, Document Date#237, Due Date#254, Days Open#271, Service Dates#288, Payment Receipt Date#305]\n:                          +- Project [Transaction ID#49, Document Number#67, Transaction Type#84, Project ID#101, Customer#118, Terms#135, Currency#152, Gross Amount#390, Payment#475, regexp_replace(Open Balance#509, ,, , 1) AS Open Balance#526, Transaction Create Date#220, Document Date#237, Due Date#254, Days Open#271, Service Dates#288, Payment Receipt Date#305]\n:                             +- Project [Transaction ID#49, Document Number#67, Transaction Type#84, Project ID#101, Customer#118, Terms#135, Currency#152, Gross Amount#390, Payment#475, regexp_replace(Open Balance#492, \\$, , 1) AS Open Balance#509, Transaction Create Date#220, Document Date#237, Due Date#254, Days Open#271, Service Dates#288, Payment Receipt Date#305]\n:                                +- Project [Transaction ID#49, Document Number#67, Transaction Type#84, Project ID#101, Customer#118, Terms#135, Currency#152, Gross Amount#390, Payment#475, regexp_replace(Open Balance#203, Can, , 1) AS Open Balance#492, Transaction Create Date#220, Document Date#237, Due Date#254, Days Open#271, Service Dates#288, Payment Receipt Date#305]\n:                                   +- Project [Transaction ID#49, Document Number#67, Transaction Type#84, Project ID#101, Customer#118, Terms#135, Currency#152, Gross Amount#390, regexp_replace(Payment#458, \\), , 1) AS Payment#475, Open Balance#203, Transaction Create Date#220, Document Date#237, Due Date#254, Days Open#271, Service Dates#288, Payment Receipt Date#305]\n:                                      +- Project [Transaction ID#49, Document Number#67, Transaction Type#84, Project ID#101, Customer#118, Terms#135, Currency#152, Gross Amount#390, regexp_replace(Payment#441, \\(, , 1) AS Payment#458, Open Balance#203, Transaction Create Date#220, Document Date#237, Due Date#254, Days Open#271, Service Dates#288, Payment Receipt Date#305]\n:                                         +- Project [Transaction ID#49, Document Number#67, Transaction Type#84, Project ID#101, Customer#118, Terms#135, Currency#152, Gross Amount#390, regexp_replace(Payment#424, ,, , 1) AS Payment#441, Open Balance#203, Transaction Create Date#220, Document Date#237, Due Date#254, Days Open#271, Service Dates#288, Payment Receipt Date#305]\n:                                            +- Project [Transaction ID#49, Document Number#67, Transaction Type#84, Project ID#101, Customer#118, Terms#135, Currency#152, Gross Amount#390, regexp_replace(Payment#407, \\$, , 1) AS Payment#424, Open Balance#203, Transaction Create Date#220, Document Date#237, Due Date#254, Days Open#271, Service Dates#288, Payment Receipt Date#305]\n:                                               +- Project [Transaction ID#49, Document Number#67, Transaction Type#84, Project ID#101, Customer#118, Terms#135, Currency#152, Gross Amount#390, regexp_replace(Payment#186, Can, , 1) AS Payment#407, Open Balance#203, Transaction Create Date#220, Document Date#237, Due Date#254, Days Open#271, Service Dates#288, Payment Receipt Date#305]\n:                                                  +- Project [Transaction ID#49, Document Number#67, Transaction Type#84, Project ID#101, Customer#118, Terms#135, Currency#152, regexp_replace(Gross Amount#373, \\), , 1) AS Gross Amount#390, Payment#186, Open Balance#203, Transaction Create Date#220, Document Date#237, Due Date#254, Days Open#271, Service Dates#288, Payment Receipt Date#305]\n:                                                     +- Project [Transaction ID#49, Document Number#67, Transaction Type#84, Project ID#101, Customer#118, Terms#135, Currency#152, regexp_replace(Gross Amount#356, \\(, , 1) AS Gross Amount#373, Payment#186, Open Balance#203, Transaction Create Date#220, Document Date#237, Due Date#254, Days Open#271, Service Dates#288, Payment Receipt Date#305]\n:                                                        +- Project [Transaction ID#49, Document Number#67, Transaction Type#84, Project ID#101, Customer#118, Terms#135, Currency#152, regexp_replace(Gross Amount#339, ,, , 1) AS Gross Amount#356, Payment#186, Open Balance#203, Transaction Create Date#220, Document Date#237, Due Date#254, Days Open#271, Service Dates#288, Payment Receipt Date#305]\n:                                                           +- Project [Transaction ID#49, Document Number#67, Transaction Type#84, Project ID#101, Customer#118, Terms#135, Currency#152, regexp_replace(Gross Amount#322, \\$, , 1) AS Gross Amount#339, Payment#186, Open Balance#203, Transaction Create Date#220, Document Date#237, Due Date#254, Days Open#271, Service Dates#288, Payment Receipt Date#305]\n:                                                              +- Project [Transaction ID#49, Document Number#67, Transaction Type#84, Project ID#101, Customer#118, Terms#135, Currency#152, regexp_replace(Gross Amount#169, Can, , 1) AS Gross Amount#322, Payment#186, Open Balance#203, Transaction Create Date#220, Document Date#237, Due Date#254, Days Open#271, Service Dates#288, Payment Receipt Date#305]\n:                                                                 +- Project [Transaction ID#49, Document Number#67, Transaction Type#84, Project ID#101, Customer#118, Terms#135, Currency#152, Gross Amount#169, Payment#186, Open Balance#203, Transaction Create Date#220, Document Date#237, Due Date#254, Days Open#271, Service Dates#288, trim(Payment Receipt Date#32, None) AS Payment Receipt Date#305]\n:                                                                    +- Project [Transaction ID#49, Document Number#67, Transaction Type#84, Project ID#101, Customer#118, Terms#135, Currency#152, Gross Amount#169, Payment#186, Open Balance#203, Transaction Create Date#220, Document Date#237, Due Date#254, Days Open#271, trim(Service Dates#31, None) AS Service Dates#288, Payment Receipt Date#32]\n:                                                                       +- Project [Transaction ID#49, Document Number#67, Transaction Type#84, Project ID#101, Customer#118, Terms#135, Currency#152, Gross Amount#169, Payment#186, Open Balance#203, Transaction Create Date#220, Document Date#237, Due Date#254, trim(cast(Days Open#30 as string), None) AS Days Open#271, Service Dates#31, Payment Receipt Date#32]\n:                                                                          +- Project [Transaction ID#49, Document Number#67, Transaction Type#84, Project ID#101, Customer#118, Terms#135, Currency#152, Gross Amount#169, Payment#186, Open Balance#203, Transaction Create Date#220, Document Date#237, trim(Due Date#29, None) AS Due Date#254, Days Open#30, Service Dates#31, Payment Receipt Date#32]\n:                                                                             +- Project [Transaction ID#49, Document Number#67, Transaction Type#84, Project ID#101, Customer#118, Terms#135, Currency#152, Gross Amount#169, Payment#186, Open Balance#203, Transaction Create Date#220, trim(Document Date#28, None) AS Document Date#237, Due Date#29, Days Open#30, Service Dates#31, Payment Receipt Date#32]\n:                                                                                +- Project [Transaction ID#49, Document Number#67, Transaction Type#84, Project ID#101, Customer#118, Terms#135, Currency#152, Gross Amount#169, Payment#186, Open Balance#203, trim(Transaction Create Date#27, None) AS Transaction Create Date#220, Document Date#28, Due Date#29, Days Open#30, Service Dates#31, Payment Receipt Date#32]\n:                                                                                   +- Project [Transaction ID#49, Document Number#67, Transaction Type#84, Project ID#101, Customer#118, Terms#135, Currency#152, Gross Amount#169, Payment#186, trim(Open Balance#26, None) AS Open Balance#203, Transaction Create Date#27, Document Date#28, Due Date#29, Days Open#30, Service Dates#31, Payment Receipt Date#32]\n:                                                                                      +- Project [Transaction ID#49, Document Number#67, Transaction Type#84, Project ID#101, Customer#118, Terms#135, Currency#152, Gross Amount#169, trim(Payment#25, None) AS Payment#186, Open Balance#26, Transaction Create Date#27, Document Date#28, Due Date#29, Days Open#30, Service Dates#31, Payment Receipt Date#32]\n:                                                                                         +- Project [Transaction ID#49, Document Number#67, Transaction Type#84, Project ID#101, Customer#118, Terms#135, Currency#152, trim(Gross Amount#24, None) AS Gross Amount#169, Payment#25, Open Balance#26, Transaction Create Date#27, Document Date#28, Due Date#29, Days Open#30, Service Dates#31, Payment Receipt Date#32]\n:                                                                                            +- Project [Transaction ID#49, Document Number#67, Transaction Type#84, Project ID#101, Customer#118, Terms#135, trim(Currency#23, None) AS Currency#152, Gross Amount#24, Payment#25, Open Balance#26, Transaction Create Date#27, Document Date#28, Due Date#29, Days Open#30, Service Dates#31, Payment Receipt Date#32]\n:                                                                                               +- Project [Transaction ID#49, Document Number#67, Transaction Type#84, Project ID#101, Customer#118, trim(Terms#22, None) AS Terms#135, Currency#23, Gross Amount#24, Payment#25, Open Balance#26, Transaction Create Date#27, Document Date#28, Due Date#29, Days Open#30, Service Dates#31, Payment Receipt Date#32]\n:                                                                                                  +- Project [Transaction ID#49, Document Number#67, Transaction Type#84, Project ID#101, trim(Customer#21, None) AS Customer#118, Terms#22, Currency#23, Gross Amount#24, Payment#25, Open Balance#26, Transaction Create Date#27, Document Date#28, Due Date#29, Days Open#30, Service Dates#31, Payment Receipt Date#32]\n:                                                                                                     +- Project [Transaction ID#49, Document Number#67, Transaction Type#84, trim(cast(Project ID#20 as string), None) AS Project ID#101, Customer#21, Terms#22, Currency#23, Gross Amount#24, Payment#25, Open Balance#26, Transaction Create Date#27, Document Date#28, Due Date#29, Days Open#30, Service Dates#31, Payment Receipt Date#32]\n:                                                                                                        +- Project [Transaction ID#49, Document Number#67, trim(Transaction Type#19, None) AS Transaction Type#84, Project ID#20, Customer#21, Terms#22, Currency#23, Gross Amount#24, Payment#25, Open Balance#26, Transaction Create Date#27, Document Date#28, Due Date#29, Days Open#30, Service Dates#31, Payment Receipt Date#32]\n:                                                                                                           +- Project [Transaction ID#49, trim(Document Number#18, None) AS Document Number#67, Transaction Type#19, Project ID#20, Customer#21, Terms#22, Currency#23, Gross Amount#24, Payment#25, Open Balance#26, Transaction Create Date#27, Document Date#28, Due Date#29, Days Open#30, Service Dates#31, Payment Receipt Date#32]\n:                                                                                                              +- Project [trim(cast(Transaction ID#17 as string), None) AS Transaction ID#49, Document Number#18, Transaction Type#19, Project ID#20, Customer#21, Terms#22, Currency#23, Gross Amount#24, Payment#25, Open Balance#26, Transaction Create Date#27, Document Date#28, Due Date#29, Days Open#30, Service Dates#31, Payment Receipt Date#32]\n:                                                                                                                 +- Relation [Transaction ID#17,Document Number#18,Transaction Type#19,Project ID#20,Customer#21,Terms#22,Currency#23,Gross Amount#24,Payment#25,Open Balance#26,Transaction Create Date#27,Document Date#28,Due Date#29,Days Open#30,Service Dates#31,Payment Receipt Date#32] csv\n+- Project [Transaction ID#49 AS Transaction ID#991, Document Number#67 AS Document Number#1008, first(Transaction Type)#952 AS Transaction Type#1110, first(Project ID)#958 AS Project ID#1212, first(Customer)#954 AS Customer#1144, first(Terms)#948 AS Terms#1042, first(Currency)#953 AS Currency#1127, min(Gross Amount)#956 AS Gross Amount#1178, max(Payment)#957 AS Payment#1195, max(Open Balance)#955 AS Open Balance#1161, max(Transaction Create Date)#960 AS Transaction Create Date#1246, max(Document Date)#959 AS Document Date#1229, max(Due Date)#949 AS Due Date#1059, max(Days Open)#950 AS Days Open#1076, max(Service Dates)#951 AS Service Dates#1093, first(Payment Receipt Date)#947 AS Payment Receipt Date#1025, Cleared AS Outstanding#1263, -max(Payment)#957 AS Applying Link Amount#1281]\n   +- Aggregate [Transaction ID#49, Document Number#67], [Transaction ID#49, Document Number#67, first(Payment Receipt Date#305, false) AS first(Payment Receipt Date)#947, first(Terms#135, false) AS first(Terms)#948, max(Due Date#254) AS max(Due Date)#949, max(Days Open#913) AS max(Days Open)#950, max(Service Dates#288) AS max(Service Dates)#951, first(Transaction Type#84, false) AS first(Transaction Type)#952, first(Currency#152, false) AS first(Currency)#953, first(Customer#118, false) AS first(Customer)#954, max(Open Balance#560) AS max(Open Balance)#955, min(Gross Amount#879) AS min(Gross Amount)#956, max(Payment#896) AS max(Payment)#957, first(Project ID#101, false) AS first(Project ID)#958, max(Document Date#237) AS max(Document Date)#959, max(Transaction Create Date#220) AS max(Transaction Create Date)#960]\n      +- Project [Transaction ID#49, Document Number#67, Transaction Type#84, Project ID#101, Customer#118, Terms#135, Currency#152, Gross Amount#879, Payment#896, Open Balance#560, Transaction Create Date#220, Document Date#237, Due Date#254, cast(Days Open#645 as float) AS Days Open#913, Service Dates#288, Payment Receipt Date#305]\n         +- Project [Transaction ID#49, Document Number#67, Transaction Type#84, Project ID#101, Customer#118, Terms#135, Currency#152, Gross Amount#879, cast(Payment#475 as float) AS Payment#896, Open Balance#560, Transaction Create Date#220, Document Date#237, Due Date#254, Days Open#645, Service Dates#288, Payment Receipt Date#305]\n            +- Project [Transaction ID#49, Document Number#67, Transaction Type#84, Project ID#101, Customer#118, Terms#135, Currency#152, cast(Gross Amount#390 as float) AS Gross Amount#879, Payment#475, Open Balance#560, Transaction Create Date#220, Document Date#237, Due Date#254, Days Open#645, Service Dates#288, Payment Receipt Date#305]\n               +- Filter (Transaction Type#84 = Credit Memo)\n                  +- Project [Transaction ID#49, Document Number#67, Transaction Type#84, Project ID#101, Customer#118, Terms#135, Currency#152, Gross Amount#390, Payment#475, Open Balance#560, Transaction Create Date#220, Document Date#237, Due Date#254, regexp_replace(Days Open#628, \\), , 1) AS Days Open#645, Service Dates#288, Payment Receipt Date#305]\n                     +- Project [Transaction ID#49, Document Number#67, Transaction Type#84, Project ID#101, Customer#118, Terms#135, Currency#152, Gross Amount#390, Payment#475, Open Balance#560, Transaction Create Date#220, Document Date#237, Due Date#254, regexp_replace(Days Open#611, \\(, , 1) AS Days Open#628, Service Dates#288, Payment Receipt Date#305]\n                        +- Project [Transaction ID#49, Document Number#67, Transaction Type#84, Project ID#101, Customer#118, Terms#135, Currency#152, Gross Amount#390, Payment#475, Open Balance#560, Transaction Create Date#220, Document Date#237, Due Date#254, regexp_replace(Days Open#594, ,, , 1) AS Days Open#611, Service Dates#288, Payment Receipt Date#305]\n                           +- Project [Transaction ID#49, Document Number#67, Transaction Type#84, Project ID#101, Customer#118, Terms#135, Currency#152, Gross Amount#390, Payment#475, Open Balance#560, Transaction Create Date#220, Document Date#237, Due Date#254, regexp_replace(Days Open#577, \\$, , 1) AS Days Open#594, Service Dates#288, Payment Receipt Date#305]\n                              +- Project [Transaction ID#49, Document Number#67, Transaction Type#84, Project ID#101, Customer#118, Terms#135, Currency#152, Gross Amount#390, Payment#475, Open Balance#560, Transaction Create Date#220, Document Date#237, Due Date#254, regexp_replace(Days Open#271, Can, , 1) AS Days Open#577, Service Dates#288, Payment Receipt Date#305]\n                                 +- Project [Transaction ID#49, Document Number#67, Transaction Type#84, Project ID#101, Customer#118, Terms#135, Currency#152, Gross Amount#390, Payment#475, regexp_replace(Open Balance#543, \\), , 1) AS Open Balance#560, Transaction Create Date#220, Document Date#237, Due Date#254, Days Open#271, Service Dates#288, Payment Receipt Date#305]\n                                    +- Project [Transaction ID#49, Document Number#67, Transaction Type#84, Project ID#101, Customer#118, Terms#135, Currency#152, Gross Amount#390, Payment#475, regexp_replace(Open Balance#526, \\(, , 1) AS Open Balance#543, Transaction Create Date#220, Document Date#237, Due Date#254, Days Open#271, Service Dates#288, Payment Receipt Date#305]\n                                       +- Project [Transaction ID#49, Document Number#67, Transaction Type#84, Project ID#101, Customer#118, Terms#135, Currency#152, Gross Amount#390, Payment#475, regexp_replace(Open Balance#509, ,, , 1) AS Open Balance#526, Transaction Create Date#220, Document Date#237, Due Date#254, Days Open#271, Service Dates#288, Payment Receipt Date#305]\n                                          +- Project [Transaction ID#49, Document Number#67, Transaction Type#84, Project ID#101, Customer#118, Terms#135, Currency#152, Gross Amount#390, Payment#475, regexp_replace(Open Balance#492, \\$, , 1) AS Open Balance#509, Transaction Create Date#220, Document Date#237, Due Date#254, Days Open#271, Service Dates#288, Payment Receipt Date#305]\n                                             +- Project [Transaction ID#49, Document Number#67, Transaction Type#84, Project ID#101, Customer#118, Terms#135, Currency#152, Gross Amount#390, Payment#475, regexp_replace(Open Balance#203, Can, , 1) AS Open Balance#492, Transaction Create Date#220, Document Date#237, Due Date#254, Days Open#271, Service Dates#288, Payment Receipt Date#305]\n                                                +- Project [Transaction ID#49, Document Number#67, Transaction Type#84, Project ID#101, Customer#118, Terms#135, Currency#152, Gross Amount#390, regexp_replace(Payment#458, \\), , 1) AS Payment#475, Open Balance#203, Transaction Create Date#220, Document Date#237, Due Date#254, Days Open#271, Service Dates#288, Payment Receipt Date#305]\n                                                   +- Project [Transaction ID#49, Document Number#67, Transaction Type#84, Project ID#101, Customer#118, Terms#135, Currency#152, Gross Amount#390, regexp_replace(Payment#441, \\(, , 1) AS Payment#458, Open Balance#203, Transaction Create Date#220, Document Date#237, Due Date#254, Days Open#271, Service Dates#288, Payment Receipt Date#305]\n                                                      +- Project [Transaction ID#49, Document Number#67, Transaction Type#84, Project ID#101, Customer#118, Terms#135, Currency#152, Gross Amount#390, regexp_replace(Payment#424, ,, , 1) AS Payment#441, Open Balance#203, Transaction Create Date#220, Document Date#237, Due Date#254, Days Open#271, Service Dates#288, Payment Receipt Date#305]\n                                                         +- Project [Transaction ID#49, Document Number#67, Transaction Type#84, Project ID#101, Customer#118, Terms#135, Currency#152, Gross Amount#390, regexp_replace(Payment#407, \\$, , 1) AS Payment#424, Open Balance#203, Transaction Create Date#220, Document Date#237, Due Date#254, Days Open#271, Service Dates#288, Payment Receipt Date#305]\n                                                            +- Project [Transaction ID#49, Document Number#67, Transaction Type#84, Project ID#101, Customer#118, Terms#135, Currency#152, Gross Amount#390, regexp_replace(Payment#186, Can, , 1) AS Payment#407, Open Balance#203, Transaction Create Date#220, Document Date#237, Due Date#254, Days Open#271, Service Dates#288, Payment Receipt Date#305]\n                                                               +- Project [Transaction ID#49, Document Number#67, Transaction Type#84, Project ID#101, Customer#118, Terms#135, Currency#152, regexp_replace(Gross Amount#373, \\), , 1) AS Gross Amount#390, Payment#186, Open Balance#203, Transaction Create Date#220, Document Date#237, Due Date#254, Days Open#271, Service Dates#288, Payment Receipt Date#305]\n                                                                  +- Project [Transaction ID#49, Document Number#67, Transaction Type#84, Project ID#101, Customer#118, Terms#135, Currency#152, regexp_replace(Gross Amount#356, \\(, , 1) AS Gross Amount#373, Payment#186, Open Balance#203, Transaction Create Date#220, Document Date#237, Due Date#254, Days Open#271, Service Dates#288, Payment Receipt Date#305]\n                                                                     +- Project [Transaction ID#49, Document Number#67, Transaction Type#84, Project ID#101, Customer#118, Terms#135, Currency#152, regexp_replace(Gross Amount#339, ,, , 1) AS Gross Amount#356, Payment#186, Open Balance#203, Transaction Create Date#220, Document Date#237, Due Date#254, Days Open#271, Service Dates#288, Payment Receipt Date#305]\n                                                                        +- Project [Transaction ID#49, Document Number#67, Transaction Type#84, Project ID#101, Customer#118, Terms#135, Currency#152, regexp_replace(Gross Amount#322, \\$, , 1) AS Gross Amount#339, Payment#186, Open Balance#203, Transaction Create Date#220, Document Date#237, Due Date#254, Days Open#271, Service Dates#288, Payment Receipt Date#305]\n                                                                           +- Project [Transaction ID#49, Document Number#67, Transaction Type#84, Project ID#101, Customer#118, Terms#135, Currency#152, regexp_replace(Gross Amount#169, Can, , 1) AS Gross Amount#322, Payment#186, Open Balance#203, Transaction Create Date#220, Document Date#237, Due Date#254, Days Open#271, Service Dates#288, Payment Receipt Date#305]\n                                                                              +- Project [Transaction ID#49, Document Number#67, Transaction Type#84, Project ID#101, Customer#118, Terms#135, Currency#152, Gross Amount#169, Payment#186, Open Balance#203, Transaction Create Date#220, Document Date#237, Due Date#254, Days Open#271, Service Dates#288, trim(Payment Receipt Date#6080, None) AS Payment Receipt Date#305]\n                                                                                 +- Project [Transaction ID#49, Document Number#67, Transaction Type#84, Project ID#101, Customer#118, Terms#135, Currency#152, Gross Amount#169, Payment#186, Open Balance#203, Transaction Create Date#220, Document Date#237, Due Date#254, Days Open#271, trim(Service Dates#6079, None) AS Service Dates#288, Payment Receipt Date#6080]\n                                                                                    +- Project [Transaction ID#49, Document Number#67, Transaction Type#84, Project ID#101, Customer#118, Terms#135, Currency#152, Gross Amount#169, Payment#186, Open Balance#203, Transaction Create Date#220, Document Date#237, Due Date#254, trim(cast(Days Open#6078 as string), None) AS Days Open#271, Service Dates#6079, Payment Receipt Date#6080]\n                                                                                       +- Project [Transaction ID#49, Document Number#67, Transaction Type#84, Project ID#101, Customer#118, Terms#135, Currency#152, Gross Amount#169, Payment#186, Open Balance#203, Transaction Create Date#220, Document Date#237, trim(Due Date#6077, None) AS Due Date#254, Days Open#6078, Service Dates#6079, Payment Receipt Date#6080]\n                                                                                          +- Project [Transaction ID#49, Document Number#67, Transaction Type#84, Project ID#101, Customer#118, Terms#135, Currency#152, Gross Amount#169, Payment#186, Open Balance#203, Transaction Create Date#220, trim(Document Date#6076, None) AS Document Date#237, Due Date#6077, Days Open#6078, Service Dates#6079, Payment Receipt Date#6080]\n                                                                                             +- Project [Transaction ID#49, Document Number#67, Transaction Type#84, Project ID#101, Customer#118, Terms#135, Currency#152, Gross Amount#169, Payment#186, Open Balance#203, trim(Transaction Create Date#6075, None) AS Transaction Create Date#220, Document Date#6076, Due Date#6077, Days Open#6078, Service Dates#6079, Payment Receipt Date#6080]\n                                                                                                +- Project [Transaction ID#49, Document Number#67, Transaction Type#84, Project ID#101, Customer#118, Terms#135, Currency#152, Gross Amount#169, Payment#186, trim(Open Balance#6074, None) AS Open Balance#203, Transaction Create Date#6075, Document Date#6076, Due Date#6077, Days Open#6078, Service Dates#6079, Payment Receipt Date#6080]\n                                                                                                   +- Project [Transaction ID#49, Document Number#67, Transaction Type#84, Project ID#101, Customer#118, Terms#135, Currency#152, Gross Amount#169, trim(Payment#6073, None) AS Payment#186, Open Balance#6074, Transaction Create Date#6075, Document Date#6076, Due Date#6077, Days Open#6078, Service Dates#6079, Payment Receipt Date#6080]\n                                                                                                      +- Project [Transaction ID#49, Document Number#67, Transaction Type#84, Project ID#101, Customer#118, Terms#135, Currency#152, trim(Gross Amount#6072, None) AS Gross Amount#169, Payment#6073, Open Balance#6074, Transaction Create Date#6075, Document Date#6076, Due Date#6077, Days Open#6078, Service Dates#6079, Payment Receipt Date#6080]\n                                                                                                         +- Project [Transaction ID#49, Document Number#67, Transaction Type#84, Project ID#101, Customer#118, Terms#135, trim(Currency#6071, None) AS Currency#152, Gross Amount#6072, Payment#6073, Open Balance#6074, Transaction Create Date#6075, Document Date#6076, Due Date#6077, Days Open#6078, Service Dates#6079, Payment Receipt Date#6080]\n                                                                                                            +- Project [Transaction ID#49, Document Number#67, Transaction Type#84, Project ID#101, Customer#118, trim(Terms#6070, None) AS Terms#135, Currency#6071, Gross Amount#6072, Payment#6073, Open Balance#6074, Transaction Create Date#6075, Document Date#6076, Due Date#6077, Days Open#6078, Service Dates#6079, Payment Receipt Date#6080]\n                                                                                                               +- Project [Transaction ID#49, Document Number#67, Transaction Type#84, Project ID#101, trim(Customer#6069, None) AS Customer#118, Terms#6070, Currency#6071, Gross Amount#6072, Payment#6073, Open Balance#6074, Transaction Create Date#6075, Document Date#6076, Due Date#6077, Days Open#6078, Service Dates#6079, Payment Receipt Date#6080]\n                                                                                                                  +- Project [Transaction ID#49, Document Number#67, Transaction Type#84, trim(cast(Project ID#6068 as string), None) AS Project ID#101, Customer#6069, Terms#6070, Currency#6071, Gross Amount#6072, Payment#6073, Open Balance#6074, Transaction Create Date#6075, Document Date#6076, Due Date#6077, Days Open#6078, Service Dates#6079, Payment Receipt Date#6080]\n                                                                                                                     +- Project [Transaction ID#49, Document Number#67, trim(Transaction Type#6067, None) AS Transaction Type#84, Project ID#6068, Customer#6069, Terms#6070, Currency#6071, Gross Amount#6072, Payment#6073, Open Balance#6074, Transaction Create Date#6075, Document Date#6076, Due Date#6077, Days Open#6078, Service Dates#6079, Payment Receipt Date#6080]\n                                                                                                                        +- Project [Transaction ID#49, trim(Document Number#6066, None) AS Document Number#67, Transaction Type#6067, Project ID#6068, Customer#6069, Terms#6070, Currency#6071, Gross Amount#6072, Payment#6073, Open Balance#6074, Transaction Create Date#6075, Document Date#6076, Due Date#6077, Days Open#6078, Service Dates#6079, Payment Receipt Date#6080]\n                                                                                                                           +- Project [trim(cast(Transaction ID#6065 as string), None) AS Transaction ID#49, Document Number#6066, Transaction Type#6067, Project ID#6068, Customer#6069, Terms#6070, Currency#6071, Gross Amount#6072, Payment#6073, Open Balance#6074, Transaction Create Date#6075, Document Date#6076, Due Date#6077, Days Open#6078, Service Dates#6079, Payment Receipt Date#6080]\n                                                                                                                              +- Relation [Transaction ID#6065,Document Number#6066,Transaction Type#6067,Project ID#6068,Customer#6069,Terms#6070,Currency#6071,Gross Amount#6072,Payment#6073,Open Balance#6074,Transaction Create Date#6075,Document Date#6076,Due Date#6077,Days Open#6078,Service Dates#6079,Payment Receipt Date#6080] csv\n",
     "output_type": "error",
     "traceback": [
      "\u001b[1;31m---------------------------------------------------------------------------\u001b[0m",
      "\u001b[1;31mAnalysisException\u001b[0m                         Traceback (most recent call last)",
      "Cell \u001b[1;32mIn[64], line 1\u001b[0m\n\u001b[1;32m----> 1\u001b[0m combined_df \u001b[38;5;241m=\u001b[39m temp_df\u001b[38;5;241m.\u001b[39munionByName(process_df_result)\n",
      "File \u001b[1;32m~\\anaconda3\\Lib\\site-packages\\pyspark\\sql\\dataframe.py:3757\u001b[0m, in \u001b[0;36mDataFrame.unionByName\u001b[1;34m(self, other, allowMissingColumns)\u001b[0m\n\u001b[0;32m   3701\u001b[0m \u001b[38;5;28;01mdef\u001b[39;00m \u001b[38;5;21munionByName\u001b[39m(\u001b[38;5;28mself\u001b[39m, other: \u001b[38;5;124m\"\u001b[39m\u001b[38;5;124mDataFrame\u001b[39m\u001b[38;5;124m\"\u001b[39m, allowMissingColumns: \u001b[38;5;28mbool\u001b[39m \u001b[38;5;241m=\u001b[39m \u001b[38;5;28;01mFalse\u001b[39;00m) \u001b[38;5;241m-\u001b[39m\u001b[38;5;241m>\u001b[39m \u001b[38;5;124m\"\u001b[39m\u001b[38;5;124mDataFrame\u001b[39m\u001b[38;5;124m\"\u001b[39m:\n\u001b[0;32m   3702\u001b[0m \u001b[38;5;250m    \u001b[39m\u001b[38;5;124;03m\"\"\"Returns a new :class:`DataFrame` containing union of rows in this and another\u001b[39;00m\n\u001b[0;32m   3703\u001b[0m \u001b[38;5;124;03m    :class:`DataFrame`.\u001b[39;00m\n\u001b[0;32m   3704\u001b[0m \n\u001b[1;32m   (...)\u001b[0m\n\u001b[0;32m   3755\u001b[0m \u001b[38;5;124;03m    +----+----+----+----+\u001b[39;00m\n\u001b[0;32m   3756\u001b[0m \u001b[38;5;124;03m    \"\"\"\u001b[39;00m\n\u001b[1;32m-> 3757\u001b[0m     \u001b[38;5;28;01mreturn\u001b[39;00m DataFrame(\u001b[38;5;28mself\u001b[39m\u001b[38;5;241m.\u001b[39m_jdf\u001b[38;5;241m.\u001b[39munionByName(other\u001b[38;5;241m.\u001b[39m_jdf, allowMissingColumns), \u001b[38;5;28mself\u001b[39m\u001b[38;5;241m.\u001b[39msparkSession)\n",
      "File \u001b[1;32m~\\anaconda3\\Lib\\site-packages\\py4j\\java_gateway.py:1322\u001b[0m, in \u001b[0;36mJavaMember.__call__\u001b[1;34m(self, *args)\u001b[0m\n\u001b[0;32m   1316\u001b[0m command \u001b[38;5;241m=\u001b[39m proto\u001b[38;5;241m.\u001b[39mCALL_COMMAND_NAME \u001b[38;5;241m+\u001b[39m\\\n\u001b[0;32m   1317\u001b[0m     \u001b[38;5;28mself\u001b[39m\u001b[38;5;241m.\u001b[39mcommand_header \u001b[38;5;241m+\u001b[39m\\\n\u001b[0;32m   1318\u001b[0m     args_command \u001b[38;5;241m+\u001b[39m\\\n\u001b[0;32m   1319\u001b[0m     proto\u001b[38;5;241m.\u001b[39mEND_COMMAND_PART\n\u001b[0;32m   1321\u001b[0m answer \u001b[38;5;241m=\u001b[39m \u001b[38;5;28mself\u001b[39m\u001b[38;5;241m.\u001b[39mgateway_client\u001b[38;5;241m.\u001b[39msend_command(command)\n\u001b[1;32m-> 1322\u001b[0m return_value \u001b[38;5;241m=\u001b[39m get_return_value(\n\u001b[0;32m   1323\u001b[0m     answer, \u001b[38;5;28mself\u001b[39m\u001b[38;5;241m.\u001b[39mgateway_client, \u001b[38;5;28mself\u001b[39m\u001b[38;5;241m.\u001b[39mtarget_id, \u001b[38;5;28mself\u001b[39m\u001b[38;5;241m.\u001b[39mname)\n\u001b[0;32m   1325\u001b[0m \u001b[38;5;28;01mfor\u001b[39;00m temp_arg \u001b[38;5;129;01min\u001b[39;00m temp_args:\n\u001b[0;32m   1326\u001b[0m     \u001b[38;5;28;01mif\u001b[39;00m \u001b[38;5;28mhasattr\u001b[39m(temp_arg, \u001b[38;5;124m\"\u001b[39m\u001b[38;5;124m_detach\u001b[39m\u001b[38;5;124m\"\u001b[39m):\n",
      "File \u001b[1;32m~\\anaconda3\\Lib\\site-packages\\pyspark\\errors\\exceptions\\captured.py:175\u001b[0m, in \u001b[0;36mcapture_sql_exception.<locals>.deco\u001b[1;34m(*a, **kw)\u001b[0m\n\u001b[0;32m    171\u001b[0m converted \u001b[38;5;241m=\u001b[39m convert_exception(e\u001b[38;5;241m.\u001b[39mjava_exception)\n\u001b[0;32m    172\u001b[0m \u001b[38;5;28;01mif\u001b[39;00m \u001b[38;5;129;01mnot\u001b[39;00m \u001b[38;5;28misinstance\u001b[39m(converted, UnknownException):\n\u001b[0;32m    173\u001b[0m     \u001b[38;5;66;03m# Hide where the exception came from that shows a non-Pythonic\u001b[39;00m\n\u001b[0;32m    174\u001b[0m     \u001b[38;5;66;03m# JVM exception message.\u001b[39;00m\n\u001b[1;32m--> 175\u001b[0m     \u001b[38;5;28;01mraise\u001b[39;00m converted \u001b[38;5;28;01mfrom\u001b[39;00m \u001b[38;5;28;01mNone\u001b[39;00m\n\u001b[0;32m    176\u001b[0m \u001b[38;5;28;01melse\u001b[39;00m:\n\u001b[0;32m    177\u001b[0m     \u001b[38;5;28;01mraise\u001b[39;00m\n",
      "\u001b[1;31mAnalysisException\u001b[0m: [NUM_COLUMNS_MISMATCH] UNION can only be performed on inputs with the same number of columns, but the first input has 17 columns and the second input has 18 columns.;\n'Union false, false\n:- Project [Transaction ID#49, Document Number#67, Transaction Type#84, Project ID#101, Customer#118, Terms#135, Currency#152, Gross Amount#390, Payment#475, cast(Open Balance#560 as float) AS Open Balance#805, Transaction Create Date#220, Document Date#237, Due Date#254, Days Open#645, Service Dates#288, Payment Receipt Date#305, Open AS Outstanding#787]\n:  +- Filter NOT (Open Balance#560 = 0.00)\n:     +- Project [Transaction ID#49, Document Number#67, Transaction Type#84, Project ID#101, Customer#118, Terms#135, Currency#152, Gross Amount#390, Payment#475, Open Balance#560, Transaction Create Date#220, Document Date#237, Due Date#254, regexp_replace(Days Open#628, \\), , 1) AS Days Open#645, Service Dates#288, Payment Receipt Date#305]\n:        +- Project [Transaction ID#49, Document Number#67, Transaction Type#84, Project ID#101, Customer#118, Terms#135, Currency#152, Gross Amount#390, Payment#475, Open Balance#560, Transaction Create Date#220, Document Date#237, Due Date#254, regexp_replace(Days Open#611, \\(, , 1) AS Days Open#628, Service Dates#288, Payment Receipt Date#305]\n:           +- Project [Transaction ID#49, Document Number#67, Transaction Type#84, Project ID#101, Customer#118, Terms#135, Currency#152, Gross Amount#390, Payment#475, Open Balance#560, Transaction Create Date#220, Document Date#237, Due Date#254, regexp_replace(Days Open#594, ,, , 1) AS Days Open#611, Service Dates#288, Payment Receipt Date#305]\n:              +- Project [Transaction ID#49, Document Number#67, Transaction Type#84, Project ID#101, Customer#118, Terms#135, Currency#152, Gross Amount#390, Payment#475, Open Balance#560, Transaction Create Date#220, Document Date#237, Due Date#254, regexp_replace(Days Open#577, \\$, , 1) AS Days Open#594, Service Dates#288, Payment Receipt Date#305]\n:                 +- Project [Transaction ID#49, Document Number#67, Transaction Type#84, Project ID#101, Customer#118, Terms#135, Currency#152, Gross Amount#390, Payment#475, Open Balance#560, Transaction Create Date#220, Document Date#237, Due Date#254, regexp_replace(Days Open#271, Can, , 1) AS Days Open#577, Service Dates#288, Payment Receipt Date#305]\n:                    +- Project [Transaction ID#49, Document Number#67, Transaction Type#84, Project ID#101, Customer#118, Terms#135, Currency#152, Gross Amount#390, Payment#475, regexp_replace(Open Balance#543, \\), , 1) AS Open Balance#560, Transaction Create Date#220, Document Date#237, Due Date#254, Days Open#271, Service Dates#288, Payment Receipt Date#305]\n:                       +- Project [Transaction ID#49, Document Number#67, Transaction Type#84, Project ID#101, Customer#118, Terms#135, Currency#152, Gross Amount#390, Payment#475, regexp_replace(Open Balance#526, \\(, , 1) AS Open Balance#543, Transaction Create Date#220, Document Date#237, Due Date#254, Days Open#271, Service Dates#288, Payment Receipt Date#305]\n:                          +- Project [Transaction ID#49, Document Number#67, Transaction Type#84, Project ID#101, Customer#118, Terms#135, Currency#152, Gross Amount#390, Payment#475, regexp_replace(Open Balance#509, ,, , 1) AS Open Balance#526, Transaction Create Date#220, Document Date#237, Due Date#254, Days Open#271, Service Dates#288, Payment Receipt Date#305]\n:                             +- Project [Transaction ID#49, Document Number#67, Transaction Type#84, Project ID#101, Customer#118, Terms#135, Currency#152, Gross Amount#390, Payment#475, regexp_replace(Open Balance#492, \\$, , 1) AS Open Balance#509, Transaction Create Date#220, Document Date#237, Due Date#254, Days Open#271, Service Dates#288, Payment Receipt Date#305]\n:                                +- Project [Transaction ID#49, Document Number#67, Transaction Type#84, Project ID#101, Customer#118, Terms#135, Currency#152, Gross Amount#390, Payment#475, regexp_replace(Open Balance#203, Can, , 1) AS Open Balance#492, Transaction Create Date#220, Document Date#237, Due Date#254, Days Open#271, Service Dates#288, Payment Receipt Date#305]\n:                                   +- Project [Transaction ID#49, Document Number#67, Transaction Type#84, Project ID#101, Customer#118, Terms#135, Currency#152, Gross Amount#390, regexp_replace(Payment#458, \\), , 1) AS Payment#475, Open Balance#203, Transaction Create Date#220, Document Date#237, Due Date#254, Days Open#271, Service Dates#288, Payment Receipt Date#305]\n:                                      +- Project [Transaction ID#49, Document Number#67, Transaction Type#84, Project ID#101, Customer#118, Terms#135, Currency#152, Gross Amount#390, regexp_replace(Payment#441, \\(, , 1) AS Payment#458, Open Balance#203, Transaction Create Date#220, Document Date#237, Due Date#254, Days Open#271, Service Dates#288, Payment Receipt Date#305]\n:                                         +- Project [Transaction ID#49, Document Number#67, Transaction Type#84, Project ID#101, Customer#118, Terms#135, Currency#152, Gross Amount#390, regexp_replace(Payment#424, ,, , 1) AS Payment#441, Open Balance#203, Transaction Create Date#220, Document Date#237, Due Date#254, Days Open#271, Service Dates#288, Payment Receipt Date#305]\n:                                            +- Project [Transaction ID#49, Document Number#67, Transaction Type#84, Project ID#101, Customer#118, Terms#135, Currency#152, Gross Amount#390, regexp_replace(Payment#407, \\$, , 1) AS Payment#424, Open Balance#203, Transaction Create Date#220, Document Date#237, Due Date#254, Days Open#271, Service Dates#288, Payment Receipt Date#305]\n:                                               +- Project [Transaction ID#49, Document Number#67, Transaction Type#84, Project ID#101, Customer#118, Terms#135, Currency#152, Gross Amount#390, regexp_replace(Payment#186, Can, , 1) AS Payment#407, Open Balance#203, Transaction Create Date#220, Document Date#237, Due Date#254, Days Open#271, Service Dates#288, Payment Receipt Date#305]\n:                                                  +- Project [Transaction ID#49, Document Number#67, Transaction Type#84, Project ID#101, Customer#118, Terms#135, Currency#152, regexp_replace(Gross Amount#373, \\), , 1) AS Gross Amount#390, Payment#186, Open Balance#203, Transaction Create Date#220, Document Date#237, Due Date#254, Days Open#271, Service Dates#288, Payment Receipt Date#305]\n:                                                     +- Project [Transaction ID#49, Document Number#67, Transaction Type#84, Project ID#101, Customer#118, Terms#135, Currency#152, regexp_replace(Gross Amount#356, \\(, , 1) AS Gross Amount#373, Payment#186, Open Balance#203, Transaction Create Date#220, Document Date#237, Due Date#254, Days Open#271, Service Dates#288, Payment Receipt Date#305]\n:                                                        +- Project [Transaction ID#49, Document Number#67, Transaction Type#84, Project ID#101, Customer#118, Terms#135, Currency#152, regexp_replace(Gross Amount#339, ,, , 1) AS Gross Amount#356, Payment#186, Open Balance#203, Transaction Create Date#220, Document Date#237, Due Date#254, Days Open#271, Service Dates#288, Payment Receipt Date#305]\n:                                                           +- Project [Transaction ID#49, Document Number#67, Transaction Type#84, Project ID#101, Customer#118, Terms#135, Currency#152, regexp_replace(Gross Amount#322, \\$, , 1) AS Gross Amount#339, Payment#186, Open Balance#203, Transaction Create Date#220, Document Date#237, Due Date#254, Days Open#271, Service Dates#288, Payment Receipt Date#305]\n:                                                              +- Project [Transaction ID#49, Document Number#67, Transaction Type#84, Project ID#101, Customer#118, Terms#135, Currency#152, regexp_replace(Gross Amount#169, Can, , 1) AS Gross Amount#322, Payment#186, Open Balance#203, Transaction Create Date#220, Document Date#237, Due Date#254, Days Open#271, Service Dates#288, Payment Receipt Date#305]\n:                                                                 +- Project [Transaction ID#49, Document Number#67, Transaction Type#84, Project ID#101, Customer#118, Terms#135, Currency#152, Gross Amount#169, Payment#186, Open Balance#203, Transaction Create Date#220, Document Date#237, Due Date#254, Days Open#271, Service Dates#288, trim(Payment Receipt Date#32, None) AS Payment Receipt Date#305]\n:                                                                    +- Project [Transaction ID#49, Document Number#67, Transaction Type#84, Project ID#101, Customer#118, Terms#135, Currency#152, Gross Amount#169, Payment#186, Open Balance#203, Transaction Create Date#220, Document Date#237, Due Date#254, Days Open#271, trim(Service Dates#31, None) AS Service Dates#288, Payment Receipt Date#32]\n:                                                                       +- Project [Transaction ID#49, Document Number#67, Transaction Type#84, Project ID#101, Customer#118, Terms#135, Currency#152, Gross Amount#169, Payment#186, Open Balance#203, Transaction Create Date#220, Document Date#237, Due Date#254, trim(cast(Days Open#30 as string), None) AS Days Open#271, Service Dates#31, Payment Receipt Date#32]\n:                                                                          +- Project [Transaction ID#49, Document Number#67, Transaction Type#84, Project ID#101, Customer#118, Terms#135, Currency#152, Gross Amount#169, Payment#186, Open Balance#203, Transaction Create Date#220, Document Date#237, trim(Due Date#29, None) AS Due Date#254, Days Open#30, Service Dates#31, Payment Receipt Date#32]\n:                                                                             +- Project [Transaction ID#49, Document Number#67, Transaction Type#84, Project ID#101, Customer#118, Terms#135, Currency#152, Gross Amount#169, Payment#186, Open Balance#203, Transaction Create Date#220, trim(Document Date#28, None) AS Document Date#237, Due Date#29, Days Open#30, Service Dates#31, Payment Receipt Date#32]\n:                                                                                +- Project [Transaction ID#49, Document Number#67, Transaction Type#84, Project ID#101, Customer#118, Terms#135, Currency#152, Gross Amount#169, Payment#186, Open Balance#203, trim(Transaction Create Date#27, None) AS Transaction Create Date#220, Document Date#28, Due Date#29, Days Open#30, Service Dates#31, Payment Receipt Date#32]\n:                                                                                   +- Project [Transaction ID#49, Document Number#67, Transaction Type#84, Project ID#101, Customer#118, Terms#135, Currency#152, Gross Amount#169, Payment#186, trim(Open Balance#26, None) AS Open Balance#203, Transaction Create Date#27, Document Date#28, Due Date#29, Days Open#30, Service Dates#31, Payment Receipt Date#32]\n:                                                                                      +- Project [Transaction ID#49, Document Number#67, Transaction Type#84, Project ID#101, Customer#118, Terms#135, Currency#152, Gross Amount#169, trim(Payment#25, None) AS Payment#186, Open Balance#26, Transaction Create Date#27, Document Date#28, Due Date#29, Days Open#30, Service Dates#31, Payment Receipt Date#32]\n:                                                                                         +- Project [Transaction ID#49, Document Number#67, Transaction Type#84, Project ID#101, Customer#118, Terms#135, Currency#152, trim(Gross Amount#24, None) AS Gross Amount#169, Payment#25, Open Balance#26, Transaction Create Date#27, Document Date#28, Due Date#29, Days Open#30, Service Dates#31, Payment Receipt Date#32]\n:                                                                                            +- Project [Transaction ID#49, Document Number#67, Transaction Type#84, Project ID#101, Customer#118, Terms#135, trim(Currency#23, None) AS Currency#152, Gross Amount#24, Payment#25, Open Balance#26, Transaction Create Date#27, Document Date#28, Due Date#29, Days Open#30, Service Dates#31, Payment Receipt Date#32]\n:                                                                                               +- Project [Transaction ID#49, Document Number#67, Transaction Type#84, Project ID#101, Customer#118, trim(Terms#22, None) AS Terms#135, Currency#23, Gross Amount#24, Payment#25, Open Balance#26, Transaction Create Date#27, Document Date#28, Due Date#29, Days Open#30, Service Dates#31, Payment Receipt Date#32]\n:                                                                                                  +- Project [Transaction ID#49, Document Number#67, Transaction Type#84, Project ID#101, trim(Customer#21, None) AS Customer#118, Terms#22, Currency#23, Gross Amount#24, Payment#25, Open Balance#26, Transaction Create Date#27, Document Date#28, Due Date#29, Days Open#30, Service Dates#31, Payment Receipt Date#32]\n:                                                                                                     +- Project [Transaction ID#49, Document Number#67, Transaction Type#84, trim(cast(Project ID#20 as string), None) AS Project ID#101, Customer#21, Terms#22, Currency#23, Gross Amount#24, Payment#25, Open Balance#26, Transaction Create Date#27, Document Date#28, Due Date#29, Days Open#30, Service Dates#31, Payment Receipt Date#32]\n:                                                                                                        +- Project [Transaction ID#49, Document Number#67, trim(Transaction Type#19, None) AS Transaction Type#84, Project ID#20, Customer#21, Terms#22, Currency#23, Gross Amount#24, Payment#25, Open Balance#26, Transaction Create Date#27, Document Date#28, Due Date#29, Days Open#30, Service Dates#31, Payment Receipt Date#32]\n:                                                                                                           +- Project [Transaction ID#49, trim(Document Number#18, None) AS Document Number#67, Transaction Type#19, Project ID#20, Customer#21, Terms#22, Currency#23, Gross Amount#24, Payment#25, Open Balance#26, Transaction Create Date#27, Document Date#28, Due Date#29, Days Open#30, Service Dates#31, Payment Receipt Date#32]\n:                                                                                                              +- Project [trim(cast(Transaction ID#17 as string), None) AS Transaction ID#49, Document Number#18, Transaction Type#19, Project ID#20, Customer#21, Terms#22, Currency#23, Gross Amount#24, Payment#25, Open Balance#26, Transaction Create Date#27, Document Date#28, Due Date#29, Days Open#30, Service Dates#31, Payment Receipt Date#32]\n:                                                                                                                 +- Relation [Transaction ID#17,Document Number#18,Transaction Type#19,Project ID#20,Customer#21,Terms#22,Currency#23,Gross Amount#24,Payment#25,Open Balance#26,Transaction Create Date#27,Document Date#28,Due Date#29,Days Open#30,Service Dates#31,Payment Receipt Date#32] csv\n+- Project [Transaction ID#49 AS Transaction ID#991, Document Number#67 AS Document Number#1008, first(Transaction Type)#952 AS Transaction Type#1110, first(Project ID)#958 AS Project ID#1212, first(Customer)#954 AS Customer#1144, first(Terms)#948 AS Terms#1042, first(Currency)#953 AS Currency#1127, min(Gross Amount)#956 AS Gross Amount#1178, max(Payment)#957 AS Payment#1195, max(Open Balance)#955 AS Open Balance#1161, max(Transaction Create Date)#960 AS Transaction Create Date#1246, max(Document Date)#959 AS Document Date#1229, max(Due Date)#949 AS Due Date#1059, max(Days Open)#950 AS Days Open#1076, max(Service Dates)#951 AS Service Dates#1093, first(Payment Receipt Date)#947 AS Payment Receipt Date#1025, Cleared AS Outstanding#1263, -max(Payment)#957 AS Applying Link Amount#1281]\n   +- Aggregate [Transaction ID#49, Document Number#67], [Transaction ID#49, Document Number#67, first(Payment Receipt Date#305, false) AS first(Payment Receipt Date)#947, first(Terms#135, false) AS first(Terms)#948, max(Due Date#254) AS max(Due Date)#949, max(Days Open#913) AS max(Days Open)#950, max(Service Dates#288) AS max(Service Dates)#951, first(Transaction Type#84, false) AS first(Transaction Type)#952, first(Currency#152, false) AS first(Currency)#953, first(Customer#118, false) AS first(Customer)#954, max(Open Balance#560) AS max(Open Balance)#955, min(Gross Amount#879) AS min(Gross Amount)#956, max(Payment#896) AS max(Payment)#957, first(Project ID#101, false) AS first(Project ID)#958, max(Document Date#237) AS max(Document Date)#959, max(Transaction Create Date#220) AS max(Transaction Create Date)#960]\n      +- Project [Transaction ID#49, Document Number#67, Transaction Type#84, Project ID#101, Customer#118, Terms#135, Currency#152, Gross Amount#879, Payment#896, Open Balance#560, Transaction Create Date#220, Document Date#237, Due Date#254, cast(Days Open#645 as float) AS Days Open#913, Service Dates#288, Payment Receipt Date#305]\n         +- Project [Transaction ID#49, Document Number#67, Transaction Type#84, Project ID#101, Customer#118, Terms#135, Currency#152, Gross Amount#879, cast(Payment#475 as float) AS Payment#896, Open Balance#560, Transaction Create Date#220, Document Date#237, Due Date#254, Days Open#645, Service Dates#288, Payment Receipt Date#305]\n            +- Project [Transaction ID#49, Document Number#67, Transaction Type#84, Project ID#101, Customer#118, Terms#135, Currency#152, cast(Gross Amount#390 as float) AS Gross Amount#879, Payment#475, Open Balance#560, Transaction Create Date#220, Document Date#237, Due Date#254, Days Open#645, Service Dates#288, Payment Receipt Date#305]\n               +- Filter (Transaction Type#84 = Credit Memo)\n                  +- Project [Transaction ID#49, Document Number#67, Transaction Type#84, Project ID#101, Customer#118, Terms#135, Currency#152, Gross Amount#390, Payment#475, Open Balance#560, Transaction Create Date#220, Document Date#237, Due Date#254, regexp_replace(Days Open#628, \\), , 1) AS Days Open#645, Service Dates#288, Payment Receipt Date#305]\n                     +- Project [Transaction ID#49, Document Number#67, Transaction Type#84, Project ID#101, Customer#118, Terms#135, Currency#152, Gross Amount#390, Payment#475, Open Balance#560, Transaction Create Date#220, Document Date#237, Due Date#254, regexp_replace(Days Open#611, \\(, , 1) AS Days Open#628, Service Dates#288, Payment Receipt Date#305]\n                        +- Project [Transaction ID#49, Document Number#67, Transaction Type#84, Project ID#101, Customer#118, Terms#135, Currency#152, Gross Amount#390, Payment#475, Open Balance#560, Transaction Create Date#220, Document Date#237, Due Date#254, regexp_replace(Days Open#594, ,, , 1) AS Days Open#611, Service Dates#288, Payment Receipt Date#305]\n                           +- Project [Transaction ID#49, Document Number#67, Transaction Type#84, Project ID#101, Customer#118, Terms#135, Currency#152, Gross Amount#390, Payment#475, Open Balance#560, Transaction Create Date#220, Document Date#237, Due Date#254, regexp_replace(Days Open#577, \\$, , 1) AS Days Open#594, Service Dates#288, Payment Receipt Date#305]\n                              +- Project [Transaction ID#49, Document Number#67, Transaction Type#84, Project ID#101, Customer#118, Terms#135, Currency#152, Gross Amount#390, Payment#475, Open Balance#560, Transaction Create Date#220, Document Date#237, Due Date#254, regexp_replace(Days Open#271, Can, , 1) AS Days Open#577, Service Dates#288, Payment Receipt Date#305]\n                                 +- Project [Transaction ID#49, Document Number#67, Transaction Type#84, Project ID#101, Customer#118, Terms#135, Currency#152, Gross Amount#390, Payment#475, regexp_replace(Open Balance#543, \\), , 1) AS Open Balance#560, Transaction Create Date#220, Document Date#237, Due Date#254, Days Open#271, Service Dates#288, Payment Receipt Date#305]\n                                    +- Project [Transaction ID#49, Document Number#67, Transaction Type#84, Project ID#101, Customer#118, Terms#135, Currency#152, Gross Amount#390, Payment#475, regexp_replace(Open Balance#526, \\(, , 1) AS Open Balance#543, Transaction Create Date#220, Document Date#237, Due Date#254, Days Open#271, Service Dates#288, Payment Receipt Date#305]\n                                       +- Project [Transaction ID#49, Document Number#67, Transaction Type#84, Project ID#101, Customer#118, Terms#135, Currency#152, Gross Amount#390, Payment#475, regexp_replace(Open Balance#509, ,, , 1) AS Open Balance#526, Transaction Create Date#220, Document Date#237, Due Date#254, Days Open#271, Service Dates#288, Payment Receipt Date#305]\n                                          +- Project [Transaction ID#49, Document Number#67, Transaction Type#84, Project ID#101, Customer#118, Terms#135, Currency#152, Gross Amount#390, Payment#475, regexp_replace(Open Balance#492, \\$, , 1) AS Open Balance#509, Transaction Create Date#220, Document Date#237, Due Date#254, Days Open#271, Service Dates#288, Payment Receipt Date#305]\n                                             +- Project [Transaction ID#49, Document Number#67, Transaction Type#84, Project ID#101, Customer#118, Terms#135, Currency#152, Gross Amount#390, Payment#475, regexp_replace(Open Balance#203, Can, , 1) AS Open Balance#492, Transaction Create Date#220, Document Date#237, Due Date#254, Days Open#271, Service Dates#288, Payment Receipt Date#305]\n                                                +- Project [Transaction ID#49, Document Number#67, Transaction Type#84, Project ID#101, Customer#118, Terms#135, Currency#152, Gross Amount#390, regexp_replace(Payment#458, \\), , 1) AS Payment#475, Open Balance#203, Transaction Create Date#220, Document Date#237, Due Date#254, Days Open#271, Service Dates#288, Payment Receipt Date#305]\n                                                   +- Project [Transaction ID#49, Document Number#67, Transaction Type#84, Project ID#101, Customer#118, Terms#135, Currency#152, Gross Amount#390, regexp_replace(Payment#441, \\(, , 1) AS Payment#458, Open Balance#203, Transaction Create Date#220, Document Date#237, Due Date#254, Days Open#271, Service Dates#288, Payment Receipt Date#305]\n                                                      +- Project [Transaction ID#49, Document Number#67, Transaction Type#84, Project ID#101, Customer#118, Terms#135, Currency#152, Gross Amount#390, regexp_replace(Payment#424, ,, , 1) AS Payment#441, Open Balance#203, Transaction Create Date#220, Document Date#237, Due Date#254, Days Open#271, Service Dates#288, Payment Receipt Date#305]\n                                                         +- Project [Transaction ID#49, Document Number#67, Transaction Type#84, Project ID#101, Customer#118, Terms#135, Currency#152, Gross Amount#390, regexp_replace(Payment#407, \\$, , 1) AS Payment#424, Open Balance#203, Transaction Create Date#220, Document Date#237, Due Date#254, Days Open#271, Service Dates#288, Payment Receipt Date#305]\n                                                            +- Project [Transaction ID#49, Document Number#67, Transaction Type#84, Project ID#101, Customer#118, Terms#135, Currency#152, Gross Amount#390, regexp_replace(Payment#186, Can, , 1) AS Payment#407, Open Balance#203, Transaction Create Date#220, Document Date#237, Due Date#254, Days Open#271, Service Dates#288, Payment Receipt Date#305]\n                                                               +- Project [Transaction ID#49, Document Number#67, Transaction Type#84, Project ID#101, Customer#118, Terms#135, Currency#152, regexp_replace(Gross Amount#373, \\), , 1) AS Gross Amount#390, Payment#186, Open Balance#203, Transaction Create Date#220, Document Date#237, Due Date#254, Days Open#271, Service Dates#288, Payment Receipt Date#305]\n                                                                  +- Project [Transaction ID#49, Document Number#67, Transaction Type#84, Project ID#101, Customer#118, Terms#135, Currency#152, regexp_replace(Gross Amount#356, \\(, , 1) AS Gross Amount#373, Payment#186, Open Balance#203, Transaction Create Date#220, Document Date#237, Due Date#254, Days Open#271, Service Dates#288, Payment Receipt Date#305]\n                                                                     +- Project [Transaction ID#49, Document Number#67, Transaction Type#84, Project ID#101, Customer#118, Terms#135, Currency#152, regexp_replace(Gross Amount#339, ,, , 1) AS Gross Amount#356, Payment#186, Open Balance#203, Transaction Create Date#220, Document Date#237, Due Date#254, Days Open#271, Service Dates#288, Payment Receipt Date#305]\n                                                                        +- Project [Transaction ID#49, Document Number#67, Transaction Type#84, Project ID#101, Customer#118, Terms#135, Currency#152, regexp_replace(Gross Amount#322, \\$, , 1) AS Gross Amount#339, Payment#186, Open Balance#203, Transaction Create Date#220, Document Date#237, Due Date#254, Days Open#271, Service Dates#288, Payment Receipt Date#305]\n                                                                           +- Project [Transaction ID#49, Document Number#67, Transaction Type#84, Project ID#101, Customer#118, Terms#135, Currency#152, regexp_replace(Gross Amount#169, Can, , 1) AS Gross Amount#322, Payment#186, Open Balance#203, Transaction Create Date#220, Document Date#237, Due Date#254, Days Open#271, Service Dates#288, Payment Receipt Date#305]\n                                                                              +- Project [Transaction ID#49, Document Number#67, Transaction Type#84, Project ID#101, Customer#118, Terms#135, Currency#152, Gross Amount#169, Payment#186, Open Balance#203, Transaction Create Date#220, Document Date#237, Due Date#254, Days Open#271, Service Dates#288, trim(Payment Receipt Date#6080, None) AS Payment Receipt Date#305]\n                                                                                 +- Project [Transaction ID#49, Document Number#67, Transaction Type#84, Project ID#101, Customer#118, Terms#135, Currency#152, Gross Amount#169, Payment#186, Open Balance#203, Transaction Create Date#220, Document Date#237, Due Date#254, Days Open#271, trim(Service Dates#6079, None) AS Service Dates#288, Payment Receipt Date#6080]\n                                                                                    +- Project [Transaction ID#49, Document Number#67, Transaction Type#84, Project ID#101, Customer#118, Terms#135, Currency#152, Gross Amount#169, Payment#186, Open Balance#203, Transaction Create Date#220, Document Date#237, Due Date#254, trim(cast(Days Open#6078 as string), None) AS Days Open#271, Service Dates#6079, Payment Receipt Date#6080]\n                                                                                       +- Project [Transaction ID#49, Document Number#67, Transaction Type#84, Project ID#101, Customer#118, Terms#135, Currency#152, Gross Amount#169, Payment#186, Open Balance#203, Transaction Create Date#220, Document Date#237, trim(Due Date#6077, None) AS Due Date#254, Days Open#6078, Service Dates#6079, Payment Receipt Date#6080]\n                                                                                          +- Project [Transaction ID#49, Document Number#67, Transaction Type#84, Project ID#101, Customer#118, Terms#135, Currency#152, Gross Amount#169, Payment#186, Open Balance#203, Transaction Create Date#220, trim(Document Date#6076, None) AS Document Date#237, Due Date#6077, Days Open#6078, Service Dates#6079, Payment Receipt Date#6080]\n                                                                                             +- Project [Transaction ID#49, Document Number#67, Transaction Type#84, Project ID#101, Customer#118, Terms#135, Currency#152, Gross Amount#169, Payment#186, Open Balance#203, trim(Transaction Create Date#6075, None) AS Transaction Create Date#220, Document Date#6076, Due Date#6077, Days Open#6078, Service Dates#6079, Payment Receipt Date#6080]\n                                                                                                +- Project [Transaction ID#49, Document Number#67, Transaction Type#84, Project ID#101, Customer#118, Terms#135, Currency#152, Gross Amount#169, Payment#186, trim(Open Balance#6074, None) AS Open Balance#203, Transaction Create Date#6075, Document Date#6076, Due Date#6077, Days Open#6078, Service Dates#6079, Payment Receipt Date#6080]\n                                                                                                   +- Project [Transaction ID#49, Document Number#67, Transaction Type#84, Project ID#101, Customer#118, Terms#135, Currency#152, Gross Amount#169, trim(Payment#6073, None) AS Payment#186, Open Balance#6074, Transaction Create Date#6075, Document Date#6076, Due Date#6077, Days Open#6078, Service Dates#6079, Payment Receipt Date#6080]\n                                                                                                      +- Project [Transaction ID#49, Document Number#67, Transaction Type#84, Project ID#101, Customer#118, Terms#135, Currency#152, trim(Gross Amount#6072, None) AS Gross Amount#169, Payment#6073, Open Balance#6074, Transaction Create Date#6075, Document Date#6076, Due Date#6077, Days Open#6078, Service Dates#6079, Payment Receipt Date#6080]\n                                                                                                         +- Project [Transaction ID#49, Document Number#67, Transaction Type#84, Project ID#101, Customer#118, Terms#135, trim(Currency#6071, None) AS Currency#152, Gross Amount#6072, Payment#6073, Open Balance#6074, Transaction Create Date#6075, Document Date#6076, Due Date#6077, Days Open#6078, Service Dates#6079, Payment Receipt Date#6080]\n                                                                                                            +- Project [Transaction ID#49, Document Number#67, Transaction Type#84, Project ID#101, Customer#118, trim(Terms#6070, None) AS Terms#135, Currency#6071, Gross Amount#6072, Payment#6073, Open Balance#6074, Transaction Create Date#6075, Document Date#6076, Due Date#6077, Days Open#6078, Service Dates#6079, Payment Receipt Date#6080]\n                                                                                                               +- Project [Transaction ID#49, Document Number#67, Transaction Type#84, Project ID#101, trim(Customer#6069, None) AS Customer#118, Terms#6070, Currency#6071, Gross Amount#6072, Payment#6073, Open Balance#6074, Transaction Create Date#6075, Document Date#6076, Due Date#6077, Days Open#6078, Service Dates#6079, Payment Receipt Date#6080]\n                                                                                                                  +- Project [Transaction ID#49, Document Number#67, Transaction Type#84, trim(cast(Project ID#6068 as string), None) AS Project ID#101, Customer#6069, Terms#6070, Currency#6071, Gross Amount#6072, Payment#6073, Open Balance#6074, Transaction Create Date#6075, Document Date#6076, Due Date#6077, Days Open#6078, Service Dates#6079, Payment Receipt Date#6080]\n                                                                                                                     +- Project [Transaction ID#49, Document Number#67, trim(Transaction Type#6067, None) AS Transaction Type#84, Project ID#6068, Customer#6069, Terms#6070, Currency#6071, Gross Amount#6072, Payment#6073, Open Balance#6074, Transaction Create Date#6075, Document Date#6076, Due Date#6077, Days Open#6078, Service Dates#6079, Payment Receipt Date#6080]\n                                                                                                                        +- Project [Transaction ID#49, trim(Document Number#6066, None) AS Document Number#67, Transaction Type#6067, Project ID#6068, Customer#6069, Terms#6070, Currency#6071, Gross Amount#6072, Payment#6073, Open Balance#6074, Transaction Create Date#6075, Document Date#6076, Due Date#6077, Days Open#6078, Service Dates#6079, Payment Receipt Date#6080]\n                                                                                                                           +- Project [trim(cast(Transaction ID#6065 as string), None) AS Transaction ID#49, Document Number#6066, Transaction Type#6067, Project ID#6068, Customer#6069, Terms#6070, Currency#6071, Gross Amount#6072, Payment#6073, Open Balance#6074, Transaction Create Date#6075, Document Date#6076, Due Date#6077, Days Open#6078, Service Dates#6079, Payment Receipt Date#6080]\n                                                                                                                              +- Relation [Transaction ID#6065,Document Number#6066,Transaction Type#6067,Project ID#6068,Customer#6069,Terms#6070,Currency#6071,Gross Amount#6072,Payment#6073,Open Balance#6074,Transaction Create Date#6075,Document Date#6076,Due Date#6077,Days Open#6078,Service Dates#6079,Payment Receipt Date#6080] csv\n"
     ]
    }
   ],
   "source": [
    "combined_df = temp_df.unionByName(process_df_result)"
   ]
  },
  {
   "cell_type": "code",
   "execution_count": null,
   "id": "a93755d9",
   "metadata": {},
   "outputs": [],
   "source": []
  }
 ],
 "metadata": {
  "kernelspec": {
   "display_name": "Python 3 (ipykernel)",
   "language": "python",
   "name": "python3"
  },
  "language_info": {
   "codemirror_mode": {
    "name": "ipython",
    "version": 3
   },
   "file_extension": ".py",
   "mimetype": "text/x-python",
   "name": "python",
   "nbconvert_exporter": "python",
   "pygments_lexer": "ipython3",
   "version": "3.11.4"
  }
 },
 "nbformat": 4,
 "nbformat_minor": 5
}
