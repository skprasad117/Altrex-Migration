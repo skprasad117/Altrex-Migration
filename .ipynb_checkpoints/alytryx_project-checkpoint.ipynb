{
 "cells": [
  {
   "cell_type": "markdown",
   "id": "16f32104",
   "metadata": {},
   "source": [
    "## Reading libraries"
   ]
  },
  {
   "cell_type": "code",
   "execution_count": 76,
   "id": "04598003",
   "metadata": {},
   "outputs": [],
   "source": [
    "from pyspark.sql import SparkSession\n",
    "from pyspark.sql.functions import col, trim, regexp_replace, sum, lit, max, min, first,to_timestamp, trim, upper,to_date, date_format, when\n",
    "from pyspark.sql.types import DateType\n",
    "\n",
    "from pyspark.sql.types import IntegerType, FloatType"
   ]
  },
  {
   "cell_type": "code",
   "execution_count": 77,
   "id": "acf9d934",
   "metadata": {},
   "outputs": [],
   "source": [
    "spark = SparkSession.builder.appName(\"read_csv\").getOrCreate()"
   ]
  },
  {
   "cell_type": "code",
   "execution_count": 78,
   "id": "f5c4c0f6",
   "metadata": {},
   "outputs": [
    {
     "data": {
      "text/html": [
       "\n",
       "            <div>\n",
       "                <p><b>SparkSession - in-memory</b></p>\n",
       "                \n",
       "        <div>\n",
       "            <p><b>SparkContext</b></p>\n",
       "\n",
       "            <p><a href=\"http://LAPTOP-3UT4836R:4040\">Spark UI</a></p>\n",
       "\n",
       "            <dl>\n",
       "              <dt>Version</dt>\n",
       "                <dd><code>v3.4.1</code></dd>\n",
       "              <dt>Master</dt>\n",
       "                <dd><code>local[*]</code></dd>\n",
       "              <dt>AppName</dt>\n",
       "                <dd><code>read_csv</code></dd>\n",
       "            </dl>\n",
       "        </div>\n",
       "        \n",
       "            </div>\n",
       "        "
      ],
      "text/plain": [
       "<pyspark.sql.session.SparkSession at 0x2b87100be90>"
      ]
     },
     "execution_count": 78,
     "metadata": {},
     "output_type": "execute_result"
    }
   ],
   "source": [
    "spark"
   ]
  },
  {
   "cell_type": "markdown",
   "id": "12e90ff3",
   "metadata": {},
   "source": [
    "# helper functions"
   ]
  },
  {
   "cell_type": "code",
   "execution_count": 129,
   "id": "ae7f8609",
   "metadata": {},
   "outputs": [],
   "source": [
    "from pyspark.sql.functions import udf\n",
    "from pyspark.sql.types import DateType\n",
    "from datetime import datetime\n",
    "\n",
    "# Define a UDF to parse the date string\n",
    "@udf(DateType())\n",
    "def parse_date(date_str):\n",
    "    try:\n",
    "        return datetime.strptime(date_str, \"%m/%d/%Y\").date()\n",
    "    except ValueError:\n",
    "        return None  # Handle invalid date strings as needed\n"
   ]
  },
  {
   "cell_type": "code",
   "execution_count": 79,
   "id": "8a913a8d",
   "metadata": {},
   "outputs": [],
   "source": [
    "def change_dtype(dataframe, column_name,change_to):\n",
    "    return dataframe.withColumn(column_name, col(column_name).cast(change_to))"
   ]
  },
  {
   "cell_type": "code",
   "execution_count": 80,
   "id": "443fb098",
   "metadata": {},
   "outputs": [],
   "source": [
    "def remove_illegal_char(dataframe,column_name):\n",
    "    illegal_character = ['Can','\\$',',',\"\\(\",\"\\)\"]\n",
    "    for character in illegal_character:\n",
    "        dataframe = dataframe.withColumn(column_name, regexp_replace(col(column_name), character, ''))\n",
    "#                              .withColumn('Open Balance', regexp_replace(col('Open Balance'), 'Can', ''))\n",
    "    return dataframe"
   ]
  },
  {
   "cell_type": "code",
   "execution_count": 81,
   "id": "850380fd",
   "metadata": {},
   "outputs": [],
   "source": [
    "def trim_col(dataframe, column_name):\n",
    "    return dataframe.withColumn(column_name, trim(col(column_name)))"
   ]
  },
  {
   "cell_type": "markdown",
   "id": "028e5d4f",
   "metadata": {},
   "source": [
    "## Reading CSV"
   ]
  },
  {
   "cell_type": "code",
   "execution_count": 82,
   "id": "ff12abb5",
   "metadata": {},
   "outputs": [],
   "source": [
    "sales_report_kmpg_july=spark.read.options(inferSchema='True').csv('csv_converted\\saleReprtKmpg_july - SalesReportKPMGAuditResults.csv', header=True, inferSchema=True, sep=',')"
   ]
  },
  {
   "cell_type": "markdown",
   "id": "b7976435",
   "metadata": {},
   "source": [
    "## Cleaning and Transforming"
   ]
  },
  {
   "cell_type": "code",
   "execution_count": 83,
   "id": "2c4ed09b",
   "metadata": {},
   "outputs": [
    {
     "data": {
      "text/plain": [
       "['Transaction ID',\n",
       " 'Document Number',\n",
       " 'Transaction Type',\n",
       " 'Project ID',\n",
       " 'Customer',\n",
       " 'Terms',\n",
       " 'Currency',\n",
       " 'Gross Amount',\n",
       " 'Payment',\n",
       " 'Open Balance',\n",
       " 'Transaction Create Date',\n",
       " 'Document Date',\n",
       " 'Due Date',\n",
       " 'Days Open',\n",
       " 'Service Dates',\n",
       " 'Payment Receipt Date']"
      ]
     },
     "execution_count": 83,
     "metadata": {},
     "output_type": "execute_result"
    }
   ],
   "source": [
    "sales_report_kmpg_july.columns"
   ]
  },
  {
   "cell_type": "code",
   "execution_count": 84,
   "id": "415f4c8c",
   "metadata": {},
   "outputs": [],
   "source": [
    "object_columns = ['Transaction ID','Document Number','Transaction Type', 'Project ID','Customer','Terms','Currency',]\n",
    "numeric_columns = ['Gross Amount','Payment','Open Balance','Days Open']\n",
    "date_columns = ['Transaction Create Date','Document Date','Due Date','Service Dates','Payment Receipt Date']"
   ]
  },
  {
   "cell_type": "markdown",
   "id": "91e1a7bb",
   "metadata": {},
   "source": [
    "### Trim column"
   ]
  },
  {
   "cell_type": "code",
   "execution_count": 85,
   "id": "c90cc611",
   "metadata": {},
   "outputs": [],
   "source": [
    "# sales_report_kmpg_july.show()"
   ]
  },
  {
   "cell_type": "code",
   "execution_count": 86,
   "id": "a329cdc9",
   "metadata": {},
   "outputs": [],
   "source": [
    "# sales_report_kmpg_july = trim_col(sales_report_kmpg_july,column_name='Open Balance')\n",
    "for column in sales_report_kmpg_july.columns:\n",
    "    sales_report_kmpg_july = trim_col(sales_report_kmpg_july,column_name=column)\n",
    "    "
   ]
  },
  {
   "cell_type": "markdown",
   "id": "401cca84",
   "metadata": {},
   "source": [
    "### Remove illegal characters from numeric columns"
   ]
  },
  {
   "cell_type": "code",
   "execution_count": 87,
   "id": "232662ef",
   "metadata": {},
   "outputs": [],
   "source": [
    "# sales_report_kmpg_july = remove_illegal_char(sales_report_kmpg_july,column_name='Open Balance')\n",
    "for column in numeric_columns:\n",
    "#     print(column)\n",
    "    sales_report_kmpg_july = remove_illegal_char(sales_report_kmpg_july,column_name=column)\n",
    "#     print(sales_report_kmpg_july.show(1))\n",
    "    "
   ]
  },
  {
   "cell_type": "markdown",
   "id": "0bf1d675",
   "metadata": {},
   "source": [
    "### Change datatype"
   ]
  },
  {
   "cell_type": "code",
   "execution_count": 88,
   "id": "9aafb1f8",
   "metadata": {},
   "outputs": [],
   "source": [
    "# sales_report_kmpg_july = sales_report_kmpg_july.withColumn('Open Balance', col('Open Balance').cast('float'))\n",
    "# for column in date_columns:\n",
    "#     sales_report_kmpg_july = sales_report_kmpg_july.withColumn(column, col(column).cast(to_timestamp(column)))\n",
    "    "
   ]
  },
  {
   "cell_type": "code",
   "execution_count": 89,
   "id": "97c4add4",
   "metadata": {},
   "outputs": [
    {
     "data": {
      "text/plain": [
       "[('Transaction ID', 'string'),\n",
       " ('Document Number', 'string'),\n",
       " ('Transaction Type', 'string'),\n",
       " ('Project ID', 'string'),\n",
       " ('Customer', 'string'),\n",
       " ('Terms', 'string'),\n",
       " ('Currency', 'string'),\n",
       " ('Gross Amount', 'string'),\n",
       " ('Payment', 'string'),\n",
       " ('Open Balance', 'string'),\n",
       " ('Transaction Create Date', 'string'),\n",
       " ('Document Date', 'string'),\n",
       " ('Due Date', 'string'),\n",
       " ('Days Open', 'string'),\n",
       " ('Service Dates', 'string'),\n",
       " ('Payment Receipt Date', 'string')]"
      ]
     },
     "execution_count": 89,
     "metadata": {},
     "output_type": "execute_result"
    }
   ],
   "source": [
    "sales_report_kmpg_july.dtypes"
   ]
  },
  {
   "cell_type": "code",
   "execution_count": 90,
   "id": "1f68ec58",
   "metadata": {},
   "outputs": [
    {
     "name": "stdout",
     "output_type": "stream",
     "text": [
      "+--------------+---------------+----------------+----------+--------------------+-----+--------+------------+-------+------------+-----------------------+-------------+--------+---------+--------------------+--------------------+\n",
      "|Transaction ID|Document Number|Transaction Type|Project ID|            Customer|Terms|Currency|Gross Amount|Payment|Open Balance|Transaction Create Date|Document Date|Due Date|Days Open|       Service Dates|Payment Receipt Date|\n",
      "+--------------+---------------+----------------+----------+--------------------+-----+--------+------------+-------+------------+-----------------------+-------------+--------+---------+--------------------+--------------------+\n",
      "|       3190973|      CUMC15527|     Credit Memo|   1277343|CUMC : Columbia U...| null|     USA|      145.83| 145.83|        0.00|          7/31/23 11:02|    7/31/2023|    null|        0|07/01/2023 to 07/...|           7/30/2023|\n",
      "+--------------+---------------+----------------+----------+--------------------+-----+--------+------------+-------+------------+-----------------------+-------------+--------+---------+--------------------+--------------------+\n",
      "only showing top 1 row\n",
      "\n"
     ]
    }
   ],
   "source": [
    "sales_report_kmpg_july.show(1)"
   ]
  },
  {
   "cell_type": "markdown",
   "id": "d63924c4",
   "metadata": {},
   "source": [
    "## Operation 1:\n",
    "- 3 lines\n",
    "    - 1. Open Balance != 0----------------------output ---> temp_df , Sum_Open_Balance\n",
    "    - 2. Tranasaction Type  == \"Credit Memo\"----output ----> process_df_result\n",
    "    - 3. Tranasaction Type  != \"Credit Memo\"----output-----> temp_df_process_3"
   ]
  },
  {
   "cell_type": "markdown",
   "id": "221c3bf7",
   "metadata": {},
   "source": [
    "### 1. Open Balance != 0 \n",
    "    - filtering the recored `Open Balance !=0`\n",
    "    - Adding Column `Outstanding = \"Open\"`\n",
    "    - Sum of `Open Balance`"
   ]
  },
  {
   "cell_type": "code",
   "execution_count": 91,
   "id": "81e16cf3",
   "metadata": {},
   "outputs": [
    {
     "data": {
      "text/plain": [
       "3948"
      ]
     },
     "execution_count": 91,
     "metadata": {},
     "output_type": "execute_result"
    }
   ],
   "source": [
    "sales_report_kmpg_july.filter(sales_report_kmpg_july['Open Balance'] != '0.00').count()"
   ]
  },
  {
   "cell_type": "code",
   "execution_count": 92,
   "id": "c36224bb",
   "metadata": {},
   "outputs": [],
   "source": [
    "temp_df = sales_report_kmpg_july.filter(sales_report_kmpg_july['Open Balance'] != '0.00')"
   ]
  },
  {
   "cell_type": "code",
   "execution_count": 93,
   "id": "28192f83",
   "metadata": {},
   "outputs": [
    {
     "name": "stdout",
     "output_type": "stream",
     "text": [
      "type of df <class 'pyspark.sql.dataframe.DataFrame'> no of records 3948\n"
     ]
    }
   ],
   "source": [
    "print(\"type of df\",type(temp_df), \"no of records\",temp_df.count())"
   ]
  },
  {
   "cell_type": "markdown",
   "id": "b3e02bc7",
   "metadata": {},
   "source": [
    "#### adding column Outstanding = open"
   ]
  },
  {
   "cell_type": "code",
   "execution_count": 94,
   "id": "d4027c2b",
   "metadata": {},
   "outputs": [],
   "source": [
    "# df_spark.withColumn('year after 2', df_spark['year']+1000).show() refrence\n",
    "temp_df = temp_df.withColumn('Outstanding', lit('Open'))"
   ]
  },
  {
   "cell_type": "code",
   "execution_count": 95,
   "id": "26cd992d",
   "metadata": {},
   "outputs": [],
   "source": [
    "temp_df = change_dtype(temp_df, column_name='Open Balance',change_to=FloatType())"
   ]
  },
  {
   "cell_type": "code",
   "execution_count": 96,
   "id": "1cc43364",
   "metadata": {},
   "outputs": [
    {
     "data": {
      "text/plain": [
       "29295611.528552473"
      ]
     },
     "execution_count": 96,
     "metadata": {},
     "output_type": "execute_result"
    }
   ],
   "source": [
    "Sum_Open_Balance = temp_df.select(sum(col('Open Balance'))).collect()[0][0]\n",
    "Sum_Open_Balance"
   ]
  },
  {
   "cell_type": "code",
   "execution_count": 97,
   "id": "91fed9c3",
   "metadata": {},
   "outputs": [
    {
     "data": {
      "text/plain": [
       "DataFrame[sum(Open Balance): double]"
      ]
     },
     "execution_count": 97,
     "metadata": {},
     "output_type": "execute_result"
    }
   ],
   "source": [
    "sales_report_kmpg_july.filter(sales_report_kmpg_july['Open Balance'] != '0.00').select(sum(col('Open Balance')))"
   ]
  },
  {
   "cell_type": "markdown",
   "id": "3df50ad0",
   "metadata": {},
   "source": [
    "#### Output\n",
    "Sum_Open_Balance, temp_df"
   ]
  },
  {
   "cell_type": "code",
   "execution_count": 98,
   "id": "8ce14727",
   "metadata": {},
   "outputs": [
    {
     "name": "stdout",
     "output_type": "stream",
     "text": [
      "3948 29295611.528552473\n"
     ]
    }
   ],
   "source": [
    "print(temp_df.count(),Sum_Open_Balance)"
   ]
  },
  {
   "cell_type": "markdown",
   "id": "811a885c",
   "metadata": {},
   "source": [
    "### 2. Tranasaction Type  = \"Credit Memo\""
   ]
  },
  {
   "cell_type": "code",
   "execution_count": 99,
   "id": "2ff39a15",
   "metadata": {},
   "outputs": [
    {
     "name": "stdout",
     "output_type": "stream",
     "text": [
      "Input Parameters:  15459\n"
     ]
    }
   ],
   "source": [
    "temp_df_process_2=sales_report_kmpg_july.filter(sales_report_kmpg_july['Transaction Type'] == 'Credit Memo')\n",
    "print(\"Input Parameters: \", temp_df_process_2.count())"
   ]
  },
  {
   "cell_type": "code",
   "execution_count": 100,
   "id": "5be695b3",
   "metadata": {},
   "outputs": [],
   "source": [
    "temp_df_process_2 = temp_df_process_2.withColumn('Gross Amount', col('Gross Amount').cast('float'))\n",
    "temp_df_process_2 = temp_df_process_2.withColumn('Payment', col('Payment').cast('float'))\n",
    "temp_df_process_2 = temp_df_process_2.withColumn('Days Open', col('Days Open').cast('float'))"
   ]
  },
  {
   "cell_type": "code",
   "execution_count": 101,
   "id": "eca77f50",
   "metadata": {},
   "outputs": [],
   "source": [
    "groupby_df_process_2 =temp_df_process_2.groupBy(['Transaction ID',\"Document Number\"])"
   ]
  },
  {
   "cell_type": "code",
   "execution_count": 102,
   "id": "104b74a9",
   "metadata": {},
   "outputs": [
    {
     "data": {
      "text/plain": [
       "[('Transaction ID', 'string'),\n",
       " ('Document Number', 'string'),\n",
       " ('Transaction Type', 'string'),\n",
       " ('Project ID', 'string'),\n",
       " ('Customer', 'string'),\n",
       " ('Terms', 'string'),\n",
       " ('Currency', 'string'),\n",
       " ('Gross Amount', 'float'),\n",
       " ('Payment', 'float'),\n",
       " ('Open Balance', 'string'),\n",
       " ('Transaction Create Date', 'string'),\n",
       " ('Document Date', 'string'),\n",
       " ('Due Date', 'string'),\n",
       " ('Days Open', 'float'),\n",
       " ('Service Dates', 'string'),\n",
       " ('Payment Receipt Date', 'string')]"
      ]
     },
     "execution_count": 102,
     "metadata": {},
     "output_type": "execute_result"
    }
   ],
   "source": [
    "temp_df_process_2.dtypes"
   ]
  },
  {
   "cell_type": "code",
   "execution_count": 103,
   "id": "be9ed241",
   "metadata": {},
   "outputs": [],
   "source": [
    "#     \"Transaction Type\": first(col(\"Transaction Type\")),  # Pick the first occurrence of \"Payment Type\"\n",
    "#     \"Project ID\": max(col(\"Profit\"))  # Calculate the maximum profit\n",
    "#     \"Customer\": first(col(\"Customer\")),\n",
    "#     \"Terms\": first(col(\"Terms\")),\n",
    "#     \"Currency\": first(col(\"Currency\")),\n",
    "#     \"Gross Amount\": min(col(\"Gross Amount\")),\n",
    "#     \"Payment\": max(col(\"Payment\")),\n",
    "#     \"Open Balance\": max(col(\"Open Balance\")),\n",
    "#     \"Transaction Create Date\": max(col(\"Transaction Create Date\")),\n",
    "#     \"Document Date\": max(col(\"Document Date\")),\n",
    "#     \"Due Date\": max(col(\"Due Date\")),\n",
    "#     \"Days Open\": max(col(\"Days Open\")),\n",
    "#     \"Service Dates\": max(col(\"Service Dates\")),\n",
    "#     \"Payment Receipt Date\": col(\"Payment Receipt Date\")"
   ]
  },
  {
   "cell_type": "code",
   "execution_count": 104,
   "id": "51d6ff2b",
   "metadata": {},
   "outputs": [],
   "source": [
    "agg_exprs = {\n",
    "    \"Transaction Type\": 'first',  # Pick the first occurrence of \"Payment Type\"\n",
    "    \"Project ID\": 'first',  # Calculate the maximum profit\n",
    "    \"Customer\": 'first',\n",
    "    \"Terms\": 'first',\n",
    "    \"Currency\": 'first',\n",
    "    \"Gross Amount\": 'min',\n",
    "    \"Payment\": 'max',\n",
    "    \"Open Balance\": 'max',\n",
    "    \"Transaction Create Date\": 'max',\n",
    "    \"Document Date\": 'max',\n",
    "    \"Due Date\": 'max',\n",
    "    \"Days Open\": 'max',\n",
    "    \"Service Dates\": 'max',\n",
    "    \"Payment Receipt Date\": 'first'}\n"
   ]
  },
  {
   "cell_type": "code",
   "execution_count": 105,
   "id": "fd9cf7a1",
   "metadata": {},
   "outputs": [
    {
     "data": {
      "text/plain": [
       "pyspark.sql.column.Column"
      ]
     },
     "execution_count": 105,
     "metadata": {},
     "output_type": "execute_result"
    }
   ],
   "source": [
    "type(first(col(\"Transaction Type\")))"
   ]
  },
  {
   "cell_type": "code",
   "execution_count": 106,
   "id": "39543ae7",
   "metadata": {},
   "outputs": [],
   "source": [
    "# groupby_df_process_2.agg(agg_exprs).count()"
   ]
  },
  {
   "cell_type": "code",
   "execution_count": 107,
   "id": "01058292",
   "metadata": {},
   "outputs": [],
   "source": [
    "process_df_result = groupby_df_process_2.agg(agg_exprs)"
   ]
  },
  {
   "cell_type": "code",
   "execution_count": 108,
   "id": "19a9a275",
   "metadata": {},
   "outputs": [],
   "source": [
    "# column got renamed need to look for other way, there is one commented above but causing some error\n",
    "for column in process_df_result.columns:\n",
    "#     print(column)\n",
    "    new_column = column\n",
    "    remove_list = [\"max\",\"min\",\"(\",\")\",\"first\"]\n",
    "    for char in remove_list:\n",
    "#         print(char)\n",
    "        if char in new_column:\n",
    "            new_column=new_column.replace(char,\"\")\n",
    "    process_df_result=process_df_result.withColumnRenamed(column,new_column)\n",
    "    \n",
    "    "
   ]
  },
  {
   "cell_type": "code",
   "execution_count": 109,
   "id": "0fa8abe2",
   "metadata": {},
   "outputs": [],
   "source": [
    "# process_df_result.columns"
   ]
  },
  {
   "cell_type": "code",
   "execution_count": 110,
   "id": "e83b3d04",
   "metadata": {},
   "outputs": [],
   "source": [
    "process_df_result = process_df_result.withColumn('Outstanding', lit('Cleared'))\n",
    "process_df_result=process_df_result.withColumn('Applying Link Amount', -col(\"Payment\"))"
   ]
  },
  {
   "cell_type": "code",
   "execution_count": 111,
   "id": "72ccf85a",
   "metadata": {},
   "outputs": [
    {
     "name": "stdout",
     "output_type": "stream",
     "text": [
      "+--------------+-----------+--------------------+\n",
      "|Transaction ID|Outstanding|Applying Link Amount|\n",
      "+--------------+-----------+--------------------+\n",
      "|       3191846|    Cleared|              -84.87|\n",
      "|       3196377|    Cleared|              -243.0|\n",
      "|       3152869|    Cleared|            -1394.96|\n",
      "|       3136755|    Cleared|                -0.0|\n",
      "|       3117490|    Cleared|             -111.29|\n",
      "|       3119866|    Cleared|            -1397.43|\n",
      "|       3051990|    Cleared|             -525.98|\n",
      "|       3034098|    Cleared|              -19.48|\n",
      "|       2979232|    Cleared|              -119.6|\n",
      "|       2889570|    Cleared|            -2857.77|\n",
      "|       2840729|    Cleared|             -1000.0|\n",
      "|       3195531|    Cleared|                -0.0|\n",
      "|       3198467|    Cleared|             -446.38|\n",
      "|       3154622|    Cleared|                -0.0|\n",
      "|       3114388|    Cleared|               -0.08|\n",
      "|       3049865|    Cleared|                -0.0|\n",
      "|       3050589|    Cleared|                -0.0|\n",
      "|       3037054|    Cleared|             -185.24|\n",
      "|       3013001|    Cleared|               -0.01|\n",
      "|       2971297|    Cleared|               -0.17|\n",
      "+--------------+-----------+--------------------+\n",
      "only showing top 20 rows\n",
      "\n"
     ]
    }
   ],
   "source": [
    "process_df_result.select([\"Transaction ID\", \"Outstanding\",\"Applying Link Amount\"]).show()"
   ]
  },
  {
   "cell_type": "code",
   "execution_count": 112,
   "id": "d67c1b55",
   "metadata": {},
   "outputs": [
    {
     "name": "stdout",
     "output_type": "stream",
     "text": [
      "Output Result : 14286\n"
     ]
    }
   ],
   "source": [
    "print(\"Output Result :\", process_df_result.count())"
   ]
  },
  {
   "cell_type": "markdown",
   "id": "d07a9529",
   "metadata": {},
   "source": [
    "### Output : process_df_result"
   ]
  },
  {
   "cell_type": "markdown",
   "id": "8af9b4b0",
   "metadata": {},
   "source": [
    "## 3. Tranasaction Type  != \"Credit Memo\""
   ]
  },
  {
   "cell_type": "code",
   "execution_count": 113,
   "id": "b3b222d4",
   "metadata": {},
   "outputs": [
    {
     "data": {
      "text/plain": [
       "382148"
      ]
     },
     "execution_count": 113,
     "metadata": {},
     "output_type": "execute_result"
    }
   ],
   "source": [
    "sales_report_kmpg_july.count()"
   ]
  },
  {
   "cell_type": "code",
   "execution_count": 114,
   "id": "2e3d60f7",
   "metadata": {},
   "outputs": [
    {
     "name": "stdout",
     "output_type": "stream",
     "text": [
      "+----------------+\n",
      "|Transaction Type|\n",
      "+----------------+\n",
      "|     Credit Memo|\n",
      "|         Invoice|\n",
      "|            null|\n",
      "+----------------+\n",
      "\n"
     ]
    }
   ],
   "source": [
    "sales_report_kmpg_july.select(\"Transaction Type\").distinct().show()"
   ]
  },
  {
   "cell_type": "code",
   "execution_count": 115,
   "id": "8fea6022",
   "metadata": {},
   "outputs": [
    {
     "name": "stdout",
     "output_type": "stream",
     "text": [
      "Input : 366688\n"
     ]
    }
   ],
   "source": [
    "temp_df_process_3=sales_report_kmpg_july.filter(sales_report_kmpg_july['Transaction Type'] != 'Credit Memo')\n",
    "print(\"Input :\", temp_df_process_3.count())"
   ]
  },
  {
   "cell_type": "code",
   "execution_count": 116,
   "id": "c3937d12",
   "metadata": {},
   "outputs": [],
   "source": [
    "temp_df_process_3 = temp_df_process_3.withColumn('Customer', upper(trim(col('Customer'))))"
   ]
  },
  {
   "cell_type": "code",
   "execution_count": 117,
   "id": "12be1452",
   "metadata": {},
   "outputs": [
    {
     "data": {
      "text/plain": [
       "366688"
      ]
     },
     "execution_count": 117,
     "metadata": {},
     "output_type": "execute_result"
    }
   ],
   "source": [
    "temp_df_process_3.select('Customer').count()"
   ]
  },
  {
   "cell_type": "code",
   "execution_count": 118,
   "id": "2c4a2dfe",
   "metadata": {},
   "outputs": [
    {
     "data": {
      "text/plain": [
       "DataFrame[Transaction Type: string]"
      ]
     },
     "execution_count": 118,
     "metadata": {},
     "output_type": "execute_result"
    }
   ],
   "source": [
    "temp_df_process_3.filter(col('Transaction Type').like('% %')).select('Transaction Type')"
   ]
  },
  {
   "cell_type": "code",
   "execution_count": 331,
   "id": "1a7419af",
   "metadata": {},
   "outputs": [
    {
     "data": {
      "text/plain": [
       "366688"
      ]
     },
     "execution_count": 331,
     "metadata": {},
     "output_type": "execute_result"
    }
   ],
   "source": [
    "temp_df_process_3.count()"
   ]
  },
  {
   "cell_type": "code",
   "execution_count": 274,
   "id": "e3d7f44a",
   "metadata": {},
   "outputs": [],
   "source": []
  },
  {
   "cell_type": "markdown",
   "id": "8b7f7210",
   "metadata": {},
   "source": [
    "# customer_payment_history \n",
    "customer_payment_history =customer_payment_history.withColumn('Date', date_format(to_date(customer_payment_history['Date'],'M/d/yyyy'),'yyyy-MM-dd' ))"
   ]
  },
  {
   "cell_type": "code",
   "execution_count": 319,
   "id": "30ad1782",
   "metadata": {},
   "outputs": [],
   "source": [
    "# customer_payment_history.filter(col(\"payment Date\").isNull()).count()\n",
    "# customer_payment_history.filter(col(\"Payment Date\").rlike(r\"^\\d{1,2}/\\d{1,2}/\\d{4}$\")).count()\n",
    "# customer_payment_history.filter(col('Payment Date').like('%1/1/1900%')).select('Payment Date').show()\n",
    "# customer_payment_history =customer_payment_history.withColumn('Date', to_date(customer_payment_history['Date'],'M/d/yyyy'))\n",
    "# customer_payment_history =customer_payment_history.withColumn('Date', date_format(to_date(customer_payment_history['Date'],'M/d/yyyy'),'yyyy-MM-dd' ))\n",
    "# customer_payment_history =customer_payment_history.withColumn('Date', date_format(customer_payment_history['Date'], 'MM/dd/yyyy'))\n",
    "# customer_payment_history =customer_payment_history.withColumn('Date', to_date(customer_payment_history['Date'],'yyyy-MM-dd' ))\n",
    "# customer_payment_history = customer_payment_history.fillna('1/1/1900',subset=['Payment Date'])\n",
    "# customer_payment_history =customer_payment_history.withColumn('Payment Date', to_date(date_format(customer_payment_history['Payment Date'],'yyyy-MM-dd'),'M/d/yyyy' ))\n",
    "# customer_payment_history = customer_payment_history.withColumn('Document Number', upper(trim(col('Document Number'))))"
   ]
  },
  {
   "cell_type": "code",
   "execution_count": 320,
   "id": "dfc34cc5",
   "metadata": {},
   "outputs": [],
   "source": [
    "customer_payment_history = spark.read.options(inferSchema='True').csv('csv_converted\\Customer_Payment_history_july.csv', header=True, inferSchema=True, sep=',')"
   ]
  },
  {
   "cell_type": "code",
   "execution_count": 321,
   "id": "5cfade0d",
   "metadata": {},
   "outputs": [],
   "source": [
    "customer_payment_history=customer_payment_history.withColumnRenamed('Currency0','Currency')\n",
    "customer_payment_history=customer_payment_history.withColumnRenamed('Currency24','Currency2')\n",
    "customer_payment_history=customer_payment_history.withColumnRenamed('Approved for Email10','Approved for Email')\n",
    "customer_payment_history=customer_payment_history.withColumnRenamed('Approved for Email44','Approved for Email')"
   ]
  },
  {
   "cell_type": "code",
   "execution_count": 322,
   "id": "13857c5f",
   "metadata": {},
   "outputs": [],
   "source": [
    "customer_payment_history =customer_payment_history.withColumn('Date', to_date(customer_payment_history['Date'],'M/d/yyyy'))"
   ]
  },
  {
   "cell_type": "code",
   "execution_count": 323,
   "id": "5fc9fdc6",
   "metadata": {},
   "outputs": [],
   "source": [
    "customer_payment_history =customer_payment_history.withColumn('Payment Date', to_date(customer_payment_history['Payment Date'],'M/d/yyyy'))"
   ]
  },
  {
   "cell_type": "code",
   "execution_count": 324,
   "id": "18aec2f6",
   "metadata": {},
   "outputs": [],
   "source": [
    "customer_payment_history= customer_payment_history.withColumnRenamed(\"Payment Date\", \"Payment Date2\")"
   ]
  },
  {
   "cell_type": "code",
   "execution_count": 325,
   "id": "e17941a4",
   "metadata": {},
   "outputs": [],
   "source": [
    "customer_payment_history= customer_payment_history.withColumn(\"Payment Date\", customer_payment_history[\"Date\"])"
   ]
  },
  {
   "cell_type": "code",
   "execution_count": 326,
   "id": "781f6a8a",
   "metadata": {},
   "outputs": [
    {
     "data": {
      "text/plain": [
       "315676"
      ]
     },
     "execution_count": 326,
     "metadata": {},
     "output_type": "execute_result"
    }
   ],
   "source": [
    "customer_payment_history.filter((customer_payment_history['Payment Date'] >= \"2018-10-01\") & (customer_payment_history['Payment Date'] <= \"2023-07-31\")).count()"
   ]
  },
  {
   "cell_type": "markdown",
   "id": "d5848ee9",
   "metadata": {},
   "source": [
    "# Inner join output of 2 and 3"
   ]
  },
  {
   "cell_type": "code",
   "execution_count": 345,
   "id": "39bbc681",
   "metadata": {},
   "outputs": [
    {
     "name": "stdout",
     "output_type": "stream",
     "text": [
      "366688 315677\n"
     ]
    }
   ],
   "source": [
    "print( temp_df_process_3.count(),customer_payment_history.count())"
   ]
  },
  {
   "cell_type": "code",
   "execution_count": 346,
   "id": "30344663",
   "metadata": {},
   "outputs": [],
   "source": [
    "process3_paymenthistory_inner = temp_df_process_3.join(customer_payment_history, on='Document Number', how='inner')"
   ]
  },
  {
   "cell_type": "code",
   "execution_count": 347,
   "id": "80eef4e1",
   "metadata": {},
   "outputs": [
    {
     "data": {
      "text/plain": [
       "315678"
      ]
     },
     "execution_count": 347,
     "metadata": {},
     "output_type": "execute_result"
    }
   ],
   "source": [
    "process3_paymenthistory_inner.count()"
   ]
  },
  {
   "cell_type": "code",
   "execution_count": 348,
   "id": "d59eb461",
   "metadata": {},
   "outputs": [],
   "source": [
    "# process3_paymenthistory_inner.tail(1)"
   ]
  },
  {
   "cell_type": "code",
   "execution_count": 349,
   "id": "93fdfc55",
   "metadata": {},
   "outputs": [],
   "source": [
    "process3_paymenthistory_inner = process3_paymenthistory_inner.withColumn('Outstanding', lit('Cleared'))"
   ]
  },
  {
   "cell_type": "code",
   "execution_count": 353,
   "id": "6589de68",
   "metadata": {},
   "outputs": [
    {
     "name": "stdout",
     "output_type": "stream",
     "text": [
      "14286 3948 315678\n"
     ]
    }
   ],
   "source": [
    "print(process_df_result.count(), temp_df.count(),process3_paymenthistory_inner.count() )"
   ]
  },
  {
   "cell_type": "code",
   "execution_count": 374,
   "id": "a7a10fae",
   "metadata": {},
   "outputs": [],
   "source": [
    "column_names=set()\n",
    "for df in [process_df_result, temp_df,process3_paymenthistory_inner]:\n",
    "    for column in df.columns:\n",
    "        column_names.add(column)\n",
    "column_names = list(column_names)"
   ]
  },
  {
   "cell_type": "code",
   "execution_count": 375,
   "id": "fa949807",
   "metadata": {},
   "outputs": [],
   "source": [
    "for df in [process_df_result, temp_df,process3_paymenthistory_inner]:\n",
    "    for column in column_names:\n",
    "        if column not in df.columns:\n",
    "            df = df.withColumn(column,lit(None).cast(\"string\"))"
   ]
  },
  {
   "cell_type": "code",
   "execution_count": 360,
   "id": "a0327cc2",
   "metadata": {},
   "outputs": [
    {
     "data": {
      "text/plain": [
       "['Transaction ID',\n",
       " 'Document Number',\n",
       " 'Payment Receipt Date',\n",
       " 'Terms',\n",
       " 'Due Date',\n",
       " 'Days Open',\n",
       " 'Service Dates',\n",
       " 'Transaction Type',\n",
       " 'Currency',\n",
       " 'Customer',\n",
       " 'Open Balance',\n",
       " 'Gross Amount',\n",
       " 'Payment',\n",
       " 'Project ID',\n",
       " 'Document Date',\n",
       " 'Transaction Create Date',\n",
       " 'Outstanding',\n",
       " 'Applying Link Amount']"
      ]
     },
     "execution_count": 360,
     "metadata": {},
     "output_type": "execute_result"
    }
   ],
   "source": [
    "process_df_result.columns"
   ]
  },
  {
   "cell_type": "code",
   "execution_count": null,
   "id": "584c38d4",
   "metadata": {},
   "outputs": [],
   "source": [
    "temp_df.unionByName"
   ]
  },
  {
   "cell_type": "code",
   "execution_count": 376,
   "id": "ac749409",
   "metadata": {
    "scrolled": false
   },
   "outputs": [
    {
     "ename": "AnalysisException",
     "evalue": "[NUM_COLUMNS_MISMATCH] UNION can only be performed on inputs with the same number of columns, but the first input has 17 columns and the second input has 18 columns.;\n'Union false, false\n:- Project [Transaction ID#3733, Document Number#3751, Transaction Type#3768, Project ID#3785, Customer#3802, Terms#3819, Currency#3836, Gross Amount#4074, Payment#4159, cast(Open Balance#4244 as float) AS Open Balance#4489, Transaction Create Date#3904, Document Date#3921, Due Date#3938, Days Open#4329, Service Dates#3972, Payment Receipt Date#3989, Open AS Outstanding#4471]\n:  +- Filter NOT (Open Balance#4244 = 0.00)\n:     +- Project [Transaction ID#3733, Document Number#3751, Transaction Type#3768, Project ID#3785, Customer#3802, Terms#3819, Currency#3836, Gross Amount#4074, Payment#4159, Open Balance#4244, Transaction Create Date#3904, Document Date#3921, Due Date#3938, regexp_replace(Days Open#4312, \\), , 1) AS Days Open#4329, Service Dates#3972, Payment Receipt Date#3989]\n:        +- Project [Transaction ID#3733, Document Number#3751, Transaction Type#3768, Project ID#3785, Customer#3802, Terms#3819, Currency#3836, Gross Amount#4074, Payment#4159, Open Balance#4244, Transaction Create Date#3904, Document Date#3921, Due Date#3938, regexp_replace(Days Open#4295, \\(, , 1) AS Days Open#4312, Service Dates#3972, Payment Receipt Date#3989]\n:           +- Project [Transaction ID#3733, Document Number#3751, Transaction Type#3768, Project ID#3785, Customer#3802, Terms#3819, Currency#3836, Gross Amount#4074, Payment#4159, Open Balance#4244, Transaction Create Date#3904, Document Date#3921, Due Date#3938, regexp_replace(Days Open#4278, ,, , 1) AS Days Open#4295, Service Dates#3972, Payment Receipt Date#3989]\n:              +- Project [Transaction ID#3733, Document Number#3751, Transaction Type#3768, Project ID#3785, Customer#3802, Terms#3819, Currency#3836, Gross Amount#4074, Payment#4159, Open Balance#4244, Transaction Create Date#3904, Document Date#3921, Due Date#3938, regexp_replace(Days Open#4261, \\$, , 1) AS Days Open#4278, Service Dates#3972, Payment Receipt Date#3989]\n:                 +- Project [Transaction ID#3733, Document Number#3751, Transaction Type#3768, Project ID#3785, Customer#3802, Terms#3819, Currency#3836, Gross Amount#4074, Payment#4159, Open Balance#4244, Transaction Create Date#3904, Document Date#3921, Due Date#3938, regexp_replace(Days Open#3955, Can, , 1) AS Days Open#4261, Service Dates#3972, Payment Receipt Date#3989]\n:                    +- Project [Transaction ID#3733, Document Number#3751, Transaction Type#3768, Project ID#3785, Customer#3802, Terms#3819, Currency#3836, Gross Amount#4074, Payment#4159, regexp_replace(Open Balance#4227, \\), , 1) AS Open Balance#4244, Transaction Create Date#3904, Document Date#3921, Due Date#3938, Days Open#3955, Service Dates#3972, Payment Receipt Date#3989]\n:                       +- Project [Transaction ID#3733, Document Number#3751, Transaction Type#3768, Project ID#3785, Customer#3802, Terms#3819, Currency#3836, Gross Amount#4074, Payment#4159, regexp_replace(Open Balance#4210, \\(, , 1) AS Open Balance#4227, Transaction Create Date#3904, Document Date#3921, Due Date#3938, Days Open#3955, Service Dates#3972, Payment Receipt Date#3989]\n:                          +- Project [Transaction ID#3733, Document Number#3751, Transaction Type#3768, Project ID#3785, Customer#3802, Terms#3819, Currency#3836, Gross Amount#4074, Payment#4159, regexp_replace(Open Balance#4193, ,, , 1) AS Open Balance#4210, Transaction Create Date#3904, Document Date#3921, Due Date#3938, Days Open#3955, Service Dates#3972, Payment Receipt Date#3989]\n:                             +- Project [Transaction ID#3733, Document Number#3751, Transaction Type#3768, Project ID#3785, Customer#3802, Terms#3819, Currency#3836, Gross Amount#4074, Payment#4159, regexp_replace(Open Balance#4176, \\$, , 1) AS Open Balance#4193, Transaction Create Date#3904, Document Date#3921, Due Date#3938, Days Open#3955, Service Dates#3972, Payment Receipt Date#3989]\n:                                +- Project [Transaction ID#3733, Document Number#3751, Transaction Type#3768, Project ID#3785, Customer#3802, Terms#3819, Currency#3836, Gross Amount#4074, Payment#4159, regexp_replace(Open Balance#3887, Can, , 1) AS Open Balance#4176, Transaction Create Date#3904, Document Date#3921, Due Date#3938, Days Open#3955, Service Dates#3972, Payment Receipt Date#3989]\n:                                   +- Project [Transaction ID#3733, Document Number#3751, Transaction Type#3768, Project ID#3785, Customer#3802, Terms#3819, Currency#3836, Gross Amount#4074, regexp_replace(Payment#4142, \\), , 1) AS Payment#4159, Open Balance#3887, Transaction Create Date#3904, Document Date#3921, Due Date#3938, Days Open#3955, Service Dates#3972, Payment Receipt Date#3989]\n:                                      +- Project [Transaction ID#3733, Document Number#3751, Transaction Type#3768, Project ID#3785, Customer#3802, Terms#3819, Currency#3836, Gross Amount#4074, regexp_replace(Payment#4125, \\(, , 1) AS Payment#4142, Open Balance#3887, Transaction Create Date#3904, Document Date#3921, Due Date#3938, Days Open#3955, Service Dates#3972, Payment Receipt Date#3989]\n:                                         +- Project [Transaction ID#3733, Document Number#3751, Transaction Type#3768, Project ID#3785, Customer#3802, Terms#3819, Currency#3836, Gross Amount#4074, regexp_replace(Payment#4108, ,, , 1) AS Payment#4125, Open Balance#3887, Transaction Create Date#3904, Document Date#3921, Due Date#3938, Days Open#3955, Service Dates#3972, Payment Receipt Date#3989]\n:                                            +- Project [Transaction ID#3733, Document Number#3751, Transaction Type#3768, Project ID#3785, Customer#3802, Terms#3819, Currency#3836, Gross Amount#4074, regexp_replace(Payment#4091, \\$, , 1) AS Payment#4108, Open Balance#3887, Transaction Create Date#3904, Document Date#3921, Due Date#3938, Days Open#3955, Service Dates#3972, Payment Receipt Date#3989]\n:                                               +- Project [Transaction ID#3733, Document Number#3751, Transaction Type#3768, Project ID#3785, Customer#3802, Terms#3819, Currency#3836, Gross Amount#4074, regexp_replace(Payment#3870, Can, , 1) AS Payment#4091, Open Balance#3887, Transaction Create Date#3904, Document Date#3921, Due Date#3938, Days Open#3955, Service Dates#3972, Payment Receipt Date#3989]\n:                                                  +- Project [Transaction ID#3733, Document Number#3751, Transaction Type#3768, Project ID#3785, Customer#3802, Terms#3819, Currency#3836, regexp_replace(Gross Amount#4057, \\), , 1) AS Gross Amount#4074, Payment#3870, Open Balance#3887, Transaction Create Date#3904, Document Date#3921, Due Date#3938, Days Open#3955, Service Dates#3972, Payment Receipt Date#3989]\n:                                                     +- Project [Transaction ID#3733, Document Number#3751, Transaction Type#3768, Project ID#3785, Customer#3802, Terms#3819, Currency#3836, regexp_replace(Gross Amount#4040, \\(, , 1) AS Gross Amount#4057, Payment#3870, Open Balance#3887, Transaction Create Date#3904, Document Date#3921, Due Date#3938, Days Open#3955, Service Dates#3972, Payment Receipt Date#3989]\n:                                                        +- Project [Transaction ID#3733, Document Number#3751, Transaction Type#3768, Project ID#3785, Customer#3802, Terms#3819, Currency#3836, regexp_replace(Gross Amount#4023, ,, , 1) AS Gross Amount#4040, Payment#3870, Open Balance#3887, Transaction Create Date#3904, Document Date#3921, Due Date#3938, Days Open#3955, Service Dates#3972, Payment Receipt Date#3989]\n:                                                           +- Project [Transaction ID#3733, Document Number#3751, Transaction Type#3768, Project ID#3785, Customer#3802, Terms#3819, Currency#3836, regexp_replace(Gross Amount#4006, \\$, , 1) AS Gross Amount#4023, Payment#3870, Open Balance#3887, Transaction Create Date#3904, Document Date#3921, Due Date#3938, Days Open#3955, Service Dates#3972, Payment Receipt Date#3989]\n:                                                              +- Project [Transaction ID#3733, Document Number#3751, Transaction Type#3768, Project ID#3785, Customer#3802, Terms#3819, Currency#3836, regexp_replace(Gross Amount#3853, Can, , 1) AS Gross Amount#4006, Payment#3870, Open Balance#3887, Transaction Create Date#3904, Document Date#3921, Due Date#3938, Days Open#3955, Service Dates#3972, Payment Receipt Date#3989]\n:                                                                 +- Project [Transaction ID#3733, Document Number#3751, Transaction Type#3768, Project ID#3785, Customer#3802, Terms#3819, Currency#3836, Gross Amount#3853, Payment#3870, Open Balance#3887, Transaction Create Date#3904, Document Date#3921, Due Date#3938, Days Open#3955, Service Dates#3972, trim(Payment Receipt Date#3716, None) AS Payment Receipt Date#3989]\n:                                                                    +- Project [Transaction ID#3733, Document Number#3751, Transaction Type#3768, Project ID#3785, Customer#3802, Terms#3819, Currency#3836, Gross Amount#3853, Payment#3870, Open Balance#3887, Transaction Create Date#3904, Document Date#3921, Due Date#3938, Days Open#3955, trim(Service Dates#3715, None) AS Service Dates#3972, Payment Receipt Date#3716]\n:                                                                       +- Project [Transaction ID#3733, Document Number#3751, Transaction Type#3768, Project ID#3785, Customer#3802, Terms#3819, Currency#3836, Gross Amount#3853, Payment#3870, Open Balance#3887, Transaction Create Date#3904, Document Date#3921, Due Date#3938, trim(cast(Days Open#3714 as string), None) AS Days Open#3955, Service Dates#3715, Payment Receipt Date#3716]\n:                                                                          +- Project [Transaction ID#3733, Document Number#3751, Transaction Type#3768, Project ID#3785, Customer#3802, Terms#3819, Currency#3836, Gross Amount#3853, Payment#3870, Open Balance#3887, Transaction Create Date#3904, Document Date#3921, trim(Due Date#3713, None) AS Due Date#3938, Days Open#3714, Service Dates#3715, Payment Receipt Date#3716]\n:                                                                             +- Project [Transaction ID#3733, Document Number#3751, Transaction Type#3768, Project ID#3785, Customer#3802, Terms#3819, Currency#3836, Gross Amount#3853, Payment#3870, Open Balance#3887, Transaction Create Date#3904, trim(Document Date#3712, None) AS Document Date#3921, Due Date#3713, Days Open#3714, Service Dates#3715, Payment Receipt Date#3716]\n:                                                                                +- Project [Transaction ID#3733, Document Number#3751, Transaction Type#3768, Project ID#3785, Customer#3802, Terms#3819, Currency#3836, Gross Amount#3853, Payment#3870, Open Balance#3887, trim(Transaction Create Date#3711, None) AS Transaction Create Date#3904, Document Date#3712, Due Date#3713, Days Open#3714, Service Dates#3715, Payment Receipt Date#3716]\n:                                                                                   +- Project [Transaction ID#3733, Document Number#3751, Transaction Type#3768, Project ID#3785, Customer#3802, Terms#3819, Currency#3836, Gross Amount#3853, Payment#3870, trim(Open Balance#3710, None) AS Open Balance#3887, Transaction Create Date#3711, Document Date#3712, Due Date#3713, Days Open#3714, Service Dates#3715, Payment Receipt Date#3716]\n:                                                                                      +- Project [Transaction ID#3733, Document Number#3751, Transaction Type#3768, Project ID#3785, Customer#3802, Terms#3819, Currency#3836, Gross Amount#3853, trim(Payment#3709, None) AS Payment#3870, Open Balance#3710, Transaction Create Date#3711, Document Date#3712, Due Date#3713, Days Open#3714, Service Dates#3715, Payment Receipt Date#3716]\n:                                                                                         +- Project [Transaction ID#3733, Document Number#3751, Transaction Type#3768, Project ID#3785, Customer#3802, Terms#3819, Currency#3836, trim(Gross Amount#3708, None) AS Gross Amount#3853, Payment#3709, Open Balance#3710, Transaction Create Date#3711, Document Date#3712, Due Date#3713, Days Open#3714, Service Dates#3715, Payment Receipt Date#3716]\n:                                                                                            +- Project [Transaction ID#3733, Document Number#3751, Transaction Type#3768, Project ID#3785, Customer#3802, Terms#3819, trim(Currency#3707, None) AS Currency#3836, Gross Amount#3708, Payment#3709, Open Balance#3710, Transaction Create Date#3711, Document Date#3712, Due Date#3713, Days Open#3714, Service Dates#3715, Payment Receipt Date#3716]\n:                                                                                               +- Project [Transaction ID#3733, Document Number#3751, Transaction Type#3768, Project ID#3785, Customer#3802, trim(Terms#3706, None) AS Terms#3819, Currency#3707, Gross Amount#3708, Payment#3709, Open Balance#3710, Transaction Create Date#3711, Document Date#3712, Due Date#3713, Days Open#3714, Service Dates#3715, Payment Receipt Date#3716]\n:                                                                                                  +- Project [Transaction ID#3733, Document Number#3751, Transaction Type#3768, Project ID#3785, trim(Customer#3705, None) AS Customer#3802, Terms#3706, Currency#3707, Gross Amount#3708, Payment#3709, Open Balance#3710, Transaction Create Date#3711, Document Date#3712, Due Date#3713, Days Open#3714, Service Dates#3715, Payment Receipt Date#3716]\n:                                                                                                     +- Project [Transaction ID#3733, Document Number#3751, Transaction Type#3768, trim(cast(Project ID#3704 as string), None) AS Project ID#3785, Customer#3705, Terms#3706, Currency#3707, Gross Amount#3708, Payment#3709, Open Balance#3710, Transaction Create Date#3711, Document Date#3712, Due Date#3713, Days Open#3714, Service Dates#3715, Payment Receipt Date#3716]\n:                                                                                                        +- Project [Transaction ID#3733, Document Number#3751, trim(Transaction Type#3703, None) AS Transaction Type#3768, Project ID#3704, Customer#3705, Terms#3706, Currency#3707, Gross Amount#3708, Payment#3709, Open Balance#3710, Transaction Create Date#3711, Document Date#3712, Due Date#3713, Days Open#3714, Service Dates#3715, Payment Receipt Date#3716]\n:                                                                                                           +- Project [Transaction ID#3733, trim(Document Number#3702, None) AS Document Number#3751, Transaction Type#3703, Project ID#3704, Customer#3705, Terms#3706, Currency#3707, Gross Amount#3708, Payment#3709, Open Balance#3710, Transaction Create Date#3711, Document Date#3712, Due Date#3713, Days Open#3714, Service Dates#3715, Payment Receipt Date#3716]\n:                                                                                                              +- Project [trim(cast(Transaction ID#3701 as string), None) AS Transaction ID#3733, Document Number#3702, Transaction Type#3703, Project ID#3704, Customer#3705, Terms#3706, Currency#3707, Gross Amount#3708, Payment#3709, Open Balance#3710, Transaction Create Date#3711, Document Date#3712, Due Date#3713, Days Open#3714, Service Dates#3715, Payment Receipt Date#3716]\n:                                                                                                                 +- Relation [Transaction ID#3701,Document Number#3702,Transaction Type#3703,Project ID#3704,Customer#3705,Terms#3706,Currency#3707,Gross Amount#3708,Payment#3709,Open Balance#3710,Transaction Create Date#3711,Document Date#3712,Due Date#3713,Days Open#3714,Service Dates#3715,Payment Receipt Date#3716] csv\n+- Project [Transaction ID#3733 AS Transaction ID#4675, Document Number#3751 AS Document Number#4692, first(Transaction Type)#4636 AS Transaction Type#4794, first(Project ID)#4642 AS Project ID#4896, first(Customer)#4638 AS Customer#4828, first(Terms)#4632 AS Terms#4726, first(Currency)#4637 AS Currency#4811, min(Gross Amount)#4640 AS Gross Amount#4862, max(Payment)#4641 AS Payment#4879, max(Open Balance)#4639 AS Open Balance#4845, max(Transaction Create Date)#4644 AS Transaction Create Date#4930, max(Document Date)#4643 AS Document Date#4913, max(Due Date)#4633 AS Due Date#4743, max(Days Open)#4634 AS Days Open#4760, max(Service Dates)#4635 AS Service Dates#4777, first(Payment Receipt Date)#4631 AS Payment Receipt Date#4709, Cleared AS Outstanding#4947, -max(Payment)#4641 AS Applying Link Amount#4965]\n   +- Aggregate [Transaction ID#3733, Document Number#3751], [Transaction ID#3733, Document Number#3751, first(Payment Receipt Date#3989, false) AS first(Payment Receipt Date)#4631, first(Terms#3819, false) AS first(Terms)#4632, max(Due Date#3938) AS max(Due Date)#4633, max(Days Open#4597) AS max(Days Open)#4634, max(Service Dates#3972) AS max(Service Dates)#4635, first(Transaction Type#3768, false) AS first(Transaction Type)#4636, first(Currency#3836, false) AS first(Currency)#4637, first(Customer#3802, false) AS first(Customer)#4638, max(Open Balance#4244) AS max(Open Balance)#4639, min(Gross Amount#4563) AS min(Gross Amount)#4640, max(Payment#4580) AS max(Payment)#4641, first(Project ID#3785, false) AS first(Project ID)#4642, max(Document Date#3921) AS max(Document Date)#4643, max(Transaction Create Date#3904) AS max(Transaction Create Date)#4644]\n      +- Project [Transaction ID#3733, Document Number#3751, Transaction Type#3768, Project ID#3785, Customer#3802, Terms#3819, Currency#3836, Gross Amount#4563, Payment#4580, Open Balance#4244, Transaction Create Date#3904, Document Date#3921, Due Date#3938, cast(Days Open#4329 as float) AS Days Open#4597, Service Dates#3972, Payment Receipt Date#3989]\n         +- Project [Transaction ID#3733, Document Number#3751, Transaction Type#3768, Project ID#3785, Customer#3802, Terms#3819, Currency#3836, Gross Amount#4563, cast(Payment#4159 as float) AS Payment#4580, Open Balance#4244, Transaction Create Date#3904, Document Date#3921, Due Date#3938, Days Open#4329, Service Dates#3972, Payment Receipt Date#3989]\n            +- Project [Transaction ID#3733, Document Number#3751, Transaction Type#3768, Project ID#3785, Customer#3802, Terms#3819, Currency#3836, cast(Gross Amount#4074 as float) AS Gross Amount#4563, Payment#4159, Open Balance#4244, Transaction Create Date#3904, Document Date#3921, Due Date#3938, Days Open#4329, Service Dates#3972, Payment Receipt Date#3989]\n               +- Filter (Transaction Type#3768 = Credit Memo)\n                  +- Project [Transaction ID#3733, Document Number#3751, Transaction Type#3768, Project ID#3785, Customer#3802, Terms#3819, Currency#3836, Gross Amount#4074, Payment#4159, Open Balance#4244, Transaction Create Date#3904, Document Date#3921, Due Date#3938, regexp_replace(Days Open#4312, \\), , 1) AS Days Open#4329, Service Dates#3972, Payment Receipt Date#3989]\n                     +- Project [Transaction ID#3733, Document Number#3751, Transaction Type#3768, Project ID#3785, Customer#3802, Terms#3819, Currency#3836, Gross Amount#4074, Payment#4159, Open Balance#4244, Transaction Create Date#3904, Document Date#3921, Due Date#3938, regexp_replace(Days Open#4295, \\(, , 1) AS Days Open#4312, Service Dates#3972, Payment Receipt Date#3989]\n                        +- Project [Transaction ID#3733, Document Number#3751, Transaction Type#3768, Project ID#3785, Customer#3802, Terms#3819, Currency#3836, Gross Amount#4074, Payment#4159, Open Balance#4244, Transaction Create Date#3904, Document Date#3921, Due Date#3938, regexp_replace(Days Open#4278, ,, , 1) AS Days Open#4295, Service Dates#3972, Payment Receipt Date#3989]\n                           +- Project [Transaction ID#3733, Document Number#3751, Transaction Type#3768, Project ID#3785, Customer#3802, Terms#3819, Currency#3836, Gross Amount#4074, Payment#4159, Open Balance#4244, Transaction Create Date#3904, Document Date#3921, Due Date#3938, regexp_replace(Days Open#4261, \\$, , 1) AS Days Open#4278, Service Dates#3972, Payment Receipt Date#3989]\n                              +- Project [Transaction ID#3733, Document Number#3751, Transaction Type#3768, Project ID#3785, Customer#3802, Terms#3819, Currency#3836, Gross Amount#4074, Payment#4159, Open Balance#4244, Transaction Create Date#3904, Document Date#3921, Due Date#3938, regexp_replace(Days Open#3955, Can, , 1) AS Days Open#4261, Service Dates#3972, Payment Receipt Date#3989]\n                                 +- Project [Transaction ID#3733, Document Number#3751, Transaction Type#3768, Project ID#3785, Customer#3802, Terms#3819, Currency#3836, Gross Amount#4074, Payment#4159, regexp_replace(Open Balance#4227, \\), , 1) AS Open Balance#4244, Transaction Create Date#3904, Document Date#3921, Due Date#3938, Days Open#3955, Service Dates#3972, Payment Receipt Date#3989]\n                                    +- Project [Transaction ID#3733, Document Number#3751, Transaction Type#3768, Project ID#3785, Customer#3802, Terms#3819, Currency#3836, Gross Amount#4074, Payment#4159, regexp_replace(Open Balance#4210, \\(, , 1) AS Open Balance#4227, Transaction Create Date#3904, Document Date#3921, Due Date#3938, Days Open#3955, Service Dates#3972, Payment Receipt Date#3989]\n                                       +- Project [Transaction ID#3733, Document Number#3751, Transaction Type#3768, Project ID#3785, Customer#3802, Terms#3819, Currency#3836, Gross Amount#4074, Payment#4159, regexp_replace(Open Balance#4193, ,, , 1) AS Open Balance#4210, Transaction Create Date#3904, Document Date#3921, Due Date#3938, Days Open#3955, Service Dates#3972, Payment Receipt Date#3989]\n                                          +- Project [Transaction ID#3733, Document Number#3751, Transaction Type#3768, Project ID#3785, Customer#3802, Terms#3819, Currency#3836, Gross Amount#4074, Payment#4159, regexp_replace(Open Balance#4176, \\$, , 1) AS Open Balance#4193, Transaction Create Date#3904, Document Date#3921, Due Date#3938, Days Open#3955, Service Dates#3972, Payment Receipt Date#3989]\n                                             +- Project [Transaction ID#3733, Document Number#3751, Transaction Type#3768, Project ID#3785, Customer#3802, Terms#3819, Currency#3836, Gross Amount#4074, Payment#4159, regexp_replace(Open Balance#3887, Can, , 1) AS Open Balance#4176, Transaction Create Date#3904, Document Date#3921, Due Date#3938, Days Open#3955, Service Dates#3972, Payment Receipt Date#3989]\n                                                +- Project [Transaction ID#3733, Document Number#3751, Transaction Type#3768, Project ID#3785, Customer#3802, Terms#3819, Currency#3836, Gross Amount#4074, regexp_replace(Payment#4142, \\), , 1) AS Payment#4159, Open Balance#3887, Transaction Create Date#3904, Document Date#3921, Due Date#3938, Days Open#3955, Service Dates#3972, Payment Receipt Date#3989]\n                                                   +- Project [Transaction ID#3733, Document Number#3751, Transaction Type#3768, Project ID#3785, Customer#3802, Terms#3819, Currency#3836, Gross Amount#4074, regexp_replace(Payment#4125, \\(, , 1) AS Payment#4142, Open Balance#3887, Transaction Create Date#3904, Document Date#3921, Due Date#3938, Days Open#3955, Service Dates#3972, Payment Receipt Date#3989]\n                                                      +- Project [Transaction ID#3733, Document Number#3751, Transaction Type#3768, Project ID#3785, Customer#3802, Terms#3819, Currency#3836, Gross Amount#4074, regexp_replace(Payment#4108, ,, , 1) AS Payment#4125, Open Balance#3887, Transaction Create Date#3904, Document Date#3921, Due Date#3938, Days Open#3955, Service Dates#3972, Payment Receipt Date#3989]\n                                                         +- Project [Transaction ID#3733, Document Number#3751, Transaction Type#3768, Project ID#3785, Customer#3802, Terms#3819, Currency#3836, Gross Amount#4074, regexp_replace(Payment#4091, \\$, , 1) AS Payment#4108, Open Balance#3887, Transaction Create Date#3904, Document Date#3921, Due Date#3938, Days Open#3955, Service Dates#3972, Payment Receipt Date#3989]\n                                                            +- Project [Transaction ID#3733, Document Number#3751, Transaction Type#3768, Project ID#3785, Customer#3802, Terms#3819, Currency#3836, Gross Amount#4074, regexp_replace(Payment#3870, Can, , 1) AS Payment#4091, Open Balance#3887, Transaction Create Date#3904, Document Date#3921, Due Date#3938, Days Open#3955, Service Dates#3972, Payment Receipt Date#3989]\n                                                               +- Project [Transaction ID#3733, Document Number#3751, Transaction Type#3768, Project ID#3785, Customer#3802, Terms#3819, Currency#3836, regexp_replace(Gross Amount#4057, \\), , 1) AS Gross Amount#4074, Payment#3870, Open Balance#3887, Transaction Create Date#3904, Document Date#3921, Due Date#3938, Days Open#3955, Service Dates#3972, Payment Receipt Date#3989]\n                                                                  +- Project [Transaction ID#3733, Document Number#3751, Transaction Type#3768, Project ID#3785, Customer#3802, Terms#3819, Currency#3836, regexp_replace(Gross Amount#4040, \\(, , 1) AS Gross Amount#4057, Payment#3870, Open Balance#3887, Transaction Create Date#3904, Document Date#3921, Due Date#3938, Days Open#3955, Service Dates#3972, Payment Receipt Date#3989]\n                                                                     +- Project [Transaction ID#3733, Document Number#3751, Transaction Type#3768, Project ID#3785, Customer#3802, Terms#3819, Currency#3836, regexp_replace(Gross Amount#4023, ,, , 1) AS Gross Amount#4040, Payment#3870, Open Balance#3887, Transaction Create Date#3904, Document Date#3921, Due Date#3938, Days Open#3955, Service Dates#3972, Payment Receipt Date#3989]\n                                                                        +- Project [Transaction ID#3733, Document Number#3751, Transaction Type#3768, Project ID#3785, Customer#3802, Terms#3819, Currency#3836, regexp_replace(Gross Amount#4006, \\$, , 1) AS Gross Amount#4023, Payment#3870, Open Balance#3887, Transaction Create Date#3904, Document Date#3921, Due Date#3938, Days Open#3955, Service Dates#3972, Payment Receipt Date#3989]\n                                                                           +- Project [Transaction ID#3733, Document Number#3751, Transaction Type#3768, Project ID#3785, Customer#3802, Terms#3819, Currency#3836, regexp_replace(Gross Amount#3853, Can, , 1) AS Gross Amount#4006, Payment#3870, Open Balance#3887, Transaction Create Date#3904, Document Date#3921, Due Date#3938, Days Open#3955, Service Dates#3972, Payment Receipt Date#3989]\n                                                                              +- Project [Transaction ID#3733, Document Number#3751, Transaction Type#3768, Project ID#3785, Customer#3802, Terms#3819, Currency#3836, Gross Amount#3853, Payment#3870, Open Balance#3887, Transaction Create Date#3904, Document Date#3921, Due Date#3938, Days Open#3955, Service Dates#3972, trim(Payment Receipt Date#27621, None) AS Payment Receipt Date#3989]\n                                                                                 +- Project [Transaction ID#3733, Document Number#3751, Transaction Type#3768, Project ID#3785, Customer#3802, Terms#3819, Currency#3836, Gross Amount#3853, Payment#3870, Open Balance#3887, Transaction Create Date#3904, Document Date#3921, Due Date#3938, Days Open#3955, trim(Service Dates#27620, None) AS Service Dates#3972, Payment Receipt Date#27621]\n                                                                                    +- Project [Transaction ID#3733, Document Number#3751, Transaction Type#3768, Project ID#3785, Customer#3802, Terms#3819, Currency#3836, Gross Amount#3853, Payment#3870, Open Balance#3887, Transaction Create Date#3904, Document Date#3921, Due Date#3938, trim(cast(Days Open#27619 as string), None) AS Days Open#3955, Service Dates#27620, Payment Receipt Date#27621]\n                                                                                       +- Project [Transaction ID#3733, Document Number#3751, Transaction Type#3768, Project ID#3785, Customer#3802, Terms#3819, Currency#3836, Gross Amount#3853, Payment#3870, Open Balance#3887, Transaction Create Date#3904, Document Date#3921, trim(Due Date#27618, None) AS Due Date#3938, Days Open#27619, Service Dates#27620, Payment Receipt Date#27621]\n                                                                                          +- Project [Transaction ID#3733, Document Number#3751, Transaction Type#3768, Project ID#3785, Customer#3802, Terms#3819, Currency#3836, Gross Amount#3853, Payment#3870, Open Balance#3887, Transaction Create Date#3904, trim(Document Date#27617, None) AS Document Date#3921, Due Date#27618, Days Open#27619, Service Dates#27620, Payment Receipt Date#27621]\n                                                                                             +- Project [Transaction ID#3733, Document Number#3751, Transaction Type#3768, Project ID#3785, Customer#3802, Terms#3819, Currency#3836, Gross Amount#3853, Payment#3870, Open Balance#3887, trim(Transaction Create Date#27616, None) AS Transaction Create Date#3904, Document Date#27617, Due Date#27618, Days Open#27619, Service Dates#27620, Payment Receipt Date#27621]\n                                                                                                +- Project [Transaction ID#3733, Document Number#3751, Transaction Type#3768, Project ID#3785, Customer#3802, Terms#3819, Currency#3836, Gross Amount#3853, Payment#3870, trim(Open Balance#27615, None) AS Open Balance#3887, Transaction Create Date#27616, Document Date#27617, Due Date#27618, Days Open#27619, Service Dates#27620, Payment Receipt Date#27621]\n                                                                                                   +- Project [Transaction ID#3733, Document Number#3751, Transaction Type#3768, Project ID#3785, Customer#3802, Terms#3819, Currency#3836, Gross Amount#3853, trim(Payment#27614, None) AS Payment#3870, Open Balance#27615, Transaction Create Date#27616, Document Date#27617, Due Date#27618, Days Open#27619, Service Dates#27620, Payment Receipt Date#27621]\n                                                                                                      +- Project [Transaction ID#3733, Document Number#3751, Transaction Type#3768, Project ID#3785, Customer#3802, Terms#3819, Currency#3836, trim(Gross Amount#27613, None) AS Gross Amount#3853, Payment#27614, Open Balance#27615, Transaction Create Date#27616, Document Date#27617, Due Date#27618, Days Open#27619, Service Dates#27620, Payment Receipt Date#27621]\n                                                                                                         +- Project [Transaction ID#3733, Document Number#3751, Transaction Type#3768, Project ID#3785, Customer#3802, Terms#3819, trim(Currency#27612, None) AS Currency#3836, Gross Amount#27613, Payment#27614, Open Balance#27615, Transaction Create Date#27616, Document Date#27617, Due Date#27618, Days Open#27619, Service Dates#27620, Payment Receipt Date#27621]\n                                                                                                            +- Project [Transaction ID#3733, Document Number#3751, Transaction Type#3768, Project ID#3785, Customer#3802, trim(Terms#27611, None) AS Terms#3819, Currency#27612, Gross Amount#27613, Payment#27614, Open Balance#27615, Transaction Create Date#27616, Document Date#27617, Due Date#27618, Days Open#27619, Service Dates#27620, Payment Receipt Date#27621]\n                                                                                                               +- Project [Transaction ID#3733, Document Number#3751, Transaction Type#3768, Project ID#3785, trim(Customer#27610, None) AS Customer#3802, Terms#27611, Currency#27612, Gross Amount#27613, Payment#27614, Open Balance#27615, Transaction Create Date#27616, Document Date#27617, Due Date#27618, Days Open#27619, Service Dates#27620, Payment Receipt Date#27621]\n                                                                                                                  +- Project [Transaction ID#3733, Document Number#3751, Transaction Type#3768, trim(cast(Project ID#27609 as string), None) AS Project ID#3785, Customer#27610, Terms#27611, Currency#27612, Gross Amount#27613, Payment#27614, Open Balance#27615, Transaction Create Date#27616, Document Date#27617, Due Date#27618, Days Open#27619, Service Dates#27620, Payment Receipt Date#27621]\n                                                                                                                     +- Project [Transaction ID#3733, Document Number#3751, trim(Transaction Type#27608, None) AS Transaction Type#3768, Project ID#27609, Customer#27610, Terms#27611, Currency#27612, Gross Amount#27613, Payment#27614, Open Balance#27615, Transaction Create Date#27616, Document Date#27617, Due Date#27618, Days Open#27619, Service Dates#27620, Payment Receipt Date#27621]\n                                                                                                                        +- Project [Transaction ID#3733, trim(Document Number#27607, None) AS Document Number#3751, Transaction Type#27608, Project ID#27609, Customer#27610, Terms#27611, Currency#27612, Gross Amount#27613, Payment#27614, Open Balance#27615, Transaction Create Date#27616, Document Date#27617, Due Date#27618, Days Open#27619, Service Dates#27620, Payment Receipt Date#27621]\n                                                                                                                           +- Project [trim(cast(Transaction ID#27606 as string), None) AS Transaction ID#3733, Document Number#27607, Transaction Type#27608, Project ID#27609, Customer#27610, Terms#27611, Currency#27612, Gross Amount#27613, Payment#27614, Open Balance#27615, Transaction Create Date#27616, Document Date#27617, Due Date#27618, Days Open#27619, Service Dates#27620, Payment Receipt Date#27621]\n                                                                                                                              +- Relation [Transaction ID#27606,Document Number#27607,Transaction Type#27608,Project ID#27609,Customer#27610,Terms#27611,Currency#27612,Gross Amount#27613,Payment#27614,Open Balance#27615,Transaction Create Date#27616,Document Date#27617,Due Date#27618,Days Open#27619,Service Dates#27620,Payment Receipt Date#27621] csv\n",
     "output_type": "error",
     "traceback": [
      "\u001b[1;31m---------------------------------------------------------------------------\u001b[0m",
      "\u001b[1;31mAnalysisException\u001b[0m                         Traceback (most recent call last)",
      "Cell \u001b[1;32mIn[376], line 1\u001b[0m\n\u001b[1;32m----> 1\u001b[0m combined_df \u001b[38;5;241m=\u001b[39m temp_df\u001b[38;5;241m.\u001b[39munionByName(process_df_result)\n",
      "File \u001b[1;32m~\\anaconda3\\Lib\\site-packages\\pyspark\\sql\\dataframe.py:3757\u001b[0m, in \u001b[0;36mDataFrame.unionByName\u001b[1;34m(self, other, allowMissingColumns)\u001b[0m\n\u001b[0;32m   3701\u001b[0m \u001b[38;5;28;01mdef\u001b[39;00m \u001b[38;5;21munionByName\u001b[39m(\u001b[38;5;28mself\u001b[39m, other: \u001b[38;5;124m\"\u001b[39m\u001b[38;5;124mDataFrame\u001b[39m\u001b[38;5;124m\"\u001b[39m, allowMissingColumns: \u001b[38;5;28mbool\u001b[39m \u001b[38;5;241m=\u001b[39m \u001b[38;5;28;01mFalse\u001b[39;00m) \u001b[38;5;241m-\u001b[39m\u001b[38;5;241m>\u001b[39m \u001b[38;5;124m\"\u001b[39m\u001b[38;5;124mDataFrame\u001b[39m\u001b[38;5;124m\"\u001b[39m:\n\u001b[0;32m   3702\u001b[0m \u001b[38;5;250m    \u001b[39m\u001b[38;5;124;03m\"\"\"Returns a new :class:`DataFrame` containing union of rows in this and another\u001b[39;00m\n\u001b[0;32m   3703\u001b[0m \u001b[38;5;124;03m    :class:`DataFrame`.\u001b[39;00m\n\u001b[0;32m   3704\u001b[0m \n\u001b[1;32m   (...)\u001b[0m\n\u001b[0;32m   3755\u001b[0m \u001b[38;5;124;03m    +----+----+----+----+\u001b[39;00m\n\u001b[0;32m   3756\u001b[0m \u001b[38;5;124;03m    \"\"\"\u001b[39;00m\n\u001b[1;32m-> 3757\u001b[0m     \u001b[38;5;28;01mreturn\u001b[39;00m DataFrame(\u001b[38;5;28mself\u001b[39m\u001b[38;5;241m.\u001b[39m_jdf\u001b[38;5;241m.\u001b[39munionByName(other\u001b[38;5;241m.\u001b[39m_jdf, allowMissingColumns), \u001b[38;5;28mself\u001b[39m\u001b[38;5;241m.\u001b[39msparkSession)\n",
      "File \u001b[1;32m~\\anaconda3\\Lib\\site-packages\\py4j\\java_gateway.py:1322\u001b[0m, in \u001b[0;36mJavaMember.__call__\u001b[1;34m(self, *args)\u001b[0m\n\u001b[0;32m   1316\u001b[0m command \u001b[38;5;241m=\u001b[39m proto\u001b[38;5;241m.\u001b[39mCALL_COMMAND_NAME \u001b[38;5;241m+\u001b[39m\\\n\u001b[0;32m   1317\u001b[0m     \u001b[38;5;28mself\u001b[39m\u001b[38;5;241m.\u001b[39mcommand_header \u001b[38;5;241m+\u001b[39m\\\n\u001b[0;32m   1318\u001b[0m     args_command \u001b[38;5;241m+\u001b[39m\\\n\u001b[0;32m   1319\u001b[0m     proto\u001b[38;5;241m.\u001b[39mEND_COMMAND_PART\n\u001b[0;32m   1321\u001b[0m answer \u001b[38;5;241m=\u001b[39m \u001b[38;5;28mself\u001b[39m\u001b[38;5;241m.\u001b[39mgateway_client\u001b[38;5;241m.\u001b[39msend_command(command)\n\u001b[1;32m-> 1322\u001b[0m return_value \u001b[38;5;241m=\u001b[39m get_return_value(\n\u001b[0;32m   1323\u001b[0m     answer, \u001b[38;5;28mself\u001b[39m\u001b[38;5;241m.\u001b[39mgateway_client, \u001b[38;5;28mself\u001b[39m\u001b[38;5;241m.\u001b[39mtarget_id, \u001b[38;5;28mself\u001b[39m\u001b[38;5;241m.\u001b[39mname)\n\u001b[0;32m   1325\u001b[0m \u001b[38;5;28;01mfor\u001b[39;00m temp_arg \u001b[38;5;129;01min\u001b[39;00m temp_args:\n\u001b[0;32m   1326\u001b[0m     \u001b[38;5;28;01mif\u001b[39;00m \u001b[38;5;28mhasattr\u001b[39m(temp_arg, \u001b[38;5;124m\"\u001b[39m\u001b[38;5;124m_detach\u001b[39m\u001b[38;5;124m\"\u001b[39m):\n",
      "File \u001b[1;32m~\\anaconda3\\Lib\\site-packages\\pyspark\\errors\\exceptions\\captured.py:175\u001b[0m, in \u001b[0;36mcapture_sql_exception.<locals>.deco\u001b[1;34m(*a, **kw)\u001b[0m\n\u001b[0;32m    171\u001b[0m converted \u001b[38;5;241m=\u001b[39m convert_exception(e\u001b[38;5;241m.\u001b[39mjava_exception)\n\u001b[0;32m    172\u001b[0m \u001b[38;5;28;01mif\u001b[39;00m \u001b[38;5;129;01mnot\u001b[39;00m \u001b[38;5;28misinstance\u001b[39m(converted, UnknownException):\n\u001b[0;32m    173\u001b[0m     \u001b[38;5;66;03m# Hide where the exception came from that shows a non-Pythonic\u001b[39;00m\n\u001b[0;32m    174\u001b[0m     \u001b[38;5;66;03m# JVM exception message.\u001b[39;00m\n\u001b[1;32m--> 175\u001b[0m     \u001b[38;5;28;01mraise\u001b[39;00m converted \u001b[38;5;28;01mfrom\u001b[39;00m \u001b[38;5;28;01mNone\u001b[39;00m\n\u001b[0;32m    176\u001b[0m \u001b[38;5;28;01melse\u001b[39;00m:\n\u001b[0;32m    177\u001b[0m     \u001b[38;5;28;01mraise\u001b[39;00m\n",
      "\u001b[1;31mAnalysisException\u001b[0m: [NUM_COLUMNS_MISMATCH] UNION can only be performed on inputs with the same number of columns, but the first input has 17 columns and the second input has 18 columns.;\n'Union false, false\n:- Project [Transaction ID#3733, Document Number#3751, Transaction Type#3768, Project ID#3785, Customer#3802, Terms#3819, Currency#3836, Gross Amount#4074, Payment#4159, cast(Open Balance#4244 as float) AS Open Balance#4489, Transaction Create Date#3904, Document Date#3921, Due Date#3938, Days Open#4329, Service Dates#3972, Payment Receipt Date#3989, Open AS Outstanding#4471]\n:  +- Filter NOT (Open Balance#4244 = 0.00)\n:     +- Project [Transaction ID#3733, Document Number#3751, Transaction Type#3768, Project ID#3785, Customer#3802, Terms#3819, Currency#3836, Gross Amount#4074, Payment#4159, Open Balance#4244, Transaction Create Date#3904, Document Date#3921, Due Date#3938, regexp_replace(Days Open#4312, \\), , 1) AS Days Open#4329, Service Dates#3972, Payment Receipt Date#3989]\n:        +- Project [Transaction ID#3733, Document Number#3751, Transaction Type#3768, Project ID#3785, Customer#3802, Terms#3819, Currency#3836, Gross Amount#4074, Payment#4159, Open Balance#4244, Transaction Create Date#3904, Document Date#3921, Due Date#3938, regexp_replace(Days Open#4295, \\(, , 1) AS Days Open#4312, Service Dates#3972, Payment Receipt Date#3989]\n:           +- Project [Transaction ID#3733, Document Number#3751, Transaction Type#3768, Project ID#3785, Customer#3802, Terms#3819, Currency#3836, Gross Amount#4074, Payment#4159, Open Balance#4244, Transaction Create Date#3904, Document Date#3921, Due Date#3938, regexp_replace(Days Open#4278, ,, , 1) AS Days Open#4295, Service Dates#3972, Payment Receipt Date#3989]\n:              +- Project [Transaction ID#3733, Document Number#3751, Transaction Type#3768, Project ID#3785, Customer#3802, Terms#3819, Currency#3836, Gross Amount#4074, Payment#4159, Open Balance#4244, Transaction Create Date#3904, Document Date#3921, Due Date#3938, regexp_replace(Days Open#4261, \\$, , 1) AS Days Open#4278, Service Dates#3972, Payment Receipt Date#3989]\n:                 +- Project [Transaction ID#3733, Document Number#3751, Transaction Type#3768, Project ID#3785, Customer#3802, Terms#3819, Currency#3836, Gross Amount#4074, Payment#4159, Open Balance#4244, Transaction Create Date#3904, Document Date#3921, Due Date#3938, regexp_replace(Days Open#3955, Can, , 1) AS Days Open#4261, Service Dates#3972, Payment Receipt Date#3989]\n:                    +- Project [Transaction ID#3733, Document Number#3751, Transaction Type#3768, Project ID#3785, Customer#3802, Terms#3819, Currency#3836, Gross Amount#4074, Payment#4159, regexp_replace(Open Balance#4227, \\), , 1) AS Open Balance#4244, Transaction Create Date#3904, Document Date#3921, Due Date#3938, Days Open#3955, Service Dates#3972, Payment Receipt Date#3989]\n:                       +- Project [Transaction ID#3733, Document Number#3751, Transaction Type#3768, Project ID#3785, Customer#3802, Terms#3819, Currency#3836, Gross Amount#4074, Payment#4159, regexp_replace(Open Balance#4210, \\(, , 1) AS Open Balance#4227, Transaction Create Date#3904, Document Date#3921, Due Date#3938, Days Open#3955, Service Dates#3972, Payment Receipt Date#3989]\n:                          +- Project [Transaction ID#3733, Document Number#3751, Transaction Type#3768, Project ID#3785, Customer#3802, Terms#3819, Currency#3836, Gross Amount#4074, Payment#4159, regexp_replace(Open Balance#4193, ,, , 1) AS Open Balance#4210, Transaction Create Date#3904, Document Date#3921, Due Date#3938, Days Open#3955, Service Dates#3972, Payment Receipt Date#3989]\n:                             +- Project [Transaction ID#3733, Document Number#3751, Transaction Type#3768, Project ID#3785, Customer#3802, Terms#3819, Currency#3836, Gross Amount#4074, Payment#4159, regexp_replace(Open Balance#4176, \\$, , 1) AS Open Balance#4193, Transaction Create Date#3904, Document Date#3921, Due Date#3938, Days Open#3955, Service Dates#3972, Payment Receipt Date#3989]\n:                                +- Project [Transaction ID#3733, Document Number#3751, Transaction Type#3768, Project ID#3785, Customer#3802, Terms#3819, Currency#3836, Gross Amount#4074, Payment#4159, regexp_replace(Open Balance#3887, Can, , 1) AS Open Balance#4176, Transaction Create Date#3904, Document Date#3921, Due Date#3938, Days Open#3955, Service Dates#3972, Payment Receipt Date#3989]\n:                                   +- Project [Transaction ID#3733, Document Number#3751, Transaction Type#3768, Project ID#3785, Customer#3802, Terms#3819, Currency#3836, Gross Amount#4074, regexp_replace(Payment#4142, \\), , 1) AS Payment#4159, Open Balance#3887, Transaction Create Date#3904, Document Date#3921, Due Date#3938, Days Open#3955, Service Dates#3972, Payment Receipt Date#3989]\n:                                      +- Project [Transaction ID#3733, Document Number#3751, Transaction Type#3768, Project ID#3785, Customer#3802, Terms#3819, Currency#3836, Gross Amount#4074, regexp_replace(Payment#4125, \\(, , 1) AS Payment#4142, Open Balance#3887, Transaction Create Date#3904, Document Date#3921, Due Date#3938, Days Open#3955, Service Dates#3972, Payment Receipt Date#3989]\n:                                         +- Project [Transaction ID#3733, Document Number#3751, Transaction Type#3768, Project ID#3785, Customer#3802, Terms#3819, Currency#3836, Gross Amount#4074, regexp_replace(Payment#4108, ,, , 1) AS Payment#4125, Open Balance#3887, Transaction Create Date#3904, Document Date#3921, Due Date#3938, Days Open#3955, Service Dates#3972, Payment Receipt Date#3989]\n:                                            +- Project [Transaction ID#3733, Document Number#3751, Transaction Type#3768, Project ID#3785, Customer#3802, Terms#3819, Currency#3836, Gross Amount#4074, regexp_replace(Payment#4091, \\$, , 1) AS Payment#4108, Open Balance#3887, Transaction Create Date#3904, Document Date#3921, Due Date#3938, Days Open#3955, Service Dates#3972, Payment Receipt Date#3989]\n:                                               +- Project [Transaction ID#3733, Document Number#3751, Transaction Type#3768, Project ID#3785, Customer#3802, Terms#3819, Currency#3836, Gross Amount#4074, regexp_replace(Payment#3870, Can, , 1) AS Payment#4091, Open Balance#3887, Transaction Create Date#3904, Document Date#3921, Due Date#3938, Days Open#3955, Service Dates#3972, Payment Receipt Date#3989]\n:                                                  +- Project [Transaction ID#3733, Document Number#3751, Transaction Type#3768, Project ID#3785, Customer#3802, Terms#3819, Currency#3836, regexp_replace(Gross Amount#4057, \\), , 1) AS Gross Amount#4074, Payment#3870, Open Balance#3887, Transaction Create Date#3904, Document Date#3921, Due Date#3938, Days Open#3955, Service Dates#3972, Payment Receipt Date#3989]\n:                                                     +- Project [Transaction ID#3733, Document Number#3751, Transaction Type#3768, Project ID#3785, Customer#3802, Terms#3819, Currency#3836, regexp_replace(Gross Amount#4040, \\(, , 1) AS Gross Amount#4057, Payment#3870, Open Balance#3887, Transaction Create Date#3904, Document Date#3921, Due Date#3938, Days Open#3955, Service Dates#3972, Payment Receipt Date#3989]\n:                                                        +- Project [Transaction ID#3733, Document Number#3751, Transaction Type#3768, Project ID#3785, Customer#3802, Terms#3819, Currency#3836, regexp_replace(Gross Amount#4023, ,, , 1) AS Gross Amount#4040, Payment#3870, Open Balance#3887, Transaction Create Date#3904, Document Date#3921, Due Date#3938, Days Open#3955, Service Dates#3972, Payment Receipt Date#3989]\n:                                                           +- Project [Transaction ID#3733, Document Number#3751, Transaction Type#3768, Project ID#3785, Customer#3802, Terms#3819, Currency#3836, regexp_replace(Gross Amount#4006, \\$, , 1) AS Gross Amount#4023, Payment#3870, Open Balance#3887, Transaction Create Date#3904, Document Date#3921, Due Date#3938, Days Open#3955, Service Dates#3972, Payment Receipt Date#3989]\n:                                                              +- Project [Transaction ID#3733, Document Number#3751, Transaction Type#3768, Project ID#3785, Customer#3802, Terms#3819, Currency#3836, regexp_replace(Gross Amount#3853, Can, , 1) AS Gross Amount#4006, Payment#3870, Open Balance#3887, Transaction Create Date#3904, Document Date#3921, Due Date#3938, Days Open#3955, Service Dates#3972, Payment Receipt Date#3989]\n:                                                                 +- Project [Transaction ID#3733, Document Number#3751, Transaction Type#3768, Project ID#3785, Customer#3802, Terms#3819, Currency#3836, Gross Amount#3853, Payment#3870, Open Balance#3887, Transaction Create Date#3904, Document Date#3921, Due Date#3938, Days Open#3955, Service Dates#3972, trim(Payment Receipt Date#3716, None) AS Payment Receipt Date#3989]\n:                                                                    +- Project [Transaction ID#3733, Document Number#3751, Transaction Type#3768, Project ID#3785, Customer#3802, Terms#3819, Currency#3836, Gross Amount#3853, Payment#3870, Open Balance#3887, Transaction Create Date#3904, Document Date#3921, Due Date#3938, Days Open#3955, trim(Service Dates#3715, None) AS Service Dates#3972, Payment Receipt Date#3716]\n:                                                                       +- Project [Transaction ID#3733, Document Number#3751, Transaction Type#3768, Project ID#3785, Customer#3802, Terms#3819, Currency#3836, Gross Amount#3853, Payment#3870, Open Balance#3887, Transaction Create Date#3904, Document Date#3921, Due Date#3938, trim(cast(Days Open#3714 as string), None) AS Days Open#3955, Service Dates#3715, Payment Receipt Date#3716]\n:                                                                          +- Project [Transaction ID#3733, Document Number#3751, Transaction Type#3768, Project ID#3785, Customer#3802, Terms#3819, Currency#3836, Gross Amount#3853, Payment#3870, Open Balance#3887, Transaction Create Date#3904, Document Date#3921, trim(Due Date#3713, None) AS Due Date#3938, Days Open#3714, Service Dates#3715, Payment Receipt Date#3716]\n:                                                                             +- Project [Transaction ID#3733, Document Number#3751, Transaction Type#3768, Project ID#3785, Customer#3802, Terms#3819, Currency#3836, Gross Amount#3853, Payment#3870, Open Balance#3887, Transaction Create Date#3904, trim(Document Date#3712, None) AS Document Date#3921, Due Date#3713, Days Open#3714, Service Dates#3715, Payment Receipt Date#3716]\n:                                                                                +- Project [Transaction ID#3733, Document Number#3751, Transaction Type#3768, Project ID#3785, Customer#3802, Terms#3819, Currency#3836, Gross Amount#3853, Payment#3870, Open Balance#3887, trim(Transaction Create Date#3711, None) AS Transaction Create Date#3904, Document Date#3712, Due Date#3713, Days Open#3714, Service Dates#3715, Payment Receipt Date#3716]\n:                                                                                   +- Project [Transaction ID#3733, Document Number#3751, Transaction Type#3768, Project ID#3785, Customer#3802, Terms#3819, Currency#3836, Gross Amount#3853, Payment#3870, trim(Open Balance#3710, None) AS Open Balance#3887, Transaction Create Date#3711, Document Date#3712, Due Date#3713, Days Open#3714, Service Dates#3715, Payment Receipt Date#3716]\n:                                                                                      +- Project [Transaction ID#3733, Document Number#3751, Transaction Type#3768, Project ID#3785, Customer#3802, Terms#3819, Currency#3836, Gross Amount#3853, trim(Payment#3709, None) AS Payment#3870, Open Balance#3710, Transaction Create Date#3711, Document Date#3712, Due Date#3713, Days Open#3714, Service Dates#3715, Payment Receipt Date#3716]\n:                                                                                         +- Project [Transaction ID#3733, Document Number#3751, Transaction Type#3768, Project ID#3785, Customer#3802, Terms#3819, Currency#3836, trim(Gross Amount#3708, None) AS Gross Amount#3853, Payment#3709, Open Balance#3710, Transaction Create Date#3711, Document Date#3712, Due Date#3713, Days Open#3714, Service Dates#3715, Payment Receipt Date#3716]\n:                                                                                            +- Project [Transaction ID#3733, Document Number#3751, Transaction Type#3768, Project ID#3785, Customer#3802, Terms#3819, trim(Currency#3707, None) AS Currency#3836, Gross Amount#3708, Payment#3709, Open Balance#3710, Transaction Create Date#3711, Document Date#3712, Due Date#3713, Days Open#3714, Service Dates#3715, Payment Receipt Date#3716]\n:                                                                                               +- Project [Transaction ID#3733, Document Number#3751, Transaction Type#3768, Project ID#3785, Customer#3802, trim(Terms#3706, None) AS Terms#3819, Currency#3707, Gross Amount#3708, Payment#3709, Open Balance#3710, Transaction Create Date#3711, Document Date#3712, Due Date#3713, Days Open#3714, Service Dates#3715, Payment Receipt Date#3716]\n:                                                                                                  +- Project [Transaction ID#3733, Document Number#3751, Transaction Type#3768, Project ID#3785, trim(Customer#3705, None) AS Customer#3802, Terms#3706, Currency#3707, Gross Amount#3708, Payment#3709, Open Balance#3710, Transaction Create Date#3711, Document Date#3712, Due Date#3713, Days Open#3714, Service Dates#3715, Payment Receipt Date#3716]\n:                                                                                                     +- Project [Transaction ID#3733, Document Number#3751, Transaction Type#3768, trim(cast(Project ID#3704 as string), None) AS Project ID#3785, Customer#3705, Terms#3706, Currency#3707, Gross Amount#3708, Payment#3709, Open Balance#3710, Transaction Create Date#3711, Document Date#3712, Due Date#3713, Days Open#3714, Service Dates#3715, Payment Receipt Date#3716]\n:                                                                                                        +- Project [Transaction ID#3733, Document Number#3751, trim(Transaction Type#3703, None) AS Transaction Type#3768, Project ID#3704, Customer#3705, Terms#3706, Currency#3707, Gross Amount#3708, Payment#3709, Open Balance#3710, Transaction Create Date#3711, Document Date#3712, Due Date#3713, Days Open#3714, Service Dates#3715, Payment Receipt Date#3716]\n:                                                                                                           +- Project [Transaction ID#3733, trim(Document Number#3702, None) AS Document Number#3751, Transaction Type#3703, Project ID#3704, Customer#3705, Terms#3706, Currency#3707, Gross Amount#3708, Payment#3709, Open Balance#3710, Transaction Create Date#3711, Document Date#3712, Due Date#3713, Days Open#3714, Service Dates#3715, Payment Receipt Date#3716]\n:                                                                                                              +- Project [trim(cast(Transaction ID#3701 as string), None) AS Transaction ID#3733, Document Number#3702, Transaction Type#3703, Project ID#3704, Customer#3705, Terms#3706, Currency#3707, Gross Amount#3708, Payment#3709, Open Balance#3710, Transaction Create Date#3711, Document Date#3712, Due Date#3713, Days Open#3714, Service Dates#3715, Payment Receipt Date#3716]\n:                                                                                                                 +- Relation [Transaction ID#3701,Document Number#3702,Transaction Type#3703,Project ID#3704,Customer#3705,Terms#3706,Currency#3707,Gross Amount#3708,Payment#3709,Open Balance#3710,Transaction Create Date#3711,Document Date#3712,Due Date#3713,Days Open#3714,Service Dates#3715,Payment Receipt Date#3716] csv\n+- Project [Transaction ID#3733 AS Transaction ID#4675, Document Number#3751 AS Document Number#4692, first(Transaction Type)#4636 AS Transaction Type#4794, first(Project ID)#4642 AS Project ID#4896, first(Customer)#4638 AS Customer#4828, first(Terms)#4632 AS Terms#4726, first(Currency)#4637 AS Currency#4811, min(Gross Amount)#4640 AS Gross Amount#4862, max(Payment)#4641 AS Payment#4879, max(Open Balance)#4639 AS Open Balance#4845, max(Transaction Create Date)#4644 AS Transaction Create Date#4930, max(Document Date)#4643 AS Document Date#4913, max(Due Date)#4633 AS Due Date#4743, max(Days Open)#4634 AS Days Open#4760, max(Service Dates)#4635 AS Service Dates#4777, first(Payment Receipt Date)#4631 AS Payment Receipt Date#4709, Cleared AS Outstanding#4947, -max(Payment)#4641 AS Applying Link Amount#4965]\n   +- Aggregate [Transaction ID#3733, Document Number#3751], [Transaction ID#3733, Document Number#3751, first(Payment Receipt Date#3989, false) AS first(Payment Receipt Date)#4631, first(Terms#3819, false) AS first(Terms)#4632, max(Due Date#3938) AS max(Due Date)#4633, max(Days Open#4597) AS max(Days Open)#4634, max(Service Dates#3972) AS max(Service Dates)#4635, first(Transaction Type#3768, false) AS first(Transaction Type)#4636, first(Currency#3836, false) AS first(Currency)#4637, first(Customer#3802, false) AS first(Customer)#4638, max(Open Balance#4244) AS max(Open Balance)#4639, min(Gross Amount#4563) AS min(Gross Amount)#4640, max(Payment#4580) AS max(Payment)#4641, first(Project ID#3785, false) AS first(Project ID)#4642, max(Document Date#3921) AS max(Document Date)#4643, max(Transaction Create Date#3904) AS max(Transaction Create Date)#4644]\n      +- Project [Transaction ID#3733, Document Number#3751, Transaction Type#3768, Project ID#3785, Customer#3802, Terms#3819, Currency#3836, Gross Amount#4563, Payment#4580, Open Balance#4244, Transaction Create Date#3904, Document Date#3921, Due Date#3938, cast(Days Open#4329 as float) AS Days Open#4597, Service Dates#3972, Payment Receipt Date#3989]\n         +- Project [Transaction ID#3733, Document Number#3751, Transaction Type#3768, Project ID#3785, Customer#3802, Terms#3819, Currency#3836, Gross Amount#4563, cast(Payment#4159 as float) AS Payment#4580, Open Balance#4244, Transaction Create Date#3904, Document Date#3921, Due Date#3938, Days Open#4329, Service Dates#3972, Payment Receipt Date#3989]\n            +- Project [Transaction ID#3733, Document Number#3751, Transaction Type#3768, Project ID#3785, Customer#3802, Terms#3819, Currency#3836, cast(Gross Amount#4074 as float) AS Gross Amount#4563, Payment#4159, Open Balance#4244, Transaction Create Date#3904, Document Date#3921, Due Date#3938, Days Open#4329, Service Dates#3972, Payment Receipt Date#3989]\n               +- Filter (Transaction Type#3768 = Credit Memo)\n                  +- Project [Transaction ID#3733, Document Number#3751, Transaction Type#3768, Project ID#3785, Customer#3802, Terms#3819, Currency#3836, Gross Amount#4074, Payment#4159, Open Balance#4244, Transaction Create Date#3904, Document Date#3921, Due Date#3938, regexp_replace(Days Open#4312, \\), , 1) AS Days Open#4329, Service Dates#3972, Payment Receipt Date#3989]\n                     +- Project [Transaction ID#3733, Document Number#3751, Transaction Type#3768, Project ID#3785, Customer#3802, Terms#3819, Currency#3836, Gross Amount#4074, Payment#4159, Open Balance#4244, Transaction Create Date#3904, Document Date#3921, Due Date#3938, regexp_replace(Days Open#4295, \\(, , 1) AS Days Open#4312, Service Dates#3972, Payment Receipt Date#3989]\n                        +- Project [Transaction ID#3733, Document Number#3751, Transaction Type#3768, Project ID#3785, Customer#3802, Terms#3819, Currency#3836, Gross Amount#4074, Payment#4159, Open Balance#4244, Transaction Create Date#3904, Document Date#3921, Due Date#3938, regexp_replace(Days Open#4278, ,, , 1) AS Days Open#4295, Service Dates#3972, Payment Receipt Date#3989]\n                           +- Project [Transaction ID#3733, Document Number#3751, Transaction Type#3768, Project ID#3785, Customer#3802, Terms#3819, Currency#3836, Gross Amount#4074, Payment#4159, Open Balance#4244, Transaction Create Date#3904, Document Date#3921, Due Date#3938, regexp_replace(Days Open#4261, \\$, , 1) AS Days Open#4278, Service Dates#3972, Payment Receipt Date#3989]\n                              +- Project [Transaction ID#3733, Document Number#3751, Transaction Type#3768, Project ID#3785, Customer#3802, Terms#3819, Currency#3836, Gross Amount#4074, Payment#4159, Open Balance#4244, Transaction Create Date#3904, Document Date#3921, Due Date#3938, regexp_replace(Days Open#3955, Can, , 1) AS Days Open#4261, Service Dates#3972, Payment Receipt Date#3989]\n                                 +- Project [Transaction ID#3733, Document Number#3751, Transaction Type#3768, Project ID#3785, Customer#3802, Terms#3819, Currency#3836, Gross Amount#4074, Payment#4159, regexp_replace(Open Balance#4227, \\), , 1) AS Open Balance#4244, Transaction Create Date#3904, Document Date#3921, Due Date#3938, Days Open#3955, Service Dates#3972, Payment Receipt Date#3989]\n                                    +- Project [Transaction ID#3733, Document Number#3751, Transaction Type#3768, Project ID#3785, Customer#3802, Terms#3819, Currency#3836, Gross Amount#4074, Payment#4159, regexp_replace(Open Balance#4210, \\(, , 1) AS Open Balance#4227, Transaction Create Date#3904, Document Date#3921, Due Date#3938, Days Open#3955, Service Dates#3972, Payment Receipt Date#3989]\n                                       +- Project [Transaction ID#3733, Document Number#3751, Transaction Type#3768, Project ID#3785, Customer#3802, Terms#3819, Currency#3836, Gross Amount#4074, Payment#4159, regexp_replace(Open Balance#4193, ,, , 1) AS Open Balance#4210, Transaction Create Date#3904, Document Date#3921, Due Date#3938, Days Open#3955, Service Dates#3972, Payment Receipt Date#3989]\n                                          +- Project [Transaction ID#3733, Document Number#3751, Transaction Type#3768, Project ID#3785, Customer#3802, Terms#3819, Currency#3836, Gross Amount#4074, Payment#4159, regexp_replace(Open Balance#4176, \\$, , 1) AS Open Balance#4193, Transaction Create Date#3904, Document Date#3921, Due Date#3938, Days Open#3955, Service Dates#3972, Payment Receipt Date#3989]\n                                             +- Project [Transaction ID#3733, Document Number#3751, Transaction Type#3768, Project ID#3785, Customer#3802, Terms#3819, Currency#3836, Gross Amount#4074, Payment#4159, regexp_replace(Open Balance#3887, Can, , 1) AS Open Balance#4176, Transaction Create Date#3904, Document Date#3921, Due Date#3938, Days Open#3955, Service Dates#3972, Payment Receipt Date#3989]\n                                                +- Project [Transaction ID#3733, Document Number#3751, Transaction Type#3768, Project ID#3785, Customer#3802, Terms#3819, Currency#3836, Gross Amount#4074, regexp_replace(Payment#4142, \\), , 1) AS Payment#4159, Open Balance#3887, Transaction Create Date#3904, Document Date#3921, Due Date#3938, Days Open#3955, Service Dates#3972, Payment Receipt Date#3989]\n                                                   +- Project [Transaction ID#3733, Document Number#3751, Transaction Type#3768, Project ID#3785, Customer#3802, Terms#3819, Currency#3836, Gross Amount#4074, regexp_replace(Payment#4125, \\(, , 1) AS Payment#4142, Open Balance#3887, Transaction Create Date#3904, Document Date#3921, Due Date#3938, Days Open#3955, Service Dates#3972, Payment Receipt Date#3989]\n                                                      +- Project [Transaction ID#3733, Document Number#3751, Transaction Type#3768, Project ID#3785, Customer#3802, Terms#3819, Currency#3836, Gross Amount#4074, regexp_replace(Payment#4108, ,, , 1) AS Payment#4125, Open Balance#3887, Transaction Create Date#3904, Document Date#3921, Due Date#3938, Days Open#3955, Service Dates#3972, Payment Receipt Date#3989]\n                                                         +- Project [Transaction ID#3733, Document Number#3751, Transaction Type#3768, Project ID#3785, Customer#3802, Terms#3819, Currency#3836, Gross Amount#4074, regexp_replace(Payment#4091, \\$, , 1) AS Payment#4108, Open Balance#3887, Transaction Create Date#3904, Document Date#3921, Due Date#3938, Days Open#3955, Service Dates#3972, Payment Receipt Date#3989]\n                                                            +- Project [Transaction ID#3733, Document Number#3751, Transaction Type#3768, Project ID#3785, Customer#3802, Terms#3819, Currency#3836, Gross Amount#4074, regexp_replace(Payment#3870, Can, , 1) AS Payment#4091, Open Balance#3887, Transaction Create Date#3904, Document Date#3921, Due Date#3938, Days Open#3955, Service Dates#3972, Payment Receipt Date#3989]\n                                                               +- Project [Transaction ID#3733, Document Number#3751, Transaction Type#3768, Project ID#3785, Customer#3802, Terms#3819, Currency#3836, regexp_replace(Gross Amount#4057, \\), , 1) AS Gross Amount#4074, Payment#3870, Open Balance#3887, Transaction Create Date#3904, Document Date#3921, Due Date#3938, Days Open#3955, Service Dates#3972, Payment Receipt Date#3989]\n                                                                  +- Project [Transaction ID#3733, Document Number#3751, Transaction Type#3768, Project ID#3785, Customer#3802, Terms#3819, Currency#3836, regexp_replace(Gross Amount#4040, \\(, , 1) AS Gross Amount#4057, Payment#3870, Open Balance#3887, Transaction Create Date#3904, Document Date#3921, Due Date#3938, Days Open#3955, Service Dates#3972, Payment Receipt Date#3989]\n                                                                     +- Project [Transaction ID#3733, Document Number#3751, Transaction Type#3768, Project ID#3785, Customer#3802, Terms#3819, Currency#3836, regexp_replace(Gross Amount#4023, ,, , 1) AS Gross Amount#4040, Payment#3870, Open Balance#3887, Transaction Create Date#3904, Document Date#3921, Due Date#3938, Days Open#3955, Service Dates#3972, Payment Receipt Date#3989]\n                                                                        +- Project [Transaction ID#3733, Document Number#3751, Transaction Type#3768, Project ID#3785, Customer#3802, Terms#3819, Currency#3836, regexp_replace(Gross Amount#4006, \\$, , 1) AS Gross Amount#4023, Payment#3870, Open Balance#3887, Transaction Create Date#3904, Document Date#3921, Due Date#3938, Days Open#3955, Service Dates#3972, Payment Receipt Date#3989]\n                                                                           +- Project [Transaction ID#3733, Document Number#3751, Transaction Type#3768, Project ID#3785, Customer#3802, Terms#3819, Currency#3836, regexp_replace(Gross Amount#3853, Can, , 1) AS Gross Amount#4006, Payment#3870, Open Balance#3887, Transaction Create Date#3904, Document Date#3921, Due Date#3938, Days Open#3955, Service Dates#3972, Payment Receipt Date#3989]\n                                                                              +- Project [Transaction ID#3733, Document Number#3751, Transaction Type#3768, Project ID#3785, Customer#3802, Terms#3819, Currency#3836, Gross Amount#3853, Payment#3870, Open Balance#3887, Transaction Create Date#3904, Document Date#3921, Due Date#3938, Days Open#3955, Service Dates#3972, trim(Payment Receipt Date#27621, None) AS Payment Receipt Date#3989]\n                                                                                 +- Project [Transaction ID#3733, Document Number#3751, Transaction Type#3768, Project ID#3785, Customer#3802, Terms#3819, Currency#3836, Gross Amount#3853, Payment#3870, Open Balance#3887, Transaction Create Date#3904, Document Date#3921, Due Date#3938, Days Open#3955, trim(Service Dates#27620, None) AS Service Dates#3972, Payment Receipt Date#27621]\n                                                                                    +- Project [Transaction ID#3733, Document Number#3751, Transaction Type#3768, Project ID#3785, Customer#3802, Terms#3819, Currency#3836, Gross Amount#3853, Payment#3870, Open Balance#3887, Transaction Create Date#3904, Document Date#3921, Due Date#3938, trim(cast(Days Open#27619 as string), None) AS Days Open#3955, Service Dates#27620, Payment Receipt Date#27621]\n                                                                                       +- Project [Transaction ID#3733, Document Number#3751, Transaction Type#3768, Project ID#3785, Customer#3802, Terms#3819, Currency#3836, Gross Amount#3853, Payment#3870, Open Balance#3887, Transaction Create Date#3904, Document Date#3921, trim(Due Date#27618, None) AS Due Date#3938, Days Open#27619, Service Dates#27620, Payment Receipt Date#27621]\n                                                                                          +- Project [Transaction ID#3733, Document Number#3751, Transaction Type#3768, Project ID#3785, Customer#3802, Terms#3819, Currency#3836, Gross Amount#3853, Payment#3870, Open Balance#3887, Transaction Create Date#3904, trim(Document Date#27617, None) AS Document Date#3921, Due Date#27618, Days Open#27619, Service Dates#27620, Payment Receipt Date#27621]\n                                                                                             +- Project [Transaction ID#3733, Document Number#3751, Transaction Type#3768, Project ID#3785, Customer#3802, Terms#3819, Currency#3836, Gross Amount#3853, Payment#3870, Open Balance#3887, trim(Transaction Create Date#27616, None) AS Transaction Create Date#3904, Document Date#27617, Due Date#27618, Days Open#27619, Service Dates#27620, Payment Receipt Date#27621]\n                                                                                                +- Project [Transaction ID#3733, Document Number#3751, Transaction Type#3768, Project ID#3785, Customer#3802, Terms#3819, Currency#3836, Gross Amount#3853, Payment#3870, trim(Open Balance#27615, None) AS Open Balance#3887, Transaction Create Date#27616, Document Date#27617, Due Date#27618, Days Open#27619, Service Dates#27620, Payment Receipt Date#27621]\n                                                                                                   +- Project [Transaction ID#3733, Document Number#3751, Transaction Type#3768, Project ID#3785, Customer#3802, Terms#3819, Currency#3836, Gross Amount#3853, trim(Payment#27614, None) AS Payment#3870, Open Balance#27615, Transaction Create Date#27616, Document Date#27617, Due Date#27618, Days Open#27619, Service Dates#27620, Payment Receipt Date#27621]\n                                                                                                      +- Project [Transaction ID#3733, Document Number#3751, Transaction Type#3768, Project ID#3785, Customer#3802, Terms#3819, Currency#3836, trim(Gross Amount#27613, None) AS Gross Amount#3853, Payment#27614, Open Balance#27615, Transaction Create Date#27616, Document Date#27617, Due Date#27618, Days Open#27619, Service Dates#27620, Payment Receipt Date#27621]\n                                                                                                         +- Project [Transaction ID#3733, Document Number#3751, Transaction Type#3768, Project ID#3785, Customer#3802, Terms#3819, trim(Currency#27612, None) AS Currency#3836, Gross Amount#27613, Payment#27614, Open Balance#27615, Transaction Create Date#27616, Document Date#27617, Due Date#27618, Days Open#27619, Service Dates#27620, Payment Receipt Date#27621]\n                                                                                                            +- Project [Transaction ID#3733, Document Number#3751, Transaction Type#3768, Project ID#3785, Customer#3802, trim(Terms#27611, None) AS Terms#3819, Currency#27612, Gross Amount#27613, Payment#27614, Open Balance#27615, Transaction Create Date#27616, Document Date#27617, Due Date#27618, Days Open#27619, Service Dates#27620, Payment Receipt Date#27621]\n                                                                                                               +- Project [Transaction ID#3733, Document Number#3751, Transaction Type#3768, Project ID#3785, trim(Customer#27610, None) AS Customer#3802, Terms#27611, Currency#27612, Gross Amount#27613, Payment#27614, Open Balance#27615, Transaction Create Date#27616, Document Date#27617, Due Date#27618, Days Open#27619, Service Dates#27620, Payment Receipt Date#27621]\n                                                                                                                  +- Project [Transaction ID#3733, Document Number#3751, Transaction Type#3768, trim(cast(Project ID#27609 as string), None) AS Project ID#3785, Customer#27610, Terms#27611, Currency#27612, Gross Amount#27613, Payment#27614, Open Balance#27615, Transaction Create Date#27616, Document Date#27617, Due Date#27618, Days Open#27619, Service Dates#27620, Payment Receipt Date#27621]\n                                                                                                                     +- Project [Transaction ID#3733, Document Number#3751, trim(Transaction Type#27608, None) AS Transaction Type#3768, Project ID#27609, Customer#27610, Terms#27611, Currency#27612, Gross Amount#27613, Payment#27614, Open Balance#27615, Transaction Create Date#27616, Document Date#27617, Due Date#27618, Days Open#27619, Service Dates#27620, Payment Receipt Date#27621]\n                                                                                                                        +- Project [Transaction ID#3733, trim(Document Number#27607, None) AS Document Number#3751, Transaction Type#27608, Project ID#27609, Customer#27610, Terms#27611, Currency#27612, Gross Amount#27613, Payment#27614, Open Balance#27615, Transaction Create Date#27616, Document Date#27617, Due Date#27618, Days Open#27619, Service Dates#27620, Payment Receipt Date#27621]\n                                                                                                                           +- Project [trim(cast(Transaction ID#27606 as string), None) AS Transaction ID#3733, Document Number#27607, Transaction Type#27608, Project ID#27609, Customer#27610, Terms#27611, Currency#27612, Gross Amount#27613, Payment#27614, Open Balance#27615, Transaction Create Date#27616, Document Date#27617, Due Date#27618, Days Open#27619, Service Dates#27620, Payment Receipt Date#27621]\n                                                                                                                              +- Relation [Transaction ID#27606,Document Number#27607,Transaction Type#27608,Project ID#27609,Customer#27610,Terms#27611,Currency#27612,Gross Amount#27613,Payment#27614,Open Balance#27615,Transaction Create Date#27616,Document Date#27617,Due Date#27618,Days Open#27619,Service Dates#27620,Payment Receipt Date#27621] csv\n"
     ]
    }
   ],
   "source": [
    "combined_df = temp_df.unionByName(process_df_result)"
   ]
  },
  {
   "cell_type": "code",
   "execution_count": null,
   "id": "3c774c83",
   "metadata": {},
   "outputs": [],
   "source": []
  }
 ],
 "metadata": {
  "kernelspec": {
   "display_name": "Python 3 (ipykernel)",
   "language": "python",
   "name": "python3"
  },
  "language_info": {
   "codemirror_mode": {
    "name": "ipython",
    "version": 3
   },
   "file_extension": ".py",
   "mimetype": "text/x-python",
   "name": "python",
   "nbconvert_exporter": "python",
   "pygments_lexer": "ipython3",
   "version": "3.11.4"
  }
 },
 "nbformat": 4,
 "nbformat_minor": 5
}
