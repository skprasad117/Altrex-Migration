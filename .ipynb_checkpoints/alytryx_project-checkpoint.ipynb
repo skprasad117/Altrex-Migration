{
 "cells": [
  {
   "cell_type": "markdown",
   "id": "16f32104",
   "metadata": {},
   "source": [
    "## Reading libraries"
   ]
  },
  {
   "cell_type": "code",
   "execution_count": 76,
   "id": "04598003",
   "metadata": {},
   "outputs": [],
   "source": [
    "from pyspark.sql import SparkSession\n",
    "from pyspark.sql.functions import col, trim, regexp_replace, sum, lit, max, min, first,to_timestamp, trim, upper,to_date, date_format, when\n",
    "from pyspark.sql.types import DateType\n",
    "\n",
    "from pyspark.sql.types import IntegerType, FloatType"
   ]
  },
  {
   "cell_type": "code",
   "execution_count": 77,
   "id": "acf9d934",
   "metadata": {},
   "outputs": [],
   "source": [
    "spark = SparkSession.builder.appName(\"read_csv\").getOrCreate()"
   ]
  },
  {
   "cell_type": "code",
   "execution_count": 78,
   "id": "f5c4c0f6",
   "metadata": {},
   "outputs": [
    {
     "data": {
      "text/html": [
       "\n",
       "            <div>\n",
       "                <p><b>SparkSession - in-memory</b></p>\n",
       "                \n",
       "        <div>\n",
       "            <p><b>SparkContext</b></p>\n",
       "\n",
       "            <p><a href=\"http://LAPTOP-3UT4836R:4040\">Spark UI</a></p>\n",
       "\n",
       "            <dl>\n",
       "              <dt>Version</dt>\n",
       "                <dd><code>v3.4.1</code></dd>\n",
       "              <dt>Master</dt>\n",
       "                <dd><code>local[*]</code></dd>\n",
       "              <dt>AppName</dt>\n",
       "                <dd><code>read_csv</code></dd>\n",
       "            </dl>\n",
       "        </div>\n",
       "        \n",
       "            </div>\n",
       "        "
      ],
      "text/plain": [
       "<pyspark.sql.session.SparkSession at 0x2b87100be90>"
      ]
     },
     "execution_count": 78,
     "metadata": {},
     "output_type": "execute_result"
    }
   ],
   "source": [
    "spark"
   ]
  },
  {
   "cell_type": "markdown",
   "id": "12e90ff3",
   "metadata": {},
   "source": [
    "# helper functions"
   ]
  },
  {
   "cell_type": "code",
   "execution_count": 129,
   "id": "26ac086c",
   "metadata": {},
   "outputs": [],
   "source": [
    "from pyspark.sql.functions import udf\n",
    "from pyspark.sql.types import DateType\n",
    "from datetime import datetime\n",
    "\n",
    "# Define a UDF to parse the date string\n",
    "@udf(DateType())\n",
    "def parse_date(date_str):\n",
    "    try:\n",
    "        return datetime.strptime(date_str, \"%m/%d/%Y\").date()\n",
    "    except ValueError:\n",
    "        return None  # Handle invalid date strings as needed\n"
   ]
  },
  {
   "cell_type": "code",
   "execution_count": 79,
   "id": "8a913a8d",
   "metadata": {},
   "outputs": [],
   "source": [
    "def change_dtype(dataframe, column_name,change_to):\n",
    "    return dataframe.withColumn(column_name, col(column_name).cast(change_to))"
   ]
  },
  {
   "cell_type": "code",
   "execution_count": 80,
   "id": "443fb098",
   "metadata": {},
   "outputs": [],
   "source": [
    "def remove_illegal_char(dataframe,column_name):\n",
    "    illegal_character = ['Can','\\$',',',\"\\(\",\"\\)\"]\n",
    "    for character in illegal_character:\n",
    "        dataframe = dataframe.withColumn(column_name, regexp_replace(col(column_name), character, ''))\n",
    "#                              .withColumn('Open Balance', regexp_replace(col('Open Balance'), 'Can', ''))\n",
    "    return dataframe"
   ]
  },
  {
   "cell_type": "code",
   "execution_count": 81,
   "id": "850380fd",
   "metadata": {},
   "outputs": [],
   "source": [
    "def trim_col(dataframe, column_name):\n",
    "    return dataframe.withColumn(column_name, trim(col(column_name)))"
   ]
  },
  {
   "cell_type": "markdown",
   "id": "028e5d4f",
   "metadata": {},
   "source": [
    "## Reading CSV"
   ]
  },
  {
   "cell_type": "code",
   "execution_count": 82,
   "id": "ff12abb5",
   "metadata": {},
   "outputs": [],
   "source": [
    "sales_report_kmpg_july=spark.read.options(inferSchema='True').csv('csv_converted\\saleReprtKmpg_july - SalesReportKPMGAuditResults.csv', header=True, inferSchema=True, sep=',')"
   ]
  },
  {
   "cell_type": "markdown",
   "id": "b7976435",
   "metadata": {},
   "source": [
    "## Cleaning and Transforming"
   ]
  },
  {
   "cell_type": "code",
   "execution_count": 83,
   "id": "2c4ed09b",
   "metadata": {},
   "outputs": [
    {
     "data": {
      "text/plain": [
       "['Transaction ID',\n",
       " 'Document Number',\n",
       " 'Transaction Type',\n",
       " 'Project ID',\n",
       " 'Customer',\n",
       " 'Terms',\n",
       " 'Currency',\n",
       " 'Gross Amount',\n",
       " 'Payment',\n",
       " 'Open Balance',\n",
       " 'Transaction Create Date',\n",
       " 'Document Date',\n",
       " 'Due Date',\n",
       " 'Days Open',\n",
       " 'Service Dates',\n",
       " 'Payment Receipt Date']"
      ]
     },
     "execution_count": 83,
     "metadata": {},
     "output_type": "execute_result"
    }
   ],
   "source": [
    "sales_report_kmpg_july.columns"
   ]
  },
  {
   "cell_type": "code",
   "execution_count": 84,
   "id": "415f4c8c",
   "metadata": {},
   "outputs": [],
   "source": [
    "object_columns = ['Transaction ID','Document Number','Transaction Type', 'Project ID','Customer','Terms','Currency',]\n",
    "numeric_columns = ['Gross Amount','Payment','Open Balance','Days Open']\n",
    "date_columns = ['Transaction Create Date','Document Date','Due Date','Service Dates','Payment Receipt Date']"
   ]
  },
  {
   "cell_type": "markdown",
   "id": "91e1a7bb",
   "metadata": {},
   "source": [
    "### Trim column"
   ]
  },
  {
   "cell_type": "code",
   "execution_count": 85,
   "id": "c90cc611",
   "metadata": {},
   "outputs": [],
   "source": [
    "# sales_report_kmpg_july.show()"
   ]
  },
  {
   "cell_type": "code",
   "execution_count": 86,
   "id": "a329cdc9",
   "metadata": {},
   "outputs": [],
   "source": [
    "# sales_report_kmpg_july = trim_col(sales_report_kmpg_july,column_name='Open Balance')\n",
    "for column in sales_report_kmpg_july.columns:\n",
    "    sales_report_kmpg_july = trim_col(sales_report_kmpg_july,column_name=column)\n",
    "    "
   ]
  },
  {
   "cell_type": "markdown",
   "id": "401cca84",
   "metadata": {},
   "source": [
    "### Remove illegal characters from numeric columns"
   ]
  },
  {
   "cell_type": "code",
   "execution_count": 87,
   "id": "232662ef",
   "metadata": {},
   "outputs": [],
   "source": [
    "# sales_report_kmpg_july = remove_illegal_char(sales_report_kmpg_july,column_name='Open Balance')\n",
    "for column in numeric_columns:\n",
    "#     print(column)\n",
    "    sales_report_kmpg_july = remove_illegal_char(sales_report_kmpg_july,column_name=column)\n",
    "#     print(sales_report_kmpg_july.show(1))\n",
    "    "
   ]
  },
  {
   "cell_type": "markdown",
   "id": "0bf1d675",
   "metadata": {},
   "source": [
    "### Change datatype"
   ]
  },
  {
   "cell_type": "code",
   "execution_count": 88,
   "id": "9aafb1f8",
   "metadata": {},
   "outputs": [],
   "source": [
    "# sales_report_kmpg_july = sales_report_kmpg_july.withColumn('Open Balance', col('Open Balance').cast('float'))\n",
    "# for column in date_columns:\n",
    "#     sales_report_kmpg_july = sales_report_kmpg_july.withColumn(column, col(column).cast(to_timestamp(column)))\n",
    "    "
   ]
  },
  {
   "cell_type": "code",
   "execution_count": 89,
   "id": "97c4add4",
   "metadata": {},
   "outputs": [
    {
     "data": {
      "text/plain": [
       "[('Transaction ID', 'string'),\n",
       " ('Document Number', 'string'),\n",
       " ('Transaction Type', 'string'),\n",
       " ('Project ID', 'string'),\n",
       " ('Customer', 'string'),\n",
       " ('Terms', 'string'),\n",
       " ('Currency', 'string'),\n",
       " ('Gross Amount', 'string'),\n",
       " ('Payment', 'string'),\n",
       " ('Open Balance', 'string'),\n",
       " ('Transaction Create Date', 'string'),\n",
       " ('Document Date', 'string'),\n",
       " ('Due Date', 'string'),\n",
       " ('Days Open', 'string'),\n",
       " ('Service Dates', 'string'),\n",
       " ('Payment Receipt Date', 'string')]"
      ]
     },
     "execution_count": 89,
     "metadata": {},
     "output_type": "execute_result"
    }
   ],
   "source": [
    "sales_report_kmpg_july.dtypes"
   ]
  },
  {
   "cell_type": "code",
   "execution_count": 90,
   "id": "1f68ec58",
   "metadata": {},
   "outputs": [
    {
     "name": "stdout",
     "output_type": "stream",
     "text": [
      "+--------------+---------------+----------------+----------+--------------------+-----+--------+------------+-------+------------+-----------------------+-------------+--------+---------+--------------------+--------------------+\n",
      "|Transaction ID|Document Number|Transaction Type|Project ID|            Customer|Terms|Currency|Gross Amount|Payment|Open Balance|Transaction Create Date|Document Date|Due Date|Days Open|       Service Dates|Payment Receipt Date|\n",
      "+--------------+---------------+----------------+----------+--------------------+-----+--------+------------+-------+------------+-----------------------+-------------+--------+---------+--------------------+--------------------+\n",
      "|       3190973|      CUMC15527|     Credit Memo|   1277343|CUMC : Columbia U...| null|     USA|      145.83| 145.83|        0.00|          7/31/23 11:02|    7/31/2023|    null|        0|07/01/2023 to 07/...|           7/30/2023|\n",
      "+--------------+---------------+----------------+----------+--------------------+-----+--------+------------+-------+------------+-----------------------+-------------+--------+---------+--------------------+--------------------+\n",
      "only showing top 1 row\n",
      "\n"
     ]
    }
   ],
   "source": [
    "sales_report_kmpg_july.show(1)"
   ]
  },
  {
   "cell_type": "markdown",
   "id": "d63924c4",
   "metadata": {},
   "source": [
    "## Operation 1:\n",
    "- 3 lines\n",
    "    - 1. Open Balance != 0----------------------output ---> temp_df , Sum_Open_Balance\n",
    "    - 2. Tranasaction Type  == \"Credit Memo\"----output ----> process_df_result\n",
    "    - 3. Tranasaction Type  != \"Credit Memo\"----output-----> temp_df_process_3"
   ]
  },
  {
   "cell_type": "markdown",
   "id": "221c3bf7",
   "metadata": {},
   "source": [
    "### 1. Open Balance != 0 \n",
    "    - filtering the recored `Open Balance !=0`\n",
    "    - Adding Column `Outstanding = \"Open\"`\n",
    "    - Sum of `Open Balance`"
   ]
  },
  {
   "cell_type": "code",
   "execution_count": 91,
   "id": "81e16cf3",
   "metadata": {},
   "outputs": [
    {
     "data": {
      "text/plain": [
       "3948"
      ]
     },
     "execution_count": 91,
     "metadata": {},
     "output_type": "execute_result"
    }
   ],
   "source": [
    "sales_report_kmpg_july.filter(sales_report_kmpg_july['Open Balance'] != '0.00').count()"
   ]
  },
  {
   "cell_type": "code",
   "execution_count": 92,
   "id": "c36224bb",
   "metadata": {},
   "outputs": [],
   "source": [
    "temp_df = sales_report_kmpg_july.filter(sales_report_kmpg_july['Open Balance'] != '0.00')"
   ]
  },
  {
   "cell_type": "code",
   "execution_count": 93,
   "id": "28192f83",
   "metadata": {},
   "outputs": [
    {
     "name": "stdout",
     "output_type": "stream",
     "text": [
      "type of df <class 'pyspark.sql.dataframe.DataFrame'> no of records 3948\n"
     ]
    }
   ],
   "source": [
    "print(\"type of df\",type(temp_df), \"no of records\",temp_df.count())"
   ]
  },
  {
   "cell_type": "markdown",
   "id": "b3e02bc7",
   "metadata": {},
   "source": [
    "#### adding column Outstanding = open"
   ]
  },
  {
   "cell_type": "code",
   "execution_count": 94,
   "id": "d4027c2b",
   "metadata": {},
   "outputs": [],
   "source": [
    "# df_spark.withColumn('year after 2', df_spark['year']+1000).show() refrence\n",
    "temp_df = temp_df.withColumn('Outstanding', lit('Open'))"
   ]
  },
  {
   "cell_type": "code",
   "execution_count": 95,
   "id": "26cd992d",
   "metadata": {},
   "outputs": [],
   "source": [
    "temp_df = change_dtype(temp_df, column_name='Open Balance',change_to=FloatType())"
   ]
  },
  {
   "cell_type": "code",
   "execution_count": 96,
   "id": "1cc43364",
   "metadata": {},
   "outputs": [
    {
     "data": {
      "text/plain": [
       "29295611.528552473"
      ]
     },
     "execution_count": 96,
     "metadata": {},
     "output_type": "execute_result"
    }
   ],
   "source": [
    "Sum_Open_Balance = temp_df.select(sum(col('Open Balance'))).collect()[0][0]\n",
    "Sum_Open_Balance"
   ]
  },
  {
   "cell_type": "code",
   "execution_count": 97,
   "id": "91fed9c3",
   "metadata": {},
   "outputs": [
    {
     "data": {
      "text/plain": [
       "DataFrame[sum(Open Balance): double]"
      ]
     },
     "execution_count": 97,
     "metadata": {},
     "output_type": "execute_result"
    }
   ],
   "source": [
    "sales_report_kmpg_july.filter(sales_report_kmpg_july['Open Balance'] != '0.00').select(sum(col('Open Balance')))"
   ]
  },
  {
   "cell_type": "markdown",
   "id": "3df50ad0",
   "metadata": {},
   "source": [
    "#### Output\n",
    "Sum_Open_Balance, temp_df"
   ]
  },
  {
   "cell_type": "code",
   "execution_count": 98,
   "id": "8ce14727",
   "metadata": {},
   "outputs": [
    {
     "name": "stdout",
     "output_type": "stream",
     "text": [
      "3948 29295611.528552473\n"
     ]
    }
   ],
   "source": [
    "print(temp_df.count(),Sum_Open_Balance)"
   ]
  },
  {
   "cell_type": "markdown",
   "id": "811a885c",
   "metadata": {},
   "source": [
    "### 2. Tranasaction Type  = \"Credit Memo\""
   ]
  },
  {
   "cell_type": "code",
   "execution_count": 99,
   "id": "2ff39a15",
   "metadata": {},
   "outputs": [
    {
     "name": "stdout",
     "output_type": "stream",
     "text": [
      "Input Parameters:  15459\n"
     ]
    }
   ],
   "source": [
    "temp_df_process_2=sales_report_kmpg_july.filter(sales_report_kmpg_july['Transaction Type'] == 'Credit Memo')\n",
    "print(\"Input Parameters: \", temp_df_process_2.count())"
   ]
  },
  {
   "cell_type": "code",
   "execution_count": 100,
   "id": "5be695b3",
   "metadata": {},
   "outputs": [],
   "source": [
    "temp_df_process_2 = temp_df_process_2.withColumn('Gross Amount', col('Gross Amount').cast('float'))\n",
    "temp_df_process_2 = temp_df_process_2.withColumn('Payment', col('Payment').cast('float'))\n",
    "temp_df_process_2 = temp_df_process_2.withColumn('Days Open', col('Days Open').cast('float'))"
   ]
  },
  {
   "cell_type": "code",
   "execution_count": 101,
   "id": "eca77f50",
   "metadata": {},
   "outputs": [],
   "source": [
    "groupby_df_process_2 =temp_df_process_2.groupBy(['Transaction ID',\"Document Number\"])"
   ]
  },
  {
   "cell_type": "code",
   "execution_count": 102,
   "id": "104b74a9",
   "metadata": {},
   "outputs": [
    {
     "data": {
      "text/plain": [
       "[('Transaction ID', 'string'),\n",
       " ('Document Number', 'string'),\n",
       " ('Transaction Type', 'string'),\n",
       " ('Project ID', 'string'),\n",
       " ('Customer', 'string'),\n",
       " ('Terms', 'string'),\n",
       " ('Currency', 'string'),\n",
       " ('Gross Amount', 'float'),\n",
       " ('Payment', 'float'),\n",
       " ('Open Balance', 'string'),\n",
       " ('Transaction Create Date', 'string'),\n",
       " ('Document Date', 'string'),\n",
       " ('Due Date', 'string'),\n",
       " ('Days Open', 'float'),\n",
       " ('Service Dates', 'string'),\n",
       " ('Payment Receipt Date', 'string')]"
      ]
     },
     "execution_count": 102,
     "metadata": {},
     "output_type": "execute_result"
    }
   ],
   "source": [
    "temp_df_process_2.dtypes"
   ]
  },
  {
   "cell_type": "code",
   "execution_count": 103,
   "id": "be9ed241",
   "metadata": {},
   "outputs": [],
   "source": [
    "#     \"Transaction Type\": first(col(\"Transaction Type\")),  # Pick the first occurrence of \"Payment Type\"\n",
    "#     \"Project ID\": max(col(\"Profit\"))  # Calculate the maximum profit\n",
    "#     \"Customer\": first(col(\"Customer\")),\n",
    "#     \"Terms\": first(col(\"Terms\")),\n",
    "#     \"Currency\": first(col(\"Currency\")),\n",
    "#     \"Gross Amount\": min(col(\"Gross Amount\")),\n",
    "#     \"Payment\": max(col(\"Payment\")),\n",
    "#     \"Open Balance\": max(col(\"Open Balance\")),\n",
    "#     \"Transaction Create Date\": max(col(\"Transaction Create Date\")),\n",
    "#     \"Document Date\": max(col(\"Document Date\")),\n",
    "#     \"Due Date\": max(col(\"Due Date\")),\n",
    "#     \"Days Open\": max(col(\"Days Open\")),\n",
    "#     \"Service Dates\": max(col(\"Service Dates\")),\n",
    "#     \"Payment Receipt Date\": col(\"Payment Receipt Date\")"
   ]
  },
  {
   "cell_type": "code",
   "execution_count": 104,
   "id": "51d6ff2b",
   "metadata": {},
   "outputs": [],
   "source": [
    "agg_exprs = {\n",
    "    \"Transaction Type\": 'first',  # Pick the first occurrence of \"Payment Type\"\n",
    "    \"Project ID\": 'first',  # Calculate the maximum profit\n",
    "    \"Customer\": 'first',\n",
    "    \"Terms\": 'first',\n",
    "    \"Currency\": 'first',\n",
    "    \"Gross Amount\": 'min',\n",
    "    \"Payment\": 'max',\n",
    "    \"Open Balance\": 'max',\n",
    "    \"Transaction Create Date\": 'max',\n",
    "    \"Document Date\": 'max',\n",
    "    \"Due Date\": 'max',\n",
    "    \"Days Open\": 'max',\n",
    "    \"Service Dates\": 'max',\n",
    "    \"Payment Receipt Date\": 'first'}\n"
   ]
  },
  {
   "cell_type": "code",
   "execution_count": 105,
   "id": "fd9cf7a1",
   "metadata": {},
   "outputs": [
    {
     "data": {
      "text/plain": [
       "pyspark.sql.column.Column"
      ]
     },
     "execution_count": 105,
     "metadata": {},
     "output_type": "execute_result"
    }
   ],
   "source": [
    "type(first(col(\"Transaction Type\")))"
   ]
  },
  {
   "cell_type": "code",
   "execution_count": 106,
   "id": "39543ae7",
   "metadata": {},
   "outputs": [],
   "source": [
    "# groupby_df_process_2.agg(agg_exprs).count()"
   ]
  },
  {
   "cell_type": "code",
   "execution_count": 107,
   "id": "01058292",
   "metadata": {},
   "outputs": [],
   "source": [
    "process_df_result = groupby_df_process_2.agg(agg_exprs)"
   ]
  },
  {
   "cell_type": "code",
   "execution_count": 108,
   "id": "19a9a275",
   "metadata": {},
   "outputs": [],
   "source": [
    "# column got renamed need to look for other way, there is one commented above but causing some error\n",
    "for column in process_df_result.columns:\n",
    "#     print(column)\n",
    "    new_column = column\n",
    "    remove_list = [\"max\",\"min\",\"(\",\")\",\"first\"]\n",
    "    for char in remove_list:\n",
    "#         print(char)\n",
    "        if char in new_column:\n",
    "            new_column=new_column.replace(char,\"\")\n",
    "    process_df_result=process_df_result.withColumnRenamed(column,new_column)\n",
    "    \n",
    "    "
   ]
  },
  {
   "cell_type": "code",
   "execution_count": 109,
   "id": "0fa8abe2",
   "metadata": {},
   "outputs": [],
   "source": [
    "# process_df_result.columns"
   ]
  },
  {
   "cell_type": "code",
   "execution_count": 110,
   "id": "e83b3d04",
   "metadata": {},
   "outputs": [],
   "source": [
    "process_df_result = process_df_result.withColumn('Outstanding', lit('Cleared'))\n",
    "process_df_result=process_df_result.withColumn('Applying Link Amount', -col(\"Payment\"))"
   ]
  },
  {
   "cell_type": "code",
   "execution_count": 111,
   "id": "72ccf85a",
   "metadata": {},
   "outputs": [
    {
     "name": "stdout",
     "output_type": "stream",
     "text": [
      "+--------------+-----------+--------------------+\n",
      "|Transaction ID|Outstanding|Applying Link Amount|\n",
      "+--------------+-----------+--------------------+\n",
      "|       3191846|    Cleared|              -84.87|\n",
      "|       3196377|    Cleared|              -243.0|\n",
      "|       3152869|    Cleared|            -1394.96|\n",
      "|       3136755|    Cleared|                -0.0|\n",
      "|       3117490|    Cleared|             -111.29|\n",
      "|       3119866|    Cleared|            -1397.43|\n",
      "|       3051990|    Cleared|             -525.98|\n",
      "|       3034098|    Cleared|              -19.48|\n",
      "|       2979232|    Cleared|              -119.6|\n",
      "|       2889570|    Cleared|            -2857.77|\n",
      "|       2840729|    Cleared|             -1000.0|\n",
      "|       3195531|    Cleared|                -0.0|\n",
      "|       3198467|    Cleared|             -446.38|\n",
      "|       3154622|    Cleared|                -0.0|\n",
      "|       3114388|    Cleared|               -0.08|\n",
      "|       3049865|    Cleared|                -0.0|\n",
      "|       3050589|    Cleared|                -0.0|\n",
      "|       3037054|    Cleared|             -185.24|\n",
      "|       3013001|    Cleared|               -0.01|\n",
      "|       2971297|    Cleared|               -0.17|\n",
      "+--------------+-----------+--------------------+\n",
      "only showing top 20 rows\n",
      "\n"
     ]
    }
   ],
   "source": [
    "process_df_result.select([\"Transaction ID\", \"Outstanding\",\"Applying Link Amount\"]).show()"
   ]
  },
  {
   "cell_type": "code",
   "execution_count": 112,
   "id": "d67c1b55",
   "metadata": {},
   "outputs": [
    {
     "name": "stdout",
     "output_type": "stream",
     "text": [
      "Output Result : 14286\n"
     ]
    }
   ],
   "source": [
    "print(\"Output Result :\", process_df_result.count())"
   ]
  },
  {
   "cell_type": "markdown",
   "id": "d07a9529",
   "metadata": {},
   "source": [
    "### Output : process_df_result"
   ]
  },
  {
   "cell_type": "markdown",
   "id": "8af9b4b0",
   "metadata": {},
   "source": [
    "## 3. Tranasaction Type  != \"Credit Memo\""
   ]
  },
  {
   "cell_type": "code",
   "execution_count": 113,
   "id": "b3b222d4",
   "metadata": {},
   "outputs": [
    {
     "data": {
      "text/plain": [
       "382148"
      ]
     },
     "execution_count": 113,
     "metadata": {},
     "output_type": "execute_result"
    }
   ],
   "source": [
    "sales_report_kmpg_july.count()"
   ]
  },
  {
   "cell_type": "code",
   "execution_count": 114,
   "id": "2e3d60f7",
   "metadata": {},
   "outputs": [
    {
     "name": "stdout",
     "output_type": "stream",
     "text": [
      "+----------------+\n",
      "|Transaction Type|\n",
      "+----------------+\n",
      "|     Credit Memo|\n",
      "|         Invoice|\n",
      "|            null|\n",
      "+----------------+\n",
      "\n"
     ]
    }
   ],
   "source": [
    "sales_report_kmpg_july.select(\"Transaction Type\").distinct().show()"
   ]
  },
  {
   "cell_type": "code",
   "execution_count": 115,
   "id": "8fea6022",
   "metadata": {},
   "outputs": [
    {
     "name": "stdout",
     "output_type": "stream",
     "text": [
      "Input : 366688\n"
     ]
    }
   ],
   "source": [
    "temp_df_process_3=sales_report_kmpg_july.filter(sales_report_kmpg_july['Transaction Type'] != 'Credit Memo')\n",
    "print(\"Input :\", temp_df_process_3.count())"
   ]
  },
  {
   "cell_type": "code",
   "execution_count": 116,
   "id": "c3937d12",
   "metadata": {},
   "outputs": [],
   "source": [
    "temp_df_process_3 = temp_df_process_3.withColumn('Customer', upper(trim(col('Customer'))))"
   ]
  },
  {
   "cell_type": "code",
   "execution_count": 117,
   "id": "12be1452",
   "metadata": {},
   "outputs": [
    {
     "data": {
      "text/plain": [
       "366688"
      ]
     },
     "execution_count": 117,
     "metadata": {},
     "output_type": "execute_result"
    }
   ],
   "source": [
    "temp_df_process_3.select('Customer').count()"
   ]
  },
  {
   "cell_type": "code",
   "execution_count": 118,
   "id": "2c4a2dfe",
   "metadata": {},
   "outputs": [
    {
     "data": {
      "text/plain": [
       "DataFrame[Transaction Type: string]"
      ]
     },
     "execution_count": 118,
     "metadata": {},
     "output_type": "execute_result"
    }
   ],
   "source": [
    "temp_df_process_3.filter(col('Transaction Type').like('% %')).select('Transaction Type')"
   ]
  },
  {
   "cell_type": "code",
   "execution_count": 119,
   "id": "1a7419af",
   "metadata": {},
   "outputs": [
    {
     "data": {
      "text/plain": [
       "DataFrame[Transaction ID: string, Document Number: string, Transaction Type: string, Project ID: string, Customer: string, Terms: string, Currency: string, Gross Amount: string, Payment: string, Open Balance: string, Transaction Create Date: string, Document Date: string, Due Date: string, Days Open: string, Service Dates: string, Payment Receipt Date: string]"
      ]
     },
     "execution_count": 119,
     "metadata": {},
     "output_type": "execute_result"
    }
   ],
   "source": [
    "temp_df_process_3"
   ]
  },
  {
   "cell_type": "code",
   "execution_count": null,
   "id": "0179854d",
   "metadata": {},
   "outputs": [],
   "source": [
    "customer_payment_history = customer_payment_history.withColumn('Payment Date', date_format(to_date(df['Payment Date'], 'M/d/yyyy'), 'yyyy-MM-dd'))\n"
   ]
  },
  {
   "cell_type": "code",
   "execution_count": 55,
   "id": "664ef361",
   "metadata": {},
   "outputs": [
    {
     "data": {
      "text/plain": [
       "0"
      ]
     },
     "execution_count": 55,
     "metadata": {},
     "output_type": "execute_result"
    }
   ],
   "source": [
    "customer_payment_history = customer_payment_history.withColumn()"
   ]
  },
  {
   "cell_type": "code",
   "execution_count": 212,
   "id": "74d91c4c",
   "metadata": {},
   "outputs": [],
   "source": [
    "# customer_payment_history = customer_payment_history.limit(customer_payment_history.count() - 1)"
   ]
  },
  {
   "cell_type": "code",
   "execution_count": 211,
   "id": "2443048b",
   "metadata": {},
   "outputs": [
    {
     "data": {
      "text/plain": [
       "315677"
      ]
     },
     "execution_count": 211,
     "metadata": {},
     "output_type": "execute_result"
    }
   ],
   "source": [
    "customer_payment_history = spark.read.options(inferSchema='True').csv('csv_converted\\Customer_Payment_history_july.csv', header=True, inferSchema=True, sep=',')\n",
    "customer_payment_history.count()"
   ]
  },
  {
   "cell_type": "code",
   "execution_count": 201,
   "id": "b44aeab3",
   "metadata": {},
   "outputs": [],
   "source": [
    "# customer_payment_history.filter(col(\"payment Date\").isNull()).count()\n",
    "# customer_payment_history.filter(col(\"Payment Date\").rlike(r\"^\\d{1,2}/\\d{1,2}/\\d{4}$\")).count()\n",
    "# customer_payment_history.filter(col('Payment Date').like('%1/1/1900%')).select('Payment Date').show()"
   ]
  },
  {
   "cell_type": "markdown",
   "id": "69211af7",
   "metadata": {},
   "source": [
    "# customer_payment_history "
   ]
  },
  {
   "cell_type": "code",
   "execution_count": 221,
   "id": "5e76ed38",
   "metadata": {},
   "outputs": [],
   "source": [
    "customer_payment_history = spark.read.options(inferSchema='True').csv('csv_converted\\Customer_Payment_history_july.csv', header=True, inferSchema=True, sep=',')"
   ]
  },
  {
   "cell_type": "code",
   "execution_count": 222,
   "id": "5fd3b624",
   "metadata": {},
   "outputs": [],
   "source": [
    "customer_payment_history=customer_payment_history.withColumnRenamed('Currency0','Currency')\n",
    "customer_payment_history=customer_payment_history.withColumnRenamed('Currency24','Currency2')\n",
    "customer_payment_history=customer_payment_history.withColumnRenamed('Approved for Email10','Approved for Email')\n",
    "customer_payment_history=customer_payment_history.withColumnRenamed('Approved for Email44','Approved for Email')"
   ]
  },
  {
   "cell_type": "code",
   "execution_count": 223,
   "id": "ffabeddb",
   "metadata": {},
   "outputs": [
    {
     "data": {
      "text/plain": [
       "[Row(Currency=None, Custom Form=None, Detailed Invoice=None, Region=None, Period=None, Billing Cycle=None, Date=None, Date Deposited/Refunded=None, Invoice to Time Action Queue=None, Revised Invoice=None, Approved for Email=None, Print=None, Type=None, Payroll Batch=None, Document Number=None, SA Entity=None, Scribe Period Display on Printout=None, Transaction Number=None, Name=None, Account=None, PO/Check Number=None, Status=None, Tracking Numbers=None, Memo=None, Currency2=None, Amount (Foreign Currency)='$1,627,361,480.84 ', Amount='1,624,379,826.75 ', Posting=None, Applying Link Amount='1,343,025,945.55 ', Applying Link Amount (Foreign Currency)='1,343,920,193.55 ', Applying Link Type=None, Applying Transaction=None, Payment Date=None, Contract Signature Date=None, On Hold Reason=None, JE Convert=None, Implementation Status=None, Actual End Date=None, Processed Rules=None, Pipeline=None, City=None, State=None, FACILITY NAME=None, Pre-EVP Approval Opp=None, Approved for Email=None, Email Sent=None, Internal ID=2147483647)]"
      ]
     },
     "execution_count": 223,
     "metadata": {},
     "output_type": "execute_result"
    }
   ],
   "source": [
    "customer_payment_history.tail(1)"
   ]
  },
  {
   "cell_type": "code",
   "execution_count": 821,
   "id": "1f92d9e9",
   "metadata": {},
   "outputs": [],
   "source": [
    "customer_payment_history = customer_payment_history.withColumnRenamed('Payment Date2','temp name')\n",
    "customer_payment_history = customer_payment_history.withColumnRenamed('Payment Date','Payment Date2')\n",
    "customer_payment_history = customer_payment_history.withColumnRenamed('temp name','Payment Date')"
   ]
  },
  {
   "cell_type": "code",
   "execution_count": 817,
   "id": "75a26972",
   "metadata": {},
   "outputs": [
    {
     "data": {
      "text/plain": [
       "[('Payment Date', 'date')]"
      ]
     },
     "execution_count": 817,
     "metadata": {},
     "output_type": "execute_result"
    }
   ],
   "source": [
    "customer_payment_history.select('Payment Date').dtypes"
   ]
  },
  {
   "cell_type": "code",
   "execution_count": 816,
   "id": "f0cd58ce",
   "metadata": {},
   "outputs": [],
   "source": [
    "customer_payment_history = customer_payment_history.withColumn('Document Number', upper(trim(col('Document Number'))))"
   ]
  },
  {
   "cell_type": "code",
   "execution_count": 815,
   "id": "06b9a5e3",
   "metadata": {},
   "outputs": [],
   "source": [
    "customer_payment_history =customer_payment_history.withColumn('Payment Date', to_date(customer_payment_history['Payment Date'],'M/d/yyyy'))"
   ]
  },
  {
   "cell_type": "code",
   "execution_count": 873,
   "id": "4418c7ae",
   "metadata": {},
   "outputs": [
    {
     "name": "stdout",
     "output_type": "stream",
     "text": [
      "+----------+\n",
      "|      Date|\n",
      "+----------+\n",
      "|2019-01-15|\n",
      "|2019-01-15|\n",
      "|2019-01-15|\n",
      "|2019-01-15|\n",
      "|2019-01-15|\n",
      "|2019-01-15|\n",
      "|2019-01-15|\n",
      "|2019-01-15|\n",
      "|2019-01-15|\n",
      "|2019-01-15|\n",
      "|2019-01-15|\n",
      "|2019-01-15|\n",
      "|2019-01-15|\n",
      "|2019-01-15|\n",
      "|2019-01-15|\n",
      "|2019-01-15|\n",
      "|2019-01-15|\n",
      "|2019-01-15|\n",
      "|2019-01-15|\n",
      "|2019-01-15|\n",
      "+----------+\n",
      "only showing top 20 rows\n",
      "\n"
     ]
    }
   ],
   "source": [
    "customer_payment_history.select('Date').show()"
   ]
  },
  {
   "cell_type": "code",
   "execution_count": 883,
   "id": "33c505bc",
   "metadata": {},
   "outputs": [
    {
     "data": {
      "text/plain": [
       "[('Date', 'date')]"
      ]
     },
     "execution_count": 883,
     "metadata": {},
     "output_type": "execute_result"
    }
   ],
   "source": [
    "customer_payment_history.select('Date').dtypes"
   ]
  },
  {
   "cell_type": "code",
   "execution_count": 973,
   "id": "6d011ad1",
   "metadata": {},
   "outputs": [
    {
     "ename": "SyntaxError",
     "evalue": "incomplete input (2203485108.py, line 3)",
     "output_type": "error",
     "traceback": [
      "\u001b[1;36m  Cell \u001b[1;32mIn[973], line 3\u001b[1;36m\u001b[0m\n\u001b[1;33m    customer_payment_history.filter(customer_payment_history['Payment Date'].isNull(\u001b[0m\n\u001b[1;37m                                                                                    ^\u001b[0m\n\u001b[1;31mSyntaxError\u001b[0m\u001b[1;31m:\u001b[0m incomplete input\n"
     ]
    }
   ],
   "source": [
    "from datetime import datetime\n",
    "date_filter = datetime.strptime(\"2019-01-15\", \"%Y-%m-%d\")\n",
    "customer_payment_history.filter(customer_payment_history['Payment Date'].isNull("
   ]
  },
  {
   "cell_type": "code",
   "execution_count": 972,
   "id": "503abb13",
   "metadata": {},
   "outputs": [],
   "source": [
    "customer_payment_history = customer_payment_history.withColumn('Date', date_format(customer_payment_history['Date'], 'yyyy-MM-dd'))"
   ]
  },
  {
   "cell_type": "code",
   "execution_count": 971,
   "id": "5a1c1665",
   "metadata": {},
   "outputs": [],
   "source": [
    "customer_payment_history = customer_payment_history.withColumn('Date', date_format(to_date(customer_payment_history['Date'], 'MM/dd/yyyy'), 'yyyy-MM-dd'))\n"
   ]
  },
  {
   "cell_type": "code",
   "execution_count": 970,
   "id": "a79030df",
   "metadata": {},
   "outputs": [],
   "source": [
    "\n",
    "#  customer_payment_history =customer_payment_history.withColumn('Date', date_format(customer_payment_history['Date'], 'MM/dd/yyyy'))\n",
    "# customer_payment_history = customer_payment_history.fillna('1/1/1900',subset=['Payment Date'])\n"
   ]
  },
  {
   "cell_type": "code",
   "execution_count": 969,
   "id": "3b0c878e",
   "metadata": {},
   "outputs": [],
   "source": [
    "# customer_payment_history =customer_payment_history.withColumn('Payment Date', to_date(customer_payment_history['Payment Date'],'M/d/yyyy'))\n",
    "# customer_payment_history = customer_payment_history.withColumn('Document Number', upper(trim(col('Document Number'))))"
   ]
  },
  {
   "cell_type": "code",
   "execution_count": 984,
   "id": "8c0faffb",
   "metadata": {},
   "outputs": [],
   "source": [
    "# customer_payment_history =customer_payment_history.withColumn('Date', date_format(customer_payment_history['Date'], 'MM/dd/yyyy'))\n",
    "# customer_payment_history =customer_payment_history.withColumn('Date', to_date(customer_payment_history['Date'],'yyyy-MM-dd' ))\n",
    "# customer_payment_history = customer_payment_history.fillna('1/1/1900',subset=['Payment Date'])\n",
    "# customer_payment_history =customer_payment_history.withColumn('Payment Date', to_date(date_format(customer_payment_history['Payment Date'],'yyyy-MM-dd'),'M/d/yyyy' ))\n",
    "# customer_payment_history = customer_payment_history.withColumn('Document Number', upper(trim(col('Document Number'))))"
   ]
  },
  {
   "cell_type": "code",
   "execution_count": 1033,
   "id": "f28460da",
   "metadata": {},
   "outputs": [
    {
     "name": "stdout",
     "output_type": "stream",
     "text": [
      "+----------+\n",
      "|      Date|\n",
      "+----------+\n",
      "|2019-01-15|\n",
      "|2019-01-15|\n",
      "|2019-01-15|\n",
      "|2019-01-15|\n",
      "|2019-01-15|\n",
      "|2019-01-15|\n",
      "|2019-01-15|\n",
      "|2019-01-15|\n",
      "|2019-01-15|\n",
      "|2019-01-15|\n",
      "|2019-01-15|\n",
      "|2019-01-15|\n",
      "|2019-01-15|\n",
      "|2019-01-15|\n",
      "|2019-01-15|\n",
      "|2019-01-15|\n",
      "|2019-01-15|\n",
      "|2019-01-15|\n",
      "|2019-01-15|\n",
      "|2019-01-15|\n",
      "+----------+\n",
      "only showing top 20 rows\n",
      "\n"
     ]
    }
   ],
   "source": [
    "customer_payment_history.select(variable).show()"
   ]
  },
  {
   "cell_type": "code",
   "execution_count": 1032,
   "id": "d29c01bb",
   "metadata": {},
   "outputs": [
    {
     "name": "stdout",
     "output_type": "stream",
     "text": [
      "315676 [('Date', 'date')]\n"
     ]
    }
   ],
   "source": [
    "variable = 'Date'\n",
    "print(customer_payment_history.select(variable).count(), customer_payment_history.select(variable).dtypes)"
   ]
  },
  {
   "cell_type": "code",
   "execution_count": 1031,
   "id": "ea2f8859",
   "metadata": {},
   "outputs": [],
   "source": [
    "customer_payment_history =customer_payment_history.withColumn('Date', to_date(customer_payment_history['Date'],'M/dd/yyyy' ))"
   ]
  },
  {
   "cell_type": "code",
   "execution_count": 1023,
   "id": "2b3bb1cc",
   "metadata": {},
   "outputs": [],
   "source": [
    "#correct\n",
    "customer_payment_history =customer_payment_history.withColumn('Date', date_format(customer_payment_history['Date'], 'M/dd/yyyy'))\n"
   ]
  },
  {
   "cell_type": "code",
   "execution_count": 50,
   "id": "408c2724",
   "metadata": {},
   "outputs": [
    {
     "name": "stdout",
     "output_type": "stream",
     "text": [
      "+--------+------------------+----------------+----------+--------+-------------+---------+-----------------------+----------------------------+---------------+------------------+-----+-------+-------------+--------------------+---------+---------------------------------+------------------+--------------------+--------------------+---------------+------------+----------------+-----------------+---------+-------------------------+----------+-------+--------------------+---------------------------------------+------------------+--------------------+------------+-----------------------+--------------+----------+---------------------+---------------+---------------+--------+----+-----+-------------+--------------------+------------------+----------+-----------+\n",
      "|Currency|       Custom Form|Detailed Invoice|    Region|  Period|Billing Cycle|     Date|Date Deposited/Refunded|Invoice to Time Action Queue|Revised Invoice|Approved for Email|Print|   Type|Payroll Batch|     Document Number|SA Entity|Scribe Period Display on Printout|Transaction Number|                Name|             Account|PO/Check Number|      Status|Tracking Numbers|             Memo|Currency2|Amount (Foreign Currency)|    Amount|Posting|Applying Link Amount|Applying Link Amount (Foreign Currency)|Applying Link Type|Applying Transaction|Payment Date|Contract Signature Date|On Hold Reason|JE Convert|Implementation Status|Actual End Date|Processed Rules|Pipeline|City|State|FACILITY NAME|Pre-EVP Approval Opp|Approved for Email|Email Sent|Internal ID|\n",
      "+--------+------------------+----------------+----------+--------+-------------+---------+-----------------------+----------------------------+---------------+------------------+-----+-------+-------------+--------------------+---------+---------------------------------+------------------+--------------------+--------------------+---------------+------------+----------------+-----------------+---------+-------------------------+----------+-------+--------------------+---------------------------------------+------------------+--------------------+------------+-----------------------+--------------+----------+---------------------+---------------+---------------+--------+----+-----+-------------+--------------------+------------------+----------+-----------+\n",
      "|     USA|SA Service Invoice|              No|MidAmerica|Jan 2019|            B|1/15/2019|                   null|                        SENT|             No|                No|Print|Invoice|         null|          FMCW184422|     null|                             null|            175163|FMCW : Froedtert ...|11001 Accounts Re...|           null|Paid In Full|            null|             null|      USA|               $1,500.00 | 1,500.00 |    Yes|           1,500.00 |                              1,500.00 |           Payment|      Payment #68706|   1/24/2019|                   null|          null|      null|                 null|           null|             No|    null|null| null|         null|                null|                No|        No|    1093699|\n",
      "|     USA|SA Service Invoice|              No| Northeast|Jan 2019|            B|1/15/2019|                   null|                        SENT|             No|               Yes|Print|Invoice|         null|          CHOP184426|     null|             Scribe Hours 12/2...|            175167|CHOP : Children's...|11001 Accounts Re...|           null|Paid In Full|            null|             null|      USA|              $13,492.49 |13,492.49 |    Yes|          13,492.49 |                             13,492.49 |           Payment|      Payment #70251|   2/15/2019|                   null|          null|      null|                 null|           null|             No|    null|null| null|         null|                null|               Yes|       Yes|    1096730|\n",
      "|     USA|SA Service Invoice|              No| Southeast|Jan 2019|            B|1/15/2019|                   null|                        SENT|             No|               Yes|Print|Invoice|         null|        FHPHSO184427|     null|             Scribe Hours 12/2...|            175168|AHPHSO : Central ...|11001 Accounts Re...|           null|Paid In Full|            null|             null|      USA|               $6,327.27 | 6,327.27 |    Yes|           6,327.27 |                              6,327.27 |           Payment|      Payment #64398|  11/21/2018|                   null|          null|      null|                 null|           null|             No|    null|null| null|         null|                null|               Yes|       Yes|    1096731|\n",
      "|     USA|SA Service Invoice|              No| Southeast|Jan 2019|            B|1/15/2019|                   null|                        SENT|             No|               Yes|Print|Invoice|         null|      FHWestCN184430|     null|             Scribe Hours 12/2...|            175171|    FHWestCN : Tampa|11001 Accounts Re...|           null|Paid In Full|            null|Excess cap 325.28|      USA|              $22,675.90 |22,675.90 |    Yes|          22,675.90 |                             22,675.90 |           Payment|      Payment #70211|   2/15/2019|                   null|          null|      null|                 null|           null|             No|    null|null| null|         null|                null|               Yes|       Yes|    1096733|\n",
      "|     USA|SA Service Invoice|              No| Southeast|Jan 2019|            B|1/15/2019|                   null|                        SENT|             No|               Yes|Print|Invoice|         null|      FHWestCN184432|     null|             Scribe Hours 12/2...|            175173|FHWestCN : Zephyr...|11001 Accounts Re...|           null|Paid In Full|            null|Excess cap 122.20|      USA|               $7,640.30 | 7,640.30 |    Yes|           7,640.30 |                              7,640.30 |           Payment|      Payment #70211|   2/15/2019|                   null|          null|      null|                 null|           null|             No|    null|null| null|         null|                null|               Yes|       Yes|    1096734|\n",
      "|     USA|SA Service Invoice|              No| Southeast|Jan 2019|            B|1/15/2019|                   null|                        SENT|             No|               Yes|Print|Invoice|         null|          FHRN184434|     null|             Scribe Hours 12/2...|            175175|FHRN : Florida Ho...|11001 Accounts Re...|           null|Paid In Full|            null|             null|      USA|              $31,789.40 |31,789.40 |    Yes|          31,789.40 |                             31,789.40 |           Payment|      Payment #70475|   2/19/2019|                   null|          null|      null|                 null|           null|             No|    null|null| null|         null|                null|               Yes|       Yes|    1096736|\n",
      "|     USA|SA Service Invoice|              No| Southeast|Jan 2019|            B|1/15/2019|                   null|                        SENT|             No|               Yes|Print|Invoice|         null|FHCentralEDNav184437|     null|             Scribe Hours 12/2...|            175178|FHCentralEDNav : ...|11001 Accounts Re...|           null|Paid In Full|            null|             null|      USA|              $28,929.78 |28,929.78 |    Yes|          28,929.78 |                             28,929.78 |           Payment|      Payment #70474|   2/19/2019|                   null|          null|      null|                 null|           null|             No|    null|null| null|         null|                null|               Yes|       Yes|    1096737|\n",
      "|     USA|SA Service Invoice|              No| Southeast|Jan 2019|            B|1/15/2019|                   null|                        SENT|             No|               Yes|Print|Invoice|         null|      FHWestCN184439|     null|             Scribe Hours 12/2...|            175180| FHWestCN : IP-Tampa|11001 Accounts Re...|           null|Paid In Full|            null|Excess cap 138.94|      USA|              $12,567.30 |12,567.30 |    Yes|          12,567.30 |                             12,567.30 |           Payment|      Payment #70211|   2/15/2019|                   null|          null|      null|                 null|           null|             No|    null|null| null|         null|                null|               Yes|       Yes|    1096738|\n",
      "|     USA|SA Service Invoice|              No| Southeast|Jan 2019|            B|1/15/2019|                   null|                        SENT|             No|               Yes|Print|Invoice|         null|      FHWestCN184442|     null|             Scribe Hours 12/2...|            175183|FHWestCN : IP-Wes...|11001 Accounts Re...|           null|Paid In Full|            null|             null|      USA|               $6,485.60 | 6,485.60 |    Yes|           6,485.60 |                              6,485.60 |           Payment|      Payment #70211|   2/15/2019|                   null|          null|      null|                 null|           null|             No|    null|null| null|         null|                null|               Yes|       Yes|    1096739|\n",
      "|     USA|SA Service Invoice|              No| Southeast|Jan 2019|            B|1/15/2019|                   null|                        SENT|             No|               Yes|Print|Invoice|         null|      FHWestCN184446|     null|             Scribe Hours 12/2...|            175187|FHWestCN : IP-Zep...|11001 Accounts Re...|           null|Paid In Full|            null| Excess cap 41.39|      USA|               $7,528.60 | 7,528.60 |    Yes|           7,528.60 |                              7,528.60 |           Payment|      Payment #70211|   2/15/2019|                   null|          null|      null|                 null|           null|             No|    null|null| null|         null|                null|               Yes|       Yes|    1096741|\n",
      "|     USA|SA Service Invoice|              No|TeleHealth|Jan 2019|            B|1/15/2019|                   null|                        SENT|             No|               Yes|Print|Invoice|         null|         DEACN184428|     null|             Scribe Hours 12/2...|            175169|DEACN : TS-Gatewa...|11001 Accounts Re...|           null|Paid In Full|            null|             null|      USA|               $2,800.48 | 2,800.48 |    Yes|           2,800.48 |                              2,800.48 |           Payment|      Payment #70132|   2/14/2019|                   null|          null|      null|                 null|           null|             No|    null|null| null|         null|                null|               Yes|       Yes|    1096832|\n",
      "|     USA|SA Service Invoice|              No| Southeast|Jan 2019|            B|1/15/2019|                   null|                        SENT|             No|               Yes|Print|Invoice|         null|      FHWestCN184429|     null|             Scribe Hours 12/2...|            175170|FHWestCN : Carrol...|11001 Accounts Re...|           null|Paid In Full|            null| Excess cap 75.10|      USA|              $11,139.40 |11,139.40 |    Yes|          11,139.40 |                             11,139.40 |           Payment|      Payment #70211|   2/15/2019|                   null|          null|      null|                 null|           null|             No|    null|null| null|         null|                null|               Yes|       Yes|    1096833|\n",
      "|     USA|SA Service Invoice|              No| Southeast|Jan 2019|            B|1/15/2019|                   null|                        SENT|             No|               Yes|Print|Invoice|         null|      FHWestCN184431|     null|             Scribe Hours 12/2...|            175172|FHWestCN : North ...|11001 Accounts Re...|           null|Paid In Full|            null| Excess cap 52.97|      USA|               $7,414.70 | 7,414.70 |    Yes|           7,414.70 |                              7,414.70 |           Payment|      Payment #70211|   2/15/2019|                   null|          null|      null|                 null|           null|             No|    null|null| null|         null|                null|               Yes|       Yes|    1096834|\n",
      "|     USA|SA Service Invoice|              No| Southeast|Jan 2019|            B|1/15/2019|                   null|                        SENT|             No|               Yes|Print|Invoice|         null|      FHWestCN184433|     null|             Scribe Hours 12/2...|            175174|FHWestCN : Wesley...|11001 Accounts Re...|           null|Paid In Full|            null| Excess cap 79.12|      USA|              $11,685.60 |11,685.60 |    Yes|          11,685.60 |                             11,685.60 |           Payment|      Payment #70211|   2/15/2019|                   null|          null|      null|                 null|           null|             No|    null|null| null|         null|                null|               Yes|       Yes|    1096836|\n",
      "|     USA|SA Service Invoice|              No| Southeast|Jan 2019|            B|1/15/2019|                   null|                        SENT|             No|               Yes|Print|Invoice|         null|          FHRN184436|     null|             Scribe Hours 12/2...|            175177|FHRN : Florida Ho...|11001 Accounts Re...|           null|Paid In Full|            null|             null|      USA|              $62,358.90 |62,358.90 |    Yes|          62,358.90 |                             62,358.90 |           Payment|      Payment #75224|   4/24/2019|                   null|          null|      null|                 null|           null|             No|    null|null| null|         null|                null|               Yes|       Yes|    1096837|\n",
      "|     USA|SA Service Invoice|              No| Southeast|Jan 2019|            B|1/15/2019|                   null|                        SENT|             No|               Yes|Print|Invoice|         null|          FHRN184435|     null|             Scribe Hours 12/2...|            175176|FHRN : Florida Ho...|11001 Accounts Re...|           null|Paid In Full|            null|             null|      USA|              $45,825.50 |45,825.50 |    Yes|          45,825.50 |                             45,825.50 |           Payment|      Payment #70475|   2/19/2019|                   null|          null|      null|                 null|           null|             No|    null|null| null|         null|                null|               Yes|       Yes|    1096938|\n",
      "|     USA|SA Service Invoice|              No| Northeast|Jan 2019|            B|1/15/2019|                   null|                        SENT|             No|               Yes|Print|Invoice|         null|          CHOP184438|     null|             Scribe Hours 12/2...|            175179|CHOP : Patient Na...|11001 Accounts Re...|           null|Paid In Full|            null|             null|      USA|               $5,471.47 | 5,471.47 |    Yes|           5,471.47 |                              5,471.47 |           Payment|      Payment #70251|   2/15/2019|                   null|          null|      null|                 null|           null|             No|    null|null| null|         null|                null|               Yes|       Yes|    1096939|\n",
      "|     USA|SA Service Invoice|              No| Southeast|Jan 2019|            B|1/15/2019|                   null|                        SENT|             No|               Yes|Print|Invoice|         null|      FHWestCN184440|     null|             Scribe Hours 12/2...|            175181|FHWestCN : IP-Car...|11001 Accounts Re...|           null|Paid In Full|            null| Excess cap 17.64|      USA|               $3,076.50 | 3,076.50 |    Yes|           3,076.50 |                              3,076.50 |           Payment|      Payment #70211|   2/15/2019|                   null|          null|      null|                 null|           null|             No|    null|null| null|         null|                null|               Yes|       Yes|    1096940|\n",
      "|     USA|SA Service Invoice|              No| Southeast|Jan 2019|            B|1/15/2019|                   null|                        SENT|             No|               Yes|Print|Invoice|         null|      FHWestCN184441|     null|             Scribe Hours 12/2...|            175182|FHWestCN : IP-Nor...|11001 Accounts Re...|           null|Paid In Full|            null|    Excess cap 23|      USA|               $3,085.50 | 3,085.50 |    Yes|           3,085.50 |                              3,085.50 |           Payment|      Payment #70211|   2/15/2019|                   null|          null|      null|                 null|           null|             No|    null|null| null|         null|                null|               Yes|       Yes|    1096941|\n",
      "|     USA|SA Service Invoice|              No| Northeast|Jan 2019|            M|1/15/2019|                   null|                        SENT|             No|               Yes|Print|Invoice|         null|          TMSH184443|     null|             Scribe Hours 12/2...|            175184|TMSH : Mt. Sinai ...|11001 Accounts Re...|           null|Paid In Full|            null|             null|      USA|               $2,369.01 | 2,369.01 |    Yes|           2,369.01 |                              2,369.01 |           Payment|      Payment #73896|    4/8/2019|                   null|          null|      null|                 null|           null|             No|    null|null| null|         null|                null|               Yes|       Yes|    1096942|\n",
      "|     USA|SA Service Invoice|              No| Southeast|Jan 2019|            B|1/15/2019|                   null|                        SENT|             No|               Yes|Print|Invoice|         null|      FHWestCN184444|     null|             Scribe Hours 12/2...|            175185|FHWestCN : Dade City|11001 Accounts Re...|           null|Paid In Full|            null|             null|      USA|               $1,525.60 | 1,525.60 |    Yes|           1,525.60 |                              1,525.60 |           Payment|      Payment #70211|   2/15/2019|                   null|          null|      null|                 null|           null|             No|    null|null| null|         null|                null|               Yes|       Yes|    1096943|\n",
      "|     USA|SA Service Invoice|              No| Southeast|Jan 2019|            B|1/15/2019|                   null|                        SENT|             No|               Yes|Print|Invoice|         null|      FHWestCN184445|     null|             Scribe Hours 12/2...|            175186|FHWestCN : IP-Dad...|11001 Accounts Re...|           null|Paid In Full|            null|             null|      USA|               $1,031.70 | 1,031.70 |    Yes|           1,031.70 |                              1,031.70 |           Payment|      Payment #70211|   2/15/2019|                   null|          null|      null|                 null|           null|             No|    null|null| null|         null|                null|               Yes|       Yes|    1096944|\n",
      "|     USA|SA Service Invoice|              No|      West|Jan 2019|            B|1/15/2019|                   null|                        SENT|             No|               Yes|Print|Invoice|         null|           OFH184447|     null|             Scribe Hours 12/2...|            175188|OFH : Oregon Fami...|11001 Accounts Re...|           null|Paid In Full|            null|             null|      USA|               $2,529.27 | 2,529.27 |    Yes|           2,529.27 |                              2,529.27 |           Payment|      Payment #69868|   2/11/2019|                   null|          null|      null|                 null|           null|             No|    null|null| null|         null|                null|               Yes|       Yes|    1097050|\n",
      "|     USA|SA Service Invoice|              No|MidAmerica|Jan 2019|            B|1/15/2019|                   null|                        SENT|             No|               Yes|Print|Invoice|         null|       MIHEART184448|     null|             Scribe Hours 12/2...|            175189|THM : Jackson Office|11001 Accounts Re...|           null|Paid In Full|            null|            email|      USA|                 $429.45 |   429.45 |    Yes|             429.45 |                                429.45 |           Payment|      Payment #70271|   2/19/2019|                   null|          null|      null|                 null|           null|             No|    null|null| null|         null|                null|               Yes|       Yes|    1097051|\n",
      "|     USA|SA Service Invoice|              No|      West|Jan 2019|            B|1/15/2019|                   null|                        SENT|             No|               Yes|Print|Invoice|         null|         USACS184453|     null|             Scribe Hours 12/2...|            175194|USACS : Emergency...|11001 Accounts Re...|           null|Paid In Full|            null|             null|      USA|              $14,061.45 |14,061.45 |    Yes|          14,061.45 |                             14,061.45 |           Payment|      Payment #71894|   3/11/2019|                   null|          null|      null|                 null|           null|             No|    null|null| null|         null|                null|               Yes|       Yes|    1097052|\n",
      "|     USA|SA Service Invoice|              No| Northeast|Jan 2019|            B|1/15/2019|                   null|                        SENT|             No|               Yes|Print|Invoice|         null|          CHKD184449|     null|             Scribe Hours 12/2...|            175190|CHKD : General Bo...|11001 Accounts Re...|           null|Paid In Full|            null|             null|      USA|               $1,969.66 | 1,969.66 |    Yes|           1,969.66 |                              1,969.66 |           Payment|      Payment #70481|   2/20/2019|                   null|          null|      null|                 null|           null|             No|    null|null| null|         null|                null|               Yes|       Yes|    1097150|\n",
      "|     USA|SA Service Invoice|              No| Northeast|Jan 2019|            B|1/15/2019|                   null|                        SENT|             No|               Yes|Print|Invoice|         null|           VCU184450|     null|             Scribe Hours 12/2...|            175191|VCU : VCU Health ...|11001 Accounts Re...|           null|Paid In Full|            null|             null|      USA|               $6,639.78 | 6,639.78 |    Yes|           6,639.78 |                              6,639.78 |           Payment|      Payment #70505|   2/20/2019|                   null|          null|      null|                 null|           null|             No|    null|null| null|         null|                null|               Yes|       Yes|    1097151|\n",
      "|     USA|SA Service Invoice|              No| Northeast|Jan 2019|            B|1/15/2019|                   null|                        SENT|             No|               Yes|Print|Invoice|         null|           VCU184454|     null|             Scribe Hours 12/2...|            175195|VCU : VCU Health ...|11001 Accounts Re...|           null|Paid In Full|            null|             null|      USA|               $1,027.74 | 1,027.74 |    Yes|           1,027.74 |                              1,027.74 |           Payment|      Payment #70505|   2/20/2019|                   null|          null|      null|                 null|           null|             No|    null|null| null|         null|                null|               Yes|       Yes|    1097152|\n",
      "|     USA|SA Service Invoice|              No| Northeast|Jan 2019|            B|1/15/2019|                   null|                        SENT|             No|               Yes|Print|Invoice|         null|           VCI184457|     null|             Scribe Hours 12/2...|            175198|VCI : Virginia Ca...|11001 Accounts Re...|           null|Paid In Full|            null|             null|      USA|               $4,286.95 | 4,286.95 |    Yes|           4,286.95 |                              4,286.95 |           Payment|      Payment #69443|    2/4/2019|                   null|          null|      null|                 null|           null|             No|    null|null| null|         null|                null|               Yes|       Yes|    1097153|\n",
      "|     USA|SA Service Invoice|              No| Northeast|Jan 2019|            B|1/15/2019|                   null|                        SENT|             No|               Yes|Print|Invoice|         null|           VCU184461|     null|             Scribe Hours 12/2...|            175202|VCU : Hayes E. Wi...|11001 Accounts Re...|           null|Paid In Full|            null|             null|      USA|               $2,349.06 | 2,349.06 |    Yes|           2,349.06 |                              2,349.06 |           Payment|      Payment #70505|   2/20/2019|                   null|          null|      null|                 null|           null|             No|    null|null| null|         null|                null|               Yes|       Yes|    1097154|\n",
      "|     USA|SA Service Invoice|              No| Northeast|Jan 2019|            B|1/15/2019|                   null|                        SENT|             No|               Yes|Print|Invoice|         null|           VCU184467|     null|             Scribe Hours 12/2...|            175208|VCU : VCU Health ...|11001 Accounts Re...|           null|Paid In Full|            null|             null|      USA|               $6,545.07 | 6,545.07 |    Yes|           6,545.07 |                              6,545.07 |           Payment|      Payment #70505|   2/20/2019|                   null|          null|      null|                 null|           null|             No|    null|null| null|         null|                null|               Yes|       Yes|    1097155|\n",
      "|     USA|SA Service Invoice|              No| Northeast|Jan 2019|            B|1/15/2019|                   null|                        SENT|             No|               Yes|Print|Invoice|         null|           VCU184478|     null|             Scribe Hours 12/2...|            175219|      VCU : ENT-MAIN|11001 Accounts Re...|           null|Paid In Full|            null|             null|      USA|               $2,776.62 | 2,776.62 |    Yes|           2,776.62 |                              2,776.62 |           Payment|      Payment #70505|   2/20/2019|                   null|          null|      null|                 null|           null|             No|    null|null| null|         null|                null|               Yes|       Yes|    1097156|\n",
      "|     USA|SA Service Invoice|              No|MidAmerica|Jan 2019|            B|1/15/2019|                   null|                        SENT|             No|               Yes|Print|Invoice|         null|       MIHEART184451|     null|             Scribe Hours 12/2...|            175192|THM : Trinity Hea...|11001 Accounts Re...|           null|Paid In Full|            null|            email|      USA|              $13,888.27 |13,888.27 |    Yes|          13,888.27 |                             13,888.27 |           Payment|      Payment #70271|   2/19/2019|                   null|          null|      null|                 null|           null|             No|    null|null| null|         null|                null|               Yes|       Yes|    1097251|\n",
      "|     USA|SA Service Invoice|              No| Northeast|Jan 2019|            B|1/15/2019|                   null|                        SENT|             No|               Yes|Print|Invoice|         null|           VCU184452|     null|             Scribe Hours 12/2...|            175193|VCU : VCU Health ...|11001 Accounts Re...|           null|Paid In Full|            null|             null|      USA|               $3,465.95 | 3,465.95 |    Yes|           3,465.95 |                              3,465.95 |           Payment|      Payment #70505|   2/20/2019|                   null|          null|      null|                 null|           null|             No|    null|null| null|         null|                null|               Yes|       Yes|    1097350|\n",
      "|     USA|SA Service Invoice|              No| Southeast|Jan 2019|            B|1/15/2019|                   null|                        SENT|             No|               Yes|Print|Invoice|         null|            UF184455|     null|             Scribe Hours 12/2...|            175196|UF : Health Famil...|11001 Accounts Re...|           null|Paid In Full|            null|             null|      USA|                 $612.30 |   612.30 |    Yes|             612.30 |                                612.30 |           Payment|      Payment #70373|   2/19/2019|                   null|          null|      null|                 null|           null|             No|    null|null| null|         null|                null|               Yes|       Yes|    1097351|\n",
      "|     USA|SA Service Invoice|              No| Northeast|Jan 2019|            B|1/15/2019|                   null|                        SENT|            Yes|               Yes|Print|Invoice|         null|       RIVMED184456R|     null|             Scribe Hours 12/2...|            175197|RIVMED : OP - Int...|11001 Accounts Re...|           null|Paid In Full|            null|             null|      USA|                 $865.72 |   865.72 |    Yes|             865.72 |                                865.72 |           Payment|      Payment #73648|    4/4/2019|                   null|          null|      null|                 null|           null|             No|    null|null| null|         null|                null|               Yes|       Yes|    1097352|\n",
      "|     USA|SA Service Invoice|              No| Northeast|Jan 2019|            B|1/15/2019|                   null|                        SENT|             No|               Yes|Print|Invoice|         null|           VCU184458|     null|             Scribe Hours 12/2...|            175199|VCU : VCU Health ...|11001 Accounts Re...|           null|Paid In Full|            null|             null|      USA|               $1,022.28 | 1,022.28 |    Yes|           1,022.28 |                              1,022.28 |           Payment|      Payment #70505|   2/20/2019|                   null|          null|      null|                 null|           null|             No|    null|null| null|         null|                null|               Yes|       Yes|    1097353|\n",
      "|     USA|SA Service Invoice|              No| Northeast|Jan 2019|            B|1/15/2019|                   null|                        SENT|             No|               Yes|Print|Invoice|         null|           VCU184460|     null|             Scribe Hours 12/2...|            175201|VCU : VCU Health ...|11001 Accounts Re...|           null|Paid In Full|            null|             null|      USA|               $2,515.38 | 2,515.38 |    Yes|           2,515.38 |                              2,515.38 |           Payment|      Payment #70505|   2/20/2019|                   null|          null|      null|                 null|           null|             No|    null|null| null|         null|                null|               Yes|       Yes|    1097354|\n",
      "|     USA|SA Service Invoice|              No| Northeast|Jan 2019|            B|1/15/2019|                   null|                        SENT|             No|               Yes|Print|Invoice|         null|           VCU184463|     null|             Scribe Hours 12/2...|            175204|VCU : VCU Health ...|11001 Accounts Re...|           null|Paid In Full|            null|             null|      USA|                 $246.12 |   246.12 |    Yes|             246.12 |                                246.12 |           Payment|      Payment #70505|   2/20/2019|                   null|          null|      null|                 null|           null|             No|    null|null| null|         null|                null|               Yes|       Yes|    1097355|\n",
      "|     USA|SA Service Invoice|              No| Southeast|Jan 2019|            B|1/15/2019|                   null|                        SENT|             No|               Yes|Print|Invoice|         null|            UF184465|     null|             Scribe Hours 12/2...|            175206|UF : Health Famil...|11001 Accounts Re...|           null|Paid In Full|            null|             null|      USA|                 $895.96 |   895.96 |    Yes|             895.96 |                                895.96 |           Payment|      Payment #84419|   8/20/2019|                   null|          null|      null|                 null|           null|             No|    null|null| null|         null|                null|               Yes|       Yes|    1097356|\n",
      "|     USA|SA Service Invoice|              No| Southeast|Jan 2019|            B|1/15/2019|                   null|                        SENT|             No|               Yes|Print|Invoice|         null|            UF184468|     null|             Scribe Hours 12/2...|            175209|UF : Health Famil...|11001 Accounts Re...|           null|Paid In Full|            null|             null|      USA|                 $340.20 |   340.20 |    Yes|             340.20 |                                340.20 |           Payment|      Payment #70373|   2/19/2019|                   null|          null|      null|                 null|           null|             No|    null|null| null|         null|                null|               Yes|       Yes|    1097357|\n",
      "|     USA|SA Service Invoice|              No| Southeast|Jan 2019|            B|1/15/2019|                   null|                        SENT|             No|               Yes|Print|Invoice|         null|            UF184470|     null|             Scribe Hours 12/2...|            175211|UF : Pediatric We...|11001 Accounts Re...|           null|Paid In Full|            null|             null|      USA|                 $105.51 |   105.51 |    Yes|             105.51 |                                105.51 |           Payment|      Payment #69566|    2/5/2019|                   null|          null|      null|                 null|           null|             No|    null|null| null|         null|                null|               Yes|       Yes|    1097358|\n",
      "|     USA|SA Service Invoice|              No| Southeast|Jan 2019|            B|1/15/2019|                   null|                        SENT|             No|               Yes|Print|Invoice|         null|            UF184472|     null|             Scribe Hours 12/2...|            175213|       UF : Blanding|11001 Accounts Re...|           null|Paid In Full|            null|             null|      USA|                 $357.03 |   357.03 |    Yes|             357.03 |                                357.03 |           Payment|      Payment #84743|   8/26/2019|                   null|          null|      null|                 null|           null|             No|    null|null| null|         null|                null|               Yes|       Yes|    1097359|\n",
      "|     USA|SA Service Invoice|              No| Southeast|Jan 2019|            B|1/15/2019|                   null|                        SENT|             No|               Yes|Print|Invoice|         null|           CEM184475|     null|             Scribe Hours 12/2...|            175216|CEM : Chattanooga...|11001 Accounts Re...|           null|Paid In Full|            null|             null|      USA|              $18,264.29 |18,264.29 |    Yes|          18,264.29 |                             18,264.29 |           Payment|      Payment #69099|   1/30/2019|                   null|          null|      null|                 null|           null|             No|    null|null| null|         null|                null|               Yes|       Yes|    1097360|\n",
      "|     USA|SA Service Invoice|              No| Northeast|Jan 2019|            B|1/15/2019|                   null|                        SENT|             No|               Yes|Print|Invoice|         null|          CHKD184476|     null|             Scribe Hours 12/2...|            175217|CHKD : Children's...|11001 Accounts Re...|           null|Paid In Full|            null|             null|      USA|               $5,624.74 | 5,624.74 |    Yes|           5,624.74 |                              5,624.74 |           Payment|      Payment #72229|   3/15/2019|                   null|          null|      null|                 null|           null|             No|    null|null| null|         null|                null|               Yes|       Yes|    1097361|\n",
      "|     USA|SA Service Invoice|              No| Northeast|Jan 2019|            B|1/15/2019|                   null|                        SENT|             No|               Yes|Print|Invoice|         null|        RIVMED184480|     null|             Scribe Hours 12/2...|            175221|RIVMED : Brentwoo...|11001 Accounts Re...|           null|Paid In Full|            null|             null|      USA|                 $292.10 |   292.10 |    Yes|             292.10 |                                292.10 |           Payment|      Payment #69325|   2/11/2019|                   null|          null|      null|                 null|           null|             No|    null|null| null|         null|                null|               Yes|       Yes|    1097362|\n",
      "|     USA|SA Service Invoice|              No| Northeast|Jan 2019|            B|1/15/2019|                   null|                        SENT|             No|               Yes|Print|Invoice|         null|          CHKD184459|     null|             Scribe Hours 12/2...|            175200|CHKD : Children's...|11001 Accounts Re...|           null|Paid In Full|            null|             null|      USA|               $1,741.08 | 1,741.08 |    Yes|           1,741.08 |                              1,741.08 |           Payment|      Payment #69874|   2/11/2019|                   null|          null|      null|                 null|           null|             No|    null|null| null|         null|                null|               Yes|       Yes|    1097450|\n",
      "|     USA|SA Service Invoice|              No| Northeast|Jan 2019|            B|1/15/2019|                   null|                        SENT|             No|               Yes|Print|Invoice|         null|           VCU184462|     null|             Scribe Hours 12/2...|            175203|VCU : VCU Health ...|11001 Accounts Re...|           null|Paid In Full|            null|             null|      USA|                 $763.35 |   763.35 |    Yes|             763.35 |                                763.35 |           Payment|      Payment #70505|   2/20/2019|                   null|          null|      null|                 null|           null|             No|    null|null| null|         null|                null|               Yes|       Yes|    1097451|\n",
      "|     USA|SA Service Invoice|              No| Northeast|Jan 2019|            B|1/15/2019|                   null|                        SENT|             No|               Yes|Print|Invoice|         null|        ORTHVA184466|     null|             Scribe Hours 12/2...|            175207|ORTHVA : OrthoVir...|11001 Accounts Re...|           null|Paid In Full|            null|     Retro Credit|      USA|               $8,897.23 | 8,897.23 |    Yes|           8,823.29 |                              8,823.29 |           Payment|      Payment #70354|   2/19/2019|                   null|          null|      null|                 null|           null|             No|    null|null| null|         null|                null|               Yes|       Yes|    1097452|\n",
      "|     USA|SA Service Invoice|              No| Northeast|Jan 2019|            B|1/15/2019|                   null|                        SENT|             No|               Yes|Print|Invoice|         null|        ORTHVA184466|     null|             Scribe Hours 12/2...|            175207|ORTHVA : OrthoVir...|11001 Accounts Re...|           null|Paid In Full|            null|     Retro Credit|      USA|               $8,897.23 | 8,897.23 |    Yes|              73.94 |                                 73.94 |           Payment|Credit Memo #ORTH...|   1/15/2019|                   null|          null|      null|                 null|           null|             No|    null|null| null|         null|                null|               Yes|       Yes|    1097452|\n",
      "|     USA|SA Service Invoice|              No| Northeast|Jan 2019|            B|1/15/2019|                   null|                        SENT|             No|               Yes|Print|Invoice|         null|           VCU184471|     null|             Scribe Hours 12/2...|            175212|VCU : Fredericksb...|11001 Accounts Re...|           null|Paid In Full|            null|             null|      USA|                  $74.97 |    74.97 |    Yes|              74.97 |                                 74.97 |           Payment|      Payment #80217|   6/28/2019|                   null|          null|      null|                 null|           null|             No|    null|null| null|         null|                null|               Yes|       Yes|    1097453|\n",
      "|     USA|SA Service Invoice|              No| Southeast|Jan 2019|            B|1/15/2019|                   null|                        SENT|             No|               Yes|Print|Invoice|         null|            UF184474|     null|             Scribe Hours 12/2...|            175215|UF : Health Famil...|11001 Accounts Re...|           null|Paid In Full|            null|             null|      USA|                 $857.95 |   857.95 |    Yes|             857.95 |                                857.95 |           Payment|      Payment #81614|   7/15/2019|                   null|          null|      null|                 null|           null|             No|    null|null| null|         null|                null|               Yes|       Yes|    1097454|\n",
      "|     USA|SA Service Invoice|              No| Northeast|Jan 2019|            B|1/15/2019|                   null|                        SENT|             No|               Yes|Print|Invoice|         null|           CAF184477|     null|             Scribe Hours 12/2...|            175218|CAF : Cardiology ...|11001 Accounts Re...|           null|Paid In Full|            null|             null|      USA|               $5,739.26 | 5,739.26 |    Yes|           5,739.26 |                              5,739.26 |           Payment|      Payment #69864|   2/11/2019|                   null|          null|      null|                 null|           null|             No|    null|null| null|         null|                null|               Yes|       Yes|    1097455|\n",
      "|     USA|SA Service Invoice|              No| Southeast|Jan 2019|            B|1/15/2019|                   null|                        SENT|             No|               Yes|Print|Invoice|         null|            UF184481|     null|             Scribe Hours 12/2...|            175222|UF : Health Famil...|11001 Accounts Re...|           null|Paid In Full|            null|             null|      USA|                 $770.39 |   770.39 |    Yes|             770.39 |                                770.39 |           Payment|      Payment #70373|   2/19/2019|                   null|          null|      null|                 null|           null|             No|    null|null| null|         null|                null|               Yes|       Yes|    1097456|\n",
      "|     USA|SA Service Invoice|              No| Southeast|Jan 2019|            B|1/15/2019|                   null|                        SENT|             No|               Yes|Print|Invoice|         null|            UF184464|     null|             Scribe Hours 12/2...|            175205|UF : Health Famil...|11001 Accounts Re...|           null|Paid In Full|            null|             null|      USA|               $1,501.46 | 1,501.46 |    Yes|           1,501.46 |                              1,501.46 |           Payment|      Payment #73059|   3/27/2019|                   null|          null|      null|                 null|           null|             No|    null|null| null|         null|                null|               Yes|       Yes|    1097550|\n",
      "|     USA|SA Service Invoice|              No| Northeast|Jan 2019|            B|1/15/2019|                   null|                        SENT|            Yes|               Yes|Print|Invoice|         null|       RIVMED184469R|     null|             Scribe Hours 12/2...|            175210|RIVMED : OP - Fam...|11001 Accounts Re...|           null|Paid In Full|            null|             null|      USA|               $1,236.60 | 1,236.60 |    Yes|           1,236.60 |                              1,236.60 |           Payment|      Payment #70339|   2/19/2019|                   null|          null|      null|                 null|           null|             No|    null|null| null|         null|                null|               Yes|       Yes|    1097551|\n",
      "|     USA|SA Service Invoice|              No| Southeast|Jan 2019|            B|1/15/2019|                   null|                        SENT|             No|               Yes|Print|Invoice|         null|            UF184473|     null|             Scribe Hours 12/2...|            175214|     UF : Lem Turner|11001 Accounts Re...|           null|Paid In Full|            null|             null|      USA|               $1,319.92 | 1,319.92 |    Yes|           1,319.92 |                              1,319.92 |           Payment|      Payment #81148|   7/10/2019|                   null|          null|      null|                 null|           null|             No|    null|null| null|         null|                null|               Yes|       Yes|    1097552|\n",
      "|     USA|SA Service Invoice|              No| Northeast|Jan 2019|            B|1/15/2019|                   null|                        SENT|             No|               Yes|Print|Invoice|         null|           VCU184479|     null|             Scribe Hours 12/2...|            175220|VCU : VCU Health ...|11001 Accounts Re...|           null|Paid In Full|            null|             null|      USA|               $4,187.82 | 4,187.82 |    Yes|           4,187.82 |                              4,187.82 |           Payment|      Payment #70505|   2/20/2019|                   null|          null|      null|                 null|           null|             No|    null|null| null|         null|                null|               Yes|       Yes|    1097553|\n",
      "|     USA|SA Service Invoice|              No|MidAmerica|Jan 2019|            B|1/15/2019|                   null|                        SENT|             No|               Yes|Print|Invoice|         null|           AHC184482|     null|             Scribe Hours 12/2...|            175223|AHC : Saint Agnes...|11001 Accounts Re...|           null|Paid In Full|            null|             null|      USA|                   $0.00 |     0.00 |    Yes|               0.00 |                                  0.00 |              null|                    |        null|                   null|          null|      null|                 null|           null|             No|    null|null| null|         null|                null|               Yes|       Yes|    1097650|\n",
      "|     USA|SA Service Invoice|              No|MidAmerica|Jan 2019|            B|1/15/2019|                   null|                        SENT|             No|               Yes|Print|Invoice|         null|           ALH184484|     null|             Scribe Hours 12/2...|            175225|ALH : Lakeville C...|11001 Accounts Re...|           null|Paid In Full|            null|             null|      USA|               $1,238.94 | 1,238.94 |    Yes|           1,238.94 |                              1,238.94 |           Payment|      Payment #73799|    4/8/2019|                   null|          null|      null|                 null|           null|             No|    null|null| null|         null|                null|               Yes|       Yes|    1097651|\n",
      "|     USA|SA Service Invoice|              No|MidAmerica|Jan 2019|            B|1/15/2019|                   null|                        SENT|             No|               Yes|Print|Invoice|         null|           ALH184488|     null|             Scribe Hours 12/2...|            175229|ALH : Northfield ...|11001 Accounts Re...|           null|Paid In Full|            null|             null|      USA|               $2,044.31 | 2,044.31 |    Yes|           2,044.31 |                              2,044.31 |           Payment|      Payment #73799|    4/8/2019|                   null|          null|      null|                 null|           null|             No|    null|null| null|         null|                null|               Yes|       Yes|    1097652|\n",
      "|     USA|SA Service Invoice|              No|MidAmerica|Jan 2019|            B|1/15/2019|                   null|                        SENT|             No|               Yes|Print|Invoice|         null|           ALH184491|     null|             Scribe Hours 12/2...|            175232|ALH : Forest Lake...|11001 Accounts Re...|           null|Paid In Full|            null|             null|      USA|               $1,048.94 | 1,048.94 |    Yes|           1,048.94 |                              1,048.94 |           Payment|      Payment #73799|    4/8/2019|                   null|          null|      null|                 null|           null|             No|    null|null| null|         null|                null|               Yes|       Yes|    1097653|\n",
      "|     USA|SA Service Invoice|              No|MidAmerica|Jan 2019|            B|1/15/2019|                   null|                        SENT|             No|               Yes|Print|Invoice|         null|           ALH184493|     null|             Scribe Hours 12/2...|            175234|ALH : Nicollet Ma...|11001 Accounts Re...|           null|Paid In Full|            null|         retro/he|      USA|                 $518.79 |   518.79 |    Yes|             518.79 |                                518.79 |           Payment|      Payment #73799|    4/8/2019|                   null|          null|      null|                 null|           null|             No|    null|null| null|         null|                null|               Yes|       Yes|    1097654|\n",
      "|     USA|SA Service Invoice|              No|MidAmerica|Jan 2019|            B|1/15/2019|                   null|                        SENT|             No|               Yes|Print|Invoice|         null|           ALH184495|     null|             Scribe Hours 12/2...|            175236|ALH : Plymouth Cl...|11001 Accounts Re...|           null|Paid In Full|            null|             null|      USA|                 $842.57 |   842.57 |    Yes|             842.57 |                                842.57 |           Payment|      Payment #73799|    4/8/2019|                   null|          null|      null|                 null|           null|             No|    null|null| null|         null|                null|               Yes|       Yes|    1097655|\n",
      "|     USA|SA Service Invoice|              No|MidAmerica|Jan 2019|            B|1/15/2019|                   null|                        SENT|             No|               Yes|Print|Invoice|         null|           ALH184512|     null|             Scribe Hours 12/2...|            175253|ALH : United Hosp...|11001 Accounts Re...|           null|Paid In Full|            null|             null|      USA|               $5,494.99 | 5,494.99 |    Yes|           5,494.99 |                              5,494.99 |           Payment|      Payment #70395|   2/19/2019|                   null|          null|      null|                 null|           null|             No|    null|null| null|         null|                null|               Yes|       Yes|    1097657|\n",
      "|     USA|SA Service Invoice|              No|MidAmerica|Jan 2019|            B|1/15/2019|                   null|                        SENT|             No|               Yes|Print|Invoice|         null|           CCH184520|     null|             Scribe Hours 12/2...|            175261|CCH : River Campu...|11001 Accounts Re...|           null|Paid In Full|            null|             null|      USA|                  $83.42 |    83.42 |    Yes|              83.42 |                                 83.42 |           Payment|      Payment #70539|   2/20/2019|                   null|          null|      null|                 null|           null|             No|    null|null| null|         null|                null|               Yes|       Yes|    1097658|\n",
      "|     USA|SA Service Invoice|              No|MidAmerica|Jan 2019|            B|1/15/2019|                   null|                        SENT|             No|               Yes|Print|Invoice|         null|           CCH184523|     null|             Scribe Hours 12/2...|            175264| CCH : Becker Clinic|11001 Accounts Re...|           null|Paid In Full|            null|             null|      USA|               $2,111.12 | 2,111.12 |    Yes|           2,111.12 |                              2,111.12 |           Payment|      Payment #69649|    2/7/2019|                   null|          null|      null|                 null|           null|             No|    null|null| null|         null|                null|               Yes|       Yes|    1097659|\n",
      "|     USA|SA Service Invoice|              No|MidAmerica|Jan 2019|            B|1/15/2019|                   null|                        SENT|             No|               Yes|Print|Invoice|         null|          CVEC184526|     null|             Scribe Hours 12/2...|            175267|CVEC : Eau Claire...|11001 Accounts Re...|           null|Paid In Full|            null|             null|      USA|               $4,130.06 | 4,130.06 |    Yes|           4,130.06 |                              4,130.06 |           Payment|      Payment #69829|   2/11/2019|                   null|          null|      null|                 null|           null|             No|    null|null| null|         null|                null|               Yes|       Yes|    1097660|\n",
      "|     USA|SA Service Invoice|              No| Southeast|Jan 2019|            B|1/15/2019|                   null|                        SENT|             No|               Yes|Print|Invoice|         null|          CONE184540|     null|             Scribe Hours 12/2...|            175281|CONE : Cone Healt...|11001 Accounts Re...|           null|Paid In Full|            null|        Christina|      USA|               $3,492.66 | 3,492.66 |    Yes|           3,492.66 |                              3,492.66 |           Payment|      Payment #70387|   2/19/2019|                   null|          null|      null|                 null|           null|             No|    null|null| null|         null|                null|               Yes|       Yes|    1097662|\n",
      "|     USA|SA Service Invoice|              No|MidAmerica|Jan 2019|            B|1/15/2019|                   null|                        SENT|             No|               Yes|Print|Invoice|         null|            HP184557|     null|             Scribe Hours 12/2...|            175298|HP : HealthPartne...|11001 Accounts Re...|           null|Paid In Full|            null|             null|      USA|               $2,003.59 | 2,003.59 |    Yes|           2,003.59 |                              2,003.59 |           Payment|      Payment #73317|    3/4/2019|                   null|          null|      null|                 null|           null|             No|    null|null| null|         null|                null|               Yes|       Yes|    1097664|\n",
      "|     USA|SA Service Invoice|              No|MidAmerica|Jan 2019|            B|1/15/2019|                   null|                        SENT|             No|               Yes|Print|Invoice|         null|         MFMER184569|     null|             Scribe Hours 12/2...|            175310|MFMER : Mayo ME a...|11001 Accounts Re...|           null|Paid In Full|            null|             null|      USA|               $3,212.45 | 3,212.45 |    Yes|           3,212.45 |                              3,212.45 |           Payment|      Payment #72681|   3/18/2019|                   null|          null|      null|                 null|           null|             No|    null|null| null|         null|                null|               Yes|       Yes|    1097666|\n",
      "|     USA|SA Service Invoice|              No| Northeast|Jan 2019|            B|1/15/2019|                   null|                        SENT|             No|               Yes|Print|Invoice|         null|          NCHS184576|     null|             Scribe Hours 12/2...|            175317|NCHS : Nemours du...|11001 Accounts Re...|           null|Paid In Full|            null|             null|      USA|                   $0.00 |     0.00 |    Yes|               0.00 |                                  0.00 |              null|                    |        null|                   null|          null|      null|                 null|           null|             No|    null|null| null|         null|                null|               Yes|       Yes|    1097667|\n",
      "|     USA|SA Service Invoice|              No| Northeast|Jan 2019|            B|1/15/2019|                   null|                        SENT|             No|               Yes|Print|Invoice|         null|           NMG184580|     null|             Scribe Hours 12/2...|            175321|NMG : Colvin Blvd...|11001 Accounts Re...|           null|Paid In Full|            null|             null|      USA|               $2,916.87 | 2,916.87 |    Yes|           2,916.87 |                              2,916.87 |           Payment|      Payment #70736|   2/25/2019|                   null|          null|      null|                 null|           null|             No|    null|null| null|         null|                null|               Yes|       Yes|    1097668|\n",
      "|     USA|SA Service Invoice|              No|      West|Jan 2019|            B|1/15/2019|                   null|                        SENT|             No|               Yes|Print|Invoice|         null|          RMCC184583|     null|             Scribe Hours 12/2...|            175324|RMCC : Aurora-Onc...|11001 Accounts Re...|           null|Paid In Full|            null|             null|      USA|                 $946.90 |   946.90 |    Yes|             946.90 |                                946.90 |           Payment|      Payment #69827|   2/11/2019|                   null|          null|      null|                 null|           null|             No|    null|null| null|         null|                null|               Yes|       Yes|    1097669|\n",
      "|     USA|SA Service Invoice|              No| Northeast|Jan 2019|            B|1/15/2019|                   null|                        SENT|             No|               Yes|Print|Invoice|         null|          SFMG184586|     null|             Scribe Hours 12/2...|            175327|THNE : Mount Sina...|11001 Accounts Re...|           null|Paid In Full|            null|             null|      USA|               $1,562.48 | 1,562.48 |    Yes|           1,562.48 |                              1,562.48 |           Payment|      Payment #69544|    2/5/2019|                   null|          null|      null|                 null|           null|             No|    null|null| null|         null|                null|               Yes|       Yes|    1097670|\n",
      "|     USA|SA Service Invoice|              No|      West|Jan 2019|            B|1/15/2019|                   null|                        SENT|             No|               Yes|Print|Invoice|         null|          HERC184589|     null|             Scribe Hours 12/2...|            175330|HERC : Folsom Clinic|11001 Accounts Re...|           null|Paid In Full|            null|             null|      USA|                 $433.21 |   433.21 |    Yes|             433.21 |                                433.21 |           Payment|      Payment #71860|   3/11/2019|                   null|          null|      null|                 null|           null|             No|    null|null| null|         null|                null|               Yes|       Yes|    1097671|\n",
      "|     USA|SA Service Invoice|              No|      West|Jan 2019|            B|1/15/2019|                   null|                        SENT|             No|               Yes|Print|Invoice|         null|          HERC184593|     null|             Scribe Hours 12/2...|            175334|HERC : Sacramento...|11001 Accounts Re...|           null|Paid In Full|            null|             null|      USA|               $1,151.06 | 1,151.06 |    Yes|           1,151.06 |                              1,151.06 |           Payment|      Payment #71860|   3/11/2019|                   null|          null|      null|                 null|           null|             No|    null|null| null|         null|                null|               Yes|       Yes|    1097672|\n",
      "|     USA|SA Service Invoice|              No|      West|Jan 2019|            B|1/15/2019|                   null|                        SENT|             No|               Yes|Print|Invoice|         null|           UCD184599|     null|             Scribe Hours 12/2...|            175340|UCD : Davis Medic...|11001 Accounts Re...|           null|Paid In Full|            null|             null|      USA|               $1,093.00 | 1,093.00 |    Yes|           1,093.00 |                              1,093.00 |           Payment|      Payment #71624|    3/6/2019|                   null|          null|      null|                 null|           null|             No|    null|null| null|         null|                null|               Yes|       Yes|    1097673|\n",
      "|     USA|SA Service Invoice|              No|      West|Jan 2019|            B|1/15/2019|                   null|                        SENT|             No|               Yes|Print|Invoice|         null|           UCD184602|     null|             Scribe Hours 12/2...|            175343|UCD : UC Davis Ey...|11001 Accounts Re...|           null|Paid In Full|            null|             null|      USA|               $2,616.60 | 2,616.60 |    Yes|           2,616.60 |                              2,616.60 |           Payment|      Payment #71556|    3/6/2019|                   null|          null|      null|                 null|           null|             No|    null|null| null|         null|                null|               Yes|       Yes|    1097674|\n",
      "|     USA|SA Service Invoice|              No| Northeast|Jan 2019|            M|1/15/2019|                   null|                        SENT|             No|               Yes|Print|Invoice|         null|         UMASS184605|     null|             Scribe Hours 12/2...|            175346|UMASS : UMass Mem...|11001 Accounts Re...|           null|Paid In Full|            null|             null|      USA|                 $553.79 |   553.79 |    Yes|             553.79 |                                553.79 |           Payment|      Payment #69439|    2/4/2019|                   null|          null|      null|                 null|           null|             No|    null|null| null|         null|                null|               Yes|       Yes|    1097675|\n",
      "|     USA|SA Service Invoice|              No| Northeast|Jan 2019|            M|1/15/2019|                   null|                        SENT|             No|               Yes|Print|Invoice|         null|         UMASS184606|     null|             Scribe Hours 12/2...|            175347|UMASS : UMass Mem...|11001 Accounts Re...|           null|Paid In Full|            null|             null|      USA|               $2,130.54 | 2,130.54 |    Yes|           2,130.54 |                              2,130.54 |           Payment|      Payment #74824|   4/19/2019|                   null|          null|      null|                 null|           null|             No|    null|null| null|         null|                null|               Yes|       Yes|    1097676|\n",
      "|     USA|SA Service Invoice|              No|MidAmerica|Jan 2019|            B|1/15/2019|                   null|                        SENT|             No|               Yes|Print|Invoice|         null|          UMNP184608|     null|             Scribe Hours 12/2...|            175349|UMNP : Masonic Ch...|11001 Accounts Re...|           null|Paid In Full|            null|             null|      USA|                 $199.76 |   199.76 |    Yes|             199.76 |                                199.76 |           Payment|      Payment #71485|    3/7/2019|                   null|          null|      null|                 null|           null|             No|    null|null| null|         null|                null|               Yes|       Yes|    1097677|\n",
      "|     USA|SA Service Invoice|              No|MidAmerica|Jan 2019|            B|1/15/2019|                   null|                        SENT|             No|               Yes|Print|Invoice|         null|          UMNP184610|     null|             Scribe Hours 12/2...|            175351|UMNP : Smiley's F...|11001 Accounts Re...|           null|Paid In Full|            null|             null|      USA|                 $629.01 |   629.01 |    Yes|             629.01 |                                629.01 |           Payment|      Payment #70633|   2/21/2019|                   null|          null|      null|                 null|           null|             No|    null|null| null|         null|                null|               Yes|       Yes|    1097678|\n",
      "|     USA|SA Service Invoice|              No| Northeast|Jan 2019|            B|1/15/2019|                   null|                        SENT|             No|               Yes|Print|Invoice|         null|          UPUM184620|     null|             Scribe Hours 12/2...|            175361|UPUM : Upstate Un...|11001 Accounts Re...|           null|Paid In Full|            null|     Retro credit|      USA|               $2,497.84 | 2,497.84 |    Yes|           2,497.84 |                              2,497.84 |           Payment|      Payment #69790|   2/12/2019|                   null|          null|      null|                 null|           null|             No|    null|null| null|         null|                null|               Yes|       Yes|    1097680|\n",
      "|     USA|SA Service Invoice|              No| Southeast|Jan 2019|            B|1/15/2019|                   null|                        SENT|             No|               Yes|Print|Invoice|         null|          WFBH184622|     null|             Scribe Hours 12/2...|            175363|WFBH : Wake Fores...|11001 Accounts Re...|           null|Paid In Full|            null|             null|      USA|                 $619.89 |   619.89 |    Yes|             619.89 |                                619.89 |           Payment|      Payment #70997|   2/28/2019|                   null|          null|      null|                 null|           null|             No|    null|null| null|         null|                null|               Yes|       Yes|    1097681|\n",
      "|     USA|SA Service Invoice|              No| Southeast|Jan 2019|            B|1/15/2019|                   null|                        SENT|             No|               Yes|Print|Invoice|         null|          WFBH184645|     null|             Scribe Hours 12/2...|            175386|WFBH : Wake Fores...|11001 Accounts Re...|           null|Paid In Full|            null|    missing shift|      USA|                 $251.14 |   251.14 |    Yes|             251.14 |                                251.14 |           Payment|      Payment #70997|   2/28/2019|                   null|          null|      null|                 null|           null|             No|    null|null| null|         null|                null|               Yes|       Yes|    1097683|\n",
      "|     USA|SA Service Invoice|              No|MidAmerica|Jan 2019|            B|1/15/2019|                   null|                        SENT|             No|               Yes|Print|Invoice|         null|         MFMER184665|     null|             Scribe Hours 12/2...|            175406|MFMER : Mayo ME a...|11001 Accounts Re...|           null|Paid In Full|            null|             null|      USA|               $5,827.02 | 5,827.02 |    Yes|           5,827.02 |                              5,827.02 |           Payment|      Payment #72681|   3/18/2019|                   null|          null|      null|                 null|           null|             No|    null|null| null|         null|                null|               Yes|       Yes|    1097684|\n",
      "|     USA|SA Service Invoice|              No| Southeast|Jan 2019|            B|1/15/2019|                   null|                        SENT|             No|               Yes|Print|Invoice|         null|           BSW184667|     null|             Scribe Hours 12/2...|            175408|BSW : Temple-Tran...|11001 Accounts Re...|           null|Paid In Full|            null|             null|      USA|               $1,460.24 | 1,460.24 |    Yes|           1,460.24 |                              1,460.24 |           Payment|      Payment #71054|    3/6/2019|                   null|          null|      null|                 null|           null|             No|    null|null| null|         null|                null|               Yes|       Yes|    1097685|\n",
      "|     USA|SA Service Invoice|              No|MidAmerica|Jan 2019|            B|1/15/2019|                   null|                        SENT|             No|               Yes|Print|Invoice|         null|           CDI184672|     null|             Scribe Hours 12/2...|            175413| CDI : Blaine Center|11001 Accounts Re...|           null|Paid In Full|            null|             null|      USA|                 $171.95 |   171.95 |    Yes|             171.95 |                                171.95 |           Payment|      Payment #69340|    2/1/2019|                   null|          null|      null|                 null|           null|             No|    null|null| null|         null|                null|               Yes|       Yes|    1097686|\n",
      "|     USA|SA Service Invoice|              No|MidAmerica|Jan 2019|            B|1/15/2019|                   null|                        SENT|             No|               Yes|Print|Invoice|         null|           CCH184675|     null|             Scribe Hours 12/2...|            175416|CCH : Health Plaz...|11001 Accounts Re...|           null|Paid In Full|            null|             null|      USA|                   $0.00 |     0.00 |    Yes|               0.00 |                                  0.00 |              null|                    |        null|                   null|          null|      null|                 null|           null|             No|    null|null| null|         null|                null|               Yes|       Yes|    1097687|\n",
      "|     USA|SA Service Invoice|              No|MidAmerica|Jan 2019|            B|1/15/2019|                   null|                        SENT|             No|               Yes|Print|Invoice|         null|         CUHCC184678|     null|             Scribe Hours 12/2...|            175419|CUHCC : Community...|11001 Accounts Re...|           null|Paid In Full|            null|             null|      USA|               $2,023.78 | 2,023.78 |    Yes|           2,023.78 |                              2,023.78 |           Payment|      Payment #75654|   4/29/2019|                   null|          null|      null|                 null|           null|             No|    null|null| null|         null|                null|               Yes|       Yes|    1097688|\n",
      "|     USA|SA Service Invoice|              No| Southeast|Jan 2019|            B|1/15/2019|                   null|                        SENT|             No|               Yes|Print|Invoice|         null|          COOK184698|     null|             Scribe Hours 12/2...|            175439|COOK : Cook Child...|11001 Accounts Re...|           null|Paid In Full|            null|             null|      USA|              $24,336.16 |24,336.16 |    Yes|          24,336.16 |                             24,336.16 |           Payment|      Payment #69922|   2/11/2019|                   null|          null|      null|                 null|           null|             No|    null|null| null|         null|                null|               Yes|       Yes|    1097690|\n",
      "|     USA|SA Service Invoice|              No|      West|Jan 2019|            B|1/15/2019|                   null|                        SENT|             No|               Yes|Print|Invoice|         null|           SVC184711|     null|             Scribe Hours 12/2...|            175452|SUTTERH : SVC - C...|11001 Accounts Re...|           null|Paid In Full|            null|             null|      USA|                 $160.38 |   160.38 |    Yes|             160.38 |                                160.38 |           Payment|      Payment #72399|   3/19/2019|                   null|          null|      null|                 null|           null|             No|    null|null| null|         null|                null|               Yes|       Yes|    1097691|\n",
      "|     USA|SA Service Invoice|              No|MidAmerica|Jan 2019|            B|1/15/2019|                   null|                        SENT|             No|               Yes|Print|Invoice|         null|          EHSM184714|     null|             Scribe Hours 12/2...|            175455|EHSM : St. Mary's...|11001 Accounts Re...|           null|Paid In Full|            null|             null|      USA|               $1,164.62 | 1,164.62 |    Yes|           1,164.62 |                              1,164.62 |           Payment|      Payment #69197|   1/28/2019|                   null|          null|      null|                 null|           null|             No|    null|null| null|         null|                null|               Yes|       Yes|    1097692|\n",
      "|     USA|SA Service Invoice|              No|      West|Jan 2019|            B|1/15/2019|                   null|                        SENT|             No|               Yes|Print|Invoice|         null|           UCD184717|     null|             Scribe Hours 12/2...|            175458|UCD : Davis Medic...|11001 Accounts Re...|           null|Paid In Full|            null|     MAIL INVOICE|      USA|                 $630.71 |   630.71 |    Yes|             630.71 |                                630.71 |           Payment|      Payment #73430|    4/1/2019|                   null|          null|      null|                 null|           null|             No|    null|null| null|         null|                null|               Yes|       Yes|    1097693|\n",
      "|     USA|SA Service Invoice|              No|MidAmerica|Jan 2019|            B|1/15/2019|                   null|                        SENT|             No|               Yes|Print|Invoice|         null|          BENT184720|     null|             Scribe Hours 12/2...|            175461|   BENT : ENT (MAIN)|11001 Accounts Re...|           null|Paid In Full|            null|             null|      USA|                 $884.92 |   884.92 |    Yes|             884.92 |                                884.92 |           Payment|      Payment #68157|   1/23/2019|                   null|          null|      null|                 null|           null|             No|    null|null| null|         null|                null|               Yes|       Yes|    1097694|\n",
      "|     USA|SA Service Invoice|              No|TeleHealth|Jan 2019|            B|1/15/2019|                   null|                        SENT|             No|               Yes|Print|Invoice|         null|           CCH184725|     null|             Scribe Hours 12/2...|            175466|CCH : Health Plaz...|11001 Accounts Re...|           null|Paid In Full|            null|             null|      USA|                 $537.09 |   537.09 |    Yes|             537.09 |                                537.09 |           Payment|      Payment #69649|    2/7/2019|                   null|          null|      null|                 null|           null|             No|    null|null| null|         null|                null|               Yes|       Yes|    1097695|\n",
      "|     USA|SA Service Invoice|              No|MidAmerica|Jan 2019|            B|1/15/2019|                   null|                        SENT|             No|               Yes|Print|Invoice|         null|           CCH184728|     null|             Scribe Hours 12/2...|            175469|CCH : Melrose Cli...|11001 Accounts Re...|           null|Paid In Full|            null|             null|      USA|               $1,111.83 | 1,111.83 |    Yes|           1,111.83 |                              1,111.83 |           Payment|      Payment #69362|    2/1/2019|                   null|          null|      null|                 null|           null|             No|    null|null| null|         null|                null|               Yes|       Yes|    1097696|\n",
      "|     USA|SA Service Invoice|              No|MidAmerica|Jan 2019|            B|1/15/2019|                   null|                        SENT|             No|               Yes|Print|Invoice|         null|           CCH184732|     null|             Scribe Hours 12/2...|            175473|CCH : CentraCare ...|11001 Accounts Re...|           null|Paid In Full|            null|             null|      USA|               $1,148.13 | 1,148.13 |    Yes|           1,148.13 |                              1,148.13 |           Payment|      Payment #69649|    2/7/2019|                   null|          null|      null|                 null|           null|             No|    null|null| null|         null|                null|               Yes|       Yes|    1097697|\n",
      "|     USA|SA Service Invoice|              No|MidAmerica|Jan 2019|            B|1/15/2019|                   null|                        SENT|             No|               Yes|Print|Invoice|         null|          CCOC184736|     null|             Scribe Hours 12/2...|            175477|CCOC : Crystal Cl...|11001 Accounts Re...|           null|Paid In Full|            null|             null|      USA|               $4,524.52 | 4,524.52 |    Yes|           4,524.52 |                              4,524.52 |           Payment|      Payment #70778|   2/26/2019|                   null|          null|      null|                 null|           null|             No|    null|null| null|         null|                null|               Yes|       Yes|    1097698|\n",
      "+--------+------------------+----------------+----------+--------+-------------+---------+-----------------------+----------------------------+---------------+------------------+-----+-------+-------------+--------------------+---------+---------------------------------+------------------+--------------------+--------------------+---------------+------------+----------------+-----------------+---------+-------------------------+----------+-------+--------------------+---------------------------------------+------------------+--------------------+------------+-----------------------+--------------+----------+---------------------+---------------+---------------+--------+----+-----+-------------+--------------------+------------------+----------+-----------+\n",
      "only showing top 100 rows\n",
      "\n"
     ]
    }
   ],
   "source": [
    "customer_payment_history.show(100)"
   ]
  },
  {
   "cell_type": "code",
   "execution_count": null,
   "id": "813035de",
   "metadata": {},
   "outputs": [],
   "source": []
  },
  {
   "cell_type": "code",
   "execution_count": 930,
   "id": "f5cdda84",
   "metadata": {},
   "outputs": [
    {
     "data": {
      "text/plain": [
       "0"
      ]
     },
     "execution_count": 930,
     "metadata": {},
     "output_type": "execute_result"
    }
   ],
   "source": []
  },
  {
   "cell_type": "code",
   "execution_count": 865,
   "id": "f4aacf00",
   "metadata": {},
   "outputs": [],
   "source": [
    "customer_payment_history =customer_payment_history.withColumn('Date', date_format(customer_payment_history['Date'],'M/dd/yyyy' ))"
   ]
  },
  {
   "cell_type": "code",
   "execution_count": 311,
   "id": "a36a2775",
   "metadata": {},
   "outputs": [
    {
     "data": {
      "text/plain": [
       "315677"
      ]
     },
     "execution_count": 311,
     "metadata": {},
     "output_type": "execute_result"
    }
   ],
   "source": [
    "customer_payment_history.count()"
   ]
  },
  {
   "cell_type": "code",
   "execution_count": 313,
   "id": "1ed90e3c",
   "metadata": {},
   "outputs": [
    {
     "data": {
      "text/plain": [
       "315677"
      ]
     },
     "execution_count": 313,
     "metadata": {},
     "output_type": "execute_result"
    }
   ],
   "source": [
    "customer_payment_history.count()"
   ]
  },
  {
   "cell_type": "code",
   "execution_count": 359,
   "id": "a998fed2",
   "metadata": {},
   "outputs": [
    {
     "data": {
      "text/plain": [
       "315677"
      ]
     },
     "execution_count": 359,
     "metadata": {},
     "output_type": "execute_result"
    }
   ],
   "source": [
    "customer_payment_history.count()"
   ]
  },
  {
   "cell_type": "code",
   "execution_count": 298,
   "id": "e686bc8f",
   "metadata": {},
   "outputs": [],
   "source": []
  },
  {
   "cell_type": "code",
   "execution_count": 268,
   "id": "51880983",
   "metadata": {},
   "outputs": [
    {
     "data": {
      "text/plain": [
       "['Currency',\n",
       " 'Custom Form',\n",
       " 'Detailed Invoice',\n",
       " 'Region',\n",
       " 'Period',\n",
       " 'Billing Cycle',\n",
       " 'Date',\n",
       " 'Date Deposited/Refunded',\n",
       " 'Invoice to Time Action Queue',\n",
       " 'Revised Invoice',\n",
       " 'Approved for Email',\n",
       " 'Print',\n",
       " 'Type',\n",
       " 'Payroll Batch',\n",
       " 'Document Number',\n",
       " 'SA Entity',\n",
       " 'Scribe Period Display on Printout',\n",
       " 'Transaction Number',\n",
       " 'Name',\n",
       " 'Account',\n",
       " 'PO/Check Number',\n",
       " 'Status',\n",
       " 'Tracking Numbers',\n",
       " 'Memo',\n",
       " 'Currency2',\n",
       " 'Amount (Foreign Currency)',\n",
       " 'Amount',\n",
       " 'Posting',\n",
       " 'Applying Link Amount',\n",
       " 'Applying Link Amount (Foreign Currency)',\n",
       " 'Applying Link Type',\n",
       " 'Applying Transaction',\n",
       " 'Payment Date',\n",
       " 'Contract Signature Date',\n",
       " 'On Hold Reason',\n",
       " 'JE Convert',\n",
       " 'Implementation Status',\n",
       " 'Actual End Date',\n",
       " 'Processed Rules',\n",
       " 'Pipeline',\n",
       " 'City',\n",
       " 'State',\n",
       " 'FACILITY NAME',\n",
       " 'Pre-EVP Approval Opp',\n",
       " 'Approved for Email',\n",
       " 'Email Sent',\n",
       " 'Internal ID']"
      ]
     },
     "execution_count": 268,
     "metadata": {},
     "output_type": "execute_result"
    }
   ],
   "source": [
    "customer_payment_history.columns"
   ]
  },
  {
   "cell_type": "code",
   "execution_count": 378,
   "id": "f6c0ad95",
   "metadata": {},
   "outputs": [],
   "source": []
  },
  {
   "cell_type": "code",
   "execution_count": 372,
   "id": "5ffdd702",
   "metadata": {},
   "outputs": [],
   "source": [
    "#converting date format\n",
    "customer_payment_history =customer_payment_history.withColumn('Date', date_format(to_date(customer_payment_history['Date'],'M/dd/yyyy'), 'yyyy-MM-dd'))"
   ]
  },
  {
   "cell_type": "code",
   "execution_count": 384,
   "id": "c9843f13",
   "metadata": {},
   "outputs": [],
   "source": [
    "# customer_payment_history.dtypes"
   ]
  },
  {
   "cell_type": "code",
   "execution_count": null,
   "id": "7ac667be",
   "metadata": {},
   "outputs": [],
   "source": []
  },
  {
   "cell_type": "code",
   "execution_count": null,
   "id": "a0682aff",
   "metadata": {},
   "outputs": [],
   "source": []
  },
  {
   "cell_type": "code",
   "execution_count": 542,
   "id": "0220fba4",
   "metadata": {},
   "outputs": [
    {
     "name": "stdout",
     "output_type": "stream",
     "text": [
      "+------------+\n",
      "|Payment Date|\n",
      "+------------+\n",
      "|  2019-01-24|\n",
      "|  2019-02-15|\n",
      "|  2018-11-21|\n",
      "|  2019-02-15|\n",
      "|  2019-02-15|\n",
      "|  2019-02-19|\n",
      "|  2019-02-19|\n",
      "|  2019-02-15|\n",
      "|  2019-02-15|\n",
      "|  2019-02-15|\n",
      "|  2019-02-14|\n",
      "|  2019-02-15|\n",
      "|  2019-02-15|\n",
      "|  2019-02-15|\n",
      "|  2019-04-24|\n",
      "|  2019-02-19|\n",
      "|  2019-02-15|\n",
      "|  2019-02-15|\n",
      "|  2019-02-15|\n",
      "|  2019-04-08|\n",
      "+------------+\n",
      "only showing top 20 rows\n",
      "\n"
     ]
    }
   ],
   "source": [
    "customer_payment_history.select('Payment Date').show()"
   ]
  },
  {
   "cell_type": "code",
   "execution_count": 541,
   "id": "a20a9401",
   "metadata": {},
   "outputs": [
    {
     "name": "stdout",
     "output_type": "stream",
     "text": [
      "+------------+\n",
      "|Payment Date|\n",
      "+------------+\n",
      "|  2019-01-24|\n",
      "|  2019-02-15|\n",
      "|  2018-11-21|\n",
      "|  2019-02-15|\n",
      "|  2019-02-15|\n",
      "|  2019-02-19|\n",
      "|  2019-02-19|\n",
      "|  2019-02-15|\n",
      "|  2019-02-15|\n",
      "|  2019-02-15|\n",
      "|  2019-02-14|\n",
      "|  2019-02-15|\n",
      "|  2019-02-15|\n",
      "|  2019-02-15|\n",
      "|  2019-04-24|\n",
      "|  2019-02-19|\n",
      "|  2019-02-15|\n",
      "|  2019-02-15|\n",
      "|  2019-02-15|\n",
      "|  2019-04-08|\n",
      "+------------+\n",
      "only showing top 20 rows\n",
      "\n"
     ]
    }
   ],
   "source": [
    "customer_payment_history.select('Payment Date').show()"
   ]
  },
  {
   "cell_type": "code",
   "execution_count": 540,
   "id": "a7c40424",
   "metadata": {},
   "outputs": [
    {
     "data": {
      "text/plain": [
       "['Currency',\n",
       " 'Custom Form',\n",
       " 'Detailed Invoice',\n",
       " 'Region',\n",
       " 'Period',\n",
       " 'Billing Cycle',\n",
       " 'Date',\n",
       " 'Date Deposited/Refunded',\n",
       " 'Invoice to Time Action Queue',\n",
       " 'Revised Invoice',\n",
       " 'Approved for Email',\n",
       " 'Print',\n",
       " 'Type',\n",
       " 'Payroll Batch',\n",
       " 'Document Number',\n",
       " 'SA Entity',\n",
       " 'Scribe Period Display on Printout',\n",
       " 'Transaction Number',\n",
       " 'Name',\n",
       " 'Account',\n",
       " 'PO/Check Number',\n",
       " 'Status',\n",
       " 'Tracking Numbers',\n",
       " 'Memo',\n",
       " 'Currency2',\n",
       " 'Amount (Foreign Currency)',\n",
       " 'Amount',\n",
       " 'Posting',\n",
       " 'Applying Link Amount',\n",
       " 'Applying Link Amount (Foreign Currency)',\n",
       " 'Applying Link Type',\n",
       " 'Applying Transaction',\n",
       " 'Payment Date',\n",
       " 'Contract Signature Date',\n",
       " 'On Hold Reason',\n",
       " 'JE Convert',\n",
       " 'Implementation Status',\n",
       " 'Actual End Date',\n",
       " 'Processed Rules',\n",
       " 'Pipeline',\n",
       " 'City',\n",
       " 'State',\n",
       " 'FACILITY NAME',\n",
       " 'Pre-EVP Approval Opp',\n",
       " 'Approved for Email',\n",
       " 'Email Sent',\n",
       " 'Internal ID']"
      ]
     },
     "execution_count": 540,
     "metadata": {},
     "output_type": "execute_result"
    }
   ],
   "source": [
    "customer_payment_history.columns"
   ]
  },
  {
   "cell_type": "code",
   "execution_count": null,
   "id": "5bf9b877",
   "metadata": {},
   "outputs": [],
   "source": []
  },
  {
   "cell_type": "code",
   "execution_count": null,
   "id": "a2a0b21a",
   "metadata": {},
   "outputs": [],
   "source": []
  },
  {
   "cell_type": "code",
   "execution_count": 598,
   "id": "85f18aec",
   "metadata": {},
   "outputs": [
    {
     "data": {
      "text/plain": [
       "[('Payment Date', 'date')]"
      ]
     },
     "execution_count": 598,
     "metadata": {},
     "output_type": "execute_result"
    }
   ],
   "source": [
    "customer_payment_history.select('Payment Date').dtypes"
   ]
  },
  {
   "cell_type": "code",
   "execution_count": 597,
   "id": "b041ff96",
   "metadata": {},
   "outputs": [],
   "source": []
  },
  {
   "cell_type": "code",
   "execution_count": 593,
   "id": "4a9a44c6",
   "metadata": {},
   "outputs": [],
   "source": []
  },
  {
   "cell_type": "code",
   "execution_count": 544,
   "id": "59b4bf17",
   "metadata": {},
   "outputs": [
    {
     "data": {
      "text/plain": [
       "0"
      ]
     },
     "execution_count": 544,
     "metadata": {},
     "output_type": "execute_result"
    }
   ],
   "source": []
  },
  {
   "cell_type": "code",
   "execution_count": 592,
   "id": "0e8ed91b",
   "metadata": {},
   "outputs": [],
   "source": [
    "# customer_payment_history.filter(customer_payment_history['Paymen Date']=='1/01/1900').select('Payment Date').count()\n"
   ]
  },
  {
   "cell_type": "code",
   "execution_count": 537,
   "id": "c4140ca8",
   "metadata": {},
   "outputs": [
    {
     "data": {
      "text/plain": [
       "[('Currency', 'string'),\n",
       " ('Custom Form', 'string'),\n",
       " ('Detailed Invoice', 'string'),\n",
       " ('Region', 'string'),\n",
       " ('Period', 'string'),\n",
       " ('Billing Cycle', 'string'),\n",
       " ('Date', 'string'),\n",
       " ('Date Deposited/Refunded', 'string'),\n",
       " ('Invoice to Time Action Queue', 'string'),\n",
       " ('Revised Invoice', 'string'),\n",
       " ('Approved for Email', 'string'),\n",
       " ('Print', 'string'),\n",
       " ('Type', 'string'),\n",
       " ('Payroll Batch', 'string'),\n",
       " ('Document Number', 'string'),\n",
       " ('SA Entity', 'string'),\n",
       " ('Scribe Period Display on Printout', 'string'),\n",
       " ('Transaction Number', 'int'),\n",
       " ('Name', 'string'),\n",
       " ('Account', 'string'),\n",
       " ('PO/Check Number', 'string'),\n",
       " ('Status', 'string'),\n",
       " ('Tracking Numbers', 'string'),\n",
       " ('Memo', 'string'),\n",
       " ('Currency2', 'string'),\n",
       " ('Amount (Foreign Currency)', 'string'),\n",
       " ('Amount', 'string'),\n",
       " ('Posting', 'string'),\n",
       " ('Applying Link Amount', 'string'),\n",
       " ('Applying Link Amount (Foreign Currency)', 'string'),\n",
       " ('Applying Link Type', 'string'),\n",
       " ('Applying Transaction', 'string'),\n",
       " ('Payment Date', 'string'),\n",
       " ('Contract Signature Date', 'string'),\n",
       " ('On Hold Reason', 'string'),\n",
       " ('JE Convert', 'string'),\n",
       " ('Implementation Status', 'string'),\n",
       " ('Actual End Date', 'string'),\n",
       " ('Processed Rules', 'string'),\n",
       " ('Pipeline', 'string'),\n",
       " ('City', 'string'),\n",
       " ('State', 'string'),\n",
       " ('FACILITY NAME', 'string'),\n",
       " ('Pre-EVP Approval Opp', 'string'),\n",
       " ('Approved for Email', 'string'),\n",
       " ('Email Sent', 'string'),\n",
       " ('Internal ID', 'int')]"
      ]
     },
     "execution_count": 537,
     "metadata": {},
     "output_type": "execute_result"
    }
   ],
   "source": [
    "customer_payment_history.dtypes"
   ]
  },
  {
   "cell_type": "code",
   "execution_count": 657,
   "id": "12b9b059",
   "metadata": {},
   "outputs": [
    {
     "data": {
      "text/plain": [
       "[('Date', 'date')]"
      ]
     },
     "execution_count": 657,
     "metadata": {},
     "output_type": "execute_result"
    }
   ],
   "source": [
    "customer_payment_history.select('Date').dtypes"
   ]
  },
  {
   "cell_type": "code",
   "execution_count": 666,
   "id": "c7fed4dc",
   "metadata": {},
   "outputs": [
    {
     "name": "stdout",
     "output_type": "stream",
     "text": [
      "+------------+\n",
      "|Payment Date|\n",
      "+------------+\n",
      "|   1/24/2019|\n",
      "|   2/15/2019|\n",
      "|  11/21/2018|\n",
      "|   2/15/2019|\n",
      "|   2/15/2019|\n",
      "|   2/19/2019|\n",
      "|   2/19/2019|\n",
      "|   2/15/2019|\n",
      "|   2/15/2019|\n",
      "|   2/15/2019|\n",
      "|   2/14/2019|\n",
      "|   2/15/2019|\n",
      "|   2/15/2019|\n",
      "|   2/15/2019|\n",
      "|   4/24/2019|\n",
      "|   2/19/2019|\n",
      "|   2/15/2019|\n",
      "|   2/15/2019|\n",
      "|   2/15/2019|\n",
      "|    4/8/2019|\n",
      "+------------+\n",
      "only showing top 20 rows\n",
      "\n"
     ]
    }
   ],
   "source": [
    "customer_payment_history.select('Payment Date').show()"
   ]
  },
  {
   "cell_type": "code",
   "execution_count": null,
   "id": "845996ee",
   "metadata": {},
   "outputs": [],
   "source": [
    "customer_payment_history =customer_payment_history.withColumn('Date', to_date(date_format(customer_payment_history['Date'],'M/dd/yyyy'),'yyyy-MM-dd'))\n"
   ]
  },
  {
   "cell_type": "code",
   "execution_count": 709,
   "id": "72a22814",
   "metadata": {},
   "outputs": [
    {
     "data": {
      "text/plain": [
       "0"
      ]
     },
     "execution_count": 709,
     "metadata": {},
     "output_type": "execute_result"
    }
   ],
   "source": []
  },
  {
   "cell_type": "code",
   "execution_count": 700,
   "id": "d80640e2",
   "metadata": {},
   "outputs": [
    {
     "data": {
      "text/plain": [
       "[('Payment Date', 'date')]"
      ]
     },
     "execution_count": 700,
     "metadata": {},
     "output_type": "execute_result"
    }
   ],
   "source": [
    "customer_payment_history.select('Payment Date').dtypes"
   ]
  },
  {
   "cell_type": "code",
   "execution_count": 685,
   "id": "c6c8a43c",
   "metadata": {},
   "outputs": [
    {
     "data": {
      "text/plain": [
       "[('Payment Date', 'date')]"
      ]
     },
     "execution_count": 685,
     "metadata": {},
     "output_type": "execute_result"
    }
   ],
   "source": [
    "customer_payment_history.select('Payment Date').dtypes"
   ]
  },
  {
   "cell_type": "code",
   "execution_count": 590,
   "id": "e76a5b1f",
   "metadata": {},
   "outputs": [],
   "source": [
    "# .filter(col('Open Balance').like('% %')).select('Open Balance').count()\n"
   ]
  },
  {
   "cell_type": "code",
   "execution_count": 535,
   "id": "636ee4fa",
   "metadata": {},
   "outputs": [],
   "source": []
  },
  {
   "cell_type": "code",
   "execution_count": 534,
   "id": "c881f981",
   "metadata": {},
   "outputs": [
    {
     "data": {
      "text/plain": [
       "0"
      ]
     },
     "execution_count": 534,
     "metadata": {},
     "output_type": "execute_result"
    }
   ],
   "source": []
  },
  {
   "cell_type": "code",
   "execution_count": 543,
   "id": "94d07f64",
   "metadata": {},
   "outputs": [],
   "source": []
  },
  {
   "cell_type": "code",
   "execution_count": null,
   "id": "9396cb24",
   "metadata": {},
   "outputs": [],
   "source": []
  },
  {
   "cell_type": "code",
   "execution_count": 591,
   "id": "138d6463",
   "metadata": {},
   "outputs": [],
   "source": []
  },
  {
   "cell_type": "code",
   "execution_count": 602,
   "id": "36d10d2b",
   "metadata": {},
   "outputs": [],
   "source": [
    "\n",
    "\n"
   ]
  },
  {
   "cell_type": "code",
   "execution_count": 528,
   "id": "ff7e912a",
   "metadata": {},
   "outputs": [],
   "source": []
  },
  {
   "cell_type": "code",
   "execution_count": 524,
   "id": "a6ae14ba",
   "metadata": {},
   "outputs": [
    {
     "data": {
      "text/plain": [
       "315677"
      ]
     },
     "execution_count": 524,
     "metadata": {},
     "output_type": "execute_result"
    }
   ],
   "source": []
  },
  {
   "cell_type": "code",
   "execution_count": 527,
   "id": "8096222e",
   "metadata": {},
   "outputs": [
    {
     "name": "stdout",
     "output_type": "stream",
     "text": [
      "+------------+\n",
      "|Payment Date|\n",
      "+------------+\n",
      "|   1/24/2019|\n",
      "|   2/15/2019|\n",
      "|  11/21/2018|\n",
      "|   2/15/2019|\n",
      "|   2/15/2019|\n",
      "|   2/19/2019|\n",
      "|   2/19/2019|\n",
      "|   2/15/2019|\n",
      "|   2/15/2019|\n",
      "|   2/15/2019|\n",
      "|   2/14/2019|\n",
      "|   2/15/2019|\n",
      "|   2/15/2019|\n",
      "|   2/15/2019|\n",
      "|   4/24/2019|\n",
      "|   2/19/2019|\n",
      "|   2/15/2019|\n",
      "|   2/15/2019|\n",
      "|   2/15/2019|\n",
      "|    4/8/2019|\n",
      "+------------+\n",
      "only showing top 20 rows\n",
      "\n"
     ]
    }
   ],
   "source": []
  },
  {
   "cell_type": "code",
   "execution_count": null,
   "id": "27ff57fd",
   "metadata": {},
   "outputs": [],
   "source": []
  },
  {
   "cell_type": "code",
   "execution_count": null,
   "id": "6defae9d",
   "metadata": {},
   "outputs": [],
   "source": []
  }
 ],
 "metadata": {
  "kernelspec": {
   "display_name": "Python 3 (ipykernel)",
   "language": "python",
   "name": "python3"
  },
  "language_info": {
   "codemirror_mode": {
    "name": "ipython",
    "version": 3
   },
   "file_extension": ".py",
   "mimetype": "text/x-python",
   "name": "python",
   "nbconvert_exporter": "python",
   "pygments_lexer": "ipython3",
   "version": "3.11.4"
  }
 },
 "nbformat": 4,
 "nbformat_minor": 5
}
