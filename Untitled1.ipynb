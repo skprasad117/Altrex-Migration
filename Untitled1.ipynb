{
 "cells": [
  {
   "cell_type": "code",
   "execution_count": 1,
   "id": "fc777563",
   "metadata": {},
   "outputs": [],
   "source": [
    "import pandas as pd\n",
    "from pathlib import Path\n",
    "import datetime\n",
    "from pyspark.sql import SparkSession\n",
    "from pyspark.sql.functions import col, trim, regexp_replace, sum, lit, max, min, first,to_timestamp, trim, upper,to_date, date_format, when, input_file_name\n",
    "from pyspark.sql.types import DateType\n",
    "from pyspark.sql.types import IntegerType, FloatType"
   ]
  },
  {
   "cell_type": "code",
   "execution_count": 4,
   "id": "651dc1a1",
   "metadata": {},
   "outputs": [],
   "source": [
    "import pandas as pd"
   ]
  },
  {
   "cell_type": "markdown",
   "id": "490b689d",
   "metadata": {},
   "source": [
    "## Section A"
   ]
  },
  {
   "cell_type": "code",
   "execution_count": 2,
   "id": "bc2963fe",
   "metadata": {},
   "outputs": [],
   "source": [
    "spark = SparkSession.builder.appName(\"altryx_migration\").getOrCreate()"
   ]
  },
  {
   "cell_type": "code",
   "execution_count": 3,
   "id": "70b2984c",
   "metadata": {},
   "outputs": [
    {
     "data": {
      "text/html": [
       "\n",
       "            <div>\n",
       "                <p><b>SparkSession - in-memory</b></p>\n",
       "                \n",
       "        <div>\n",
       "            <p><b>SparkContext</b></p>\n",
       "\n",
       "            <p><a href=\"http://LAPTOP-E2PD0VIH:4040\">Spark UI</a></p>\n",
       "\n",
       "            <dl>\n",
       "              <dt>Version</dt>\n",
       "                <dd><code>v3.4.1</code></dd>\n",
       "              <dt>Master</dt>\n",
       "                <dd><code>local[*]</code></dd>\n",
       "              <dt>AppName</dt>\n",
       "                <dd><code>altryx_migration</code></dd>\n",
       "            </dl>\n",
       "        </div>\n",
       "        \n",
       "            </div>\n",
       "        "
      ],
      "text/plain": [
       "<pyspark.sql.session.SparkSession at 0x16d7cd61290>"
      ]
     },
     "execution_count": 3,
     "metadata": {},
     "output_type": "execute_result"
    }
   ],
   "source": [
    "spark"
   ]
  },
  {
   "cell_type": "markdown",
   "id": "f454ddc9",
   "metadata": {},
   "source": [
    "# Reading file"
   ]
  },
  {
   "cell_type": "code",
   "execution_count": 10,
   "id": "8d25fdf1",
   "metadata": {},
   "outputs": [
    {
     "ename": "TypeError",
     "evalue": "read_excel() got an unexpected keyword argument 'chunksize'",
     "output_type": "error",
     "traceback": [
      "\u001b[1;31m---------------------------------------------------------------------------\u001b[0m",
      "\u001b[1;31mTypeError\u001b[0m                                 Traceback (most recent call last)",
      "Cell \u001b[1;32mIn[10], line 12\u001b[0m\n\u001b[0;32m      9\u001b[0m \u001b[38;5;66;03m# Loop through the sheets in the Excel file\u001b[39;00m\n\u001b[0;32m     10\u001b[0m \u001b[38;5;28;01mfor\u001b[39;00m sheet_name \u001b[38;5;129;01min\u001b[39;00m excel_file\u001b[38;5;241m.\u001b[39msheet_names:\n\u001b[0;32m     11\u001b[0m     \u001b[38;5;66;03m# Read the sheet in chunks\u001b[39;00m\n\u001b[1;32m---> 12\u001b[0m     \u001b[38;5;28;01mfor\u001b[39;00m chunk \u001b[38;5;129;01min\u001b[39;00m pd\u001b[38;5;241m.\u001b[39mread_excel(excel_file, sheet_name\u001b[38;5;241m=\u001b[39msheet_name, chunksize\u001b[38;5;241m=\u001b[39mchunk_size):\n\u001b[0;32m     13\u001b[0m         \u001b[38;5;66;03m# Process each chunk as needed\u001b[39;00m\n\u001b[0;32m     14\u001b[0m         \u001b[38;5;28mprint\u001b[39m(chunk\u001b[38;5;241m.\u001b[39mhead())\n",
      "\u001b[1;31mTypeError\u001b[0m: read_excel() got an unexpected keyword argument 'chunksize'"
     ]
    }
   ],
   "source": []
  },
  {
   "cell_type": "code",
   "execution_count": 7,
   "id": "3be9e54b",
   "metadata": {},
   "outputs": [],
   "source": [
    "def read_file(location:str):\n",
    "    extension = location.split(\".\")[-1]\n",
    "    print(extension)\n",
    "    if extension == 'xlsx':\n",
    "        chunk_size = 10000\n",
    "        chunks = pd.read_excel(location, chunksize=chunk_size)\n",
    "        for chunk in chunks:\n",
    "            print(chunk.head())\n",
    "        "
   ]
  },
  {
   "cell_type": "code",
   "execution_count": 11,
   "id": "813a5bc1",
   "metadata": {},
   "outputs": [
    {
     "name": "stdout",
     "output_type": "stream",
     "text": [
      "xlsx\n"
     ]
    },
    {
     "ename": "TypeError",
     "evalue": "read_excel() got an unexpected keyword argument 'chunksize'",
     "output_type": "error",
     "traceback": [
      "\u001b[1;31m---------------------------------------------------------------------------\u001b[0m",
      "\u001b[1;31mTypeError\u001b[0m                                 Traceback (most recent call last)",
      "Cell \u001b[1;32mIn[11], line 1\u001b[0m\n\u001b[1;32m----> 1\u001b[0m read_file(\u001b[38;5;124m\"\u001b[39m\u001b[38;5;124mcsv_converted\u001b[39m\u001b[38;5;130;01m\\\\\u001b[39;00m\u001b[38;5;124mScribe_amreica\u001b[39m\u001b[38;5;124m\\\u001b[39m\u001b[38;5;124mScribe_amreica.xlsx\u001b[39m\u001b[38;5;124m\"\u001b[39m)\n",
      "Cell \u001b[1;32mIn[7], line 6\u001b[0m, in \u001b[0;36mread_file\u001b[1;34m(location)\u001b[0m\n\u001b[0;32m      4\u001b[0m \u001b[38;5;28;01mif\u001b[39;00m extension \u001b[38;5;241m==\u001b[39m \u001b[38;5;124m'\u001b[39m\u001b[38;5;124mxlsx\u001b[39m\u001b[38;5;124m'\u001b[39m:\n\u001b[0;32m      5\u001b[0m     chunk_size \u001b[38;5;241m=\u001b[39m \u001b[38;5;241m10000\u001b[39m\n\u001b[1;32m----> 6\u001b[0m     chunks \u001b[38;5;241m=\u001b[39m pd\u001b[38;5;241m.\u001b[39mread_excel(location, chunksize\u001b[38;5;241m=\u001b[39mchunk_size)\n\u001b[0;32m      7\u001b[0m     \u001b[38;5;28;01mfor\u001b[39;00m chunk \u001b[38;5;129;01min\u001b[39;00m chunks:\n\u001b[0;32m      8\u001b[0m         \u001b[38;5;28mprint\u001b[39m(chunk\u001b[38;5;241m.\u001b[39mhead())\n",
      "\u001b[1;31mTypeError\u001b[0m: read_excel() got an unexpected keyword argument 'chunksize'"
     ]
    }
   ],
   "source": [
    "read_file(\"csv_converted\\\\Scribe_amreica\\Scribe_amreica.xlsx\")"
   ]
  },
  {
   "cell_type": "code",
   "execution_count": null,
   "id": "346a0dd4",
   "metadata": {},
   "outputs": [],
   "source": [
    "\n",
    "\n",
    "chunk_size = 10000\n",
    "\n",
    "chunks = pd.read_excel('your_large_file.xlsx', chunksize=chunk_size)\n",
    "\n",
    "for chunk in chunks:\n",
    "    "
   ]
  }
 ],
 "metadata": {
  "kernelspec": {
   "display_name": "Python 3 (ipykernel)",
   "language": "python",
   "name": "python3"
  },
  "language_info": {
   "codemirror_mode": {
    "name": "ipython",
    "version": 3
   },
   "file_extension": ".py",
   "mimetype": "text/x-python",
   "name": "python",
   "nbconvert_exporter": "python",
   "pygments_lexer": "ipython3",
   "version": "3.11.5"
  }
 },
 "nbformat": 4,
 "nbformat_minor": 5
}
