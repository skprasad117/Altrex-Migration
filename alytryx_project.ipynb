{
 "cells": [
  {
   "cell_type": "markdown",
   "id": "16f32104",
   "metadata": {},
   "source": [
    "## Reading libraries"
   ]
  },
  {
   "cell_type": "code",
   "execution_count": 703,
   "id": "04598003",
   "metadata": {},
   "outputs": [],
   "source": [
    "from pyspark.sql import SparkSession\n",
    "from pyspark.sql.functions import col, trim, regexp_replace, sum, lit, max, min, first,to_timestamp\n",
    "from pyspark.sql.types import IntegerType, FloatType"
   ]
  },
  {
   "cell_type": "code",
   "execution_count": 704,
   "id": "acf9d934",
   "metadata": {},
   "outputs": [],
   "source": [
    "spark = SparkSession.builder.appName(\"read_csv\").getOrCreate()"
   ]
  },
  {
   "cell_type": "code",
   "execution_count": 705,
   "id": "f5c4c0f6",
   "metadata": {},
   "outputs": [
    {
     "data": {
      "text/html": [
       "\n",
       "            <div>\n",
       "                <p><b>SparkSession - in-memory</b></p>\n",
       "                \n",
       "        <div>\n",
       "            <p><b>SparkContext</b></p>\n",
       "\n",
       "            <p><a href=\"http://LAPTOP-3UT4836R:4042\">Spark UI</a></p>\n",
       "\n",
       "            <dl>\n",
       "              <dt>Version</dt>\n",
       "                <dd><code>v3.4.1</code></dd>\n",
       "              <dt>Master</dt>\n",
       "                <dd><code>local[*]</code></dd>\n",
       "              <dt>AppName</dt>\n",
       "                <dd><code>read_csv</code></dd>\n",
       "            </dl>\n",
       "        </div>\n",
       "        \n",
       "            </div>\n",
       "        "
      ],
      "text/plain": [
       "<pyspark.sql.session.SparkSession at 0x22d3d7e38d0>"
      ]
     },
     "execution_count": 705,
     "metadata": {},
     "output_type": "execute_result"
    }
   ],
   "source": [
    "spark"
   ]
  },
  {
   "cell_type": "markdown",
   "id": "12e90ff3",
   "metadata": {},
   "source": [
    "# helper functions"
   ]
  },
  {
   "cell_type": "code",
   "execution_count": 706,
   "id": "8a913a8d",
   "metadata": {},
   "outputs": [],
   "source": [
    "def change_dtype(dataframe, column_name,change_to):\n",
    "    return dataframe.withColumn(column_name, col(column_name).cast(change_to))"
   ]
  },
  {
   "cell_type": "code",
   "execution_count": 707,
   "id": "443fb098",
   "metadata": {},
   "outputs": [],
   "source": [
    "def remove_illegal_char(dataframe,column_name):\n",
    "    illegal_character = ['Can','\\$',',',\"\\(\",\"\\)\"]\n",
    "    for character in illegal_character:\n",
    "        dataframe = dataframe.withColumn(column_name, regexp_replace(col(column_name), character, ''))\n",
    "#                              .withColumn('Open Balance', regexp_replace(col('Open Balance'), 'Can', ''))\n",
    "    return dataframe"
   ]
  },
  {
   "cell_type": "code",
   "execution_count": 708,
   "id": "850380fd",
   "metadata": {},
   "outputs": [],
   "source": [
    "def trim_col(dataframe, column_name):\n",
    "    return dataframe.withColumn(column_name, trim(col(column_name)))"
   ]
  },
  {
   "cell_type": "markdown",
   "id": "028e5d4f",
   "metadata": {},
   "source": [
    "## Reading CSV"
   ]
  },
  {
   "cell_type": "code",
   "execution_count": 709,
   "id": "ff12abb5",
   "metadata": {},
   "outputs": [],
   "source": [
    "sales_report_kmpg_july=spark.read.options(inferSchema='True').csv('csv_converted\\saleReprtKmpg_july - SalesReportKPMGAuditResults.csv', header=True, inferSchema=True, sep=',')"
   ]
  },
  {
   "cell_type": "markdown",
   "id": "b7976435",
   "metadata": {},
   "source": [
    "## Cleaning and Transforming"
   ]
  },
  {
   "cell_type": "code",
   "execution_count": 710,
   "id": "2c4ed09b",
   "metadata": {},
   "outputs": [
    {
     "data": {
      "text/plain": [
       "['Transaction ID',\n",
       " 'Document Number',\n",
       " 'Transaction Type',\n",
       " 'Project ID',\n",
       " 'Customer',\n",
       " 'Terms',\n",
       " 'Currency',\n",
       " 'Gross Amount',\n",
       " 'Payment',\n",
       " 'Open Balance',\n",
       " 'Transaction Create Date',\n",
       " 'Document Date',\n",
       " 'Due Date',\n",
       " 'Days Open',\n",
       " 'Service Dates',\n",
       " 'Payment Receipt Date']"
      ]
     },
     "execution_count": 710,
     "metadata": {},
     "output_type": "execute_result"
    }
   ],
   "source": [
    "sales_report_kmpg_july.columns"
   ]
  },
  {
   "cell_type": "code",
   "execution_count": 711,
   "id": "415f4c8c",
   "metadata": {},
   "outputs": [],
   "source": [
    "object_columns = ['Transaction ID','Document Number','Transaction Type', 'Project ID','Customer','Terms','Currency',]\n",
    "numeric_columns = ['Gross Amount','Payment','Open Balance','Days Open']\n",
    "date_columns = ['Transaction Create Date','Document Date','Due Date','Service Dates','Payment Receipt Date']"
   ]
  },
  {
   "cell_type": "markdown",
   "id": "91e1a7bb",
   "metadata": {},
   "source": [
    "### Trim column"
   ]
  },
  {
   "cell_type": "code",
   "execution_count": 716,
   "id": "c90cc611",
   "metadata": {},
   "outputs": [],
   "source": [
    "# sales_report_kmpg_july.show()"
   ]
  },
  {
   "cell_type": "code",
   "execution_count": 713,
   "id": "a329cdc9",
   "metadata": {},
   "outputs": [],
   "source": [
    "# sales_report_kmpg_july = trim_col(sales_report_kmpg_july,column_name='Open Balance')\n",
    "for column in sales_report_kmpg_july.columns:\n",
    "    sales_report_kmpg_july = trim_col(sales_report_kmpg_july,column_name=column)\n",
    "    "
   ]
  },
  {
   "cell_type": "markdown",
   "id": "401cca84",
   "metadata": {},
   "source": [
    "### Remove illegal characters from numeric columns"
   ]
  },
  {
   "cell_type": "code",
   "execution_count": 714,
   "id": "232662ef",
   "metadata": {},
   "outputs": [],
   "source": [
    "# sales_report_kmpg_july = remove_illegal_char(sales_report_kmpg_july,column_name='Open Balance')\n",
    "for column in numeric_columns:\n",
    "#     print(column)\n",
    "    sales_report_kmpg_july = remove_illegal_char(sales_report_kmpg_july,column_name=column)\n",
    "#     print(sales_report_kmpg_july.show(1))\n",
    "    "
   ]
  },
  {
   "cell_type": "markdown",
   "id": "0bf1d675",
   "metadata": {},
   "source": [
    "### Change datatype"
   ]
  },
  {
   "cell_type": "code",
   "execution_count": 920,
   "id": "9aafb1f8",
   "metadata": {},
   "outputs": [],
   "source": [
    "# sales_report_kmpg_july = sales_report_kmpg_july.withColumn('Open Balance', col('Open Balance').cast('float'))\n",
    "# for column in date_columns:\n",
    "#     sales_report_kmpg_july = sales_report_kmpg_july.withColumn(column, col(column).cast(to_timestamp(column)))\n",
    "    "
   ]
  },
  {
   "cell_type": "code",
   "execution_count": 689,
   "id": "97c4add4",
   "metadata": {},
   "outputs": [
    {
     "data": {
      "text/plain": [
       "[('Transaction ID', 'string'),\n",
       " ('Document Number', 'string'),\n",
       " ('Transaction Type', 'string'),\n",
       " ('Project ID', 'string'),\n",
       " ('Customer', 'string'),\n",
       " ('Terms', 'string'),\n",
       " ('Currency', 'string'),\n",
       " ('Gross Amount', 'string'),\n",
       " ('Payment', 'string'),\n",
       " ('Open Balance', 'string'),\n",
       " ('Transaction Create Date', 'string'),\n",
       " ('Document Date', 'string'),\n",
       " ('Due Date', 'string'),\n",
       " ('Days Open', 'string'),\n",
       " ('Service Dates', 'string'),\n",
       " ('Payment Receipt Date', 'string')]"
      ]
     },
     "execution_count": 689,
     "metadata": {},
     "output_type": "execute_result"
    }
   ],
   "source": [
    "sales_report_kmpg_july.dtypes"
   ]
  },
  {
   "cell_type": "code",
   "execution_count": 690,
   "id": "1f68ec58",
   "metadata": {},
   "outputs": [
    {
     "name": "stdout",
     "output_type": "stream",
     "text": [
      "+--------------+---------------+----------------+----------+--------------------+-----+--------+------------+-------+------------+-----------------------+-------------+--------+---------+--------------------+--------------------+\n",
      "|Transaction ID|Document Number|Transaction Type|Project ID|            Customer|Terms|Currency|Gross Amount|Payment|Open Balance|Transaction Create Date|Document Date|Due Date|Days Open|       Service Dates|Payment Receipt Date|\n",
      "+--------------+---------------+----------------+----------+--------------------+-----+--------+------------+-------+------------+-----------------------+-------------+--------+---------+--------------------+--------------------+\n",
      "|       3190973|      CUMC15527|     Credit Memo|   1277343|CUMC : Columbia U...| null|     USA|      145.83| 145.83|        0.00|          7/31/23 11:02|    7/31/2023|    null|        0|07/01/2023 to 07/...|           7/30/2023|\n",
      "+--------------+---------------+----------------+----------+--------------------+-----+--------+------------+-------+------------+-----------------------+-------------+--------+---------+--------------------+--------------------+\n",
      "only showing top 1 row\n",
      "\n"
     ]
    }
   ],
   "source": [
    "sales_report_kmpg_july.show(1)"
   ]
  },
  {
   "cell_type": "markdown",
   "id": "d63924c4",
   "metadata": {},
   "source": [
    "## Operation 1:\n",
    "- 3 lines\n",
    "    - 1. Open Balance != 0    output ---> temp_df , Sum_Open_Balance\n",
    "    - 2. Tranasaction Type  == \"Credit Memo\" output ----> process_df_result\n",
    "    - 3. Tranasaction Type  != \"Credit Memo\""
   ]
  },
  {
   "cell_type": "markdown",
   "id": "221c3bf7",
   "metadata": {},
   "source": [
    "### 1. Open Balance != 0 \n",
    "    - filtering the recored `Open Balance !=0`\n",
    "    - Adding Column `Outstanding = \"Open\"`\n",
    "    - Sum of `Open Balance`"
   ]
  },
  {
   "cell_type": "code",
   "execution_count": 691,
   "id": "81e16cf3",
   "metadata": {},
   "outputs": [
    {
     "data": {
      "text/plain": [
       "3948"
      ]
     },
     "execution_count": 691,
     "metadata": {},
     "output_type": "execute_result"
    }
   ],
   "source": [
    "sales_report_kmpg_july.filter(sales_report_kmpg_july['Open Balance'] != '0.00').count()"
   ]
  },
  {
   "cell_type": "code",
   "execution_count": 692,
   "id": "c36224bb",
   "metadata": {},
   "outputs": [],
   "source": [
    "temp_df = sales_report_kmpg_july.filter(sales_report_kmpg_july['Open Balance'] != '0.00')"
   ]
  },
  {
   "cell_type": "code",
   "execution_count": 693,
   "id": "28192f83",
   "metadata": {},
   "outputs": [
    {
     "name": "stdout",
     "output_type": "stream",
     "text": [
      "type of df <class 'pyspark.sql.dataframe.DataFrame'> no of records 3948\n"
     ]
    }
   ],
   "source": [
    "print(\"type of df\",type(temp_df), \"no of records\",temp_df.count())"
   ]
  },
  {
   "cell_type": "markdown",
   "id": "b3e02bc7",
   "metadata": {},
   "source": [
    "#### adding column Outstanding = open"
   ]
  },
  {
   "cell_type": "code",
   "execution_count": 694,
   "id": "d4027c2b",
   "metadata": {},
   "outputs": [],
   "source": [
    "# df_spark.withColumn('year after 2', df_spark['year']+1000).show() refrence\n",
    "temp_df = temp_df.withColumn('Outstanding', lit('Open'))"
   ]
  },
  {
   "cell_type": "code",
   "execution_count": 695,
   "id": "26cd992d",
   "metadata": {},
   "outputs": [],
   "source": [
    "temp_df = change_dtype(temp_df, column_name='Open Balance',change_to=FloatType())"
   ]
  },
  {
   "cell_type": "code",
   "execution_count": 696,
   "id": "1cc43364",
   "metadata": {},
   "outputs": [
    {
     "data": {
      "text/plain": [
       "29295611.528552473"
      ]
     },
     "execution_count": 696,
     "metadata": {},
     "output_type": "execute_result"
    }
   ],
   "source": [
    "Sum_Open_Balance = temp_df.select(sum(col('Open Balance'))).collect()[0][0]\n",
    "Sum_Open_Balance"
   ]
  },
  {
   "cell_type": "code",
   "execution_count": 697,
   "id": "91fed9c3",
   "metadata": {},
   "outputs": [
    {
     "data": {
      "text/plain": [
       "DataFrame[sum(Open Balance): double]"
      ]
     },
     "execution_count": 697,
     "metadata": {},
     "output_type": "execute_result"
    }
   ],
   "source": [
    "sales_report_kmpg_july.filter(sales_report_kmpg_july['Open Balance'] != '0.00').select(sum(col('Open Balance')))"
   ]
  },
  {
   "cell_type": "markdown",
   "id": "3df50ad0",
   "metadata": {},
   "source": [
    "#### Output\n",
    "Sum_Open_Balance, temp_df"
   ]
  },
  {
   "cell_type": "code",
   "execution_count": 698,
   "id": "8ce14727",
   "metadata": {},
   "outputs": [
    {
     "name": "stdout",
     "output_type": "stream",
     "text": [
      "3948 29295611.528552473\n"
     ]
    }
   ],
   "source": [
    "print(temp_df.count(),Sum_Open_Balance)"
   ]
  },
  {
   "cell_type": "markdown",
   "id": "811a885c",
   "metadata": {},
   "source": [
    "### 2. Tranasaction Type  = \"Credit Memo\""
   ]
  },
  {
   "cell_type": "code",
   "execution_count": 860,
   "id": "2ff39a15",
   "metadata": {},
   "outputs": [
    {
     "name": "stdout",
     "output_type": "stream",
     "text": [
      "Input Parameters:  15459\n"
     ]
    }
   ],
   "source": [
    "temp_df_process_2=sales_report_kmpg_july.filter(sales_report_kmpg_july['Transaction Type'] == 'Credit Memo')\n",
    "print(\"Input Parameters: \", temp_df_process_2.count())"
   ]
  },
  {
   "cell_type": "code",
   "execution_count": 861,
   "id": "5be695b3",
   "metadata": {},
   "outputs": [],
   "source": [
    "temp_df_process_2 = temp_df_process_2.withColumn('Gross Amount', col('Gross Amount').cast('float'))\n",
    "temp_df_process_2 = temp_df_process_2.withColumn('Payment', col('Payment').cast('float'))\n",
    "temp_df_process_2 = temp_df_process_2.withColumn('Days Open', col('Days Open').cast('float'))"
   ]
  },
  {
   "cell_type": "code",
   "execution_count": 862,
   "id": "eca77f50",
   "metadata": {},
   "outputs": [],
   "source": [
    "groupby_df_process_2 =temp_df_process_2.groupBy(['Transaction ID',\"Document Number\"])"
   ]
  },
  {
   "cell_type": "code",
   "execution_count": 863,
   "id": "104b74a9",
   "metadata": {},
   "outputs": [
    {
     "data": {
      "text/plain": [
       "[('Transaction ID', 'string'),\n",
       " ('Document Number', 'string'),\n",
       " ('Transaction Type', 'string'),\n",
       " ('Project ID', 'string'),\n",
       " ('Customer', 'string'),\n",
       " ('Terms', 'string'),\n",
       " ('Currency', 'string'),\n",
       " ('Gross Amount', 'float'),\n",
       " ('Payment', 'float'),\n",
       " ('Open Balance', 'string'),\n",
       " ('Transaction Create Date', 'string'),\n",
       " ('Document Date', 'string'),\n",
       " ('Due Date', 'string'),\n",
       " ('Days Open', 'float'),\n",
       " ('Service Dates', 'string'),\n",
       " ('Payment Receipt Date', 'string')]"
      ]
     },
     "execution_count": 863,
     "metadata": {},
     "output_type": "execute_result"
    }
   ],
   "source": [
    "temp_df_process_2.dtypes"
   ]
  },
  {
   "cell_type": "code",
   "execution_count": 864,
   "id": "be9ed241",
   "metadata": {},
   "outputs": [],
   "source": [
    "#     \"Transaction Type\": first(col(\"Transaction Type\")),  # Pick the first occurrence of \"Payment Type\"\n",
    "#     \"Project ID\": max(col(\"Profit\"))  # Calculate the maximum profit\n",
    "#     \"Customer\": first(col(\"Customer\")),\n",
    "#     \"Terms\": first(col(\"Terms\")),\n",
    "#     \"Currency\": first(col(\"Currency\")),\n",
    "#     \"Gross Amount\": min(col(\"Gross Amount\")),\n",
    "#     \"Payment\": max(col(\"Payment\")),\n",
    "#     \"Open Balance\": max(col(\"Open Balance\")),\n",
    "#     \"Transaction Create Date\": max(col(\"Transaction Create Date\")),\n",
    "#     \"Document Date\": max(col(\"Document Date\")),\n",
    "#     \"Due Date\": max(col(\"Due Date\")),\n",
    "#     \"Days Open\": max(col(\"Days Open\")),\n",
    "#     \"Service Dates\": max(col(\"Service Dates\")),\n",
    "#     \"Payment Receipt Date\": col(\"Payment Receipt Date\")"
   ]
  },
  {
   "cell_type": "code",
   "execution_count": 865,
   "id": "51d6ff2b",
   "metadata": {},
   "outputs": [],
   "source": [
    "agg_exprs = {\n",
    "    \"Transaction Type\": 'first',  # Pick the first occurrence of \"Payment Type\"\n",
    "    \"Project ID\": 'first',  # Calculate the maximum profit\n",
    "    \"Customer\": 'first',\n",
    "    \"Terms\": 'first',\n",
    "    \"Currency\": 'first',\n",
    "    \"Gross Amount\": 'min',\n",
    "    \"Payment\": 'max',\n",
    "    \"Open Balance\": 'max',\n",
    "    \"Transaction Create Date\": 'max',\n",
    "    \"Document Date\": 'max',\n",
    "    \"Due Date\": 'max',\n",
    "    \"Days Open\": 'max',\n",
    "    \"Service Dates\": 'max',\n",
    "    \"Payment Receipt Date\": 'first'}\n"
   ]
  },
  {
   "cell_type": "code",
   "execution_count": 866,
   "id": "fd9cf7a1",
   "metadata": {},
   "outputs": [
    {
     "data": {
      "text/plain": [
       "pyspark.sql.column.Column"
      ]
     },
     "execution_count": 866,
     "metadata": {},
     "output_type": "execute_result"
    }
   ],
   "source": [
    "type(first(col(\"Transaction Type\")))"
   ]
  },
  {
   "cell_type": "code",
   "execution_count": 867,
   "id": "39543ae7",
   "metadata": {},
   "outputs": [],
   "source": [
    "# groupby_df_process_2.agg(agg_exprs).count()"
   ]
  },
  {
   "cell_type": "code",
   "execution_count": 868,
   "id": "01058292",
   "metadata": {},
   "outputs": [],
   "source": [
    "process_df_result = groupby_df_process_2.agg(agg_exprs)"
   ]
  },
  {
   "cell_type": "code",
   "execution_count": 869,
   "id": "19a9a275",
   "metadata": {},
   "outputs": [],
   "source": [
    "# column got renamed need to look for other way, there is one commented above but causing some error\n",
    "for column in process_df_result.columns:\n",
    "#     print(column)\n",
    "    new_column = column\n",
    "    remove_list = [\"max\",\"min\",\"(\",\")\",\"first\"]\n",
    "    for char in remove_list:\n",
    "#         print(char)\n",
    "        if char in new_column:\n",
    "            new_column=new_column.replace(char,\"\")\n",
    "    process_df_result=process_df_result.withColumnRenamed(column,new_column)\n",
    "    \n",
    "    "
   ]
  },
  {
   "cell_type": "code",
   "execution_count": 871,
   "id": "0fa8abe2",
   "metadata": {},
   "outputs": [],
   "source": [
    "# process_df_result.columns"
   ]
  },
  {
   "cell_type": "code",
   "execution_count": 872,
   "id": "e83b3d04",
   "metadata": {},
   "outputs": [],
   "source": [
    "process_df_result = process_df_result.withColumn('Outstanding', lit('Cleared'))\n",
    "process_df_result=process_df_result.withColumn('Applying Link Amount', -col(\"Payment\"))"
   ]
  },
  {
   "cell_type": "code",
   "execution_count": 876,
   "id": "72ccf85a",
   "metadata": {},
   "outputs": [
    {
     "name": "stdout",
     "output_type": "stream",
     "text": [
      "+--------------+-----------+--------------------+\n",
      "|Transaction ID|Outstanding|Applying Link Amount|\n",
      "+--------------+-----------+--------------------+\n",
      "|       3191846|    Cleared|              -84.87|\n",
      "|       3196377|    Cleared|              -243.0|\n",
      "|       3152869|    Cleared|            -1394.96|\n",
      "|       3136755|    Cleared|                -0.0|\n",
      "|       3117490|    Cleared|             -111.29|\n",
      "|       3119866|    Cleared|            -1397.43|\n",
      "|       3051990|    Cleared|             -525.98|\n",
      "|       3034098|    Cleared|              -19.48|\n",
      "|       2979232|    Cleared|              -119.6|\n",
      "|       2889570|    Cleared|            -2857.77|\n",
      "|       2840729|    Cleared|             -1000.0|\n",
      "|       3195531|    Cleared|                -0.0|\n",
      "|       3198467|    Cleared|             -446.38|\n",
      "|       3154622|    Cleared|                -0.0|\n",
      "|       3114388|    Cleared|               -0.08|\n",
      "|       3049865|    Cleared|                -0.0|\n",
      "|       3050589|    Cleared|                -0.0|\n",
      "|       3037054|    Cleared|             -185.24|\n",
      "|       3013001|    Cleared|               -0.01|\n",
      "|       2971297|    Cleared|               -0.17|\n",
      "+--------------+-----------+--------------------+\n",
      "only showing top 20 rows\n",
      "\n"
     ]
    }
   ],
   "source": [
    "process_df_result.select([\"Transaction ID\", \"Outstanding\",\"Applying Link Amount\"]).show()"
   ]
  },
  {
   "cell_type": "code",
   "execution_count": 879,
   "id": "d67c1b55",
   "metadata": {},
   "outputs": [
    {
     "name": "stdout",
     "output_type": "stream",
     "text": [
      "Output Result : 14286\n"
     ]
    }
   ],
   "source": [
    "print(\"Output Result :\", process_df_result.count())"
   ]
  },
  {
   "cell_type": "markdown",
   "id": "d07a9529",
   "metadata": {},
   "source": [
    "### Output : process_df_result"
   ]
  },
  {
   "cell_type": "markdown",
   "id": "8af9b4b0",
   "metadata": {},
   "source": [
    "## 3. Tranasaction Type  != \"Credit Memo\""
   ]
  },
  {
   "cell_type": "code",
   "execution_count": 914,
   "id": "b3b222d4",
   "metadata": {},
   "outputs": [
    {
     "data": {
      "text/plain": [
       "382148"
      ]
     },
     "execution_count": 914,
     "metadata": {},
     "output_type": "execute_result"
    }
   ],
   "source": [
    "sales_report_kmpg_july.count()"
   ]
  },
  {
   "cell_type": "code",
   "execution_count": 915,
   "id": "2e3d60f7",
   "metadata": {},
   "outputs": [],
   "source": [
    "# sales_report_kmpg_july.select(\"Transaction Type\").distinct().show()"
   ]
  },
  {
   "cell_type": "code",
   "execution_count": 916,
   "id": "8fea6022",
   "metadata": {},
   "outputs": [
    {
     "name": "stdout",
     "output_type": "stream",
     "text": [
      "Input : 366688\n"
     ]
    }
   ],
   "source": [
    "temp_df_process_3=sales_report_kmpg_july.filter(sales_report_kmpg_july['Transaction Type'] != 'Credit Memo')\n",
    "print(\"Input :\", temp_df_process_3.count())"
   ]
  },
  {
   "cell_type": "code",
   "execution_count": null,
   "id": "c3937d12",
   "metadata": {},
   "outputs": [],
   "source": []
  },
  {
   "cell_type": "code",
   "execution_count": null,
   "id": "12be1452",
   "metadata": {},
   "outputs": [],
   "source": []
  },
  {
   "cell_type": "code",
   "execution_count": 892,
   "id": "2c4a2dfe",
   "metadata": {},
   "outputs": [
    {
     "ename": "TypeError",
     "evalue": "DataFrame.tail() missing 1 required positional argument: 'num'",
     "output_type": "error",
     "traceback": [
      "\u001b[1;31m---------------------------------------------------------------------------\u001b[0m",
      "\u001b[1;31mTypeError\u001b[0m                                 Traceback (most recent call last)",
      "Cell \u001b[1;32mIn[892], line 1\u001b[0m\n\u001b[1;32m----> 1\u001b[0m temp_df_process_3\u001b[38;5;241m.\u001b[39mfilter(col(\u001b[38;5;124m'\u001b[39m\u001b[38;5;124mTransaction Type\u001b[39m\u001b[38;5;124m'\u001b[39m)\u001b[38;5;241m.\u001b[39mlike(\u001b[38;5;124m'\u001b[39m\u001b[38;5;132;01m% %\u001b[39;00m\u001b[38;5;124m'\u001b[39m))\u001b[38;5;241m.\u001b[39mselect(\u001b[38;5;124m'\u001b[39m\u001b[38;5;124mTransaction Type\u001b[39m\u001b[38;5;124m'\u001b[39m)\u001b[38;5;241m.\u001b[39mtail()\n",
      "\u001b[1;31mTypeError\u001b[0m: DataFrame.tail() missing 1 required positional argument: 'num'"
     ]
    }
   ],
   "source": [
    "temp_df_process_3.filter(col('Transaction Type').like('% %')).select('Transaction Type')"
   ]
  },
  {
   "cell_type": "code",
   "execution_count": null,
   "id": "1a7419af",
   "metadata": {},
   "outputs": [],
   "source": []
  }
 ],
 "metadata": {
  "kernelspec": {
   "display_name": "Python 3 (ipykernel)",
   "language": "python",
   "name": "python3"
  },
  "language_info": {
   "codemirror_mode": {
    "name": "ipython",
    "version": 3
   },
   "file_extension": ".py",
   "mimetype": "text/x-python",
   "name": "python",
   "nbconvert_exporter": "python",
   "pygments_lexer": "ipython3",
   "version": "3.11.4"
  }
 },
 "nbformat": 4,
 "nbformat_minor": 5
}
