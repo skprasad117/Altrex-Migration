{
 "cells": [
  {
   "cell_type": "markdown",
   "id": "16f32104",
   "metadata": {},
   "source": [
    "## Reading libraries"
   ]
  },
  {
   "cell_type": "code",
   "execution_count": 1,
   "id": "04598003",
   "metadata": {},
   "outputs": [],
   "source": [
    "from pyspark.sql import SparkSession\n",
    "from pyspark.sql.functions import col, trim, regexp_replace, sum, lit, max, min, first,to_timestamp, trim, upper,to_date, date_format, when\n",
    "from pyspark.sql.types import DateType\n",
    "\n",
    "from pyspark.sql.types import IntegerType, FloatType"
   ]
  },
  {
   "cell_type": "code",
   "execution_count": 2,
   "id": "acf9d934",
   "metadata": {},
   "outputs": [],
   "source": [
    "spark = SparkSession.builder.appName(\"read_csv\").getOrCreate()"
   ]
  },
  {
   "cell_type": "code",
   "execution_count": 3,
   "id": "f5c4c0f6",
   "metadata": {},
   "outputs": [
    {
     "data": {
      "text/html": [
       "\n",
       "            <div>\n",
       "                <p><b>SparkSession - in-memory</b></p>\n",
       "                \n",
       "        <div>\n",
       "            <p><b>SparkContext</b></p>\n",
       "\n",
       "            <p><a href=\"http://LAPTOP-3UT4836R:4040\">Spark UI</a></p>\n",
       "\n",
       "            <dl>\n",
       "              <dt>Version</dt>\n",
       "                <dd><code>v3.4.1</code></dd>\n",
       "              <dt>Master</dt>\n",
       "                <dd><code>local[*]</code></dd>\n",
       "              <dt>AppName</dt>\n",
       "                <dd><code>read_csv</code></dd>\n",
       "            </dl>\n",
       "        </div>\n",
       "        \n",
       "            </div>\n",
       "        "
      ],
      "text/plain": [
       "<pyspark.sql.session.SparkSession at 0x1f0ae83da10>"
      ]
     },
     "execution_count": 3,
     "metadata": {},
     "output_type": "execute_result"
    }
   ],
   "source": [
    "spark"
   ]
  },
  {
   "cell_type": "markdown",
   "id": "12e90ff3",
   "metadata": {},
   "source": [
    "# helper functions"
   ]
  },
  {
   "cell_type": "code",
   "execution_count": 4,
   "id": "6c957d5a",
   "metadata": {},
   "outputs": [],
   "source": [
    "# show and remove duplicate row\n",
    "def remove_dup_rows(df, show= True):\n",
    "    df_grou = df.groupby(*df.columns).count()\n",
    "    dup = df_grou.filter(col(\"count\")>1)\n",
    "    if show == True:\n",
    "        print(dup.show())\n",
    "    df = df.drop_duplicates()\n",
    "    return df"
   ]
  },
  {
   "cell_type": "code",
   "execution_count": 5,
   "id": "585c9f22",
   "metadata": {},
   "outputs": [],
   "source": [
    "from pyspark.sql.functions import udf\n",
    "from pyspark.sql.types import DateType\n",
    "from datetime import datetime\n",
    "\n",
    "# Define a UDF to parse the date string\n",
    "@udf(DateType())\n",
    "def parse_date(date_str):\n",
    "    try:\n",
    "        return datetime.strptime(date_str, \"%m/%d/%Y\").date()\n",
    "    except ValueError:\n",
    "        return None  # Handle invalid date strings as needed\n"
   ]
  },
  {
   "cell_type": "code",
   "execution_count": 6,
   "id": "8a913a8d",
   "metadata": {},
   "outputs": [],
   "source": [
    "def change_dtype(dataframe, column_name,change_to):\n",
    "    return dataframe.withColumn(column_name, col(column_name).cast(change_to))"
   ]
  },
  {
   "cell_type": "code",
   "execution_count": 7,
   "id": "443fb098",
   "metadata": {},
   "outputs": [],
   "source": [
    "def remove_illegal_char(dataframe,column_name):\n",
    "    illegal_character = ['Can','\\$',',',\"\\(\",\"\\)\"]\n",
    "    for character in illegal_character:\n",
    "        dataframe = dataframe.withColumn(column_name, regexp_replace(col(column_name), character, ''))\n",
    "#                              .withColumn('Open Balance', regexp_replace(col('Open Balance'), 'Can', ''))\n",
    "    return dataframe"
   ]
  },
  {
   "cell_type": "code",
   "execution_count": 8,
   "id": "850380fd",
   "metadata": {},
   "outputs": [],
   "source": [
    "def trim_col(dataframe, column_name):\n",
    "    return dataframe.withColumn(column_name, trim(col(column_name)))"
   ]
  },
  {
   "cell_type": "markdown",
   "id": "028e5d4f",
   "metadata": {},
   "source": [
    "## Reading CSV"
   ]
  },
  {
   "cell_type": "code",
   "execution_count": 9,
   "id": "ff12abb5",
   "metadata": {},
   "outputs": [],
   "source": [
    "sales_report_kmpg_july=spark.read.options(inferSchema='True').csv('csv_converted\\saleReprtKmpg_july - SalesReportKPMGAuditResults.csv', header=True, inferSchema=True, sep=',')"
   ]
  },
  {
   "cell_type": "markdown",
   "id": "b7976435",
   "metadata": {},
   "source": [
    "## Cleaning and Transforming"
   ]
  },
  {
   "cell_type": "code",
   "execution_count": null,
   "id": "a86474ef",
   "metadata": {},
   "outputs": [],
   "source": []
  },
  {
   "cell_type": "code",
   "execution_count": 10,
   "id": "0d02629c",
   "metadata": {},
   "outputs": [
    {
     "data": {
      "text/plain": [
       "16"
      ]
     },
     "execution_count": 10,
     "metadata": {},
     "output_type": "execute_result"
    }
   ],
   "source": [
    "len(sales_report_kmpg_july.columns)"
   ]
  },
  {
   "cell_type": "code",
   "execution_count": 11,
   "id": "2c4ed09b",
   "metadata": {},
   "outputs": [
    {
     "data": {
      "text/plain": [
       "['Transaction ID',\n",
       " 'Document Number',\n",
       " 'Transaction Type',\n",
       " 'Project ID',\n",
       " 'Customer',\n",
       " 'Terms',\n",
       " 'Currency',\n",
       " 'Gross Amount',\n",
       " 'Payment',\n",
       " 'Open Balance',\n",
       " 'Transaction Create Date',\n",
       " 'Document Date',\n",
       " 'Due Date',\n",
       " 'Days Open',\n",
       " 'Service Dates',\n",
       " 'Payment Receipt Date']"
      ]
     },
     "execution_count": 11,
     "metadata": {},
     "output_type": "execute_result"
    }
   ],
   "source": [
    "sales_report_kmpg_july.columns"
   ]
  },
  {
   "cell_type": "code",
   "execution_count": 12,
   "id": "415f4c8c",
   "metadata": {},
   "outputs": [],
   "source": [
    "object_columns = ['Transaction ID','Document Number','Transaction Type', 'Project ID','Customer','Terms','Currency']\n",
    "numeric_columns = ['Gross Amount','Payment','Open Balance','Days Open']\n",
    "date_columns = ['Transaction Create Date','Document Date','Due Date','Service Dates','Payment Receipt Date']"
   ]
  },
  {
   "cell_type": "markdown",
   "id": "91e1a7bb",
   "metadata": {},
   "source": [
    "### Trim column"
   ]
  },
  {
   "cell_type": "code",
   "execution_count": 13,
   "id": "c90cc611",
   "metadata": {},
   "outputs": [],
   "source": [
    "# sales_report_kmpg_july.show()"
   ]
  },
  {
   "cell_type": "code",
   "execution_count": 14,
   "id": "a329cdc9",
   "metadata": {},
   "outputs": [],
   "source": [
    "sales_report_kmpg_july = trim_col(sales_report_kmpg_july,column_name='Open Balance')\n",
    "for column in sales_report_kmpg_july.columns:\n",
    "    sales_report_kmpg_july = trim_col(sales_report_kmpg_july,column_name=column)\n",
    "    "
   ]
  },
  {
   "cell_type": "markdown",
   "id": "401cca84",
   "metadata": {},
   "source": [
    "### Remove illegal characters from numeric columns"
   ]
  },
  {
   "cell_type": "code",
   "execution_count": 15,
   "id": "232662ef",
   "metadata": {},
   "outputs": [],
   "source": [
    "# sales_report_kmpg_july = remove_illegal_char(sales_report_kmpg_july,column_name='Open Balance')\n",
    "for column in numeric_columns:\n",
    "#     print(column)\n",
    "    sales_report_kmpg_july = remove_illegal_char(sales_report_kmpg_july,column_name=column)\n",
    "#     print(sales_report_kmpg_july.show(1))\n",
    "    "
   ]
  },
  {
   "cell_type": "markdown",
   "id": "0bf1d675",
   "metadata": {},
   "source": [
    "### Change datatype"
   ]
  },
  {
   "cell_type": "code",
   "execution_count": 16,
   "id": "9aafb1f8",
   "metadata": {},
   "outputs": [],
   "source": [
    "# sales_report_kmpg_july = sales_report_kmpg_july.withColumn('Open Balance', col('Open Balance').cast('float'))\n",
    "# for column in date_columns:\n",
    "#     sales_report_kmpg_july = sales_report_kmpg_july.withColumn(column, col(column).cast(to_timestamp(column)))\n",
    "    "
   ]
  },
  {
   "cell_type": "code",
   "execution_count": 17,
   "id": "97c4add4",
   "metadata": {},
   "outputs": [
    {
     "data": {
      "text/plain": [
       "[('Transaction ID', 'string'),\n",
       " ('Document Number', 'string'),\n",
       " ('Transaction Type', 'string'),\n",
       " ('Project ID', 'string'),\n",
       " ('Customer', 'string'),\n",
       " ('Terms', 'string'),\n",
       " ('Currency', 'string'),\n",
       " ('Gross Amount', 'string'),\n",
       " ('Payment', 'string'),\n",
       " ('Open Balance', 'string'),\n",
       " ('Transaction Create Date', 'string'),\n",
       " ('Document Date', 'string'),\n",
       " ('Due Date', 'string'),\n",
       " ('Days Open', 'string'),\n",
       " ('Service Dates', 'string'),\n",
       " ('Payment Receipt Date', 'string')]"
      ]
     },
     "execution_count": 17,
     "metadata": {},
     "output_type": "execute_result"
    }
   ],
   "source": [
    "sales_report_kmpg_july.dtypes"
   ]
  },
  {
   "cell_type": "code",
   "execution_count": 18,
   "id": "1f68ec58",
   "metadata": {},
   "outputs": [
    {
     "name": "stdout",
     "output_type": "stream",
     "text": [
      "+--------------+---------------+----------------+----------+--------------------+-----+--------+------------+-------+------------+-----------------------+-------------+--------+---------+--------------------+--------------------+\n",
      "|Transaction ID|Document Number|Transaction Type|Project ID|            Customer|Terms|Currency|Gross Amount|Payment|Open Balance|Transaction Create Date|Document Date|Due Date|Days Open|       Service Dates|Payment Receipt Date|\n",
      "+--------------+---------------+----------------+----------+--------------------+-----+--------+------------+-------+------------+-----------------------+-------------+--------+---------+--------------------+--------------------+\n",
      "|       3190973|      CUMC15527|     Credit Memo|   1277343|CUMC : Columbia U...| null|     USA|      145.83| 145.83|        0.00|          7/31/23 11:02|    7/31/2023|    null|        0|07/01/2023 to 07/...|           7/30/2023|\n",
      "+--------------+---------------+----------------+----------+--------------------+-----+--------+------------+-------+------------+-----------------------+-------------+--------+---------+--------------------+--------------------+\n",
      "only showing top 1 row\n",
      "\n"
     ]
    }
   ],
   "source": [
    "sales_report_kmpg_july.show(1)"
   ]
  },
  {
   "cell_type": "markdown",
   "id": "d63924c4",
   "metadata": {},
   "source": [
    "## Operation 1:\n",
    "- 3 lines\n",
    "    - 1. Open Balance != 0----------------------output ---> temp_df , Sum_Open_Balance\n",
    "    - 2. Tranasaction Type  == \"Credit Memo\"----output ----> process_df_result\n",
    "    - 3. Tranasaction Type  != \"Credit Memo\"----output-----> temp_df_process_3"
   ]
  },
  {
   "cell_type": "markdown",
   "id": "221c3bf7",
   "metadata": {},
   "source": [
    "### 1. Open Balance != 0 \n",
    "    - filtering the recored `Open Balance !=0`\n",
    "    - Adding Column `Outstanding = \"Open\"`\n",
    "    - Sum of `Open Balance`"
   ]
  },
  {
   "cell_type": "code",
   "execution_count": 19,
   "id": "81e16cf3",
   "metadata": {},
   "outputs": [
    {
     "data": {
      "text/plain": [
       "3948"
      ]
     },
     "execution_count": 19,
     "metadata": {},
     "output_type": "execute_result"
    }
   ],
   "source": [
    "sales_report_kmpg_july.filter(sales_report_kmpg_july['Open Balance'] != '0.00').count()"
   ]
  },
  {
   "cell_type": "code",
   "execution_count": 20,
   "id": "c36224bb",
   "metadata": {},
   "outputs": [],
   "source": [
    "temp_df = sales_report_kmpg_july.filter(sales_report_kmpg_july['Open Balance'] != '0.00')"
   ]
  },
  {
   "cell_type": "code",
   "execution_count": 21,
   "id": "28192f83",
   "metadata": {},
   "outputs": [
    {
     "name": "stdout",
     "output_type": "stream",
     "text": [
      "type of df <class 'pyspark.sql.dataframe.DataFrame'> no of records 3948\n"
     ]
    }
   ],
   "source": [
    "print(\"type of df\",type(temp_df), \"no of records\",temp_df.count())"
   ]
  },
  {
   "cell_type": "markdown",
   "id": "b3e02bc7",
   "metadata": {},
   "source": [
    "#### adding column Outstanding = open"
   ]
  },
  {
   "cell_type": "code",
   "execution_count": 22,
   "id": "d4027c2b",
   "metadata": {},
   "outputs": [],
   "source": [
    "# df_spark.withColumn('year after 2', df_spark['year']+1000).show() refrence\n",
    "temp_df = temp_df.withColumn('Outstanding', lit('Open'))\n",
    "temp_df = temp_df.withColumn('Applying Link Amount', temp_df[\"Open Balance\"])\n",
    "temp_df = temp_df.withColumn(\"FileName\", lit(\"saleReprtKmpg_july\"))"
   ]
  },
  {
   "cell_type": "code",
   "execution_count": 23,
   "id": "26cd992d",
   "metadata": {},
   "outputs": [],
   "source": [
    "temp_df = change_dtype(temp_df, column_name='Open Balance',change_to=FloatType())"
   ]
  },
  {
   "cell_type": "code",
   "execution_count": 24,
   "id": "1cc43364",
   "metadata": {},
   "outputs": [
    {
     "data": {
      "text/plain": [
       "29295611.528552473"
      ]
     },
     "execution_count": 24,
     "metadata": {},
     "output_type": "execute_result"
    }
   ],
   "source": [
    "Sum_Open_Balance = temp_df.select(sum(col('Open Balance'))).collect()[0][0]\n",
    "Sum_Open_Balance"
   ]
  },
  {
   "cell_type": "code",
   "execution_count": 25,
   "id": "91fed9c3",
   "metadata": {},
   "outputs": [
    {
     "data": {
      "text/plain": [
       "DataFrame[sum(Open Balance): double]"
      ]
     },
     "execution_count": 25,
     "metadata": {},
     "output_type": "execute_result"
    }
   ],
   "source": [
    "sales_report_kmpg_july.filter(sales_report_kmpg_july['Open Balance'] != '0.00').select(sum(col('Open Balance')))"
   ]
  },
  {
   "cell_type": "markdown",
   "id": "3df50ad0",
   "metadata": {},
   "source": [
    "#### Output\n",
    "Sum_Open_Balance, temp_df"
   ]
  },
  {
   "cell_type": "code",
   "execution_count": 26,
   "id": "8ce14727",
   "metadata": {},
   "outputs": [
    {
     "name": "stdout",
     "output_type": "stream",
     "text": [
      "3948 29295611.528552473\n"
     ]
    }
   ],
   "source": [
    "print(temp_df.count(),Sum_Open_Balance)"
   ]
  },
  {
   "cell_type": "code",
   "execution_count": 27,
   "id": "f640b842",
   "metadata": {},
   "outputs": [
    {
     "data": {
      "text/plain": [
       "19"
      ]
     },
     "execution_count": 27,
     "metadata": {},
     "output_type": "execute_result"
    }
   ],
   "source": [
    "len(temp_df.columns)"
   ]
  },
  {
   "cell_type": "markdown",
   "id": "811a885c",
   "metadata": {},
   "source": [
    "### 2. Tranasaction Type  = \"Credit Memo\""
   ]
  },
  {
   "cell_type": "code",
   "execution_count": 28,
   "id": "2ff39a15",
   "metadata": {},
   "outputs": [
    {
     "name": "stdout",
     "output_type": "stream",
     "text": [
      "Input Parameters:  15459\n"
     ]
    }
   ],
   "source": [
    "temp_df_process_2=sales_report_kmpg_july.filter(sales_report_kmpg_july['Transaction Type'] == 'Credit Memo')\n",
    "print(\"Input Parameters: \", temp_df_process_2.count())"
   ]
  },
  {
   "cell_type": "code",
   "execution_count": 29,
   "id": "5be695b3",
   "metadata": {},
   "outputs": [],
   "source": [
    "temp_df_process_2 = temp_df_process_2.withColumn('Gross Amount', col('Gross Amount').cast('float'))\n",
    "temp_df_process_2 = temp_df_process_2.withColumn('Payment', col('Payment').cast('float'))\n",
    "temp_df_process_2 = temp_df_process_2.withColumn('Days Open', col('Days Open').cast('float'))"
   ]
  },
  {
   "cell_type": "code",
   "execution_count": 30,
   "id": "eca77f50",
   "metadata": {},
   "outputs": [],
   "source": [
    "groupby_df_process_2 =temp_df_process_2.groupBy(['Transaction ID',\"Document Number\"])"
   ]
  },
  {
   "cell_type": "code",
   "execution_count": 31,
   "id": "104b74a9",
   "metadata": {},
   "outputs": [
    {
     "data": {
      "text/plain": [
       "[('Transaction ID', 'string'),\n",
       " ('Document Number', 'string'),\n",
       " ('Transaction Type', 'string'),\n",
       " ('Project ID', 'string'),\n",
       " ('Customer', 'string'),\n",
       " ('Terms', 'string'),\n",
       " ('Currency', 'string'),\n",
       " ('Gross Amount', 'float'),\n",
       " ('Payment', 'float'),\n",
       " ('Open Balance', 'string'),\n",
       " ('Transaction Create Date', 'string'),\n",
       " ('Document Date', 'string'),\n",
       " ('Due Date', 'string'),\n",
       " ('Days Open', 'float'),\n",
       " ('Service Dates', 'string'),\n",
       " ('Payment Receipt Date', 'string')]"
      ]
     },
     "execution_count": 31,
     "metadata": {},
     "output_type": "execute_result"
    }
   ],
   "source": [
    "temp_df_process_2.dtypes"
   ]
  },
  {
   "cell_type": "code",
   "execution_count": 32,
   "id": "be9ed241",
   "metadata": {},
   "outputs": [],
   "source": [
    "#     \"Transaction Type\": first(col(\"Transaction Type\")),  # Pick the first occurrence of \"Payment Type\"\n",
    "#     \"Project ID\": max(col(\"Profit\"))  # Calculate the maximum profit\n",
    "#     \"Customer\": first(col(\"Customer\")),\n",
    "#     \"Terms\": first(col(\"Terms\")),\n",
    "#     \"Currency\": first(col(\"Currency\")),\n",
    "#     \"Gross Amount\": min(col(\"Gross Amount\")),\n",
    "#     \"Payment\": max(col(\"Payment\")),\n",
    "#     \"Open Balance\": max(col(\"Open Balance\")),\n",
    "#     \"Transaction Create Date\": max(col(\"Transaction Create Date\")),\n",
    "#     \"Document Date\": max(col(\"Document Date\")),\n",
    "#     \"Due Date\": max(col(\"Due Date\")),\n",
    "#     \"Days Open\": max(col(\"Days Open\")),\n",
    "#     \"Service Dates\": max(col(\"Service Dates\")),\n",
    "#     \"Payment Receipt Date\": col(\"Payment Receipt Date\")"
   ]
  },
  {
   "cell_type": "code",
   "execution_count": 33,
   "id": "51d6ff2b",
   "metadata": {},
   "outputs": [],
   "source": [
    "agg_exprs = {\n",
    "    \"Transaction Type\": 'first',  # Pick the first occurrence of \"Payment Type\"\n",
    "    \"Project ID\": 'first',  # Calculate the maximum profit\n",
    "    \"Customer\": 'first',\n",
    "    \"Terms\": 'first',\n",
    "    \"Currency\": 'first',\n",
    "    \"Gross Amount\": 'min',\n",
    "    \"Payment\": 'max',\n",
    "    \"Open Balance\": 'max',\n",
    "    \"Transaction Create Date\": 'max',\n",
    "    \"Document Date\": 'max',\n",
    "    \"Due Date\": 'max',\n",
    "    \"Days Open\": 'max',\n",
    "    \"Service Dates\": 'max',\n",
    "    \"Payment Receipt Date\": 'first'}\n"
   ]
  },
  {
   "cell_type": "code",
   "execution_count": 34,
   "id": "fd9cf7a1",
   "metadata": {},
   "outputs": [
    {
     "data": {
      "text/plain": [
       "pyspark.sql.column.Column"
      ]
     },
     "execution_count": 34,
     "metadata": {},
     "output_type": "execute_result"
    }
   ],
   "source": [
    "type(first(col(\"Transaction Type\")))"
   ]
  },
  {
   "cell_type": "code",
   "execution_count": 35,
   "id": "39543ae7",
   "metadata": {},
   "outputs": [],
   "source": [
    "# groupby_df_process_2.agg(agg_exprs).count()"
   ]
  },
  {
   "cell_type": "code",
   "execution_count": 36,
   "id": "01058292",
   "metadata": {},
   "outputs": [],
   "source": [
    "process_df_result = groupby_df_process_2.agg(agg_exprs)"
   ]
  },
  {
   "cell_type": "code",
   "execution_count": 37,
   "id": "19a9a275",
   "metadata": {},
   "outputs": [],
   "source": [
    "# column got renamed need to look for other way, there is one commented above but causing some error\n",
    "for column in process_df_result.columns:\n",
    "#     print(column)\n",
    "    new_column = column\n",
    "    remove_list = [\"max\",\"min\",\"(\",\")\",\"first\"]\n",
    "    for char in remove_list:\n",
    "#         print(char)\n",
    "        if char in new_column:\n",
    "            new_column=new_column.replace(char,\"\")\n",
    "    process_df_result=process_df_result.withColumnRenamed(column,new_column)\n",
    "    \n",
    "    "
   ]
  },
  {
   "cell_type": "code",
   "execution_count": 38,
   "id": "0fa8abe2",
   "metadata": {},
   "outputs": [],
   "source": [
    "# process_df_result.columns"
   ]
  },
  {
   "cell_type": "code",
   "execution_count": 39,
   "id": "e83b3d04",
   "metadata": {},
   "outputs": [],
   "source": [
    "process_df_result = process_df_result.withColumn('Outstanding', lit('Cleared'))\n",
    "process_df_result=process_df_result.withColumn('Applying Link Amount', -col(\"Payment\"))"
   ]
  },
  {
   "cell_type": "code",
   "execution_count": 40,
   "id": "72ccf85a",
   "metadata": {},
   "outputs": [
    {
     "name": "stdout",
     "output_type": "stream",
     "text": [
      "+--------------+-----------+--------------------+\n",
      "|Transaction ID|Outstanding|Applying Link Amount|\n",
      "+--------------+-----------+--------------------+\n",
      "|       3191846|    Cleared|              -84.87|\n",
      "|       3196377|    Cleared|              -243.0|\n",
      "|       3152869|    Cleared|            -1394.96|\n",
      "|       3136755|    Cleared|                -0.0|\n",
      "|       3117490|    Cleared|             -111.29|\n",
      "|       3119866|    Cleared|            -1397.43|\n",
      "|       3051990|    Cleared|             -525.98|\n",
      "|       3034098|    Cleared|              -19.48|\n",
      "|       2979232|    Cleared|              -119.6|\n",
      "|       2889570|    Cleared|            -2857.77|\n",
      "|       2840729|    Cleared|             -1000.0|\n",
      "|       3195531|    Cleared|                -0.0|\n",
      "|       3198467|    Cleared|             -446.38|\n",
      "|       3154622|    Cleared|                -0.0|\n",
      "|       3114388|    Cleared|               -0.08|\n",
      "|       3049865|    Cleared|                -0.0|\n",
      "|       3050589|    Cleared|                -0.0|\n",
      "|       3037054|    Cleared|             -185.24|\n",
      "|       3013001|    Cleared|               -0.01|\n",
      "|       2971297|    Cleared|               -0.17|\n",
      "+--------------+-----------+--------------------+\n",
      "only showing top 20 rows\n",
      "\n"
     ]
    }
   ],
   "source": [
    "process_df_result.select([\"Transaction ID\", \"Outstanding\",\"Applying Link Amount\"]).show()"
   ]
  },
  {
   "cell_type": "code",
   "execution_count": 41,
   "id": "d67c1b55",
   "metadata": {},
   "outputs": [
    {
     "name": "stdout",
     "output_type": "stream",
     "text": [
      "Output Result : 14286\n"
     ]
    }
   ],
   "source": [
    "print(\"Output Result :\", process_df_result.count())"
   ]
  },
  {
   "cell_type": "code",
   "execution_count": 42,
   "id": "455969aa",
   "metadata": {},
   "outputs": [
    {
     "data": {
      "text/plain": [
       "18"
      ]
     },
     "execution_count": 42,
     "metadata": {},
     "output_type": "execute_result"
    }
   ],
   "source": [
    "len(process_df_result.columns)"
   ]
  },
  {
   "cell_type": "markdown",
   "id": "d07a9529",
   "metadata": {},
   "source": [
    "### Output : process_df_result"
   ]
  },
  {
   "cell_type": "code",
   "execution_count": null,
   "id": "35c832f5",
   "metadata": {},
   "outputs": [],
   "source": []
  },
  {
   "cell_type": "markdown",
   "id": "8af9b4b0",
   "metadata": {},
   "source": [
    "## 3. Tranasaction Type  != \"Credit Memo\""
   ]
  },
  {
   "cell_type": "code",
   "execution_count": 43,
   "id": "b3b222d4",
   "metadata": {},
   "outputs": [
    {
     "data": {
      "text/plain": [
       "382148"
      ]
     },
     "execution_count": 43,
     "metadata": {},
     "output_type": "execute_result"
    }
   ],
   "source": [
    "sales_report_kmpg_july.count()"
   ]
  },
  {
   "cell_type": "code",
   "execution_count": 44,
   "id": "2e3d60f7",
   "metadata": {},
   "outputs": [
    {
     "name": "stdout",
     "output_type": "stream",
     "text": [
      "+----------------+\n",
      "|Transaction Type|\n",
      "+----------------+\n",
      "|     Credit Memo|\n",
      "|         Invoice|\n",
      "|            null|\n",
      "+----------------+\n",
      "\n"
     ]
    }
   ],
   "source": [
    "sales_report_kmpg_july.select(\"Transaction Type\").distinct().show()"
   ]
  },
  {
   "cell_type": "code",
   "execution_count": 45,
   "id": "8fea6022",
   "metadata": {},
   "outputs": [
    {
     "name": "stdout",
     "output_type": "stream",
     "text": [
      "Input : 366688\n"
     ]
    }
   ],
   "source": [
    "temp_df_process_3=sales_report_kmpg_july.filter(sales_report_kmpg_july['Transaction Type'] != 'Credit Memo')\n",
    "print(\"Input :\", temp_df_process_3.count())"
   ]
  },
  {
   "cell_type": "code",
   "execution_count": 46,
   "id": "7f13995b",
   "metadata": {},
   "outputs": [
    {
     "data": {
      "text/plain": [
       "16"
      ]
     },
     "execution_count": 46,
     "metadata": {},
     "output_type": "execute_result"
    }
   ],
   "source": [
    "len(temp_df_process_3.columns)"
   ]
  },
  {
   "cell_type": "code",
   "execution_count": 47,
   "id": "c3937d12",
   "metadata": {},
   "outputs": [],
   "source": [
    "temp_df_process_3 = temp_df_process_3.withColumn('Customer', upper(trim(col('Customer'))))"
   ]
  },
  {
   "cell_type": "code",
   "execution_count": 48,
   "id": "12be1452",
   "metadata": {},
   "outputs": [
    {
     "data": {
      "text/plain": [
       "366688"
      ]
     },
     "execution_count": 48,
     "metadata": {},
     "output_type": "execute_result"
    }
   ],
   "source": [
    "temp_df_process_3.select('Customer').count()"
   ]
  },
  {
   "cell_type": "code",
   "execution_count": 49,
   "id": "2c4a2dfe",
   "metadata": {},
   "outputs": [
    {
     "data": {
      "text/plain": [
       "DataFrame[Transaction Type: string]"
      ]
     },
     "execution_count": 49,
     "metadata": {},
     "output_type": "execute_result"
    }
   ],
   "source": [
    "temp_df_process_3.filter(col('Transaction Type').like('% %')).select('Transaction Type')"
   ]
  },
  {
   "cell_type": "code",
   "execution_count": 50,
   "id": "b6c3cc3f",
   "metadata": {},
   "outputs": [],
   "source": [
    "temp_df_process_3 = temp_df_process_3.withColumn(\"FileName\", lit(\"saleReprtKmpg_july\"))"
   ]
  },
  {
   "cell_type": "code",
   "execution_count": 51,
   "id": "1a7419af",
   "metadata": {},
   "outputs": [
    {
     "data": {
      "text/plain": [
       "366688"
      ]
     },
     "execution_count": 51,
     "metadata": {},
     "output_type": "execute_result"
    }
   ],
   "source": [
    "temp_df_process_3.count()"
   ]
  },
  {
   "cell_type": "code",
   "execution_count": 52,
   "id": "89ca054f",
   "metadata": {},
   "outputs": [
    {
     "data": {
      "text/plain": [
       "17"
      ]
     },
     "execution_count": 52,
     "metadata": {},
     "output_type": "execute_result"
    }
   ],
   "source": [
    "len(temp_df_process_3.columns)"
   ]
  },
  {
   "cell_type": "code",
   "execution_count": 53,
   "id": "ac49ca01",
   "metadata": {},
   "outputs": [
    {
     "data": {
      "text/plain": [
       "['Transaction ID',\n",
       " 'Document Number',\n",
       " 'Transaction Type',\n",
       " 'Project ID',\n",
       " 'Customer',\n",
       " 'Terms',\n",
       " 'Currency',\n",
       " 'Gross Amount',\n",
       " 'Payment',\n",
       " 'Open Balance',\n",
       " 'Transaction Create Date',\n",
       " 'Document Date',\n",
       " 'Due Date',\n",
       " 'Days Open',\n",
       " 'Service Dates',\n",
       " 'Payment Receipt Date',\n",
       " 'FileName']"
      ]
     },
     "execution_count": 53,
     "metadata": {},
     "output_type": "execute_result"
    }
   ],
   "source": [
    "temp_df_process_3.columns"
   ]
  },
  {
   "cell_type": "markdown",
   "id": "68f8f098",
   "metadata": {},
   "source": [
    "# customer_payment_history \n",
    "customer_payment_history =customer_payment_history.withColumn('Date', date_format(to_date(customer_payment_history['Date'],'M/d/yyyy'),'yyyy-MM-dd' ))"
   ]
  },
  {
   "cell_type": "code",
   "execution_count": 54,
   "id": "3bfbb90e",
   "metadata": {},
   "outputs": [],
   "source": [
    "# customer_payment_history.filter(col(\"payment Date\").isNull()).count()\n",
    "# customer_payment_history.filter(col(\"Payment Date\").rlike(r\"^\\d{1,2}/\\d{1,2}/\\d{4}$\")).count()\n",
    "# customer_payment_history.filter(col('Payment Date').like('%1/1/1900%')).select('Payment Date').show()\n",
    "# customer_payment_history =customer_payment_history.withColumn('Date', to_date(customer_payment_history['Date'],'M/d/yyyy'))\n",
    "# customer_payment_history =customer_payment_history.withColumn('Date', date_format(to_date(customer_payment_history['Date'],'M/d/yyyy'),'yyyy-MM-dd' ))\n",
    "# customer_payment_history =customer_payment_history.withColumn('Date', date_format(customer_payment_history['Date'], 'MM/dd/yyyy'))\n",
    "# customer_payment_history =customer_payment_history.withColumn('Date', to_date(customer_payment_history['Date'],'yyyy-MM-dd' ))\n",
    "# customer_payment_history = customer_payment_history.fillna('1/1/1900',subset=['Payment Date'])\n",
    "# customer_payment_history =customer_payment_history.withColumn('Payment Date', to_date(date_format(customer_payment_history['Payment Date'],'yyyy-MM-dd'),'M/d/yyyy' ))\n",
    "# customer_payment_history = customer_payment_history.withColumn('Document Number', upper(trim(col('Document Number'))))"
   ]
  },
  {
   "cell_type": "code",
   "execution_count": 55,
   "id": "64258882",
   "metadata": {},
   "outputs": [],
   "source": [
    "customer_payment_history = spark.read.options(inferSchema='True').csv('csv_converted\\Customer_Payment_history_july.csv', header=True, inferSchema=True, sep=',')"
   ]
  },
  {
   "cell_type": "code",
   "execution_count": 56,
   "id": "166558d2",
   "metadata": {},
   "outputs": [
    {
     "data": {
      "text/plain": [
       "47"
      ]
     },
     "execution_count": 56,
     "metadata": {},
     "output_type": "execute_result"
    }
   ],
   "source": [
    "len(customer_payment_history.columns)"
   ]
  },
  {
   "cell_type": "code",
   "execution_count": 57,
   "id": "0b77d7f1",
   "metadata": {},
   "outputs": [],
   "source": [
    "customer_payment_history=customer_payment_history.withColumnRenamed('Currency0','Currency')\n",
    "customer_payment_history=customer_payment_history.withColumnRenamed('Currency24','Currency2')\n",
    "customer_payment_history=customer_payment_history.withColumnRenamed('Approved for Email10','Approved for Email')\n",
    "customer_payment_history=customer_payment_history.withColumnRenamed('Approved for Email44','Approved for Email')"
   ]
  },
  {
   "cell_type": "code",
   "execution_count": 58,
   "id": "5842a948",
   "metadata": {},
   "outputs": [],
   "source": [
    "customer_payment_history =customer_payment_history.withColumn('Date', to_date(customer_payment_history['Date'],'M/d/yyyy'))"
   ]
  },
  {
   "cell_type": "code",
   "execution_count": 59,
   "id": "50ed2fd6",
   "metadata": {},
   "outputs": [],
   "source": [
    "customer_payment_history =customer_payment_history.withColumn('Payment Date', to_date(customer_payment_history['Payment Date'],'M/d/yyyy'))"
   ]
  },
  {
   "cell_type": "code",
   "execution_count": 60,
   "id": "8497bd18",
   "metadata": {},
   "outputs": [],
   "source": [
    "customer_payment_history= customer_payment_history.withColumnRenamed(\"Payment Date\", \"Payment Date2\")"
   ]
  },
  {
   "cell_type": "code",
   "execution_count": 61,
   "id": "cfcf3143",
   "metadata": {},
   "outputs": [],
   "source": [
    "customer_payment_history= customer_payment_history.withColumn(\"Payment Date\", customer_payment_history[\"Date\"])"
   ]
  },
  {
   "cell_type": "code",
   "execution_count": 62,
   "id": "dfa8e042",
   "metadata": {},
   "outputs": [
    {
     "data": {
      "text/plain": [
       "315676"
      ]
     },
     "execution_count": 62,
     "metadata": {},
     "output_type": "execute_result"
    }
   ],
   "source": [
    "customer_payment_history.filter((customer_payment_history['Payment Date'] >= \"2018-10-01\") & (customer_payment_history['Payment Date'] <= \"2023-07-31\")).count()"
   ]
  },
  {
   "cell_type": "code",
   "execution_count": 63,
   "id": "b6b95960",
   "metadata": {},
   "outputs": [
    {
     "data": {
      "text/plain": [
       "48"
      ]
     },
     "execution_count": 63,
     "metadata": {},
     "output_type": "execute_result"
    }
   ],
   "source": [
    "len(customer_payment_history.columns)"
   ]
  },
  {
   "cell_type": "code",
   "execution_count": 64,
   "id": "072fb2c7",
   "metadata": {},
   "outputs": [],
   "source": [
    "# customer_payment_history.dtypes"
   ]
  },
  {
   "cell_type": "markdown",
   "id": "26a23d9e",
   "metadata": {},
   "source": [
    "# Inner join output of 2 and  customer_payment_history"
   ]
  },
  {
   "cell_type": "code",
   "execution_count": 65,
   "id": "8d2485bc",
   "metadata": {},
   "outputs": [
    {
     "data": {
      "text/plain": [
       "[('Transaction ID', 'string'),\n",
       " ('Document Number', 'string'),\n",
       " ('Transaction Type', 'string'),\n",
       " ('Project ID', 'string'),\n",
       " ('Customer', 'string'),\n",
       " ('Terms', 'string'),\n",
       " ('Currency', 'string'),\n",
       " ('Gross Amount', 'string'),\n",
       " ('Payment', 'string'),\n",
       " ('Open Balance', 'string'),\n",
       " ('Transaction Create Date', 'string'),\n",
       " ('Document Date', 'string'),\n",
       " ('Due Date', 'string'),\n",
       " ('Days Open', 'string'),\n",
       " ('Service Dates', 'string'),\n",
       " ('Payment Receipt Date', 'string'),\n",
       " ('FileName', 'string')]"
      ]
     },
     "execution_count": 65,
     "metadata": {},
     "output_type": "execute_result"
    }
   ],
   "source": [
    "temp_df_process_3.dtypes"
   ]
  },
  {
   "cell_type": "code",
   "execution_count": 66,
   "id": "c368e5c7",
   "metadata": {},
   "outputs": [
    {
     "name": "stdout",
     "output_type": "stream",
     "text": [
      "17 48\n"
     ]
    }
   ],
   "source": [
    "print(len(temp_df_process_3.columns), len(customer_payment_history.columns))"
   ]
  },
  {
   "cell_type": "code",
   "execution_count": 67,
   "id": "fa26c7d4",
   "metadata": {},
   "outputs": [],
   "source": [
    "df_temp_1 =  customer_payment_history.withColumnRenamed(\"Currency\",\"temp\")\n",
    "df_temp_1 = df_temp_1.withColumnRenamed(\"Approved for Email\",\"temp2\")\n",
    "joined_df_2_payment_history = temp_df_process_3.join(df_temp_1, on='Document Number', how='inner')"
   ]
  },
  {
   "cell_type": "code",
   "execution_count": 68,
   "id": "27570d94",
   "metadata": {},
   "outputs": [],
   "source": [
    "joined_df_2_payment_history = joined_df_2_payment_history.withColumn(\"Outstanding\", lit(\"Cleared\"))"
   ]
  },
  {
   "cell_type": "code",
   "execution_count": 69,
   "id": "ba88e873",
   "metadata": {},
   "outputs": [
    {
     "data": {
      "text/plain": [
       "65"
      ]
     },
     "execution_count": 69,
     "metadata": {},
     "output_type": "execute_result"
    }
   ],
   "source": [
    "len(joined_df_2_payment_history.columns)"
   ]
  },
  {
   "cell_type": "code",
   "execution_count": 70,
   "id": "4616f514",
   "metadata": {},
   "outputs": [],
   "source": [
    "# joined_df_2_payment_history.select(\"Open Balance\").tail(10)"
   ]
  },
  {
   "cell_type": "code",
   "execution_count": 71,
   "id": "46df7b8d",
   "metadata": {},
   "outputs": [],
   "source": [
    "# temp= dict()\n",
    "# for i in customer_payment_history.columns:\n",
    "#     if i not in temp:\n",
    "#         temp[i]=1\n",
    "#     else:\n",
    "#         temp[i]+=1"
   ]
  },
  {
   "cell_type": "code",
   "execution_count": 72,
   "id": "e89df706",
   "metadata": {},
   "outputs": [],
   "source": [
    "# for i in temp:\n",
    "#     if temp[i]>=2:\n",
    "#         print(i , temp[i])"
   ]
  },
  {
   "cell_type": "markdown",
   "id": "5b5931ff",
   "metadata": {},
   "source": [
    "# Union"
   ]
  },
  {
   "cell_type": "code",
   "execution_count": 73,
   "id": "a93755d9",
   "metadata": {},
   "outputs": [],
   "source": [
    "temp_df_copy = temp_df.select(\"*\")\n",
    "joined_df_2_payment_history_copy = joined_df_2_payment_history.select(\"*\")\n",
    "process_df_result_copy = process_df_result.select(\"*\")\n"
   ]
  },
  {
   "cell_type": "code",
   "execution_count": 74,
   "id": "1ee2e4ea",
   "metadata": {},
   "outputs": [
    {
     "name": "stdout",
     "output_type": "stream",
     "text": [
      "Rows :  14286 315678 3948\n",
      "columns :  18 65 19\n",
      "columns :  18 65 19\n"
     ]
    }
   ],
   "source": [
    "print(\"Rows : \",process_df_result.count(),joined_df_2_payment_history.count(), temp_df_copy.count())\n",
    "print(\"columns : \",len(process_df_result_copy.columns), len(joined_df_2_payment_history_copy.columns),len(temp_df_copy.columns))\n",
    "print(\"columns : \",len(process_df_result.columns), len(joined_df_2_payment_history.columns),len(temp_df.columns))"
   ]
  },
  {
   "cell_type": "code",
   "execution_count": 75,
   "id": "3b97e6d3",
   "metadata": {},
   "outputs": [
    {
     "name": "stdout",
     "output_type": "stream",
     "text": [
      "65\n"
     ]
    }
   ],
   "source": [
    "column_names=set()\n",
    "for df in [temp_df, joined_df_2_payment_history,process_df_result]:\n",
    "    for column in df.columns:\n",
    "        column_names.add(column)\n",
    "column_names = list(column_names)\n",
    "print(len(column_names))"
   ]
  },
  {
   "cell_type": "code",
   "execution_count": 76,
   "id": "e8a675f3",
   "metadata": {},
   "outputs": [
    {
     "name": "stdout",
     "output_type": "stream",
     "text": [
      "19-->65\n"
     ]
    }
   ],
   "source": [
    "print(len(temp_df_copy.columns), end= \"-->\")\n",
    "for column in column_names:\n",
    "    if column not in temp_df_copy.columns:\n",
    "#         print(column)\n",
    "        temp_df_copy = temp_df_copy.withColumn(column,lit(None).cast(\"string\"))\n",
    "print(len(temp_df_copy.columns))"
   ]
  },
  {
   "cell_type": "code",
   "execution_count": 77,
   "id": "e37f9b78",
   "metadata": {},
   "outputs": [
    {
     "name": "stdout",
     "output_type": "stream",
     "text": [
      "65-->65\n"
     ]
    }
   ],
   "source": [
    "print(len(joined_df_2_payment_history_copy.columns), end= \"-->\")\n",
    "for column in column_names:\n",
    "    if column not in joined_df_2_payment_history_copy.columns:\n",
    "        print(column)\n",
    "        joined_df_2_payment_history_copy = joined_df_2_payment_history_copy.withColumn(column,lit(None).cast(\"string\"))\n",
    "print(len(joined_df_2_payment_history_copy.columns))"
   ]
  },
  {
   "cell_type": "code",
   "execution_count": 78,
   "id": "6d5d1938",
   "metadata": {},
   "outputs": [
    {
     "name": "stdout",
     "output_type": "stream",
     "text": [
      "18-->65\n"
     ]
    }
   ],
   "source": [
    "print(len(process_df_result_copy.columns), end= \"-->\")\n",
    "for column in column_names:\n",
    "    if column not in process_df_result_copy.columns:\n",
    "#         print(column)\n",
    "        process_df_result_copy = process_df_result_copy.withColumn(column,lit(None).cast(\"string\"))\n",
    "print(len(process_df_result_copy.columns))"
   ]
  },
  {
   "cell_type": "code",
   "execution_count": 79,
   "id": "f9559c43",
   "metadata": {},
   "outputs": [],
   "source": [
    "# process_df_result_copy.select(\"Open Balance\").show()"
   ]
  },
  {
   "cell_type": "code",
   "execution_count": 80,
   "id": "c8ad60d9",
   "metadata": {},
   "outputs": [],
   "source": [
    "union_df = temp_df_copy.unionByName(joined_df_2_payment_history_copy).unionByName(process_df_result_copy)"
   ]
  },
  {
   "cell_type": "code",
   "execution_count": 81,
   "id": "55fb63a2",
   "metadata": {},
   "outputs": [
    {
     "name": "stdout",
     "output_type": "stream",
     "text": [
      "333912 65\n"
     ]
    }
   ],
   "source": [
    "process_df_result_copy.select(\"Open Balance\").tail(10)\n",
    "# union_df.select(\"Open Balance\").tail(10)\n",
    "print(union_df.count(), len(union_df.columns))"
   ]
  },
  {
   "cell_type": "code",
   "execution_count": 82,
   "id": "7deaa732",
   "metadata": {},
   "outputs": [
    {
     "data": {
      "text/plain": [
       "43992937.400000066"
      ]
     },
     "execution_count": 82,
     "metadata": {},
     "output_type": "execute_result"
    }
   ],
   "source": [
    "union_df.select(sum(col('Open Balance'))).collect()[0][0]"
   ]
  },
  {
   "cell_type": "markdown",
   "id": "15bd3018",
   "metadata": {},
   "source": [
    "## Adding column Billing Cycle2\n"
   ]
  },
  {
   "cell_type": "code",
   "execution_count": 83,
   "id": "e6b7cbd2",
   "metadata": {},
   "outputs": [
    {
     "name": "stdout",
     "output_type": "stream",
     "text": [
      "333912 66\n"
     ]
    }
   ],
   "source": [
    "contract_terms_df=spark.read.options(inferSchema='True').csv('csv_converted\\Contract Terms per Client (1).csv', header=True, inferSchema=True, sep=',')\n",
    "contract_terms_df= contract_terms_df.withColumnRenamed(\"Name\",\"Customer\")\n",
    "contract_terms_df = contract_terms_df.select([\"Customer\",\"Billing Cycle\"])\n",
    "contract_terms_df = contract_terms_df.withColumnRenamed(\"Billing Cycle\",\"Billing Cycle2\")\n",
    "df_block1 = union_df.join(contract_terms_df,on='Customer', how='leftouter')\n",
    "print(df_block1.count(),len(df_block1.columns))"
   ]
  },
  {
   "cell_type": "markdown",
   "id": "2f63576d",
   "metadata": {},
   "source": [
    "# Adding Column region2"
   ]
  },
  {
   "cell_type": "code",
   "execution_count": 84,
   "id": "f2457c9d",
   "metadata": {},
   "outputs": [],
   "source": [
    "# see dub rows\n",
    "# df_grou = region_df.groupby(*region_df.columns).count()\n",
    "# dup = df_grou.filter(col(\"count\")>1)\n",
    "# dup.show()"
   ]
  },
  {
   "cell_type": "code",
   "execution_count": 110,
   "id": "b91b0587",
   "metadata": {
    "scrolled": true
   },
   "outputs": [
    {
     "name": "stdout",
     "output_type": "stream",
     "text": [
      "+--------+-------+-----+\n",
      "|    Name|region2|count|\n",
      "+--------+-------+-----+\n",
      "|PEACEHEA|   null|    2|\n",
      "|EMCARENO|   null|    2|\n",
      "+--------+-------+-----+\n",
      "\n",
      "None\n"
     ]
    }
   ],
   "source": [
    "\"D:\\Bluethink\\alytrx project\\csv_converted\\Region (2).csv\"\n",
    "region_df=spark.read.options(inferSchema='True').csv('csv_converted\\Region (2).csv', header=True, inferSchema=True, sep=',')\n",
    "region_df = region_df.select([\"Name\",\"region\"])\n",
    "# region_df = region_df.withColumnRenamed(\"Internal ID0\",\"Internal ID\")\n",
    "region_df = region_df.withColumn('Name',upper(trim(col('Name'))))\n",
    "# region_df = region_df.withColumnRenamed(\"Name\",\"Customer\")\n",
    "region_df = region_df.withColumnRenamed(\"region\",\"region2\")\n",
    "region_df = remove_dup_rows(region_df)"
   ]
  },
  {
   "cell_type": "code",
   "execution_count": 134,
   "id": "10a15555",
   "metadata": {},
   "outputs": [
    {
     "name": "stdout",
     "output_type": "stream",
     "text": [
      "+--------------------+------------+\n",
      "|                Name|     region2|\n",
      "+--------------------+------------+\n",
      "|ALTEON : BON SECO...|Mid-Atlantic|\n",
      "|APCC : ANESTHESIA...|   Southeast|\n",
      "|APP : NEWPORT MED...|   Southeast|\n",
      "|BANMG : BMG WR - ...|        West|\n",
      "|                 BFS|   Northeast|\n",
      "|BSW : BELLMEAD-DR...|Mid-Atlantic|\n",
      "|CHOA : CENTER FOR...|   Southeast|\n",
      "|CHOP : VIRTUA MEM...|   Northeast|\n",
      "|CHS PENNSYLVANIA ...|   Northeast|\n",
      "|                 COA|   Southeast|\n",
      "|COSLL : CAPITAL O...|Mid-Atlantic|\n",
      "|                  CU|Mid-Atlantic|\n",
      "|DOWN EAST COMMUNI...|        null|\n",
      "|EC : TERRE HAUTE ...|     Midwest|\n",
      "|EC : VALLEY HEALT...|        West|\n",
      "|ERSC : EL RIO TEL...|        West|\n",
      "|FHS : OAKDALE - F...|     Midwest|\n",
      "|GOT : GAME OF THR...|        West|\n",
      "|               GWMFA|Mid-Atlantic|\n",
      "|HHMG : HOSPITAL O...|   Northeast|\n",
      "+--------------------+------------+\n",
      "only showing top 20 rows\n",
      "\n"
     ]
    }
   ],
   "source": [
    "region_df.show()"
   ]
  },
  {
   "cell_type": "code",
   "execution_count": 111,
   "id": "7da3736a",
   "metadata": {},
   "outputs": [
    {
     "ename": "NameError",
     "evalue": "name 'region' is not defined",
     "output_type": "error",
     "traceback": [
      "\u001b[1;31m---------------------------------------------------------------------------\u001b[0m",
      "\u001b[1;31mNameError\u001b[0m                                 Traceback (most recent call last)",
      "Cell \u001b[1;32mIn[111], line 1\u001b[0m\n\u001b[1;32m----> 1\u001b[0m region\n",
      "\u001b[1;31mNameError\u001b[0m: name 'region' is not defined"
     ]
    }
   ],
   "source": [
    "region"
   ]
  },
  {
   "cell_type": "code",
   "execution_count": 112,
   "id": "5298cec8",
   "metadata": {},
   "outputs": [
    {
     "ename": "TypeError",
     "evalue": "DataFrame.join() missing 1 required positional argument: 'other'",
     "output_type": "error",
     "traceback": [
      "\u001b[1;31m---------------------------------------------------------------------------\u001b[0m",
      "\u001b[1;31mTypeError\u001b[0m                                 Traceback (most recent call last)",
      "Cell \u001b[1;32mIn[112], line 1\u001b[0m\n\u001b[1;32m----> 1\u001b[0m df_block1\u001b[38;5;241m.\u001b[39mjoin()\n",
      "\u001b[1;31mTypeError\u001b[0m: DataFrame.join() missing 1 required positional argument: 'other'"
     ]
    }
   ],
   "source": [
    "df_block1.join()"
   ]
  },
  {
   "cell_type": "code",
   "execution_count": 113,
   "id": "1bd379c2",
   "metadata": {},
   "outputs": [],
   "source": [
    "from pyspark.sql.functions import sequence as Seq"
   ]
  },
  {
   "cell_type": "code",
   "execution_count": 114,
   "id": "cb324b05",
   "metadata": {},
   "outputs": [
    {
     "data": {
      "text/plain": [
       "1050"
      ]
     },
     "execution_count": 114,
     "metadata": {},
     "output_type": "execute_result"
    }
   ],
   "source": [
    "region_df.join(region_df,on= \"region2\", how= \"left_anti\").count()"
   ]
  },
  {
   "cell_type": "code",
   "execution_count": 122,
   "id": "200ada26",
   "metadata": {},
   "outputs": [],
   "source": [
    "c=df_block1.join(region_df, df_block1[\"Customer\"]==region_df[\"Name\"], how=\"left\").drop(\"Name\")"
   ]
  },
  {
   "cell_type": "code",
   "execution_count": 125,
   "id": "0b04f449",
   "metadata": {},
   "outputs": [],
   "source": [
    "# c.columns"
   ]
  },
  {
   "cell_type": "code",
   "execution_count": 126,
   "id": "aa23b581",
   "metadata": {},
   "outputs": [],
   "source": [
    "d= c.drop(\"region2\")"
   ]
  },
  {
   "cell_type": "code",
   "execution_count": 129,
   "id": "5a35c1b8",
   "metadata": {},
   "outputs": [],
   "source": [
    "unique_rows_df = c.subtract(df_block1)"
   ]
  },
  {
   "cell_type": "code",
   "execution_count": 130,
   "id": "2542a3d1",
   "metadata": {},
   "outputs": [
    {
     "data": {
      "text/plain": [
       "324250"
      ]
     },
     "execution_count": 130,
     "metadata": {},
     "output_type": "execute_result"
    }
   ],
   "source": [
    "unique_rows_df.count()"
   ]
  },
  {
   "cell_type": "code",
   "execution_count": 124,
   "id": "e15cd4dd",
   "metadata": {},
   "outputs": [
    {
     "data": {
      "text/plain": [
       "66"
      ]
     },
     "execution_count": 124,
     "metadata": {},
     "output_type": "execute_result"
    }
   ],
   "source": [
    "len(c.columns)"
   ]
  },
  {
   "cell_type": "code",
   "execution_count": 102,
   "id": "595ae49a",
   "metadata": {},
   "outputs": [
    {
     "data": {
      "text/plain": [
       "1"
      ]
     },
     "execution_count": 102,
     "metadata": {},
     "output_type": "execute_result"
    }
   ],
   "source": [
    "c.filter(c[\"Customer\"].isNull()).count()"
   ]
  },
  {
   "cell_type": "code",
   "execution_count": 105,
   "id": "dbf8f048",
   "metadata": {},
   "outputs": [
    {
     "name": "stdout",
     "output_type": "stream",
     "text": [
      "0 Customer : 1\n",
      "1 Transaction ID : 1\n",
      "2 Document Number : 1\n",
      "3 Transaction Type : 1\n",
      "4 Project ID : 1\n",
      "5 Terms : 1\n",
      "6 Currency : 1\n",
      "7 Gross Amount : 1\n",
      "8 Payment : 1\n",
      "9 Open Balance : 1\n",
      "10 Transaction Create Date : 1\n",
      "11 Document Date : 1\n",
      "12 Due Date : 1\n",
      "13 Days Open : 1\n",
      "14 Service Dates : 1\n",
      "15 Payment Receipt Date : 1\n",
      "16 Outstanding : 1\n",
      "17 Applying Link Amount : 1\n",
      "18 FileName : 1\n",
      "19 Detailed Invoice : 1\n",
      "20 Invoice to Time Action Queue : 1\n",
      "21 SA Entity : 1\n",
      "22 Custom Form : 1\n",
      "23 Processed Rules : 1\n",
      "24 Type : 1\n",
      "25 Scribe Period Display on Printout : 1\n",
      "26 Pipeline : 1\n",
      "27 Status : 1\n",
      "28 Currency2 : 1\n",
      "29 FACILITY NAME : 1\n",
      "30 Revised Invoice : 1\n",
      "31 Approved for Email2 : 1\n",
      "32 Applying Transaction : 1\n",
      "33 Internal ID : 1\n",
      "34 Billing Cycle : 1\n",
      "35 Transaction Number : 1\n",
      "36 Actual End Date : 1\n",
      "37 City : 1\n",
      "38 Email Sent : 1\n",
      "39 Print : 1\n",
      "40 Applying Link Amount (Foreign Currency) : 1\n",
      "41 On Hold Reason : 1\n",
      "42 Applying Link Type : 1\n",
      "43 Implementation Status : 1\n",
      "44 temp : 1\n",
      "45 Name : 1\n",
      "46 Period : 1\n",
      "47 Amount (Foreign Currency) : 1\n",
      "48 Account : 1\n",
      "49 temp2 : 1\n",
      "50 Payment Date2 : 1\n",
      "51 Amount : 1\n",
      "52 Posting : 1\n",
      "53 JE Convert : 1\n",
      "54 Payment Date : 1\n",
      "55 Memo : 1\n",
      "56 PO/Check Number : 1\n",
      "57 Date Deposited/Refunded : 1\n",
      "58 State : 1\n",
      "59 Pre-EVP Approval Opp : 1\n",
      "60 Tracking Numbers : 1\n",
      "61 Date : 1\n",
      "62 Contract Signature Date : 1\n",
      "63 Region : 1\n",
      "64 Payroll Batch : 1\n",
      "65 Billing Cycle2 : 1\n",
      "66 region2 : 1\n"
     ]
    }
   ],
   "source": [
    "for i, column in enumerate(c.columns):\n",
    "    print(i, column, \":\", c.filter(c[\"Customer\"].count())"
   ]
  },
  {
   "cell_type": "code",
   "execution_count": 89,
   "id": "11a23ef5",
   "metadata": {},
   "outputs": [
    {
     "ename": "TypeError",
     "evalue": "bad operand type for unary ~: 'DataFrame'",
     "output_type": "error",
     "traceback": [
      "\u001b[1;31m---------------------------------------------------------------------------\u001b[0m",
      "\u001b[1;31mTypeError\u001b[0m                                 Traceback (most recent call last)",
      "Cell \u001b[1;32mIn[89], line 1\u001b[0m\n\u001b[1;32m----> 1\u001b[0m region_df\u001b[38;5;241m.\u001b[39mfilter(\u001b[38;5;241m~\u001b[39mregion_df\u001b[38;5;241m.\u001b[39mdistinct())\n",
      "\u001b[1;31mTypeError\u001b[0m: bad operand type for unary ~: 'DataFrame'"
     ]
    }
   ],
   "source": [
    "region_df.filter(~region_df.distinct())"
   ]
  },
  {
   "cell_type": "code",
   "execution_count": null,
   "id": "1c07d8d0",
   "metadata": {},
   "outputs": [],
   "source": [
    "c.distinct().count()"
   ]
  },
  {
   "cell_type": "code",
   "execution_count": null,
   "id": "a60cc8e8",
   "metadata": {},
   "outputs": [],
   "source": [
    "c.count()"
   ]
  },
  {
   "cell_type": "code",
   "execution_count": null,
   "id": "e9096695",
   "metadata": {},
   "outputs": [],
   "source": [
    "a.select(\"Customer\", coalesce(\"Region2\"))"
   ]
  },
  {
   "cell_type": "code",
   "execution_count": null,
   "id": "288019d7",
   "metadata": {},
   "outputs": [],
   "source": []
  },
  {
   "cell_type": "code",
   "execution_count": null,
   "id": "4ced1606",
   "metadata": {},
   "outputs": [],
   "source": [
    "print(region_df.count(), df_block1.count())"
   ]
  },
  {
   "cell_type": "code",
   "execution_count": null,
   "id": "08077fab",
   "metadata": {},
   "outputs": [],
   "source": [
    "# df_block1.columns"
   ]
  },
  {
   "cell_type": "code",
   "execution_count": null,
   "id": "efe59995",
   "metadata": {
    "scrolled": true
   },
   "outputs": [],
   "source": [
    "a=df_block1.join(region_df, on=\"Customer\", how=\"left\")"
   ]
  },
  {
   "cell_type": "code",
   "execution_count": null,
   "id": "9415d177",
   "metadata": {},
   "outputs": [],
   "source": [
    "a.count()"
   ]
  },
  {
   "cell_type": "code",
   "execution_count": null,
   "id": "a6e30d21",
   "metadata": {},
   "outputs": [],
   "source": [
    "b=a.join(region_df, on=\"customer\", how=\"leftanti\")"
   ]
  },
  {
   "cell_type": "code",
   "execution_count": null,
   "id": "c4bff53b",
   "metadata": {},
   "outputs": [],
   "source": [
    "b.count()"
   ]
  },
  {
   "cell_type": "code",
   "execution_count": null,
   "id": "99b779cc",
   "metadata": {},
   "outputs": [],
   "source": [
    "b.show()"
   ]
  },
  {
   "cell_type": "code",
   "execution_count": null,
   "id": "4df22789",
   "metadata": {},
   "outputs": [],
   "source": [
    "a.join()"
   ]
  },
  {
   "cell_type": "code",
   "execution_count": null,
   "id": "0c4329d6",
   "metadata": {},
   "outputs": [],
   "source": [
    "a.exceptAll(a.).count()"
   ]
  },
  {
   "cell_type": "code",
   "execution_count": null,
   "id": "93f543bf",
   "metadata": {},
   "outputs": [],
   "source": [
    "len(a.columns)"
   ]
  },
  {
   "cell_type": "code",
   "execution_count": null,
   "id": "4cbc6ab4",
   "metadata": {},
   "outputs": [],
   "source": [
    "region_df.show()"
   ]
  },
  {
   "cell_type": "code",
   "execution_count": null,
   "id": "5c89ddb1",
   "metadata": {},
   "outputs": [],
   "source": [
    "len(df_block1.columns)"
   ]
  },
  {
   "cell_type": "code",
   "execution_count": null,
   "id": "484eeef4",
   "metadata": {},
   "outputs": [],
   "source": [
    "region_df.select(\"Name\").show()"
   ]
  },
  {
   "cell_type": "code",
   "execution_count": null,
   "id": "4c2462fd",
   "metadata": {},
   "outputs": [],
   "source": []
  }
 ],
 "metadata": {
  "kernelspec": {
   "display_name": "Python 3 (ipykernel)",
   "language": "python",
   "name": "python3"
  },
  "language_info": {
   "codemirror_mode": {
    "name": "ipython",
    "version": 3
   },
   "file_extension": ".py",
   "mimetype": "text/x-python",
   "name": "python",
   "nbconvert_exporter": "python",
   "pygments_lexer": "ipython3",
   "version": "3.11.4"
  }
 },
 "nbformat": 4,
 "nbformat_minor": 5
}
