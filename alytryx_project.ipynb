{
 "cells": [
  {
   "cell_type": "markdown",
   "id": "16f32104",
   "metadata": {},
   "source": [
    "## Reading libraries"
   ]
  },
  {
   "cell_type": "code",
   "execution_count": 277,
   "id": "04598003",
   "metadata": {},
   "outputs": [],
   "source": [
    "from pyspark.sql import SparkSession\n",
    "from pyspark.sql.functions import col, trim, regexp_replace, sum, lit, max, min, first,to_timestamp, trim, upper,to_date, date_format, when\n",
    "from pyspark.sql.types import DateType\n",
    "\n",
    "from pyspark.sql.types import IntegerType, FloatType"
   ]
  },
  {
   "cell_type": "code",
   "execution_count": 365,
   "id": "acf9d934",
   "metadata": {},
   "outputs": [],
   "source": [
    "spark = SparkSession.builder.master(\"local[*]\").appName(\"read_csv\").getOrCreate()\n",
    "spark = SparkSession.builder.appName(\"read_csv\").getOrCreate()"
   ]
  },
  {
   "cell_type": "code",
   "execution_count": 366,
   "id": "f5c4c0f6",
   "metadata": {},
   "outputs": [
    {
     "data": {
      "text/html": [
       "\n",
       "            <div>\n",
       "                <p><b>SparkSession - in-memory</b></p>\n",
       "                \n",
       "        <div>\n",
       "            <p><b>SparkContext</b></p>\n",
       "\n",
       "            <p><a href=\"http://LAPTOP-3UT4836R:4040\">Spark UI</a></p>\n",
       "\n",
       "            <dl>\n",
       "              <dt>Version</dt>\n",
       "                <dd><code>v3.4.1</code></dd>\n",
       "              <dt>Master</dt>\n",
       "                <dd><code>local[*]</code></dd>\n",
       "              <dt>AppName</dt>\n",
       "                <dd><code>read_csv</code></dd>\n",
       "            </dl>\n",
       "        </div>\n",
       "        \n",
       "            </div>\n",
       "        "
      ],
      "text/plain": [
       "<pyspark.sql.session.SparkSession at 0x2340dc33750>"
      ]
     },
     "execution_count": 366,
     "metadata": {},
     "output_type": "execute_result"
    }
   ],
   "source": [
    "spark"
   ]
  },
  {
   "cell_type": "markdown",
   "id": "12e90ff3",
   "metadata": {},
   "source": [
    "# helper functions"
   ]
  },
  {
   "cell_type": "code",
   "execution_count": 367,
   "id": "6c957d5a",
   "metadata": {},
   "outputs": [],
   "source": [
    "# show and remove duplicate row\n",
    "def remove_dup_rows(df, show= True):\n",
    "    df_grou = df.groupby(*df.columns).count()\n",
    "    dup = df_grou.filter(col(\"count\")>1)\n",
    "    if show == True:\n",
    "        print(dup.show())\n",
    "#     df = df.drop_duplicates()\n",
    "    return df.drop_duplicates()"
   ]
  },
  {
   "cell_type": "code",
   "execution_count": 368,
   "id": "585c9f22",
   "metadata": {},
   "outputs": [],
   "source": [
    "from pyspark.sql.functions import udf\n",
    "from pyspark.sql.types import DateType\n",
    "from datetime import datetime\n",
    "\n",
    "# Define a UDF to parse the date string\n",
    "@udf(DateType())\n",
    "def parse_date(date_str):\n",
    "    try:\n",
    "        return datetime.strptime(date_str, \"%m/%d/%Y\").date()\n",
    "    except ValueError:\n",
    "        return None  # Handle invalid date strings as needed\n"
   ]
  },
  {
   "cell_type": "code",
   "execution_count": 369,
   "id": "8a913a8d",
   "metadata": {},
   "outputs": [],
   "source": [
    "def change_dtype(dataframe, column_name,change_to):\n",
    "    return dataframe.withColumn(column_name, col(column_name).cast(change_to))"
   ]
  },
  {
   "cell_type": "code",
   "execution_count": 370,
   "id": "443fb098",
   "metadata": {},
   "outputs": [],
   "source": [
    "def remove_illegal_char(dataframe,column_name):\n",
    "    illegal_character = ['Can','\\$',',',\"\\(\",\"\\)\"]\n",
    "    for character in illegal_character:\n",
    "        dataframe = dataframe.withColumn(column_name, regexp_replace(col(column_name), character, ''))\n",
    "#                              .withColumn('Open Balance', regexp_replace(col('Open Balance'), 'Can', ''))\n",
    "    return dataframe"
   ]
  },
  {
   "cell_type": "code",
   "execution_count": 371,
   "id": "850380fd",
   "metadata": {},
   "outputs": [],
   "source": [
    "def trim_col(dataframe, column_name):\n",
    "    try:\n",
    "        return dataframe.withColumn(column_name, trim(col(column_name)))\n",
    "    except Exception as e:\n",
    "        print(e)\n",
    "        return None"
   ]
  },
  {
   "cell_type": "markdown",
   "id": "028e5d4f",
   "metadata": {},
   "source": [
    "## Reading CSV"
   ]
  },
  {
   "cell_type": "code",
   "execution_count": 372,
   "id": "ff12abb5",
   "metadata": {},
   "outputs": [],
   "source": [
    "sales_report_kmpg_july=spark.read.options(inferSchema='True').csv('csv_converted\\saleReprtKmpg_july - SalesReportKPMGAuditResults.csv', header=True, inferSchema=True, sep=',')"
   ]
  },
  {
   "cell_type": "markdown",
   "id": "b7976435",
   "metadata": {},
   "source": [
    "## Cleaning and Transforming"
   ]
  },
  {
   "cell_type": "code",
   "execution_count": null,
   "id": "a86474ef",
   "metadata": {},
   "outputs": [],
   "source": []
  },
  {
   "cell_type": "code",
   "execution_count": 373,
   "id": "0d02629c",
   "metadata": {},
   "outputs": [
    {
     "data": {
      "text/plain": [
       "16"
      ]
     },
     "execution_count": 373,
     "metadata": {},
     "output_type": "execute_result"
    }
   ],
   "source": [
    "len(sales_report_kmpg_july.columns)"
   ]
  },
  {
   "cell_type": "code",
   "execution_count": 374,
   "id": "2c4ed09b",
   "metadata": {},
   "outputs": [
    {
     "data": {
      "text/plain": [
       "['Transaction ID',\n",
       " 'Document Number',\n",
       " 'Transaction Type',\n",
       " 'Project ID',\n",
       " 'Customer',\n",
       " 'Terms',\n",
       " 'Currency',\n",
       " 'Gross Amount',\n",
       " 'Payment',\n",
       " 'Open Balance',\n",
       " 'Transaction Create Date',\n",
       " 'Document Date',\n",
       " 'Due Date',\n",
       " 'Days Open',\n",
       " 'Service Dates',\n",
       " 'Payment Receipt Date']"
      ]
     },
     "execution_count": 374,
     "metadata": {},
     "output_type": "execute_result"
    }
   ],
   "source": [
    "sales_report_kmpg_july.columns"
   ]
  },
  {
   "cell_type": "code",
   "execution_count": 375,
   "id": "415f4c8c",
   "metadata": {},
   "outputs": [],
   "source": [
    "object_columns = ['Transaction ID','Document Number','Transaction Type', 'Project ID','Customer','Terms','Currency']\n",
    "numeric_columns = ['Gross Amount','Payment','Open Balance','Days Open']\n",
    "date_columns = ['Transaction Create Date','Document Date','Due Date','Service Dates','Payment Receipt Date']"
   ]
  },
  {
   "cell_type": "markdown",
   "id": "91e1a7bb",
   "metadata": {},
   "source": [
    "### Trim column"
   ]
  },
  {
   "cell_type": "code",
   "execution_count": 376,
   "id": "c90cc611",
   "metadata": {},
   "outputs": [],
   "source": [
    "# sales_report_kmpg_july.show()"
   ]
  },
  {
   "cell_type": "code",
   "execution_count": 377,
   "id": "a329cdc9",
   "metadata": {},
   "outputs": [],
   "source": [
    "sales_report_kmpg_july = trim_col(sales_report_kmpg_july,column_name='Open Balance')\n",
    "for column in sales_report_kmpg_july.columns:\n",
    "    sales_report_kmpg_july = trim_col(sales_report_kmpg_july,column_name=column)\n",
    "    "
   ]
  },
  {
   "cell_type": "markdown",
   "id": "401cca84",
   "metadata": {},
   "source": [
    "### Remove illegal characters from numeric columns"
   ]
  },
  {
   "cell_type": "code",
   "execution_count": 378,
   "id": "232662ef",
   "metadata": {},
   "outputs": [],
   "source": [
    "# sales_report_kmpg_july = remove_illegal_char(sales_report_kmpg_july,column_name='Open Balance')\n",
    "for column in numeric_columns:\n",
    "#     print(column)\n",
    "    sales_report_kmpg_july = remove_illegal_char(sales_report_kmpg_july,column_name=column)\n",
    "#     print(sales_report_kmpg_july.show(1))\n",
    "    "
   ]
  },
  {
   "cell_type": "markdown",
   "id": "0bf1d675",
   "metadata": {},
   "source": [
    "### Change datatype"
   ]
  },
  {
   "cell_type": "code",
   "execution_count": 379,
   "id": "9aafb1f8",
   "metadata": {},
   "outputs": [],
   "source": [
    "# sales_report_kmpg_july = sales_report_kmpg_july.withColumn('Open Balance', col('Open Balance').cast('float'))\n",
    "# for column in date_columns:\n",
    "#     sales_report_kmpg_july = sales_report_kmpg_july.withColumn(column, col(column).cast(to_timestamp(column)))\n",
    "    "
   ]
  },
  {
   "cell_type": "code",
   "execution_count": 380,
   "id": "97c4add4",
   "metadata": {},
   "outputs": [
    {
     "data": {
      "text/plain": [
       "[('Transaction ID', 'string'),\n",
       " ('Document Number', 'string'),\n",
       " ('Transaction Type', 'string'),\n",
       " ('Project ID', 'string'),\n",
       " ('Customer', 'string'),\n",
       " ('Terms', 'string'),\n",
       " ('Currency', 'string'),\n",
       " ('Gross Amount', 'string'),\n",
       " ('Payment', 'string'),\n",
       " ('Open Balance', 'string'),\n",
       " ('Transaction Create Date', 'string'),\n",
       " ('Document Date', 'string'),\n",
       " ('Due Date', 'string'),\n",
       " ('Days Open', 'string'),\n",
       " ('Service Dates', 'string'),\n",
       " ('Payment Receipt Date', 'string')]"
      ]
     },
     "execution_count": 380,
     "metadata": {},
     "output_type": "execute_result"
    }
   ],
   "source": [
    "sales_report_kmpg_july.dtypes"
   ]
  },
  {
   "cell_type": "code",
   "execution_count": 381,
   "id": "1f68ec58",
   "metadata": {},
   "outputs": [
    {
     "name": "stdout",
     "output_type": "stream",
     "text": [
      "+--------------+---------------+----------------+----------+--------------------+-----+--------+------------+-------+------------+-----------------------+-------------+--------+---------+--------------------+--------------------+\n",
      "|Transaction ID|Document Number|Transaction Type|Project ID|            Customer|Terms|Currency|Gross Amount|Payment|Open Balance|Transaction Create Date|Document Date|Due Date|Days Open|       Service Dates|Payment Receipt Date|\n",
      "+--------------+---------------+----------------+----------+--------------------+-----+--------+------------+-------+------------+-----------------------+-------------+--------+---------+--------------------+--------------------+\n",
      "|       3190973|      CUMC15527|     Credit Memo|   1277343|CUMC : Columbia U...| null|     USA|      145.83| 145.83|        0.00|          7/31/23 11:02|    7/31/2023|    null|        0|07/01/2023 to 07/...|           7/30/2023|\n",
      "+--------------+---------------+----------------+----------+--------------------+-----+--------+------------+-------+------------+-----------------------+-------------+--------+---------+--------------------+--------------------+\n",
      "only showing top 1 row\n",
      "\n"
     ]
    }
   ],
   "source": [
    "sales_report_kmpg_july.show(1)"
   ]
  },
  {
   "cell_type": "markdown",
   "id": "d63924c4",
   "metadata": {},
   "source": [
    "## Operation 1:\n",
    "- 3 lines\n",
    "    - 1. Open Balance != 0----------------------output ---> temp_df , Sum_Open_Balance\n",
    "    - 2. Tranasaction Type  == \"Credit Memo\"----output ----> process_df_result\n",
    "    - 3. Tranasaction Type  != \"Credit Memo\"----output-----> temp_df_process_3"
   ]
  },
  {
   "cell_type": "markdown",
   "id": "221c3bf7",
   "metadata": {},
   "source": [
    "### 1. Open Balance != 0 \n",
    "    - filtering the recored `Open Balance !=0`\n",
    "    - Adding Column `Outstanding = \"Open\"`\n",
    "    - Sum of `Open Balance`"
   ]
  },
  {
   "cell_type": "code",
   "execution_count": 382,
   "id": "81e16cf3",
   "metadata": {},
   "outputs": [
    {
     "data": {
      "text/plain": [
       "3948"
      ]
     },
     "execution_count": 382,
     "metadata": {},
     "output_type": "execute_result"
    }
   ],
   "source": [
    "sales_report_kmpg_july.filter(sales_report_kmpg_july['Open Balance'] != '0.00').count()"
   ]
  },
  {
   "cell_type": "code",
   "execution_count": 383,
   "id": "c36224bb",
   "metadata": {},
   "outputs": [],
   "source": [
    "temp_df = sales_report_kmpg_july.filter(sales_report_kmpg_july['Open Balance'] != '0.00')"
   ]
  },
  {
   "cell_type": "code",
   "execution_count": 384,
   "id": "28192f83",
   "metadata": {},
   "outputs": [
    {
     "name": "stdout",
     "output_type": "stream",
     "text": [
      "type of df <class 'pyspark.sql.dataframe.DataFrame'> no of records 3948\n"
     ]
    }
   ],
   "source": [
    "print(\"type of df\",type(temp_df), \"no of records\",temp_df.count())"
   ]
  },
  {
   "cell_type": "markdown",
   "id": "b3e02bc7",
   "metadata": {},
   "source": [
    "#### adding column Outstanding = open"
   ]
  },
  {
   "cell_type": "code",
   "execution_count": 385,
   "id": "d4027c2b",
   "metadata": {},
   "outputs": [],
   "source": [
    "# df_spark.withColumn('year after 2', df_spark['year']+1000).show() refrence\n",
    "temp_df = temp_df.withColumn('Outstanding', lit('Open'))\n",
    "temp_df = temp_df.withColumn('Applying Link Amount', temp_df[\"Open Balance\"])\n",
    "temp_df = temp_df.withColumn(\"FileName\", lit(\"saleReprtKmpg_july\"))"
   ]
  },
  {
   "cell_type": "code",
   "execution_count": 386,
   "id": "26cd992d",
   "metadata": {},
   "outputs": [],
   "source": [
    "temp_df = change_dtype(temp_df, column_name='Open Balance',change_to=FloatType())"
   ]
  },
  {
   "cell_type": "code",
   "execution_count": 387,
   "id": "1cc43364",
   "metadata": {},
   "outputs": [
    {
     "data": {
      "text/plain": [
       "29295611.528552473"
      ]
     },
     "execution_count": 387,
     "metadata": {},
     "output_type": "execute_result"
    }
   ],
   "source": [
    "Sum_Open_Balance = temp_df.select(sum(col('Open Balance'))).collect()[0][0]\n",
    "Sum_Open_Balance"
   ]
  },
  {
   "cell_type": "code",
   "execution_count": 388,
   "id": "91fed9c3",
   "metadata": {},
   "outputs": [
    {
     "data": {
      "text/plain": [
       "DataFrame[sum(Open Balance): double]"
      ]
     },
     "execution_count": 388,
     "metadata": {},
     "output_type": "execute_result"
    }
   ],
   "source": [
    "sales_report_kmpg_july.filter(sales_report_kmpg_july['Open Balance'] != '0.00').select(sum(col('Open Balance')))"
   ]
  },
  {
   "cell_type": "markdown",
   "id": "3df50ad0",
   "metadata": {},
   "source": [
    "#### Output\n",
    "Sum_Open_Balance, temp_df"
   ]
  },
  {
   "cell_type": "code",
   "execution_count": 389,
   "id": "8ce14727",
   "metadata": {},
   "outputs": [
    {
     "name": "stdout",
     "output_type": "stream",
     "text": [
      "3948 29295611.528552473\n"
     ]
    }
   ],
   "source": [
    "print(temp_df.count(),Sum_Open_Balance)"
   ]
  },
  {
   "cell_type": "code",
   "execution_count": 390,
   "id": "f640b842",
   "metadata": {},
   "outputs": [
    {
     "data": {
      "text/plain": [
       "19"
      ]
     },
     "execution_count": 390,
     "metadata": {},
     "output_type": "execute_result"
    }
   ],
   "source": [
    "len(temp_df.columns)"
   ]
  },
  {
   "cell_type": "markdown",
   "id": "811a885c",
   "metadata": {},
   "source": [
    "### 2. Tranasaction Type  = \"Credit Memo\""
   ]
  },
  {
   "cell_type": "code",
   "execution_count": 391,
   "id": "2ff39a15",
   "metadata": {},
   "outputs": [
    {
     "name": "stdout",
     "output_type": "stream",
     "text": [
      "Input Parameters:  15459\n"
     ]
    }
   ],
   "source": [
    "temp_df_process_2=sales_report_kmpg_july.filter(sales_report_kmpg_july['Transaction Type'] == 'Credit Memo')\n",
    "print(\"Input Parameters: \", temp_df_process_2.count())"
   ]
  },
  {
   "cell_type": "code",
   "execution_count": 392,
   "id": "5be695b3",
   "metadata": {},
   "outputs": [],
   "source": [
    "temp_df_process_2 = temp_df_process_2.withColumn('Gross Amount', col('Gross Amount').cast('float'))\n",
    "temp_df_process_2 = temp_df_process_2.withColumn('Payment', col('Payment').cast('float'))\n",
    "temp_df_process_2 = temp_df_process_2.withColumn('Days Open', col('Days Open').cast('float'))"
   ]
  },
  {
   "cell_type": "code",
   "execution_count": 393,
   "id": "eca77f50",
   "metadata": {},
   "outputs": [],
   "source": [
    "groupby_df_process_2 =temp_df_process_2.groupBy(['Transaction ID',\"Document Number\"])"
   ]
  },
  {
   "cell_type": "code",
   "execution_count": 394,
   "id": "104b74a9",
   "metadata": {},
   "outputs": [
    {
     "data": {
      "text/plain": [
       "[('Transaction ID', 'string'),\n",
       " ('Document Number', 'string'),\n",
       " ('Transaction Type', 'string'),\n",
       " ('Project ID', 'string'),\n",
       " ('Customer', 'string'),\n",
       " ('Terms', 'string'),\n",
       " ('Currency', 'string'),\n",
       " ('Gross Amount', 'float'),\n",
       " ('Payment', 'float'),\n",
       " ('Open Balance', 'string'),\n",
       " ('Transaction Create Date', 'string'),\n",
       " ('Document Date', 'string'),\n",
       " ('Due Date', 'string'),\n",
       " ('Days Open', 'float'),\n",
       " ('Service Dates', 'string'),\n",
       " ('Payment Receipt Date', 'string')]"
      ]
     },
     "execution_count": 394,
     "metadata": {},
     "output_type": "execute_result"
    }
   ],
   "source": [
    "temp_df_process_2.dtypes"
   ]
  },
  {
   "cell_type": "code",
   "execution_count": 395,
   "id": "be9ed241",
   "metadata": {},
   "outputs": [],
   "source": [
    "#     \"Transaction Type\": first(col(\"Transaction Type\")),  # Pick the first occurrence of \"Payment Type\"\n",
    "#     \"Project ID\": max(col(\"Profit\"))  # Calculate the maximum profit\n",
    "#     \"Customer\": first(col(\"Customer\")),\n",
    "#     \"Terms\": first(col(\"Terms\")),\n",
    "#     \"Currency\": first(col(\"Currency\")),\n",
    "#     \"Gross Amount\": min(col(\"Gross Amount\")),\n",
    "#     \"Payment\": max(col(\"Payment\")),\n",
    "#     \"Open Balance\": max(col(\"Open Balance\")),\n",
    "#     \"Transaction Create Date\": max(col(\"Transaction Create Date\")),\n",
    "#     \"Document Date\": max(col(\"Document Date\")),\n",
    "#     \"Due Date\": max(col(\"Due Date\")),\n",
    "#     \"Days Open\": max(col(\"Days Open\")),\n",
    "#     \"Service Dates\": max(col(\"Service Dates\")),\n",
    "#     \"Payment Receipt Date\": col(\"Payment Receipt Date\")"
   ]
  },
  {
   "cell_type": "code",
   "execution_count": 396,
   "id": "51d6ff2b",
   "metadata": {},
   "outputs": [],
   "source": [
    "agg_exprs = {\n",
    "    \"Transaction Type\": 'first',  # Pick the first occurrence of \"Payment Type\"\n",
    "    \"Project ID\": 'first',  # Calculate the maximum profit\n",
    "    \"Customer\": 'first',\n",
    "    \"Terms\": 'first',\n",
    "    \"Currency\": 'first',\n",
    "    \"Gross Amount\": 'min',\n",
    "    \"Payment\": 'max',\n",
    "    \"Open Balance\": 'max',\n",
    "    \"Transaction Create Date\": 'max',\n",
    "    \"Document Date\": 'max',\n",
    "    \"Due Date\": 'max',\n",
    "    \"Days Open\": 'max',\n",
    "    \"Service Dates\": 'max',\n",
    "    \"Payment Receipt Date\": 'first'}\n"
   ]
  },
  {
   "cell_type": "code",
   "execution_count": 397,
   "id": "fd9cf7a1",
   "metadata": {},
   "outputs": [
    {
     "data": {
      "text/plain": [
       "pyspark.sql.column.Column"
      ]
     },
     "execution_count": 397,
     "metadata": {},
     "output_type": "execute_result"
    }
   ],
   "source": [
    "type(first(col(\"Transaction Type\")))"
   ]
  },
  {
   "cell_type": "code",
   "execution_count": 398,
   "id": "39543ae7",
   "metadata": {},
   "outputs": [],
   "source": [
    "# groupby_df_process_2.agg(agg_exprs).count()"
   ]
  },
  {
   "cell_type": "code",
   "execution_count": 399,
   "id": "01058292",
   "metadata": {},
   "outputs": [],
   "source": [
    "process_df_result = groupby_df_process_2.agg(agg_exprs)"
   ]
  },
  {
   "cell_type": "code",
   "execution_count": 400,
   "id": "19a9a275",
   "metadata": {},
   "outputs": [],
   "source": [
    "# column got renamed need to look for other way, there is one commented above but causing some error\n",
    "for column in process_df_result.columns:\n",
    "#     print(column)\n",
    "    new_column = column\n",
    "    remove_list = [\"max\",\"min\",\"(\",\")\",\"first\"]\n",
    "    for char in remove_list:\n",
    "#         print(char)\n",
    "        if char in new_column:\n",
    "            new_column=new_column.replace(char,\"\")\n",
    "    process_df_result=process_df_result.withColumnRenamed(column,new_column)\n",
    "    \n",
    "    "
   ]
  },
  {
   "cell_type": "code",
   "execution_count": 401,
   "id": "0fa8abe2",
   "metadata": {},
   "outputs": [],
   "source": [
    "# process_df_result.columns"
   ]
  },
  {
   "cell_type": "code",
   "execution_count": 402,
   "id": "e83b3d04",
   "metadata": {},
   "outputs": [],
   "source": [
    "process_df_result = process_df_result.withColumn('Outstanding', lit('Cleared'))\n",
    "process_df_result=process_df_result.withColumn('Applying Link Amount', -col(\"Payment\"))"
   ]
  },
  {
   "cell_type": "code",
   "execution_count": 403,
   "id": "72ccf85a",
   "metadata": {},
   "outputs": [
    {
     "name": "stdout",
     "output_type": "stream",
     "text": [
      "+--------------+-----------+--------------------+\n",
      "|Transaction ID|Outstanding|Applying Link Amount|\n",
      "+--------------+-----------+--------------------+\n",
      "|       3191846|    Cleared|              -84.87|\n",
      "|       3196377|    Cleared|              -243.0|\n",
      "|       3152869|    Cleared|            -1394.96|\n",
      "|       3136755|    Cleared|                -0.0|\n",
      "|       3117490|    Cleared|             -111.29|\n",
      "|       3119866|    Cleared|            -1397.43|\n",
      "|       3051990|    Cleared|             -525.98|\n",
      "|       3034098|    Cleared|              -19.48|\n",
      "|       2979232|    Cleared|              -119.6|\n",
      "|       2889570|    Cleared|            -2857.77|\n",
      "|       2840729|    Cleared|             -1000.0|\n",
      "|       3195531|    Cleared|                -0.0|\n",
      "|       3198467|    Cleared|             -446.38|\n",
      "|       3154622|    Cleared|                -0.0|\n",
      "|       3114388|    Cleared|               -0.08|\n",
      "|       3049865|    Cleared|                -0.0|\n",
      "|       3050589|    Cleared|                -0.0|\n",
      "|       3037054|    Cleared|             -185.24|\n",
      "|       3013001|    Cleared|               -0.01|\n",
      "|       2971297|    Cleared|               -0.17|\n",
      "+--------------+-----------+--------------------+\n",
      "only showing top 20 rows\n",
      "\n"
     ]
    }
   ],
   "source": [
    "process_df_result.select([\"Transaction ID\", \"Outstanding\",\"Applying Link Amount\"]).show()"
   ]
  },
  {
   "cell_type": "code",
   "execution_count": 404,
   "id": "d67c1b55",
   "metadata": {},
   "outputs": [
    {
     "name": "stdout",
     "output_type": "stream",
     "text": [
      "Output Result : 14286\n"
     ]
    }
   ],
   "source": [
    "print(\"Output Result :\", process_df_result.count())"
   ]
  },
  {
   "cell_type": "code",
   "execution_count": 405,
   "id": "455969aa",
   "metadata": {},
   "outputs": [
    {
     "data": {
      "text/plain": [
       "18"
      ]
     },
     "execution_count": 405,
     "metadata": {},
     "output_type": "execute_result"
    }
   ],
   "source": [
    "len(process_df_result.columns)"
   ]
  },
  {
   "cell_type": "markdown",
   "id": "d07a9529",
   "metadata": {},
   "source": [
    "### Output : process_df_result"
   ]
  },
  {
   "cell_type": "code",
   "execution_count": null,
   "id": "35c832f5",
   "metadata": {},
   "outputs": [],
   "source": []
  },
  {
   "cell_type": "markdown",
   "id": "8af9b4b0",
   "metadata": {},
   "source": [
    "## 3. Tranasaction Type  != \"Credit Memo\""
   ]
  },
  {
   "cell_type": "code",
   "execution_count": 406,
   "id": "b3b222d4",
   "metadata": {},
   "outputs": [
    {
     "data": {
      "text/plain": [
       "382148"
      ]
     },
     "execution_count": 406,
     "metadata": {},
     "output_type": "execute_result"
    }
   ],
   "source": [
    "sales_report_kmpg_july.count()"
   ]
  },
  {
   "cell_type": "code",
   "execution_count": 407,
   "id": "2e3d60f7",
   "metadata": {},
   "outputs": [
    {
     "name": "stdout",
     "output_type": "stream",
     "text": [
      "+----------------+\n",
      "|Transaction Type|\n",
      "+----------------+\n",
      "|     Credit Memo|\n",
      "|         Invoice|\n",
      "|            null|\n",
      "+----------------+\n",
      "\n"
     ]
    }
   ],
   "source": [
    "sales_report_kmpg_july.select(\"Transaction Type\").distinct().show()"
   ]
  },
  {
   "cell_type": "code",
   "execution_count": 408,
   "id": "8fea6022",
   "metadata": {},
   "outputs": [
    {
     "name": "stdout",
     "output_type": "stream",
     "text": [
      "Input : 366688\n"
     ]
    }
   ],
   "source": [
    "temp_df_process_3=sales_report_kmpg_july.filter(sales_report_kmpg_july['Transaction Type'] != 'Credit Memo')\n",
    "print(\"Input :\", temp_df_process_3.count())"
   ]
  },
  {
   "cell_type": "code",
   "execution_count": 409,
   "id": "7f13995b",
   "metadata": {},
   "outputs": [
    {
     "data": {
      "text/plain": [
       "16"
      ]
     },
     "execution_count": 409,
     "metadata": {},
     "output_type": "execute_result"
    }
   ],
   "source": [
    "len(temp_df_process_3.columns)"
   ]
  },
  {
   "cell_type": "code",
   "execution_count": 410,
   "id": "c3937d12",
   "metadata": {},
   "outputs": [],
   "source": [
    "temp_df_process_3 = temp_df_process_3.withColumn('Customer', upper(trim(col('Customer'))))"
   ]
  },
  {
   "cell_type": "code",
   "execution_count": 411,
   "id": "12be1452",
   "metadata": {},
   "outputs": [
    {
     "data": {
      "text/plain": [
       "366688"
      ]
     },
     "execution_count": 411,
     "metadata": {},
     "output_type": "execute_result"
    }
   ],
   "source": [
    "temp_df_process_3.select('Customer').count()"
   ]
  },
  {
   "cell_type": "code",
   "execution_count": 412,
   "id": "2c4a2dfe",
   "metadata": {},
   "outputs": [
    {
     "data": {
      "text/plain": [
       "DataFrame[Transaction Type: string]"
      ]
     },
     "execution_count": 412,
     "metadata": {},
     "output_type": "execute_result"
    }
   ],
   "source": [
    "temp_df_process_3.filter(col('Transaction Type').like('% %')).select('Transaction Type')"
   ]
  },
  {
   "cell_type": "code",
   "execution_count": 413,
   "id": "b6c3cc3f",
   "metadata": {},
   "outputs": [],
   "source": [
    "temp_df_process_3 = temp_df_process_3.withColumn(\"FileName\", lit(\"saleReprtKmpg_july\"))"
   ]
  },
  {
   "cell_type": "code",
   "execution_count": 414,
   "id": "1a7419af",
   "metadata": {},
   "outputs": [
    {
     "data": {
      "text/plain": [
       "366688"
      ]
     },
     "execution_count": 414,
     "metadata": {},
     "output_type": "execute_result"
    }
   ],
   "source": [
    "temp_df_process_3.count()"
   ]
  },
  {
   "cell_type": "code",
   "execution_count": 415,
   "id": "89ca054f",
   "metadata": {},
   "outputs": [
    {
     "data": {
      "text/plain": [
       "17"
      ]
     },
     "execution_count": 415,
     "metadata": {},
     "output_type": "execute_result"
    }
   ],
   "source": [
    "len(temp_df_process_3.columns)"
   ]
  },
  {
   "cell_type": "code",
   "execution_count": 416,
   "id": "ac49ca01",
   "metadata": {},
   "outputs": [
    {
     "data": {
      "text/plain": [
       "['Transaction ID',\n",
       " 'Document Number',\n",
       " 'Transaction Type',\n",
       " 'Project ID',\n",
       " 'Customer',\n",
       " 'Terms',\n",
       " 'Currency',\n",
       " 'Gross Amount',\n",
       " 'Payment',\n",
       " 'Open Balance',\n",
       " 'Transaction Create Date',\n",
       " 'Document Date',\n",
       " 'Due Date',\n",
       " 'Days Open',\n",
       " 'Service Dates',\n",
       " 'Payment Receipt Date',\n",
       " 'FileName']"
      ]
     },
     "execution_count": 416,
     "metadata": {},
     "output_type": "execute_result"
    }
   ],
   "source": [
    "temp_df_process_3.columns"
   ]
  },
  {
   "cell_type": "markdown",
   "id": "68f8f098",
   "metadata": {},
   "source": [
    "# customer_payment_history \n",
    "customer_payment_history =customer_payment_history.withColumn('Date', date_format(to_date(customer_payment_history['Date'],'M/d/yyyy'),'yyyy-MM-dd' ))"
   ]
  },
  {
   "cell_type": "code",
   "execution_count": 417,
   "id": "3bfbb90e",
   "metadata": {},
   "outputs": [],
   "source": [
    "# customer_payment_history.filter(col(\"payment Date\").isNull()).count()\n",
    "# customer_payment_history.filter(col(\"Payment Date\").rlike(r\"^\\d{1,2}/\\d{1,2}/\\d{4}$\")).count()\n",
    "# customer_payment_history.filter(col('Payment Date').like('%1/1/1900%')).select('Payment Date').show()\n",
    "# customer_payment_history =customer_payment_history.withColumn('Date', to_date(customer_payment_history['Date'],'M/d/yyyy'))\n",
    "# customer_payment_history =customer_payment_history.withColumn('Date', date_format(to_date(customer_payment_history['Date'],'M/d/yyyy'),'yyyy-MM-dd' ))\n",
    "# customer_payment_history =customer_payment_history.withColumn('Date', date_format(customer_payment_history['Date'], 'MM/dd/yyyy'))\n",
    "# customer_payment_history =customer_payment_history.withColumn('Date', to_date(customer_payment_history['Date'],'yyyy-MM-dd' ))\n",
    "# customer_payment_history = customer_payment_history.fillna('1/1/1900',subset=['Payment Date'])\n",
    "# customer_payment_history =customer_payment_history.withColumn('Payment Date', to_date(date_format(customer_payment_history['Payment Date'],'yyyy-MM-dd'),'M/d/yyyy' ))\n",
    "# customer_payment_history = customer_payment_history.withColumn('Document Number', upper(trim(col('Document Number'))))"
   ]
  },
  {
   "cell_type": "code",
   "execution_count": 418,
   "id": "64258882",
   "metadata": {},
   "outputs": [],
   "source": [
    "customer_payment_history = spark.read.options(inferSchema='True').csv('csv_converted\\Customer_Payment_history_july.csv', header=True, inferSchema=True, sep=',')"
   ]
  },
  {
   "cell_type": "code",
   "execution_count": 419,
   "id": "166558d2",
   "metadata": {},
   "outputs": [
    {
     "data": {
      "text/plain": [
       "47"
      ]
     },
     "execution_count": 419,
     "metadata": {},
     "output_type": "execute_result"
    }
   ],
   "source": [
    "len(customer_payment_history.columns)"
   ]
  },
  {
   "cell_type": "code",
   "execution_count": 420,
   "id": "0b77d7f1",
   "metadata": {},
   "outputs": [],
   "source": [
    "customer_payment_history=customer_payment_history.withColumnRenamed('Currency0','Currency')\n",
    "customer_payment_history=customer_payment_history.withColumnRenamed('Currency24','Currency2')\n",
    "customer_payment_history=customer_payment_history.withColumnRenamed('Approved for Email10','Approved for Email')\n",
    "customer_payment_history=customer_payment_history.withColumnRenamed('Approved for Email44','Approved for Email')"
   ]
  },
  {
   "cell_type": "code",
   "execution_count": 421,
   "id": "5842a948",
   "metadata": {},
   "outputs": [],
   "source": [
    "customer_payment_history =customer_payment_history.withColumn('Date', to_date(customer_payment_history['Date'],'M/d/yyyy'))"
   ]
  },
  {
   "cell_type": "code",
   "execution_count": 422,
   "id": "50ed2fd6",
   "metadata": {},
   "outputs": [],
   "source": [
    "customer_payment_history =customer_payment_history.withColumn('Payment Date', to_date(customer_payment_history['Payment Date'],'M/d/yyyy'))"
   ]
  },
  {
   "cell_type": "code",
   "execution_count": 423,
   "id": "8497bd18",
   "metadata": {},
   "outputs": [],
   "source": [
    "customer_payment_history= customer_payment_history.withColumnRenamed(\"Payment Date\", \"Payment Date2\")"
   ]
  },
  {
   "cell_type": "code",
   "execution_count": 424,
   "id": "cfcf3143",
   "metadata": {},
   "outputs": [],
   "source": [
    "customer_payment_history= customer_payment_history.withColumn(\"Payment Date\", customer_payment_history[\"Date\"])"
   ]
  },
  {
   "cell_type": "code",
   "execution_count": 425,
   "id": "dfa8e042",
   "metadata": {},
   "outputs": [
    {
     "data": {
      "text/plain": [
       "315676"
      ]
     },
     "execution_count": 425,
     "metadata": {},
     "output_type": "execute_result"
    }
   ],
   "source": [
    "customer_payment_history.filter((customer_payment_history['Payment Date'] >= \"2018-10-01\") & (customer_payment_history['Payment Date'] <= \"2023-07-31\")).count()"
   ]
  },
  {
   "cell_type": "code",
   "execution_count": 426,
   "id": "b6b95960",
   "metadata": {},
   "outputs": [
    {
     "data": {
      "text/plain": [
       "48"
      ]
     },
     "execution_count": 426,
     "metadata": {},
     "output_type": "execute_result"
    }
   ],
   "source": [
    "len(customer_payment_history.columns)"
   ]
  },
  {
   "cell_type": "code",
   "execution_count": 427,
   "id": "072fb2c7",
   "metadata": {},
   "outputs": [],
   "source": [
    "# customer_payment_history.dtypes"
   ]
  },
  {
   "cell_type": "markdown",
   "id": "26a23d9e",
   "metadata": {},
   "source": [
    "# Inner join output of 2 and  customer_payment_history"
   ]
  },
  {
   "cell_type": "code",
   "execution_count": 428,
   "id": "8d2485bc",
   "metadata": {},
   "outputs": [
    {
     "data": {
      "text/plain": [
       "[('Transaction ID', 'string'),\n",
       " ('Document Number', 'string'),\n",
       " ('Transaction Type', 'string'),\n",
       " ('Project ID', 'string'),\n",
       " ('Customer', 'string'),\n",
       " ('Terms', 'string'),\n",
       " ('Currency', 'string'),\n",
       " ('Gross Amount', 'string'),\n",
       " ('Payment', 'string'),\n",
       " ('Open Balance', 'string'),\n",
       " ('Transaction Create Date', 'string'),\n",
       " ('Document Date', 'string'),\n",
       " ('Due Date', 'string'),\n",
       " ('Days Open', 'string'),\n",
       " ('Service Dates', 'string'),\n",
       " ('Payment Receipt Date', 'string'),\n",
       " ('FileName', 'string')]"
      ]
     },
     "execution_count": 428,
     "metadata": {},
     "output_type": "execute_result"
    }
   ],
   "source": [
    "temp_df_process_3.dtypes"
   ]
  },
  {
   "cell_type": "code",
   "execution_count": 429,
   "id": "c368e5c7",
   "metadata": {},
   "outputs": [
    {
     "name": "stdout",
     "output_type": "stream",
     "text": [
      "17 48\n"
     ]
    }
   ],
   "source": [
    "print(len(temp_df_process_3.columns), len(customer_payment_history.columns))"
   ]
  },
  {
   "cell_type": "code",
   "execution_count": 430,
   "id": "fa26c7d4",
   "metadata": {},
   "outputs": [],
   "source": [
    "df_temp_1 =  customer_payment_history.withColumnRenamed(\"Currency\",\"temp\")\n",
    "df_temp_1 = df_temp_1.withColumnRenamed(\"Approved for Email\",\"temp2\")\n",
    "joined_df_2_payment_history = temp_df_process_3.join(df_temp_1, on='Document Number', how='inner')"
   ]
  },
  {
   "cell_type": "code",
   "execution_count": 431,
   "id": "27570d94",
   "metadata": {},
   "outputs": [],
   "source": [
    "joined_df_2_payment_history = joined_df_2_payment_history.withColumn(\"Outstanding\", lit(\"Cleared\"))"
   ]
  },
  {
   "cell_type": "code",
   "execution_count": 432,
   "id": "ba88e873",
   "metadata": {},
   "outputs": [
    {
     "data": {
      "text/plain": [
       "65"
      ]
     },
     "execution_count": 432,
     "metadata": {},
     "output_type": "execute_result"
    }
   ],
   "source": [
    "len(joined_df_2_payment_history.columns)"
   ]
  },
  {
   "cell_type": "code",
   "execution_count": 433,
   "id": "4616f514",
   "metadata": {},
   "outputs": [],
   "source": [
    "# joined_df_2_payment_history.select(\"Open Balance\").tail(10)"
   ]
  },
  {
   "cell_type": "code",
   "execution_count": 434,
   "id": "46df7b8d",
   "metadata": {},
   "outputs": [],
   "source": [
    "# temp= dict()\n",
    "# for i in customer_payment_history.columns:\n",
    "#     if i not in temp:\n",
    "#         temp[i]=1\n",
    "#     else:\n",
    "#         temp[i]+=1"
   ]
  },
  {
   "cell_type": "code",
   "execution_count": 435,
   "id": "e89df706",
   "metadata": {},
   "outputs": [],
   "source": [
    "# for i in temp:\n",
    "#     if temp[i]>=2:\n",
    "#         print(i , temp[i])"
   ]
  },
  {
   "cell_type": "markdown",
   "id": "5b5931ff",
   "metadata": {},
   "source": [
    "# Union"
   ]
  },
  {
   "cell_type": "code",
   "execution_count": 436,
   "id": "a93755d9",
   "metadata": {},
   "outputs": [],
   "source": [
    "temp_df_copy = temp_df.select(\"*\")\n",
    "joined_df_2_payment_history_copy = joined_df_2_payment_history.select(\"*\")\n",
    "process_df_result_copy = process_df_result.select(\"*\")\n"
   ]
  },
  {
   "cell_type": "code",
   "execution_count": 437,
   "id": "1ee2e4ea",
   "metadata": {},
   "outputs": [
    {
     "name": "stdout",
     "output_type": "stream",
     "text": [
      "Rows :  14286 315678 3948\n",
      "columns :  18 65 19\n",
      "columns :  18 65 19\n"
     ]
    }
   ],
   "source": [
    "print(\"Rows : \",process_df_result.count(),joined_df_2_payment_history.count(), temp_df_copy.count())\n",
    "print(\"columns : \",len(process_df_result_copy.columns), len(joined_df_2_payment_history_copy.columns),len(temp_df_copy.columns))\n",
    "print(\"columns : \",len(process_df_result.columns), len(joined_df_2_payment_history.columns),len(temp_df.columns))"
   ]
  },
  {
   "cell_type": "code",
   "execution_count": 438,
   "id": "3b97e6d3",
   "metadata": {},
   "outputs": [
    {
     "name": "stdout",
     "output_type": "stream",
     "text": [
      "65\n"
     ]
    }
   ],
   "source": [
    "column_names=set()\n",
    "for df in [temp_df, joined_df_2_payment_history,process_df_result]:\n",
    "    for column in df.columns:\n",
    "        column_names.add(column)\n",
    "column_names = list(column_names)\n",
    "print(len(column_names))"
   ]
  },
  {
   "cell_type": "code",
   "execution_count": 439,
   "id": "e8a675f3",
   "metadata": {},
   "outputs": [
    {
     "name": "stdout",
     "output_type": "stream",
     "text": [
      "19-->65\n"
     ]
    }
   ],
   "source": [
    "print(len(temp_df_copy.columns), end= \"-->\")\n",
    "for column in column_names:\n",
    "    if column not in temp_df_copy.columns:\n",
    "#         print(column)\n",
    "        temp_df_copy = temp_df_copy.withColumn(column,lit(None).cast(\"string\"))\n",
    "print(len(temp_df_copy.columns))"
   ]
  },
  {
   "cell_type": "code",
   "execution_count": 440,
   "id": "e37f9b78",
   "metadata": {},
   "outputs": [
    {
     "name": "stdout",
     "output_type": "stream",
     "text": [
      "65-->65\n"
     ]
    }
   ],
   "source": [
    "print(len(joined_df_2_payment_history_copy.columns), end= \"-->\")\n",
    "for column in column_names:\n",
    "    if column not in joined_df_2_payment_history_copy.columns:\n",
    "        print(column)\n",
    "        joined_df_2_payment_history_copy = joined_df_2_payment_history_copy.withColumn(column,lit(None).cast(\"string\"))\n",
    "print(len(joined_df_2_payment_history_copy.columns))"
   ]
  },
  {
   "cell_type": "code",
   "execution_count": 441,
   "id": "6d5d1938",
   "metadata": {},
   "outputs": [
    {
     "name": "stdout",
     "output_type": "stream",
     "text": [
      "18-->65\n"
     ]
    }
   ],
   "source": [
    "print(len(process_df_result_copy.columns), end= \"-->\")\n",
    "for column in column_names:\n",
    "    if column not in process_df_result_copy.columns:\n",
    "#         print(column)\n",
    "        process_df_result_copy = process_df_result_copy.withColumn(column,lit(None).cast(\"string\"))\n",
    "print(len(process_df_result_copy.columns))"
   ]
  },
  {
   "cell_type": "code",
   "execution_count": 442,
   "id": "f9559c43",
   "metadata": {},
   "outputs": [],
   "source": [
    "# process_df_result_copy.select(\"Open Balance\").show()"
   ]
  },
  {
   "cell_type": "code",
   "execution_count": 443,
   "id": "c8ad60d9",
   "metadata": {},
   "outputs": [],
   "source": [
    "union_df = temp_df_copy.unionByName(joined_df_2_payment_history_copy).unionByName(process_df_result_copy)"
   ]
  },
  {
   "cell_type": "code",
   "execution_count": 444,
   "id": "55fb63a2",
   "metadata": {},
   "outputs": [
    {
     "name": "stdout",
     "output_type": "stream",
     "text": [
      "333912 65\n"
     ]
    }
   ],
   "source": [
    "process_df_result_copy.select(\"Open Balance\").tail(10)\n",
    "# union_df.select(\"Open Balance\").tail(10)\n",
    "print(union_df.count(), len(union_df.columns))"
   ]
  },
  {
   "cell_type": "code",
   "execution_count": 445,
   "id": "7deaa732",
   "metadata": {},
   "outputs": [
    {
     "data": {
      "text/plain": [
       "43992937.400000066"
      ]
     },
     "execution_count": 445,
     "metadata": {},
     "output_type": "execute_result"
    }
   ],
   "source": [
    "union_df.select(sum(col('Open Balance'))).collect()[0][0]"
   ]
  },
  {
   "cell_type": "markdown",
   "id": "15bd3018",
   "metadata": {},
   "source": [
    "## Adding column Billing Cycle2\n"
   ]
  },
  {
   "cell_type": "code",
   "execution_count": 446,
   "id": "e6b7cbd2",
   "metadata": {},
   "outputs": [
    {
     "name": "stdout",
     "output_type": "stream",
     "text": [
      "333912 66\n"
     ]
    }
   ],
   "source": [
    "contract_terms_df=spark.read.options(inferSchema='True').csv('csv_converted\\Contract Terms per Client (1).csv', header=True, inferSchema=True, sep=',')\n",
    "contract_terms_df= contract_terms_df.withColumnRenamed(\"Name\",\"Customer\")\n",
    "contract_terms_df = contract_terms_df.select([\"Customer\",\"Billing Cycle\"])\n",
    "contract_terms_df = contract_terms_df.withColumnRenamed(\"Billing Cycle\",\"Billing Cycle2\")\n",
    "df_block1 = union_df.join(contract_terms_df,on='Customer', how='leftouter')\n",
    "print(df_block1.count(),len(df_block1.columns))"
   ]
  },
  {
   "cell_type": "markdown",
   "id": "2f63576d",
   "metadata": {},
   "source": [
    "# Adding Column region2"
   ]
  },
  {
   "cell_type": "code",
   "execution_count": 447,
   "id": "b91b0587",
   "metadata": {
    "scrolled": true
   },
   "outputs": [],
   "source": [
    "\"D:\\Bluethink\\alytrx project\\csv_converted\\Region (2).csv\"\n",
    "region_df=spark.read.options(inferSchema='True').csv('csv_converted\\Region (2).csv', header=True, inferSchema=True, sep=',')\n",
    "region_df_join_operation = region_df.select([\"Name\",\"region\"]) # dataframe to perform join operation\n",
    "region_df_join_operation = region_df_join_operation.withColumnRenamed(\"Name\",\"Customer\")\n",
    "region_df_join_operation = region_df_join_operation.withColumnRenamed(\"region\",\"region2\")\n",
    "region_df = region_df.withColumnRenamed(\"Internal ID0\",\"Internal ID\")\n",
    "region_df = region_df.withColumn('Name',upper(trim(col('Name'))))"
   ]
  },
  {
   "cell_type": "code",
   "execution_count": 448,
   "id": "2d8f5295",
   "metadata": {},
   "outputs": [
    {
     "name": "stdout",
     "output_type": "stream",
     "text": [
      "11464-->11462\n"
     ]
    }
   ],
   "source": [
    "# removing row having same customer name and null in region\n",
    "extra_column_to_remove=region_df_join_operation.groupBy(\"Customer\").count().filter(col(\"count\")>1).select(\"Customer\")\n",
    "print(region_df_join_operation.count(), end=\"-->\")\n",
    "for row in extra_column_to_remove.select(\"Customer\").collect():\n",
    "    for data in row:\n",
    "        region_df_join_operation=region_df_join_operation.filter((region_df_join_operation[\"Customer\"]!=data) | (region_df_join_operation[\"region2\"].isNotNull()))\n",
    "print(region_df_join_operation.count())\n"
   ]
  },
  {
   "cell_type": "code",
   "execution_count": 449,
   "id": "e1e14a85",
   "metadata": {},
   "outputs": [],
   "source": [
    "df_block1 = df_block1.join(region_df_join_operation, on=\"Customer\", how=\"left\")"
   ]
  },
  {
   "cell_type": "code",
   "execution_count": 450,
   "id": "2703313f",
   "metadata": {},
   "outputs": [
    {
     "data": {
      "text/plain": [
       "333912"
      ]
     },
     "execution_count": 450,
     "metadata": {},
     "output_type": "execute_result"
    }
   ],
   "source": [
    "df_block1.count()"
   ]
  },
  {
   "cell_type": "code",
   "execution_count": null,
   "id": "e9d2f32c",
   "metadata": {},
   "outputs": [],
   "source": []
  },
  {
   "cell_type": "code",
   "execution_count": null,
   "id": "bce52a36",
   "metadata": {},
   "outputs": [],
   "source": []
  },
  {
   "cell_type": "code",
   "execution_count": null,
   "id": "c4f35420",
   "metadata": {},
   "outputs": [],
   "source": []
  },
  {
   "cell_type": "code",
   "execution_count": null,
   "id": "b5461d81",
   "metadata": {},
   "outputs": [],
   "source": []
  },
  {
   "cell_type": "code",
   "execution_count": null,
   "id": "522de49c",
   "metadata": {},
   "outputs": [],
   "source": []
  },
  {
   "cell_type": "code",
   "execution_count": null,
   "id": "f177672b",
   "metadata": {},
   "outputs": [],
   "source": []
  },
  {
   "cell_type": "code",
   "execution_count": null,
   "id": "b2b4cede",
   "metadata": {},
   "outputs": [],
   "source": []
  },
  {
   "cell_type": "code",
   "execution_count": 269,
   "id": "7b90da18",
   "metadata": {},
   "outputs": [],
   "source": [
    "joins = ['inner', 'outer', 'full', 'fullouter', 'full_outer', 'leftouter', 'left', 'left_outer', 'rightouter', 'right', 'right_outer', 'leftsemi', 'left_semi', 'semi', 'leftanti', 'left_anti', 'anti', 'cross']"
   ]
  },
  {
   "cell_type": "code",
   "execution_count": 120,
   "id": "e2ece716",
   "metadata": {},
   "outputs": [],
   "source": [
    "a=df_block1.join(region_df,on=\"Customer\", how=j)"
   ]
  },
  {
   "cell_type": "code",
   "execution_count": 270,
   "id": "d8de0630",
   "metadata": {},
   "outputs": [
    {
     "name": "stdout",
     "output_type": "stream",
     "text": [
      "inner : 10410\n",
      "outer : 342928\n",
      "full : 342928\n",
      "fullouter : 342928\n",
      "full_outer : 342928\n",
      "leftouter : 333912\n",
      "left : 333912\n",
      "left_outer : 333912\n",
      "rightouter : 19426\n",
      "right : 19426\n",
      "right_outer : 19426\n",
      "leftsemi : 10410\n",
      "left_semi : 10410\n",
      "semi : 10410\n",
      "leftanti : 323502\n",
      "left_anti : 323502\n",
      "anti : 323502\n",
      "cross : 10410\n"
     ]
    }
   ],
   "source": [
    "for j in joins:\n",
    "    print(j, \":\", df_block1.join(region_df_join_operation,on=\"Customer\", how=j).count())\n",
    "    "
   ]
  },
  {
   "cell_type": "code",
   "execution_count": 210,
   "id": "df11565d",
   "metadata": {},
   "outputs": [],
   "source": [
    "u=df_block1.join(region_df,on=\"Customer\", how=\"left\")"
   ]
  },
  {
   "cell_type": "code",
   "execution_count": 211,
   "id": "1c6d1148",
   "metadata": {},
   "outputs": [],
   "source": [
    "t=u.groupBy(\"Customer\").count().filter(col(\"count\")>1)"
   ]
  },
  {
   "cell_type": "code",
   "execution_count": 212,
   "id": "ab9f2d18",
   "metadata": {},
   "outputs": [
    {
     "name": "stdout",
     "output_type": "stream",
     "text": [
      "+--------------------+-----+\n",
      "|            Customer|count|\n",
      "+--------------------+-----+\n",
      "|UF : TS - Health ...|    5|\n",
      "|UCD : Davis Medic...|    7|\n",
      "|IHAH : Ypsilanti-...|    4|\n",
      "|DUKE : North Caro...|    9|\n",
      "|RGHS : SPEKE - No...|    3|\n",
      "|UMIAMI : Urology ...|    3|\n",
      "|TJU : Jefferson H...|   10|\n",
      "|     CSMCF : Urology|    5|\n",
      "|RFH : Rush Founda...|    5|\n",
      "|APEX : Apex Emerg...|   21|\n",
      "|UPH : Emergency-I...|    5|\n",
      "|USACS : Hazel Haw...|    7|\n",
      "|UMIAMI : Endocrin...|    2|\n",
      "|PRISMA : Northeas...|    3|\n",
      "|ENVISION : Rancho...|    2|\n",
      "|MLEMA : Main Line...|   23|\n",
      "|UCSF : SPEKE-Radi...|    2|\n",
      "|  KAH : HemaOncology|    4|\n",
      "|UHCS : TS - WellM...|    3|\n",
      "|UCSF : TS-Gynecol...|    3|\n",
      "+--------------------+-----+\n",
      "only showing top 20 rows\n",
      "\n"
     ]
    }
   ],
   "source": [
    "t.show()"
   ]
  },
  {
   "cell_type": "code",
   "execution_count": 86,
   "id": "afdce6f2",
   "metadata": {},
   "outputs": [
    {
     "data": {
      "text/plain": [
       "333767"
      ]
     },
     "execution_count": 86,
     "metadata": {},
     "output_type": "execute_result"
    }
   ],
   "source": [
    "df_block1.filter(col('Custom`er').like('% %')).select('Customer').count()"
   ]
  },
  {
   "cell_type": "code",
   "execution_count": 87,
   "id": "aaca0260",
   "metadata": {},
   "outputs": [
    {
     "data": {
      "text/plain": [
       "9573"
      ]
     },
     "execution_count": 87,
     "metadata": {},
     "output_type": "execute_result"
    }
   ],
   "source": [
    "region_df.filter(col('Customer').like('% %')).select('Customer').count()"
   ]
  },
  {
   "cell_type": "code",
   "execution_count": 88,
   "id": "dece9a7c",
   "metadata": {},
   "outputs": [],
   "source": [
    "a=trim_col(df_block1,column_name=\"Customer\")\n",
    "b=trim_col(region_df,column_name=\"Customer\")"
   ]
  },
  {
   "cell_type": "code",
   "execution_count": 89,
   "id": "6fd984ac",
   "metadata": {},
   "outputs": [
    {
     "data": {
      "text/plain": [
       "333767"
      ]
     },
     "execution_count": 89,
     "metadata": {},
     "output_type": "execute_result"
    }
   ],
   "source": [
    "a.filter(col('Customer').like('% %')).select('Customer').count()"
   ]
  },
  {
   "cell_type": "code",
   "execution_count": 90,
   "id": "af42fd05",
   "metadata": {},
   "outputs": [
    {
     "data": {
      "text/plain": [
       "9573"
      ]
     },
     "execution_count": 90,
     "metadata": {},
     "output_type": "execute_result"
    }
   ],
   "source": [
    "b.filter(col('Customer').like('% %')).select('Customer').count()"
   ]
  },
  {
   "cell_type": "code",
   "execution_count": 91,
   "id": "3e27ac5e",
   "metadata": {},
   "outputs": [],
   "source": [
    "c=a.join(b, on = \"Customer\", how=\"left\")"
   ]
  },
  {
   "cell_type": "code",
   "execution_count": 92,
   "id": "a77953a9",
   "metadata": {},
   "outputs": [
    {
     "data": {
      "text/plain": [
       "333987"
      ]
     },
     "execution_count": 92,
     "metadata": {},
     "output_type": "execute_result"
    }
   ],
   "source": [
    "c.count()"
   ]
  },
  {
   "cell_type": "code",
   "execution_count": 93,
   "id": "5c89ddb1",
   "metadata": {},
   "outputs": [
    {
     "data": {
      "text/plain": [
       "66"
      ]
     },
     "execution_count": 93,
     "metadata": {},
     "output_type": "execute_result"
    }
   ],
   "source": [
    "len(df_block1.columns)"
   ]
  },
  {
   "cell_type": "code",
   "execution_count": 94,
   "id": "484eeef4",
   "metadata": {},
   "outputs": [
    {
     "ename": "AnalysisException",
     "evalue": "[UNRESOLVED_COLUMN.WITH_SUGGESTION] A column or function parameter with name `Name` cannot be resolved. Did you mean one of the following? [`Customer`, `region2`].;\n'Project ['Name]\n+- Deduplicate [Customer#7576, region2#7579]\n   +- Project [Customer#7576, region#7560 AS region2#7579]\n      +- Project [Name#7573 AS Customer#7576, region#7560]\n         +- Project [upper(trim(Name#7553, None)) AS Name#7573, region#7560]\n            +- Project [Name#7553, region#7560]\n               +- Relation [Internal ID0#7552,Name#7553,Internal ID2#7554,Class#7555,Workday Time Termination Date#7556,SA Customer Entity#7557,Termination Date#7558,Telescribe#7559,Region#7560] csv\n",
     "output_type": "error",
     "traceback": [
      "\u001b[1;31m---------------------------------------------------------------------------\u001b[0m",
      "\u001b[1;31mAnalysisException\u001b[0m                         Traceback (most recent call last)",
      "Cell \u001b[1;32mIn[94], line 1\u001b[0m\n\u001b[1;32m----> 1\u001b[0m region_df\u001b[38;5;241m.\u001b[39mselect(\u001b[38;5;124m\"\u001b[39m\u001b[38;5;124mName\u001b[39m\u001b[38;5;124m\"\u001b[39m)\u001b[38;5;241m.\u001b[39mshow()\n",
      "File \u001b[1;32m~\\anaconda3\\Lib\\site-packages\\pyspark\\sql\\dataframe.py:3036\u001b[0m, in \u001b[0;36mDataFrame.select\u001b[1;34m(self, *cols)\u001b[0m\n\u001b[0;32m   2991\u001b[0m \u001b[38;5;28;01mdef\u001b[39;00m \u001b[38;5;21mselect\u001b[39m(\u001b[38;5;28mself\u001b[39m, \u001b[38;5;241m*\u001b[39mcols: \u001b[38;5;124m\"\u001b[39m\u001b[38;5;124mColumnOrName\u001b[39m\u001b[38;5;124m\"\u001b[39m) \u001b[38;5;241m-\u001b[39m\u001b[38;5;241m>\u001b[39m \u001b[38;5;124m\"\u001b[39m\u001b[38;5;124mDataFrame\u001b[39m\u001b[38;5;124m\"\u001b[39m:  \u001b[38;5;66;03m# type: ignore[misc]\u001b[39;00m\n\u001b[0;32m   2992\u001b[0m \u001b[38;5;250m    \u001b[39m\u001b[38;5;124;03m\"\"\"Projects a set of expressions and returns a new :class:`DataFrame`.\u001b[39;00m\n\u001b[0;32m   2993\u001b[0m \n\u001b[0;32m   2994\u001b[0m \u001b[38;5;124;03m    .. versionadded:: 1.3.0\u001b[39;00m\n\u001b[1;32m   (...)\u001b[0m\n\u001b[0;32m   3034\u001b[0m \u001b[38;5;124;03m    +-----+---+\u001b[39;00m\n\u001b[0;32m   3035\u001b[0m \u001b[38;5;124;03m    \"\"\"\u001b[39;00m\n\u001b[1;32m-> 3036\u001b[0m     jdf \u001b[38;5;241m=\u001b[39m \u001b[38;5;28mself\u001b[39m\u001b[38;5;241m.\u001b[39m_jdf\u001b[38;5;241m.\u001b[39mselect(\u001b[38;5;28mself\u001b[39m\u001b[38;5;241m.\u001b[39m_jcols(\u001b[38;5;241m*\u001b[39mcols))\n\u001b[0;32m   3037\u001b[0m     \u001b[38;5;28;01mreturn\u001b[39;00m DataFrame(jdf, \u001b[38;5;28mself\u001b[39m\u001b[38;5;241m.\u001b[39msparkSession)\n",
      "File \u001b[1;32m~\\anaconda3\\Lib\\site-packages\\py4j\\java_gateway.py:1322\u001b[0m, in \u001b[0;36mJavaMember.__call__\u001b[1;34m(self, *args)\u001b[0m\n\u001b[0;32m   1316\u001b[0m command \u001b[38;5;241m=\u001b[39m proto\u001b[38;5;241m.\u001b[39mCALL_COMMAND_NAME \u001b[38;5;241m+\u001b[39m\\\n\u001b[0;32m   1317\u001b[0m     \u001b[38;5;28mself\u001b[39m\u001b[38;5;241m.\u001b[39mcommand_header \u001b[38;5;241m+\u001b[39m\\\n\u001b[0;32m   1318\u001b[0m     args_command \u001b[38;5;241m+\u001b[39m\\\n\u001b[0;32m   1319\u001b[0m     proto\u001b[38;5;241m.\u001b[39mEND_COMMAND_PART\n\u001b[0;32m   1321\u001b[0m answer \u001b[38;5;241m=\u001b[39m \u001b[38;5;28mself\u001b[39m\u001b[38;5;241m.\u001b[39mgateway_client\u001b[38;5;241m.\u001b[39msend_command(command)\n\u001b[1;32m-> 1322\u001b[0m return_value \u001b[38;5;241m=\u001b[39m get_return_value(\n\u001b[0;32m   1323\u001b[0m     answer, \u001b[38;5;28mself\u001b[39m\u001b[38;5;241m.\u001b[39mgateway_client, \u001b[38;5;28mself\u001b[39m\u001b[38;5;241m.\u001b[39mtarget_id, \u001b[38;5;28mself\u001b[39m\u001b[38;5;241m.\u001b[39mname)\n\u001b[0;32m   1325\u001b[0m \u001b[38;5;28;01mfor\u001b[39;00m temp_arg \u001b[38;5;129;01min\u001b[39;00m temp_args:\n\u001b[0;32m   1326\u001b[0m     \u001b[38;5;28;01mif\u001b[39;00m \u001b[38;5;28mhasattr\u001b[39m(temp_arg, \u001b[38;5;124m\"\u001b[39m\u001b[38;5;124m_detach\u001b[39m\u001b[38;5;124m\"\u001b[39m):\n",
      "File \u001b[1;32m~\\anaconda3\\Lib\\site-packages\\pyspark\\errors\\exceptions\\captured.py:175\u001b[0m, in \u001b[0;36mcapture_sql_exception.<locals>.deco\u001b[1;34m(*a, **kw)\u001b[0m\n\u001b[0;32m    171\u001b[0m converted \u001b[38;5;241m=\u001b[39m convert_exception(e\u001b[38;5;241m.\u001b[39mjava_exception)\n\u001b[0;32m    172\u001b[0m \u001b[38;5;28;01mif\u001b[39;00m \u001b[38;5;129;01mnot\u001b[39;00m \u001b[38;5;28misinstance\u001b[39m(converted, UnknownException):\n\u001b[0;32m    173\u001b[0m     \u001b[38;5;66;03m# Hide where the exception came from that shows a non-Pythonic\u001b[39;00m\n\u001b[0;32m    174\u001b[0m     \u001b[38;5;66;03m# JVM exception message.\u001b[39;00m\n\u001b[1;32m--> 175\u001b[0m     \u001b[38;5;28;01mraise\u001b[39;00m converted \u001b[38;5;28;01mfrom\u001b[39;00m \u001b[38;5;28;01mNone\u001b[39;00m\n\u001b[0;32m    176\u001b[0m \u001b[38;5;28;01melse\u001b[39;00m:\n\u001b[0;32m    177\u001b[0m     \u001b[38;5;28;01mraise\u001b[39;00m\n",
      "\u001b[1;31mAnalysisException\u001b[0m: [UNRESOLVED_COLUMN.WITH_SUGGESTION] A column or function parameter with name `Name` cannot be resolved. Did you mean one of the following? [`Customer`, `region2`].;\n'Project ['Name]\n+- Deduplicate [Customer#7576, region2#7579]\n   +- Project [Customer#7576, region#7560 AS region2#7579]\n      +- Project [Name#7573 AS Customer#7576, region#7560]\n         +- Project [upper(trim(Name#7553, None)) AS Name#7573, region#7560]\n            +- Project [Name#7553, region#7560]\n               +- Relation [Internal ID0#7552,Name#7553,Internal ID2#7554,Class#7555,Workday Time Termination Date#7556,SA Customer Entity#7557,Termination Date#7558,Telescribe#7559,Region#7560] csv\n"
     ]
    }
   ],
   "source": [
    "region_df.select(\"Name\").show()"
   ]
  },
  {
   "cell_type": "code",
   "execution_count": null,
   "id": "f4eca7d0",
   "metadata": {},
   "outputs": [],
   "source": [
    "df_block1."
   ]
  },
  {
   "cell_type": "code",
   "execution_count": null,
   "id": "982103a2",
   "metadata": {},
   "outputs": [],
   "source": [
    "d=df_block1.crossJoin(region_df)"
   ]
  },
  {
   "cell_type": "code",
   "execution_count": 187,
   "id": "53a940f5",
   "metadata": {},
   "outputs": [
    {
     "data": {
      "text/plain": [
       "3827299344"
      ]
     },
     "execution_count": 187,
     "metadata": {},
     "output_type": "execute_result"
    }
   ],
   "source": [
    "d.count()"
   ]
  },
  {
   "cell_type": "code",
   "execution_count": 186,
   "id": "6dbf7129",
   "metadata": {},
   "outputs": [
    {
     "name": "stdout",
     "output_type": "stream",
     "text": [
      "+--------------------+--------------+---------------+----------------+----------+-----+--------+------------+-------+------------+-----------------------+-------------+--------+---------+-------------+--------------------+-----------+--------------------+------------------+----------------+----------------------------+---------+-----------+---------------+----+---------------------------------+--------+------+---------+-------------+---------------+-------------------+--------------------+-----------+-------------+------------------+---------------+----+----------+-----+---------------------------------------+--------------+------------------+---------------------+----+----+------+-------------------------+-------+-----+-------------+------+-------+----------+------------+----+---------------+-----------------------+-----+--------------------+----------------+----+-----------------------+------+-------------+--------------+--------------------+------------+\n",
      "|            Customer|Transaction ID|Document Number|Transaction Type|Project ID|Terms|Currency|Gross Amount|Payment|Open Balance|Transaction Create Date|Document Date|Due Date|Days Open|Service Dates|Payment Receipt Date|Outstanding|Applying Link Amount|          FileName|Detailed Invoice|Invoice to Time Action Queue|SA Entity|Custom Form|Processed Rules|Type|Scribe Period Display on Printout|Pipeline|Status|Currency2|FACILITY NAME|Revised Invoice|Approved for Email2|Applying Transaction|Internal ID|Billing Cycle|Transaction Number|Actual End Date|City|Email Sent|Print|Applying Link Amount (Foreign Currency)|On Hold Reason|Applying Link Type|Implementation Status|temp|Name|Period|Amount (Foreign Currency)|Account|temp2|Payment Date2|Amount|Posting|JE Convert|Payment Date|Memo|PO/Check Number|Date Deposited/Refunded|State|Pre-EVP Approval Opp|Tracking Numbers|Date|Contract Signature Date|Region|Payroll Batch|Billing Cycle2|            Customer|     region2|\n",
      "+--------------------+--------------+---------------+----------------+----------+-----+--------+------------+-------+------------+-----------------------+-------------+--------+---------+-------------+--------------------+-----------+--------------------+------------------+----------------+----------------------------+---------+-----------+---------------+----+---------------------------------+--------+------+---------+-------------+---------------+-------------------+--------------------+-----------+-------------+------------------+---------------+----+----------+-----+---------------------------------------+--------------+------------------+---------------------+----+----+------+-------------------------+-------+-----+-------------+------+-------+----------+------------+----+---------------+-----------------------+-----+--------------------+----------------+----+-----------------------+------+-------------+--------------+--------------------+------------+\n",
      "|KIMA : Katy Inter...|       3184540|      KIMA15493|     Credit Memo|    172323| null|     USA|      456.27|   0.00|      456.27|          7/20/23 11:08|    7/30/2023|    null|       36|         null|                null|       Open|              456.27|saleReprtKmpg_july|            null|                        null|     null|       null|           null|null|                             null|    null|  null|     null|         null|           null|               null|                null|       null|         null|              null|           null|null|      null| null|                                   null|          null|              null|                 null|null|null|  null|                     null|   null| null|         null|  null|   null|      null|        null|null|           null|                   null| null|                null|            null|null|                   null|  null|         null|             B|ALTEON : BON SECO...|Mid-Atlantic|\n",
      "|KIMA : Katy Inter...|       3184540|      KIMA15493|     Credit Memo|    172323| null|     USA|      456.27|   0.00|      456.27|          7/20/23 11:08|    7/30/2023|    null|       36|         null|                null|       Open|              456.27|saleReprtKmpg_july|            null|                        null|     null|       null|           null|null|                             null|    null|  null|     null|         null|           null|               null|                null|       null|         null|              null|           null|null|      null| null|                                   null|          null|              null|                 null|null|null|  null|                     null|   null| null|         null|  null|   null|      null|        null|null|           null|                   null| null|                null|            null|null|                   null|  null|         null|             B|APCC : ANESTHESIA...|   Southeast|\n",
      "|KIMA : Katy Inter...|       3184540|      KIMA15493|     Credit Memo|    172323| null|     USA|      456.27|   0.00|      456.27|          7/20/23 11:08|    7/30/2023|    null|       36|         null|                null|       Open|              456.27|saleReprtKmpg_july|            null|                        null|     null|       null|           null|null|                             null|    null|  null|     null|         null|           null|               null|                null|       null|         null|              null|           null|null|      null| null|                                   null|          null|              null|                 null|null|null|  null|                     null|   null| null|         null|  null|   null|      null|        null|null|           null|                   null| null|                null|            null|null|                   null|  null|         null|             B|APP : NEWPORT MED...|   Southeast|\n",
      "|KIMA : Katy Inter...|       3184540|      KIMA15493|     Credit Memo|    172323| null|     USA|      456.27|   0.00|      456.27|          7/20/23 11:08|    7/30/2023|    null|       36|         null|                null|       Open|              456.27|saleReprtKmpg_july|            null|                        null|     null|       null|           null|null|                             null|    null|  null|     null|         null|           null|               null|                null|       null|         null|              null|           null|null|      null| null|                                   null|          null|              null|                 null|null|null|  null|                     null|   null| null|         null|  null|   null|      null|        null|null|           null|                   null| null|                null|            null|null|                   null|  null|         null|             B|BANMG : BMG WR - ...|        West|\n",
      "|KIMA : Katy Inter...|       3184540|      KIMA15493|     Credit Memo|    172323| null|     USA|      456.27|   0.00|      456.27|          7/20/23 11:08|    7/30/2023|    null|       36|         null|                null|       Open|              456.27|saleReprtKmpg_july|            null|                        null|     null|       null|           null|null|                             null|    null|  null|     null|         null|           null|               null|                null|       null|         null|              null|           null|null|      null| null|                                   null|          null|              null|                 null|null|null|  null|                     null|   null| null|         null|  null|   null|      null|        null|null|           null|                   null| null|                null|            null|null|                   null|  null|         null|             B|                 BFS|   Northeast|\n",
      "|KIMA : Katy Inter...|       3184540|      KIMA15493|     Credit Memo|    172323| null|     USA|      456.27|   0.00|      456.27|          7/20/23 11:08|    7/30/2023|    null|       36|         null|                null|       Open|              456.27|saleReprtKmpg_july|            null|                        null|     null|       null|           null|null|                             null|    null|  null|     null|         null|           null|               null|                null|       null|         null|              null|           null|null|      null| null|                                   null|          null|              null|                 null|null|null|  null|                     null|   null| null|         null|  null|   null|      null|        null|null|           null|                   null| null|                null|            null|null|                   null|  null|         null|             B|BSW : BELLMEAD-DR...|Mid-Atlantic|\n",
      "|KIMA : Katy Inter...|       3184540|      KIMA15493|     Credit Memo|    172323| null|     USA|      456.27|   0.00|      456.27|          7/20/23 11:08|    7/30/2023|    null|       36|         null|                null|       Open|              456.27|saleReprtKmpg_july|            null|                        null|     null|       null|           null|null|                             null|    null|  null|     null|         null|           null|               null|                null|       null|         null|              null|           null|null|      null| null|                                   null|          null|              null|                 null|null|null|  null|                     null|   null| null|         null|  null|   null|      null|        null|null|           null|                   null| null|                null|            null|null|                   null|  null|         null|             B|CHOA : CENTER FOR...|   Southeast|\n",
      "|KIMA : Katy Inter...|       3184540|      KIMA15493|     Credit Memo|    172323| null|     USA|      456.27|   0.00|      456.27|          7/20/23 11:08|    7/30/2023|    null|       36|         null|                null|       Open|              456.27|saleReprtKmpg_july|            null|                        null|     null|       null|           null|null|                             null|    null|  null|     null|         null|           null|               null|                null|       null|         null|              null|           null|null|      null| null|                                   null|          null|              null|                 null|null|null|  null|                     null|   null| null|         null|  null|   null|      null|        null|null|           null|                   null| null|                null|            null|null|                   null|  null|         null|             B|CHOP : VIRTUA MEM...|   Northeast|\n",
      "|KIMA : Katy Inter...|       3184540|      KIMA15493|     Credit Memo|    172323| null|     USA|      456.27|   0.00|      456.27|          7/20/23 11:08|    7/30/2023|    null|       36|         null|                null|       Open|              456.27|saleReprtKmpg_july|            null|                        null|     null|       null|           null|null|                             null|    null|  null|     null|         null|           null|               null|                null|       null|         null|              null|           null|null|      null| null|                                   null|          null|              null|                 null|null|null|  null|                     null|   null| null|         null|  null|   null|      null|        null|null|           null|                   null| null|                null|            null|null|                   null|  null|         null|             B|CHS PENNSYLVANIA ...|   Northeast|\n",
      "|KIMA : Katy Inter...|       3184540|      KIMA15493|     Credit Memo|    172323| null|     USA|      456.27|   0.00|      456.27|          7/20/23 11:08|    7/30/2023|    null|       36|         null|                null|       Open|              456.27|saleReprtKmpg_july|            null|                        null|     null|       null|           null|null|                             null|    null|  null|     null|         null|           null|               null|                null|       null|         null|              null|           null|null|      null| null|                                   null|          null|              null|                 null|null|null|  null|                     null|   null| null|         null|  null|   null|      null|        null|null|           null|                   null| null|                null|            null|null|                   null|  null|         null|             B|                 COA|   Southeast|\n",
      "|KIMA : Katy Inter...|       3184540|      KIMA15493|     Credit Memo|    172323| null|     USA|      456.27|   0.00|      456.27|          7/20/23 11:08|    7/30/2023|    null|       36|         null|                null|       Open|              456.27|saleReprtKmpg_july|            null|                        null|     null|       null|           null|null|                             null|    null|  null|     null|         null|           null|               null|                null|       null|         null|              null|           null|null|      null| null|                                   null|          null|              null|                 null|null|null|  null|                     null|   null| null|         null|  null|   null|      null|        null|null|           null|                   null| null|                null|            null|null|                   null|  null|         null|             B|COSLL : CAPITAL O...|Mid-Atlantic|\n",
      "|KIMA : Katy Inter...|       3184540|      KIMA15493|     Credit Memo|    172323| null|     USA|      456.27|   0.00|      456.27|          7/20/23 11:08|    7/30/2023|    null|       36|         null|                null|       Open|              456.27|saleReprtKmpg_july|            null|                        null|     null|       null|           null|null|                             null|    null|  null|     null|         null|           null|               null|                null|       null|         null|              null|           null|null|      null| null|                                   null|          null|              null|                 null|null|null|  null|                     null|   null| null|         null|  null|   null|      null|        null|null|           null|                   null| null|                null|            null|null|                   null|  null|         null|             B|                  CU|Mid-Atlantic|\n",
      "|KIMA : Katy Inter...|       3184540|      KIMA15493|     Credit Memo|    172323| null|     USA|      456.27|   0.00|      456.27|          7/20/23 11:08|    7/30/2023|    null|       36|         null|                null|       Open|              456.27|saleReprtKmpg_july|            null|                        null|     null|       null|           null|null|                             null|    null|  null|     null|         null|           null|               null|                null|       null|         null|              null|           null|null|      null| null|                                   null|          null|              null|                 null|null|null|  null|                     null|   null| null|         null|  null|   null|      null|        null|null|           null|                   null| null|                null|            null|null|                   null|  null|         null|             B|DOWN EAST COMMUNI...|        null|\n",
      "|KIMA : Katy Inter...|       3184540|      KIMA15493|     Credit Memo|    172323| null|     USA|      456.27|   0.00|      456.27|          7/20/23 11:08|    7/30/2023|    null|       36|         null|                null|       Open|              456.27|saleReprtKmpg_july|            null|                        null|     null|       null|           null|null|                             null|    null|  null|     null|         null|           null|               null|                null|       null|         null|              null|           null|null|      null| null|                                   null|          null|              null|                 null|null|null|  null|                     null|   null| null|         null|  null|   null|      null|        null|null|           null|                   null| null|                null|            null|null|                   null|  null|         null|             B|EC : TERRE HAUTE ...|     Midwest|\n",
      "|KIMA : Katy Inter...|       3184540|      KIMA15493|     Credit Memo|    172323| null|     USA|      456.27|   0.00|      456.27|          7/20/23 11:08|    7/30/2023|    null|       36|         null|                null|       Open|              456.27|saleReprtKmpg_july|            null|                        null|     null|       null|           null|null|                             null|    null|  null|     null|         null|           null|               null|                null|       null|         null|              null|           null|null|      null| null|                                   null|          null|              null|                 null|null|null|  null|                     null|   null| null|         null|  null|   null|      null|        null|null|           null|                   null| null|                null|            null|null|                   null|  null|         null|             B|EC : VALLEY HEALT...|        West|\n",
      "|KIMA : Katy Inter...|       3184540|      KIMA15493|     Credit Memo|    172323| null|     USA|      456.27|   0.00|      456.27|          7/20/23 11:08|    7/30/2023|    null|       36|         null|                null|       Open|              456.27|saleReprtKmpg_july|            null|                        null|     null|       null|           null|null|                             null|    null|  null|     null|         null|           null|               null|                null|       null|         null|              null|           null|null|      null| null|                                   null|          null|              null|                 null|null|null|  null|                     null|   null| null|         null|  null|   null|      null|        null|null|           null|                   null| null|                null|            null|null|                   null|  null|         null|             B|ERSC : EL RIO TEL...|        West|\n",
      "|KIMA : Katy Inter...|       3184540|      KIMA15493|     Credit Memo|    172323| null|     USA|      456.27|   0.00|      456.27|          7/20/23 11:08|    7/30/2023|    null|       36|         null|                null|       Open|              456.27|saleReprtKmpg_july|            null|                        null|     null|       null|           null|null|                             null|    null|  null|     null|         null|           null|               null|                null|       null|         null|              null|           null|null|      null| null|                                   null|          null|              null|                 null|null|null|  null|                     null|   null| null|         null|  null|   null|      null|        null|null|           null|                   null| null|                null|            null|null|                   null|  null|         null|             B|FHS : OAKDALE - F...|     Midwest|\n",
      "|KIMA : Katy Inter...|       3184540|      KIMA15493|     Credit Memo|    172323| null|     USA|      456.27|   0.00|      456.27|          7/20/23 11:08|    7/30/2023|    null|       36|         null|                null|       Open|              456.27|saleReprtKmpg_july|            null|                        null|     null|       null|           null|null|                             null|    null|  null|     null|         null|           null|               null|                null|       null|         null|              null|           null|null|      null| null|                                   null|          null|              null|                 null|null|null|  null|                     null|   null| null|         null|  null|   null|      null|        null|null|           null|                   null| null|                null|            null|null|                   null|  null|         null|             B|GOT : GAME OF THR...|        West|\n",
      "|KIMA : Katy Inter...|       3184540|      KIMA15493|     Credit Memo|    172323| null|     USA|      456.27|   0.00|      456.27|          7/20/23 11:08|    7/30/2023|    null|       36|         null|                null|       Open|              456.27|saleReprtKmpg_july|            null|                        null|     null|       null|           null|null|                             null|    null|  null|     null|         null|           null|               null|                null|       null|         null|              null|           null|null|      null| null|                                   null|          null|              null|                 null|null|null|  null|                     null|   null| null|         null|  null|   null|      null|        null|null|           null|                   null| null|                null|            null|null|                   null|  null|         null|             B|               GWMFA|Mid-Atlantic|\n",
      "|KIMA : Katy Inter...|       3184540|      KIMA15493|     Credit Memo|    172323| null|     USA|      456.27|   0.00|      456.27|          7/20/23 11:08|    7/30/2023|    null|       36|         null|                null|       Open|              456.27|saleReprtKmpg_july|            null|                        null|     null|       null|           null|null|                             null|    null|  null|     null|         null|           null|               null|                null|       null|         null|              null|           null|null|      null| null|                                   null|          null|              null|                 null|null|null|  null|                     null|   null| null|         null|  null|   null|      null|        null|null|           null|                   null| null|                null|            null|null|                   null|  null|         null|             B|HHMG : HOSPITAL O...|   Northeast|\n",
      "+--------------------+--------------+---------------+----------------+----------+-----+--------+------------+-------+------------+-----------------------+-------------+--------+---------+-------------+--------------------+-----------+--------------------+------------------+----------------+----------------------------+---------+-----------+---------------+----+---------------------------------+--------+------+---------+-------------+---------------+-------------------+--------------------+-----------+-------------+------------------+---------------+----+----------+-----+---------------------------------------+--------------+------------------+---------------------+----+----+------+-------------------------+-------+-----+-------------+------+-------+----------+------------+----+---------------+-----------------------+-----+--------------------+----------------+----+-----------------------+------+-------------+--------------+--------------------+------------+\n",
      "only showing top 20 rows\n",
      "\n"
     ]
    }
   ],
   "source": [
    "d.show()"
   ]
  },
  {
   "cell_type": "code",
   "execution_count": 177,
   "id": "df2805c4",
   "metadata": {},
   "outputs": [],
   "source": [
    "c=df_block1.join(region_df,on=\"Customer\",how=\"left\")"
   ]
  },
  {
   "cell_type": "code",
   "execution_count": 178,
   "id": "a128d5f3",
   "metadata": {},
   "outputs": [
    {
     "data": {
      "text/plain": [
       "333987"
      ]
     },
     "execution_count": 178,
     "metadata": {},
     "output_type": "execute_result"
    }
   ],
   "source": [
    "c.count()"
   ]
  },
  {
   "cell_type": "code",
   "execution_count": 184,
   "id": "157eeeec",
   "metadata": {},
   "outputs": [
    {
     "data": {
      "text/plain": [
       "333987"
      ]
     },
     "execution_count": 184,
     "metadata": {},
     "output_type": "execute_result"
    }
   ],
   "source": [
    "c.drop_duplicates().count()"
   ]
  },
  {
   "cell_type": "code",
   "execution_count": null,
   "id": "d44a69ca",
   "metadata": {},
   "outputs": [],
   "source": [
    "c.filter(c[\"Customer\"].dup)"
   ]
  },
  {
   "cell_type": "code",
   "execution_count": 146,
   "id": "dbb4a462",
   "metadata": {},
   "outputs": [],
   "source": [
    "leng = region_df.count()"
   ]
  },
  {
   "cell_type": "code",
   "execution_count": 151,
   "id": "b170d69a",
   "metadata": {},
   "outputs": [
    {
     "data": {
      "text/plain": [
       "0.008724480893386843"
      ]
     },
     "execution_count": 151,
     "metadata": {},
     "output_type": "execute_result"
    }
   ],
   "source": [
    "100/leng"
   ]
  },
  {
   "cell_type": "code",
   "execution_count": 154,
   "id": "0556cde0",
   "metadata": {},
   "outputs": [
    {
     "data": {
      "text/plain": [
       "1.0"
      ]
     },
     "execution_count": 154,
     "metadata": {},
     "output_type": "execute_result"
    }
   ],
   "source": [
    "114.62*0.008724480893386843"
   ]
  },
  {
   "cell_type": "code",
   "execution_count": 152,
   "id": "cc443c2b",
   "metadata": {},
   "outputs": [
    {
     "data": {
      "text/plain": [
       "0.8724480893386843"
      ]
     },
     "execution_count": 152,
     "metadata": {},
     "output_type": "execute_result"
    }
   ],
   "source": [
    "0.008724480893386843*100"
   ]
  },
  {
   "cell_type": "code",
   "execution_count": 170,
   "id": "668c2e58",
   "metadata": {},
   "outputs": [],
   "source": [
    "c = df_block1.select('*')"
   ]
  },
  {
   "cell_type": "markdown",
   "id": "37554db5",
   "metadata": {},
   "source": [
    "<!-- import time\n",
    "completed = 0\n",
    "start_time = time.time()\n",
    "for i, row in enumerate(region_df.rdd.collect()):\n",
    "    if (i+1)%100==0:\n",
    "        print(i+1, end=\"\")\n",
    "        completed += 0.8724480893386843\n",
    "        print(f\"  : {completed:.2f} %\", end = \" ,\")\n",
    "        print(f\"Took {(time.time()-start_time):.2f} seconds\")\n",
    "#         \n",
    "#         print(region_df.count)\n",
    "    else:\n",
    "        if i%2==0:\n",
    "            print(\".\", end=\"\")\n",
    "    c = c.withColumn(\"region2\", when(c[\"Customer\"] == row[\"Name\"], row[\"region2\"]).otherwise(None))\n",
    "                                                                     \n",
    "     -->"
   ]
  },
  {
   "cell_type": "code",
   "execution_count": null,
   "id": "7f7ddb41",
   "metadata": {},
   "outputs": [],
   "source": []
  }
 ],
 "metadata": {
  "kernelspec": {
   "display_name": "Python 3 (ipykernel)",
   "language": "python",
   "name": "python3"
  },
  "language_info": {
   "codemirror_mode": {
    "name": "ipython",
    "version": 3
   },
   "file_extension": ".py",
   "mimetype": "text/x-python",
   "name": "python",
   "nbconvert_exporter": "python",
   "pygments_lexer": "ipython3",
   "version": "3.11.4"
  }
 },
 "nbformat": 4,
 "nbformat_minor": 5
}
